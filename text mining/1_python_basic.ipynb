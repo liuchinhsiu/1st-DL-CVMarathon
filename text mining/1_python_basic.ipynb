{
 "cells": [
  {
   "cell_type": "markdown",
   "metadata": {},
   "source": [
    "# 1 學寫python程式"
   ]
  },
  {
   "cell_type": "markdown",
   "metadata": {},
   "source": [
    "## 寫程式首先要記得電腦很聰明也很笨。很聰明是因為：\n",
    "* 他__速度__快，可以做複雜的計算。\n",
    "* 他講__邏輯__，每個步聚、每個指令都有道理，依序前進，只要懂的他的邏輯就無往不利。\n",
    "* 他很__可靠__，只要程式碼正確，每次計算的答案都一樣，當然，如果程式碼不對，計算的結果就不對，因此不要心存僥倖。\n",
    "* 他__進步__的很快，有一大批的高手幫他擴充功能，幾乎任何問題他都可以處理。\n",
    "\n",
    "## 電腦也很笨，因為：\n",
    "* 他__不知變通__，只跟著__指令__行事。而且只執行自己看得懂的指令，因此下指令時必須遷就他。字體的大小寫、各種標點符號({[,;=等，字元的前後位置，都有關係，不能含糊，否則電腦會不聽使喚。\n",
    "* 電腦系統環境隨時在更新中，程式執行常有__相容性__問題，Python有 python2, python3 兩種版本，32位元與64位元亦不同，部分模組有相容性的問題。本書我們以python3為範例。\n",
    "* Python 是諸多玩家__集體合作__的結果，各個模組風格互異，要習慣它。"
   ]
  },
  {
   "cell_type": "markdown",
   "metadata": {},
   "source": [
    "## 困惑與解答：\n",
    ">### 指令那麼多，怎麼記得住？\n",
    "* 指令很多，不要硬記，看得懂比較重要，忘記的指令可以查，用 google 查，查用法、查範例、查論壇裡的討論。\n",
    "\n",
    ">### 程式不會寫？\n",
    "* 先從__範例程式__開始，不會寫，就上 google 查，通常有許多範例程式，已經擺在那兒了。 \n",
    "\n",
    ">### 如何抓錯誤？\n",
    "* 別人的範例程式要學會修改，接著測試，看有沒有錯誤。如何抓錯誤很重要，在課堂上，我們會介紹各種技巧。\n",
    "\n",
    ">### 有問題要問誰? \n",
    "* 先問 google 大師，他什麼都懂，什麼都知道；另外，我們課程網站也有討論專區，有問題就po 上來，大家為你解答。 網路上有豐富的__教學資源__，碰到問題，看看別人怎麼說。\n"
   ]
  },
  {
   "cell_type": "markdown",
   "metadata": {},
   "source": [
    "## 最佳學習策略：\n",
    "* 老師上課提供__學習包__，就是__範例程式__。先確定可以執行，然後一個步驟、一個驟，按__執行鍵__(shift_enter, or Ctrl_enter)看看執行的結果，旁邊都有中文文字說明，瞭解每個指令，為什麼它的執行結果會這樣。\n",
    "* 修改學習包的範例程式，看看跑出來的結果有什麼不一樣。修改__別人的程式__，是最快速的學習方法。\n",
    "* 勤加__註記__(#)把心得註記在程式旁邊。\n",
    "* 範例檔案會愈來愈多，要做好__知識管理__。檔案、資料夾、網頁，以及檔名的命名方式，都要有自己的一套方法，要用時才找得到。。\n",
    "* 學習包內有練習與作業，一定要試著完成，熟能生巧。"
   ]
  },
  {
   "cell_type": "markdown",
   "metadata": {},
   "source": [
    "# install python"
   ]
  },
  {
   "cell_type": "markdown",
   "metadata": {},
   "source": [
    "* python 是目前最普遍的程式語言，簡單易學，功能強大，幾乎任何問題均可處理。\n",
    "* python軟體可免費下載，請下載最新版 3.x 版，依自己電腦規格選擇 32或64位元。網站 https://www.python.org/downloads/ .\n",
    "* window 與 Mac 版本，功能相同。"
   ]
  },
  {
   "cell_type": "code",
   "execution_count": null,
   "metadata": {},
   "outputs": [],
   "source": []
  },
  {
   "cell_type": "markdown",
   "metadata": {},
   "source": [
    "# install Anaconda"
   ]
  },
  {
   "cell_type": "markdown",
   "metadata": {},
   "source": [
    "* Anaconda 是配合Python 的作業環境，提供常用的模組，讓 python 功能更強大。下載網址 https://www.continuum.io/downloads"
   ]
  },
  {
   "cell_type": "markdown",
   "metadata": {},
   "source": [
    "# Jupyter notebook"
   ]
  },
  {
   "cell_type": "markdown",
   "metadata": {},
   "source": [
    "## 安裝\n",
    "* 下載安裝Anaconda 後，Jupyter notebook會自動安裝。\n",
    "* 啟動Anaconda, 再啟動 Jupyter notebook，自動進入流覽器畫面。它是簡單好用的程式編輯器，可配合 python 完美演出。\n",
    "* 請先熟悉畫面上的各種功能，如 File, Edit, View, Insert 等，不清楚的地方可以按 Help，查看使用說明。"
   ]
  },
  {
   "cell_type": "markdown",
   "metadata": {},
   "source": [
    "# 讀取 學習包 流覽內容"
   ]
  },
  {
   "cell_type": "markdown",
   "metadata": {},
   "source": [
    "* 每段程式都有目的，旁邊有中文註解，請瞭解其用意\n",
    "* 打開檔案之後，Kernel>restart and run all 執行所有程式\n",
    "* 注意 notebook 以cell 作為執行的單元\n",
    "* Ctrl-enter 執行 cell 停留在原地\n",
    "* Shit_enter 執行 cell，且跳到下一個cell "
   ]
  },
  {
   "cell_type": "markdown",
   "metadata": {},
   "source": [
    "# 本單元主要介紹 python 的變數\n",
    "\n",
    "* __變數__是基本的資料儲存單位，其不同型態，不可混淆，要瞭解彼此間的轉換的方法，常見的變數如 float, integel,string, logic, list, tuple, set, dictionary。"
   ]
  },
  {
   "cell_type": "markdown",
   "metadata": {},
   "source": [
    "## 撰寫 python 程式以前，請先注意下面幾件事："
   ]
  },
  {
   "cell_type": "markdown",
   "metadata": {},
   "source": [
    "* 大小寫有分別。\n",
    "* 標點符號有意義，如 , : ; ( )[ ] { } _ ' \" 等都有特別的意義，不能隨便亂加。\n",
    "* 各行程式啟始的空格，對齊有關係，要注意。"
   ]
  },
  {
   "cell_type": "markdown",
   "metadata": {
    "scrolled": true
   },
   "source": [
    "## 首先查看 python 版本，Python有不同版本釋出，建議用最新的 3.x 版本"
   ]
  },
  {
   "cell_type": "code",
   "execution_count": 1,
   "metadata": {
    "scrolled": true
   },
   "outputs": [
    {
     "name": "stdout",
     "output_type": "stream",
     "text": [
      "3.7.1 (default, Dec 10 2018, 22:54:23) [MSC v.1915 64 bit (AMD64)]\n"
     ]
    }
   ],
   "source": [
    "# Python有不同版本釋出，建議用最新的 3.x 版本\n",
    "# # 後的文字表註解，程式不會執行。\n",
    "import sys              # import 為呼叫模組\n",
    "print (sys.version)     # 注意 print 後面要加 ( )，這是 python 3 的規定。   "
   ]
  },
  {
   "cell_type": "code",
   "execution_count": 1,
   "metadata": {},
   "outputs": [
    {
     "name": "stdout",
     "output_type": "stream",
     "text": [
      "3.7.3 (default, Apr 24 2019, 15:29:51) [MSC v.1915 64 bit (AMD64)]\n"
     ]
    }
   ],
   "source": [
    "import sys\n",
    "print(sys.version)"
   ]
  },
  {
   "cell_type": "code",
   "execution_count": 2,
   "metadata": {
    "scrolled": false
   },
   "outputs": [
    {
     "name": "stdout",
     "output_type": "stream",
     "text": [
      "hello, world, my name is Chihsung Teng.\n"
     ]
    }
   ],
   "source": [
    "# 第一個指令，向世界問安\n",
    "# shift Enter 代表執行 Cell 內的指令，且跳到下一個 cell。\n",
    "# contl Enter 代表執行 Cell 內的指令，停留在原來的 cell。\n",
    "print(\"hello, world, my name is Chihsung Teng.\")"
   ]
  },
  {
   "cell_type": "code",
   "execution_count": 2,
   "metadata": {},
   "outputs": [
    {
     "name": "stdout",
     "output_type": "stream",
     "text": [
      "hello, world, my name is Annie\n"
     ]
    }
   ],
   "source": [
    "print(\"hello, world, my name is Annie\")"
   ]
  },
  {
   "cell_type": "markdown",
   "metadata": {},
   "source": [
    "# 練習：自我介紹"
   ]
  },
  {
   "cell_type": "code",
   "execution_count": 3,
   "metadata": {},
   "outputs": [],
   "source": [
    "# 定義字串變數，''內表字串，請同學自行填入。\n",
    "name=''\n",
    "department=''\n",
    "grade=''\n",
    "email=''\n",
    "introduction=''"
   ]
  },
  {
   "cell_type": "code",
   "execution_count": 5,
   "metadata": {},
   "outputs": [],
   "source": [
    "name = '劉津秀'\n",
    "dapartment = '師大全營所'\n",
    "grade = '碩二'\n",
    "email = 'hibigapple6@gmail.com'\n",
    "introduction = 'I am beautiful'"
   ]
  },
  {
   "cell_type": "code",
   "execution_count": 4,
   "metadata": {},
   "outputs": [
    {
     "name": "stdout",
     "output_type": "stream",
     "text": [
      "姓名: \n",
      "系所: \n",
      "年級: \n",
      "電子郵箱: \n",
      "自我介紹: \n"
     ]
    }
   ],
   "source": [
    "# 印出(print)變數，''內夾的字串，表文字符號(label)，逗點後的為變數(variable)。\n",
    "print ('姓名:',name)\n",
    "print ('系所:',department)\n",
    "print ('年級:',grade)\n",
    "print ('電子郵箱:',email)\n",
    "print ('自我介紹:',introduction)"
   ]
  },
  {
   "cell_type": "code",
   "execution_count": 6,
   "metadata": {},
   "outputs": [
    {
     "name": "stdout",
     "output_type": "stream",
     "text": [
      "姓名: 劉津秀\n"
     ]
    }
   ],
   "source": [
    "print('姓名:', name)"
   ]
  },
  {
   "cell_type": "markdown",
   "metadata": {},
   "source": [
    "# Jupyter notebook 功能操作，請自行練習\n",
    "* jupyter notebook 教學 https://kknews.cc/zh-tw/other/8lyo2lg.html\n",
    "* 請注意上方的工具列，File, Edit, View, Insert, Cell, Widgets, Help\n",
    "* cell 是程式執行的基本單位。一次運算一個Cell。\n",
    "* cell 有 Code 與 markdown 兩種模式，前者是程式碼，後者是文字說明或標題，可在上方的工具列切換。\n",
    "* 滑鼠點 cell 左側的空白區，出現藍色框，表示選取 cell；\n",
    "* 按一下cell右側內容區，變成綠色，表示在編輯模式，可以編修 cell 的內容。\n",
    "* cell 屬性，code, makedown，在工具列點選切換。\n",
    "* \\# 後的文字表註解，程式不會執行。"
   ]
  },
  {
   "cell_type": "markdown",
   "metadata": {},
   "source": [
    "## 常用的 notebook 功能，務必要熟悉。\n",
    ">#### File 開新檔案、舊檔案、複製檔案、另存新檔\n",
    "* File > New Notebook> python3, 開始編輯新的 python 檔案，或開啟舊的 notebook 編修。\n",
    "* notebook 檔案存於 C:\\Users\\ [使用者帳號]。注意使用者帳號必須是英文，可新增一個帳號，名稱用英文。\n",
    "* File > download as，可儲存為不同格式的檔案。\n",
    "* File > change the title name，可改變notebook檔案的名稱\n",
    "\n",
    ">#### Edit\n",
    "* copy (Ctrl_c) \n",
    "* cut (Ctrl_x) \n",
    "* paste(Ctrl_v, \n",
    "* split(Ctrl_Shift_-) 分裂cell\n",
    "* 選取 cell (綠色) ctrl_M 合併下一個儲存格\n",
    "* undo (Ctrl_Z) 回復上一動\n",
    "* copy cells, paste cells, delete cells, \n",
    "* undomove up, move down, 工具建之上下箭頭符號\n",
    "* find and replace (ctrl_F)\n",
    "* 注意不同的notebook 檔案之間，無法以cells為單位，copy, paste (這有點不方便!!!但沒辦法。)\n",
    "\n",
    ">#### View\n",
    "* toggle Header 檔案名稱顯示切換\n",
    "* toggle toolbar 工具鍵顯示切換\n",
    "* toggle LineNumbers 給每一行程式加序號\n",
    "\n",
    ">#### Insert\n",
    "* 新增空白 cell (工具鍵之 + )\n",
    "\n",
    ">#### cell\n",
    "* run cells  執行目前的cell\n",
    "* run all    執行所有的cell\n",
    "* Shift-Enter 表執行目前cell裡面的程式碼，並跳到下一個Cell, \n",
    "* 若要執行目前Cell，並停留在此，則用 ctrl-Enter。\n",
    "\n",
    ">#### Kernel\n",
    "* Kernel > Interrupt 或上方工作鍵黑色方格，表示中止目前的程式執行，\n",
    "* Kernel > Restart & Run all 自動執行所有的cells."
   ]
  },
  {
   "cell_type": "markdown",
   "metadata": {},
   "source": [
    "# 練習 __\n",
    "* 請同學熟悉 jupyter notebook 諸項功能\n",
    "* 新增一個空白的 notebook，插入 cells\n",
    "* copy and paste 程式碼至 cells\n",
    "* 執行"
   ]
  },
  {
   "cell_type": "code",
   "execution_count": 1,
   "metadata": {},
   "outputs": [
    {
     "ename": "SyntaxError",
     "evalue": "invalid syntax (<ipython-input-1-a3a7c250ab7a>, line 1)",
     "output_type": "error",
     "traceback": [
      "\u001b[1;36m  File \u001b[1;32m\"<ipython-input-1-a3a7c250ab7a>\"\u001b[1;36m, line \u001b[1;32m1\u001b[0m\n\u001b[1;33m    toggle Header\u001b[0m\n\u001b[1;37m                ^\u001b[0m\n\u001b[1;31mSyntaxError\u001b[0m\u001b[1;31m:\u001b[0m invalid syntax\n"
     ]
    }
   ],
   "source": [
    "toggle Header "
   ]
  },
  {
   "cell_type": "markdown",
   "metadata": {},
   "source": [
    "## Python 本身就是一個計算器"
   ]
  },
  {
   "cell_type": "code",
   "execution_count": 6,
   "metadata": {},
   "outputs": [
    {
     "data": {
      "text/plain": [
       "5.1"
      ]
     },
     "execution_count": 6,
     "metadata": {},
     "output_type": "execute_result"
    }
   ],
   "source": [
    "# 計算的順序，先乘除後加減\n",
    "3+5*2/100+2"
   ]
  },
  {
   "cell_type": "code",
   "execution_count": 7,
   "metadata": {
    "scrolled": true
   },
   "outputs": [
    {
     "data": {
      "text/plain": [
       "1.6129556770910214"
      ]
     },
     "execution_count": 7,
     "metadata": {},
     "output_type": "execute_result"
    }
   ],
   "source": [
    "# 加減乘除、數學運算難不倒她。** 代表次方\n",
    "(2+2*(35+2)/123-100+10**2)**0.5"
   ]
  },
  {
   "cell_type": "markdown",
   "metadata": {},
   "source": [
    "## 變數：數字變數或文字變數\n",
    "* 為了計算的方便，要定義變數，變數的內容可隨時變動"
   ]
  },
  {
   "cell_type": "code",
   "execution_count": 4,
   "metadata": {
    "scrolled": true
   },
   "outputs": [],
   "source": [
    "# 指定變數值\n",
    "a = 10    "
   ]
  },
  {
   "cell_type": "code",
   "execution_count": 6,
   "metadata": {},
   "outputs": [
    {
     "name": "stdout",
     "output_type": "stream",
     "text": [
      "3\n"
     ]
    }
   ],
   "source": [
    "# 計算結果存成變數\n",
    "a=(2+2*(35+2)/123-100+10**2)**0.5\n",
    "b=10%3     # % 餘數\n",
    "c=10//3    # // 相除但去除餘數\n",
    "print(c)"
   ]
  },
  {
   "cell_type": "markdown",
   "metadata": {},
   "source": [
    "## print 表列印\n",
    "* 注意要有 (  )"
   ]
  },
  {
   "cell_type": "code",
   "execution_count": 10,
   "metadata": {
    "scrolled": true
   },
   "outputs": [
    {
     "name": "stdout",
     "output_type": "stream",
     "text": [
      "1.6129556770910214 1 3\n",
      "1.61 1 3\n",
      "a= 1.61 b= 1 c= 3\n"
     ]
    }
   ],
   "source": [
    "# 印出計算結果\n",
    "print (a,b,c)                  # 依序印出三個變數\n",
    "print (round(a,2),b,c)         # 加有效位數\n",
    "print (\"a=\",round(a,2),\"b=\",b,\"c=\",c)   # 加變數標籤"
   ]
  },
  {
   "cell_type": "markdown",
   "metadata": {},
   "source": [
    "## 各種不同的變數：數字改文字 str()，文字改數字 float()，正整數 int()"
   ]
  },
  {
   "cell_type": "code",
   "execution_count": 11,
   "metadata": {},
   "outputs": [],
   "source": [
    "# 數字和數字，文字和文字才能 +\n",
    "x=2.212     # float\n",
    "s=str(x)    # string 字串\n",
    "n=float(s)  # float 數字\n",
    "i=int(x)    # int 正整數"
   ]
  },
  {
   "cell_type": "code",
   "execution_count": 12,
   "metadata": {},
   "outputs": [
    {
     "data": {
      "text/plain": [
       "(2.212, '2.212', 2.212, 2)"
      ]
     },
     "execution_count": 12,
     "metadata": {},
     "output_type": "execute_result"
    }
   ],
   "source": [
    "x, s, n,i"
   ]
  },
  {
   "cell_type": "markdown",
   "metadata": {},
   "source": [
    "# 清單變數: list[......]"
   ]
  },
  {
   "cell_type": "code",
   "execution_count": 13,
   "metadata": {},
   "outputs": [
    {
     "data": {
      "text/plain": [
       "[3, 1, 2]"
      ]
     },
     "execution_count": 13,
     "metadata": {},
     "output_type": "execute_result"
    }
   ],
   "source": [
    "# 直接指定 List 變數，注意要用 []\n",
    "xs = [3, 1, 2]   \n",
    "xs"
   ]
  },
  {
   "cell_type": "code",
   "execution_count": 7,
   "metadata": {
    "scrolled": true
   },
   "outputs": [
    {
     "data": {
      "text/plain": [
       "['Huey', 'Dewey', 'Louie', 'John']"
      ]
     },
     "execution_count": 7,
     "metadata": {},
     "output_type": "execute_result"
    }
   ],
   "source": [
    "# 文字 list\n",
    "nephews = [\"Huey\",\"Dewey\",\"Louie\",\"John\"]\n",
    "nephews"
   ]
  },
  {
   "cell_type": "code",
   "execution_count": 15,
   "metadata": {},
   "outputs": [
    {
     "data": {
      "text/plain": [
       "['alpha', 'beta', 'gamma', 1, 2, 3, '123']"
      ]
     },
     "execution_count": 15,
     "metadata": {},
     "output_type": "execute_result"
    }
   ],
   "source": [
    "# list 的元素可以混雜文字與數字\n",
    "a= ['alpha','beta','gamma',1,2,3,'123']\n",
    "a"
   ]
  },
  {
   "cell_type": "code",
   "execution_count": 16,
   "metadata": {},
   "outputs": [
    {
     "data": {
      "text/plain": [
       "list"
      ]
     },
     "execution_count": 16,
     "metadata": {},
     "output_type": "execute_result"
    }
   ],
   "source": [
    "# 顯示變數類型\n",
    "type(xs)      "
   ]
  },
  {
   "cell_type": "code",
   "execution_count": 17,
   "metadata": {
    "scrolled": true
   },
   "outputs": [
    {
     "data": {
      "text/plain": [
       "3"
      ]
     },
     "execution_count": 17,
     "metadata": {},
     "output_type": "execute_result"
    }
   ],
   "source": [
    "# list 的元素個數\n",
    "len(xs)   "
   ]
  },
  {
   "cell_type": "markdown",
   "metadata": {},
   "source": [
    "## append() 新增一個元素"
   ]
  },
  {
   "cell_type": "code",
   "execution_count": 18,
   "metadata": {
    "scrolled": true
   },
   "outputs": [
    {
     "data": {
      "text/plain": [
       "['Huey', 'Dewey', 'Louie', 'John', 'April Duck']"
      ]
     },
     "execution_count": 18,
     "metadata": {},
     "output_type": "execute_result"
    }
   ],
   "source": [
    "# 增加一個新的元素\n",
    "nephews = [\"Huey\",\"Dewey\",\"Louie\",\"John\"]\n",
    "nephews.append('April Duck')\n",
    "nephews"
   ]
  },
  {
   "cell_type": "markdown",
   "metadata": {},
   "source": [
    "## insert() 插入一個元素"
   ]
  },
  {
   "cell_type": "code",
   "execution_count": 19,
   "metadata": {
    "scrolled": true
   },
   "outputs": [
    {
     "data": {
      "text/plain": [
       "['Huey', 'Scrooge McDuck', 'Dewey', 'Louie', 'John', 'April Duck']"
      ]
     },
     "execution_count": 19,
     "metadata": {},
     "output_type": "execute_result"
    }
   ],
   "source": [
    "# 插入一個新的元素，注意 1 代表第 2個位置，因為從 0 起算\n",
    "nephews.insert(1,'Scrooge McDuck')\n",
    "nephews"
   ]
  },
  {
   "cell_type": "markdown",
   "metadata": {},
   "source": [
    "## del  or remove() 刪除一個元素"
   ]
  },
  {
   "cell_type": "code",
   "execution_count": 8,
   "metadata": {
    "scrolled": true
   },
   "outputs": [
    {
     "data": {
      "text/plain": [
       "['Dewey', 'Louie', 'John']"
      ]
     },
     "execution_count": 8,
     "metadata": {},
     "output_type": "execute_result"
    }
   ],
   "source": [
    "# del 依序號刪除某一個元素，記住從 0 起算\n",
    "del nephews[0]\n",
    "nephews"
   ]
  },
  {
   "cell_type": "code",
   "execution_count": null,
   "metadata": {},
   "outputs": [],
   "source": [
    "del nephews[0]\n",
    "nephews"
   ]
  },
  {
   "cell_type": "code",
   "execution_count": 21,
   "metadata": {
    "scrolled": true
   },
   "outputs": [
    {
     "data": {
      "text/plain": [
       "['Scrooge McDuck', 'Louie', 'John', 'April Duck']"
      ]
     },
     "execution_count": 21,
     "metadata": {},
     "output_type": "execute_result"
    }
   ],
   "source": [
    "# remove() 直接指定要刪除的元素\n",
    "nephews.remove('Dewey')\n",
    "nephews"
   ]
  },
  {
   "cell_type": "code",
   "execution_count": 10,
   "metadata": {},
   "outputs": [
    {
     "data": {
      "text/plain": [
       "['Louie', 'John']"
      ]
     },
     "execution_count": 10,
     "metadata": {},
     "output_type": "execute_result"
    }
   ],
   "source": [
    "nephews.remove('Dewey')\n",
    "nephews"
   ]
  },
  {
   "cell_type": "markdown",
   "metadata": {},
   "source": [
    "# 常用的List 函數\n",
    "* list 函數有限，較複雜的數學運算要用numpy"
   ]
  },
  {
   "cell_type": "code",
   "execution_count": 11,
   "metadata": {
    "scrolled": true
   },
   "outputs": [
    {
     "name": "stdout",
     "output_type": "stream",
     "text": [
      "1\n",
      "11\n",
      "63\n",
      "14\n",
      "4.5\n"
     ]
    }
   ],
   "source": [
    "import numpy\n",
    "# list 的數學函數有限，numpy 則補足強這方面的不足\n",
    "num=[4,1,5,7,9,1,2,4,11,3,3,2,1,10]\n",
    "print (min(num))       # 最小值\n",
    "print (max(num))       # 最大值\n",
    "print (sum(num))       # 總和\n",
    "print (len(num))       # 個數\n",
    "print (sum(num) / len(num))    # 平均"
   ]
  },
  {
   "cell_type": "code",
   "execution_count": 6,
   "metadata": {},
   "outputs": [
    {
     "name": "stdout",
     "output_type": "stream",
     "text": [
      "1\n",
      "11\n",
      "63\n",
      "14\n",
      "63\n",
      "4.5\n"
     ]
    }
   ],
   "source": [
    "import numpy\n",
    "num=[4,1,5,7,9,1,2,4,11,3,3,2,1,10]\n",
    "print(min(num))\n",
    "print(max(num))\n",
    "print(sum(num))\n",
    "print(len(num))\n",
    "print(sum(num))\n",
    "print(sum(num)/len(num))"
   ]
  },
  {
   "cell_type": "code",
   "execution_count": 7,
   "metadata": {
    "scrolled": true
   },
   "outputs": [
    {
     "name": "stdout",
     "output_type": "stream",
     "text": [
      "[4, 1, 5, 7, 9, 1, 2, 4, 11, 3, 3, 2, 1, 10, 4, 1, 5, 7, 9, 1, 2, 4, 11, 3, 3, 2, 1, 10, 4, 1, 5, 7, 9, 1, 2, 4, 11, 3, 3, 2, 1, 10]\n",
      "[4, 1, 5, 7, 9, 1, 2, 4, 11, 3, 3, 2, 1, 10, 4, 1, 5, 7, 9, 1, 2, 4, 11, 3, 3, 2, 1, 10, 4, 1, 5, 7, 9, 1, 2, 4, 11, 3, 3, 2, 1, 10]\n"
     ]
    }
   ],
   "source": [
    "# 依倍數複製元素\n",
    "print (3*num)\n",
    "print(3*num)"
   ]
  },
  {
   "cell_type": "code",
   "execution_count": 13,
   "metadata": {
    "scrolled": true
   },
   "outputs": [
    {
     "data": {
      "text/plain": [
       "True"
      ]
     },
     "execution_count": 13,
     "metadata": {},
     "output_type": "execute_result"
    }
   ],
   "source": [
    "# 邏輯語句，是否在集合內\n",
    "4 in num"
   ]
  },
  {
   "cell_type": "code",
   "execution_count": 14,
   "metadata": {
    "scrolled": true
   },
   "outputs": [
    {
     "data": {
      "text/plain": [
       "2"
      ]
     },
     "execution_count": 14,
     "metadata": {},
     "output_type": "execute_result"
    }
   ],
   "source": [
    "# .count() 重覆出現的元素個數\n",
    "num.count(4)"
   ]
  },
  {
   "cell_type": "code",
   "execution_count": 8,
   "metadata": {},
   "outputs": [
    {
     "data": {
      "text/plain": [
       "2"
      ]
     },
     "execution_count": 8,
     "metadata": {},
     "output_type": "execute_result"
    }
   ],
   "source": [
    "num.count(4)"
   ]
  },
  {
   "cell_type": "code",
   "execution_count": 15,
   "metadata": {
    "scrolled": true
   },
   "outputs": [
    {
     "name": "stdout",
     "output_type": "stream",
     "text": [
      "0\n",
      "7\n"
     ]
    }
   ],
   "source": [
    "# .index() 元素出現的位置\n",
    "print (num.index(4))   # 從 0 起算\n",
    "print (num.index(4,1))  # 從 1 起算"
   ]
  },
  {
   "cell_type": "code",
   "execution_count": 10,
   "metadata": {},
   "outputs": [
    {
     "name": "stdout",
     "output_type": "stream",
     "text": [
      "0\n",
      "7\n"
     ]
    }
   ],
   "source": [
    "print(num.index(4))\n",
    "print(num.index(4, 1))"
   ]
  },
  {
   "cell_type": "markdown",
   "metadata": {},
   "source": [
    "# pop()"
   ]
  },
  {
   "cell_type": "code",
   "execution_count": 112,
   "metadata": {
    "scrolled": true
   },
   "outputs": [
    {
     "name": "stdout",
     "output_type": "stream",
     "text": [
      "1\n",
      "[2, 3, 4, 5, 6, 7, 8, 9]\n"
     ]
    }
   ],
   "source": [
    "# 刪除某一個元素值(索引)，並傳回該元素值，索引為從 0 起算的序號\n",
    "num=[1,2,3,4,5,6,7,8,9]\n",
    "x=num.pop(0)    # 刪除第一個元素(索引)，並傳回其數值，空白則為刪除最後一個\n",
    "print (x)\n",
    "print (num)"
   ]
  },
  {
   "cell_type": "markdown",
   "metadata": {},
   "source": [
    "## List 合併"
   ]
  },
  {
   "cell_type": "code",
   "execution_count": 28,
   "metadata": {
    "scrolled": true
   },
   "outputs": [
    {
     "data": {
      "text/plain": [
       "['Scrooge McDuck', 'Louie', 'John', 'April Duck', 'Donald Duck', 'Daisy Duck']"
      ]
     },
     "execution_count": 28,
     "metadata": {},
     "output_type": "execute_result"
    }
   ],
   "source": [
    "# 兩個 list 相加，表示元素合併\n",
    "nephews = nephews + ['Donald Duck','Daisy Duck']\n",
    "nephews"
   ]
  },
  {
   "cell_type": "markdown",
   "metadata": {},
   "source": [
    "## 用索引篩選List 內的元素\n",
    "* 索引從 0 開始起算"
   ]
  },
  {
   "cell_type": "code",
   "execution_count": 11,
   "metadata": {},
   "outputs": [
    {
     "name": "stdout",
     "output_type": "stream",
     "text": [
      "January\n",
      "Febrary\n"
     ]
    }
   ],
   "source": [
    "# 選取部分元素\n",
    "xs = ['January', 'Febrary', 'March','April','May','June','July','August','October','November', 'Decenmber']\n",
    "print (xs[0])     # 第一個元素\n",
    "print (xs[1])     # 第二個元素"
   ]
  },
  {
   "cell_type": "code",
   "execution_count": 13,
   "metadata": {},
   "outputs": [
    {
     "name": "stdout",
     "output_type": "stream",
     "text": [
      "['January', 'Febrary', 'March', 'April']\n",
      "['January', 'Febrary', 'March', 'April']\n",
      "['Febrary', 'March', 'April']\n",
      "['Febrary', 'March', 'April', 'May', 'June', 'July', 'August', 'October', 'November', 'Decenmber']\n",
      "['January', 'Febrary', 'March', 'April', 'May', 'June', 'July', 'August', 'October', 'November', 'Decenmber']\n",
      "Decenmber\n",
      "['October', 'November']\n"
     ]
    }
   ],
   "source": [
    "# 各種元素的選取技巧，要注意序號從 0 起算。\n",
    "print (xs[0:4])   # 第1個到第 4個元素，注意：從0起算，INDEX 為 0~3\n",
    "print (xs[:4])    # 0可省略 \n",
    "print (xs[1:4])   # 第 2個元素到第 3個元素。\n",
    "print (xs[1:])    # 表示到最後\n",
    "print (xs[:])     # 全部\n",
    "print (xs[-1])   # 負數表倒數\n",
    "print (xs[-3:-1]) # 倒數第三個到倒數第二個"
   ]
  },
  {
   "cell_type": "code",
   "execution_count": 14,
   "metadata": {},
   "outputs": [
    {
     "name": "stdout",
     "output_type": "stream",
     "text": [
      "['January', 'March', 'May', 'July', 'October', 'Decenmber']\n"
     ]
    }
   ],
   "source": [
    "print (xs[0::2])  # 間隔1個"
   ]
  },
  {
   "cell_type": "code",
   "execution_count": 15,
   "metadata": {},
   "outputs": [
    {
     "name": "stdout",
     "output_type": "stream",
     "text": [
      "['January', 'April', 'July', 'November']\n"
     ]
    }
   ],
   "source": [
    "print (xs[0::3])  # 間隔2個"
   ]
  },
  {
   "cell_type": "code",
   "execution_count": 114,
   "metadata": {
    "scrolled": true
   },
   "outputs": [
    {
     "name": "stdout",
     "output_type": "stream",
     "text": [
      "['January', '2', '3', 'March']\n",
      "['January', '2', '3', 'March']\n",
      "['2', '3', 'March']\n",
      "['2', '3', 'March', 'April', 'May', 'June', 'July', 'August', 'October', 'November', 'Decenmber']\n",
      "['January', '2', '3', 'March', 'April', 'May', 'June', 'July', 'August', 'October', 'November', 'Decenmber']\n",
      "Decenmber\n",
      "['October', 'November']\n",
      "['January', '3', 'April', 'June', 'August', 'November']\n",
      "['January', 'March', 'June', 'October']\n"
     ]
    }
   ],
   "source": []
  },
  {
   "cell_type": "markdown",
   "metadata": {},
   "source": [
    "## 元素替代"
   ]
  },
  {
   "cell_type": "code",
   "execution_count": 33,
   "metadata": {},
   "outputs": [
    {
     "data": {
      "text/plain": [
       "['January',\n",
       " '2',\n",
       " '3',\n",
       " 'March',\n",
       " 'April',\n",
       " 'May',\n",
       " 'June',\n",
       " 'July',\n",
       " 'August',\n",
       " 'October',\n",
       " 'November',\n",
       " 'Decenmber']"
      ]
     },
     "execution_count": 33,
     "metadata": {},
     "output_type": "execute_result"
    }
   ],
   "source": [
    "xs"
   ]
  },
  {
   "cell_type": "code",
   "execution_count": 34,
   "metadata": {},
   "outputs": [
    {
     "name": "stdout",
     "output_type": "stream",
     "text": [
      "['January', '3', '4', '3', 'March', 'April', 'May', 'June', 'July', 'August', 'October', 'November', 'Decenmber']\n"
     ]
    }
   ],
   "source": [
    "xs\n",
    "xs[1:2]=['3','4']\n",
    "print (xs)"
   ]
  },
  {
   "cell_type": "code",
   "execution_count": 17,
   "metadata": {},
   "outputs": [
    {
     "name": "stdout",
     "output_type": "stream",
     "text": [
      "['January', '3', '4', 'March', 'April', 'May', 'June', 'July', 'August', 'October', 'November', 'Decenmber']\n"
     ]
    }
   ],
   "source": [
    "xs\n",
    "xs[1:2]=[\"3\", \"4\"]\n",
    "print(xs)"
   ]
  },
  {
   "cell_type": "markdown",
   "metadata": {},
   "source": [
    "## sorted(), reversed()遞增或減排序"
   ]
  },
  {
   "cell_type": "code",
   "execution_count": 115,
   "metadata": {
    "scrolled": false
   },
   "outputs": [
    {
     "name": "stdout",
     "output_type": "stream",
     "text": [
      "['Autum', 'Spring', 'Summer', 'winter']\n",
      "['winter', 'Summer', 'Spring', 'Autum']\n"
     ]
    }
   ],
   "source": [
    "# 排序後存成一個新的變數\n",
    "season = ['Spring','Summer','Autum','winter']\n",
    "season_sort=sorted(season)                   # 遞增排序\n",
    "season_sort2=sorted(season,reverse=True)      # 遞減排序\n",
    "print (season_sort)\n",
    "print (season_sort2)"
   ]
  },
  {
   "cell_type": "code",
   "execution_count": 23,
   "metadata": {},
   "outputs": [
    {
     "name": "stdout",
     "output_type": "stream",
     "text": [
      "['Autum', 'Spring', 'Summer', 'winter']\n",
      "['winter', 'Summer', 'Spring', 'Autum']\n"
     ]
    }
   ],
   "source": [
    "season = ['Spring','Summer','Autum','winter']\n",
    "season_sort = sorted(season)\n",
    "print(season_sort)\n",
    "\n",
    "season_sort2 = sorted(season, reverse = True)\n",
    "print(season_sort2)"
   ]
  },
  {
   "cell_type": "code",
   "execution_count": 24,
   "metadata": {},
   "outputs": [
    {
     "data": {
      "text/plain": [
       "[1, 2, 3, 4, 5, 6, 7, 8, 9]"
      ]
     },
     "execution_count": 24,
     "metadata": {},
     "output_type": "execute_result"
    }
   ],
   "source": [
    "# 有沒有 list() 結果都一樣\n",
    "# 注意 list 內有文字與數字，無法排序，會出現 error\n",
    "x=[9,2,7,4,5,6,3,8,1]\n",
    "x=list(sorted(x))\n",
    "x"
   ]
  },
  {
   "cell_type": "code",
   "execution_count": 25,
   "metadata": {},
   "outputs": [
    {
     "data": {
      "text/plain": [
       "[1, 2, 3, 4, 5, 6, 7, 8, 9]"
      ]
     },
     "execution_count": 25,
     "metadata": {},
     "output_type": "execute_result"
    }
   ],
   "source": [
    "x=[9,2,7,4,5,6,3,8,1]\n",
    "x = sorted(x)\n",
    "x"
   ]
  },
  {
   "cell_type": "code",
   "execution_count": 30,
   "metadata": {},
   "outputs": [
    {
     "data": {
      "text/plain": [
       "[9, 8, 7, 6, 5, 4, 3, 2, 1]"
      ]
     },
     "execution_count": 30,
     "metadata": {},
     "output_type": "execute_result"
    }
   ],
   "source": [
    "# 注意reversed要 list 轉換\n",
    "x=list(reversed(x))\n",
    "x"
   ]
  },
  {
   "cell_type": "code",
   "execution_count": 26,
   "metadata": {},
   "outputs": [
    {
     "data": {
      "text/plain": [
       "[9, 8, 7, 6, 5, 4, 3, 2, 1]"
      ]
     },
     "execution_count": 26,
     "metadata": {},
     "output_type": "execute_result"
    }
   ],
   "source": [
    "x = list(reversed(x))\n",
    "x"
   ]
  },
  {
   "cell_type": "code",
   "execution_count": 31,
   "metadata": {},
   "outputs": [
    {
     "data": {
      "text/plain": [
       "<list_reverseiterator at 0x18c51eb5d30>"
      ]
     },
     "execution_count": 31,
     "metadata": {},
     "output_type": "execute_result"
    }
   ],
   "source": [
    "# 注意reversed要 list 轉換\n",
    "x=reversed(x)\n",
    "x"
   ]
  },
  {
   "cell_type": "markdown",
   "metadata": {},
   "source": [
    "## 兩層的 List"
   ]
  },
  {
   "cell_type": "code",
   "execution_count": 27,
   "metadata": {
    "scrolled": false
   },
   "outputs": [
    {
     "name": "stdout",
     "output_type": "stream",
     "text": [
      "[['apple', 'orange'], ['carrot', 'potato'], ['banana']]\n"
     ]
    }
   ],
   "source": [
    "x=['apple', 'orange']\n",
    "y = ['carrot','potato']\n",
    "z = ['banana']\n",
    "a  = [x,y,z]\n",
    "print (a)"
   ]
  },
  {
   "cell_type": "code",
   "execution_count": 24,
   "metadata": {
    "scrolled": true
   },
   "outputs": [
    {
     "data": {
      "text/plain": [
       "['apple', 'orange']"
      ]
     },
     "execution_count": 24,
     "metadata": {},
     "output_type": "execute_result"
    }
   ],
   "source": [
    "a[0]"
   ]
  },
  {
   "cell_type": "code",
   "execution_count": 25,
   "metadata": {
    "scrolled": true
   },
   "outputs": [
    {
     "data": {
      "text/plain": [
       "'orange'"
      ]
     },
     "execution_count": 25,
     "metadata": {},
     "output_type": "execute_result"
    }
   ],
   "source": [
    "a[0][1]  # 第一層的第二個元素"
   ]
  },
  {
   "cell_type": "markdown",
   "metadata": {},
   "source": [
    "## List 的元素，可以是數字，另一個list，或文字，或三者的混合"
   ]
  },
  {
   "cell_type": "code",
   "execution_count": null,
   "metadata": {},
   "outputs": [],
   "source": [
    "# List 的元素，可以是數字，另一個list，或文字，或三者的混合\n",
    "mix_it_up = [1,[2,3],'alpha']"
   ]
  },
  {
   "cell_type": "code",
   "execution_count": 27,
   "metadata": {
    "scrolled": true
   },
   "outputs": [
    {
     "data": {
      "text/plain": [
       "[1, [2, 3], 'alpha']"
      ]
     },
     "execution_count": 27,
     "metadata": {},
     "output_type": "execute_result"
    }
   ],
   "source": [
    "mix_it_up"
   ]
  },
  {
   "cell_type": "markdown",
   "metadata": {},
   "source": [
    "## 自行練習 __"
   ]
  },
  {
   "cell_type": "code",
   "execution_count": 28,
   "metadata": {},
   "outputs": [
    {
     "data": {
      "text/plain": [
       "3"
      ]
     },
     "execution_count": 28,
     "metadata": {},
     "output_type": "execute_result"
    }
   ],
   "source": [
    "mix_it_up[1][1]"
   ]
  },
  {
   "cell_type": "markdown",
   "metadata": {},
   "source": [
    "# 變數：Tuples()"
   ]
  },
  {
   "cell_type": "markdown",
   "metadata": {},
   "source": [
    "* Tuples 與List 類同，但其秩序不能改變，不能排序\n",
    "* 定義 Tuples 時不需[]，可用()，亦可不用()\n",
    "* List 的函數 Tuples 亦可適用\n",
    "* 執行速度，Tuples 比 list 快。\n"
   ]
  },
  {
   "cell_type": "code",
   "execution_count": 35,
   "metadata": {
    "scrolled": true
   },
   "outputs": [
    {
     "data": {
      "text/plain": [
       "(1, 2, 3, 4, 5)"
      ]
     },
     "execution_count": 35,
     "metadata": {},
     "output_type": "execute_result"
    }
   ],
   "source": [
    "# 定義 Tuples 時不需[]\n",
    "t=1,2,3,4,5\n",
    "t=(1,2,3,4,5)  # 亦可加 ()   \n",
    "t"
   ]
  },
  {
   "cell_type": "code",
   "execution_count": 36,
   "metadata": {
    "scrolled": true
   },
   "outputs": [
    {
     "name": "stdout",
     "output_type": "stream",
     "text": [
      "1\n",
      "5\n",
      "5\n"
     ]
    }
   ],
   "source": [
    "# 元素、長度、最大值\n",
    "print (t[0])\n",
    "print (len(t))\n",
    "print (max(t))"
   ]
  },
  {
   "cell_type": "code",
   "execution_count": 42,
   "metadata": {
    "scrolled": true
   },
   "outputs": [
    {
     "name": "stdout",
     "output_type": "stream",
     "text": [
      "alpha\n",
      "beta\n"
     ]
    }
   ],
   "source": [
    "# 用 touples 定義三個變數\n",
    "a,b,c= ('alpha','beta','gamma')\n",
    "print(a)\n",
    "print(b)"
   ]
  },
  {
   "cell_type": "code",
   "execution_count": 43,
   "metadata": {},
   "outputs": [
    {
     "name": "stdout",
     "output_type": "stream",
     "text": [
      "alpha\n",
      "beta\n"
     ]
    }
   ],
   "source": [
    "# 比較：用 list 定義三個變數，也可以\n",
    "a,b,c= ['alpha','beta','gamma']\n",
    "print(a)\n",
    "print(b)"
   ]
  },
  {
   "cell_type": "markdown",
   "metadata": {},
   "source": [
    "## List 轉 Tuple"
   ]
  },
  {
   "cell_type": "code",
   "execution_count": 44,
   "metadata": {
    "scrolled": true
   },
   "outputs": [
    {
     "data": {
      "text/plain": [
       "('Spring', 'Summer', 'Autum', 'winter')"
      ]
     },
     "execution_count": 44,
     "metadata": {},
     "output_type": "execute_result"
    }
   ],
   "source": [
    "# List 轉 Tuple\n",
    "season = ['Spring','Summer','Autum','winter']\n",
    "season_t=tuple(season)   \n",
    "season_t"
   ]
  },
  {
   "cell_type": "markdown",
   "metadata": {},
   "source": [
    "## Tuple 轉 List"
   ]
  },
  {
   "cell_type": "code",
   "execution_count": 45,
   "metadata": {
    "scrolled": true
   },
   "outputs": [
    {
     "data": {
      "text/plain": [
       "['Spring', 'Summer', 'Autum', 'winter']"
      ]
     },
     "execution_count": 45,
     "metadata": {},
     "output_type": "execute_result"
    }
   ],
   "source": [
    "# Error: Tuple 不可改變順序\n",
    "season = ('Spring','Summer','Autum','winter')\n",
    "season_l=list(season)\n",
    "season_l"
   ]
  },
  {
   "cell_type": "markdown",
   "metadata": {},
   "source": [
    "# 變數： Set 集合 { }"
   ]
  },
  {
   "cell_type": "markdown",
   "metadata": {},
   "source": [
    "* Set 為元素的集合，元素間沒有次序, \n",
    "* 重覆的元素會被消除\n",
    "* 集合有交集、聯集、相減運算。"
   ]
  },
  {
   "cell_type": "code",
   "execution_count": 46,
   "metadata": {
    "scrolled": true
   },
   "outputs": [
    {
     "name": "stdout",
     "output_type": "stream",
     "text": [
      "{'dog', 'cat'}\n",
      "True\n",
      "False\n"
     ]
    }
   ],
   "source": [
    "# set 以 {} 表示 , 重覆的元素會被消除\n",
    "animals = {'cat', 'dog', 'dog'}\n",
    "print (animals)\n",
    "print ('cat' in animals)   # 檢查是否有 cat 這個元素，true or false\n",
    "print ('fish' in animals)  # 檢查是否有 fish 這個元素，true or false"
   ]
  },
  {
   "cell_type": "code",
   "execution_count": 47,
   "metadata": {
    "scrolled": true
   },
   "outputs": [
    {
     "name": "stdout",
     "output_type": "stream",
     "text": [
      "{'fish', 'dog', 'cat'}\n"
     ]
    }
   ],
   "source": [
    "# .add() # 增加一個元素\n",
    "animals.add('fish')      # 增加 fish 元素\n",
    "print (animals)"
   ]
  },
  {
   "cell_type": "code",
   "execution_count": 48,
   "metadata": {
    "scrolled": true
   },
   "outputs": [
    {
     "name": "stdout",
     "output_type": "stream",
     "text": [
      "{'dog', 'cat'}\n"
     ]
    }
   ],
   "source": [
    "# .remove()  # 移除一個完素\n",
    "animals.remove('fish')    # 移除 fish 完素\n",
    "print (animals)"
   ]
  },
  {
   "cell_type": "markdown",
   "metadata": {},
   "source": [
    "## List 或 Tuple 轉 Set"
   ]
  },
  {
   "cell_type": "code",
   "execution_count": 49,
   "metadata": {
    "scrolled": true
   },
   "outputs": [
    {
     "name": "stdout",
     "output_type": "stream",
     "text": [
      "{0, 1, 2, 3, 4}\n"
     ]
    }
   ],
   "source": [
    "# List 轉 Set, 重覆的元素會被消除\n",
    "set1 = set([1,2,2,3,3,4,4,3,2,1,0,0])\n",
    "print (set1)"
   ]
  },
  {
   "cell_type": "markdown",
   "metadata": {},
   "source": [
    "## Set 常用於聯集與交集的運算，元素的順序不是重點。"
   ]
  },
  {
   "cell_type": "markdown",
   "metadata": {
    "scrolled": true
   },
   "source": [
    "##  .union() 聯集"
   ]
  },
  {
   "cell_type": "code",
   "execution_count": 28,
   "metadata": {},
   "outputs": [],
   "source": [
    "set1={1,2,3,4,5}\n",
    "set2={3,4,5,6,7,8,9}"
   ]
  },
  {
   "cell_type": "code",
   "execution_count": 50,
   "metadata": {
    "scrolled": true
   },
   "outputs": [
    {
     "data": {
      "text/plain": [
       "{1, 2, 3, 4, 5, 6, 7, 8, 9}"
      ]
     },
     "execution_count": 50,
     "metadata": {},
     "output_type": "execute_result"
    }
   ],
   "source": [
    "set1.union(set2)"
   ]
  },
  {
   "cell_type": "code",
   "execution_count": 38,
   "metadata": {},
   "outputs": [
    {
     "data": {
      "text/plain": [
       "{1, 2, 3, 4, 5, 6, 7, 8, 9}"
      ]
     },
     "execution_count": 38,
     "metadata": {},
     "output_type": "execute_result"
    }
   ],
   "source": [
    "set1.union(set2)"
   ]
  },
  {
   "cell_type": "markdown",
   "metadata": {
    "scrolled": true
   },
   "source": [
    "##  .intersection() 交集"
   ]
  },
  {
   "cell_type": "code",
   "execution_count": 51,
   "metadata": {
    "scrolled": true
   },
   "outputs": [
    {
     "data": {
      "text/plain": [
       "{3, 4, 5}"
      ]
     },
     "execution_count": 51,
     "metadata": {},
     "output_type": "execute_result"
    }
   ],
   "source": [
    "set1.intersection(set2)"
   ]
  },
  {
   "cell_type": "markdown",
   "metadata": {},
   "source": [
    "set1.intersection(set2)"
   ]
  },
  {
   "cell_type": "markdown",
   "metadata": {
    "scrolled": true
   },
   "source": [
    "## .difference()相異，前面扣掉後面 "
   ]
  },
  {
   "cell_type": "code",
   "execution_count": 52,
   "metadata": {
    "scrolled": true
   },
   "outputs": [
    {
     "data": {
      "text/plain": [
       "{1, 2}"
      ]
     },
     "execution_count": 52,
     "metadata": {},
     "output_type": "execute_result"
    }
   ],
   "source": [
    "set1.difference(set2)"
   ]
  },
  {
   "cell_type": "code",
   "execution_count": null,
   "metadata": {},
   "outputs": [],
   "source": []
  },
  {
   "cell_type": "markdown",
   "metadata": {
    "scrolled": true
   },
   "source": [
    "## .symmetric_difference()後面扣掉前面與 前面扣掉後面 的聯集，表示非共通元素"
   ]
  },
  {
   "cell_type": "code",
   "execution_count": 53,
   "metadata": {
    "scrolled": true
   },
   "outputs": [
    {
     "data": {
      "text/plain": [
       "{1, 2, 6, 7, 8, 9}"
      ]
     },
     "execution_count": 53,
     "metadata": {},
     "output_type": "execute_result"
    }
   ],
   "source": [
    "set2.symmetric_difference(set1)"
   ]
  },
  {
   "cell_type": "code",
   "execution_count": 29,
   "metadata": {},
   "outputs": [
    {
     "data": {
      "text/plain": [
       "{1, 2, 6, 7, 8, 9}"
      ]
     },
     "execution_count": 29,
     "metadata": {},
     "output_type": "execute_result"
    }
   ],
   "source": [
    "set2.symmetric_difference(set1)"
   ]
  },
  {
   "cell_type": "markdown",
   "metadata": {
    "collapsed": true,
    "scrolled": true
   },
   "source": [
    "## .clear() 清除所有元素"
   ]
  },
  {
   "cell_type": "code",
   "execution_count": 54,
   "metadata": {
    "scrolled": true
   },
   "outputs": [],
   "source": [
    "set1.clear()"
   ]
  },
  {
   "cell_type": "markdown",
   "metadata": {},
   "source": [
    "# set 的邏輯判斷"
   ]
  },
  {
   "cell_type": "markdown",
   "metadata": {
    "scrolled": true
   },
   "source": [
    "## .issubset()是否是部分集合"
   ]
  },
  {
   "cell_type": "code",
   "execution_count": 55,
   "metadata": {
    "scrolled": true
   },
   "outputs": [
    {
     "data": {
      "text/plain": [
       "True"
      ]
     },
     "execution_count": 55,
     "metadata": {},
     "output_type": "execute_result"
    }
   ],
   "source": [
    "set1 = {1,2,3,4,5}\n",
    "{1,3}.issubset(set1)"
   ]
  },
  {
   "cell_type": "code",
   "execution_count": 39,
   "metadata": {},
   "outputs": [
    {
     "data": {
      "text/plain": [
       "True"
      ]
     },
     "execution_count": 39,
     "metadata": {},
     "output_type": "execute_result"
    }
   ],
   "source": [
    "set1 = {1,2,3,4,5}\n",
    "{1, 3}.issubset(set1)"
   ]
  },
  {
   "cell_type": "markdown",
   "metadata": {
    "scrolled": true
   },
   "source": [
    "## .isdisjoint()是否在集合之外"
   ]
  },
  {
   "cell_type": "code",
   "execution_count": 56,
   "metadata": {
    "scrolled": true
   },
   "outputs": [
    {
     "data": {
      "text/plain": [
       "True"
      ]
     },
     "execution_count": 56,
     "metadata": {},
     "output_type": "execute_result"
    }
   ],
   "source": [
    "set2={9}\n",
    "set2.isdisjoint(set1)"
   ]
  },
  {
   "cell_type": "markdown",
   "metadata": {
    "scrolled": false
   },
   "source": [
    "## .issuperset()是否是宇集合"
   ]
  },
  {
   "cell_type": "code",
   "execution_count": 57,
   "metadata": {
    "scrolled": false
   },
   "outputs": [
    {
     "data": {
      "text/plain": [
       "True"
      ]
     },
     "execution_count": 57,
     "metadata": {},
     "output_type": "execute_result"
    }
   ],
   "source": [
    "set1.issuperset({1,2})"
   ]
  },
  {
   "cell_type": "markdown",
   "metadata": {},
   "source": [
    "# 練習 -----------------------------------------------------\n",
    "* 以上我們介紹了基本的python 變數，有 float, int, string, list, set, tuple\n",
    "* 請自己設定一個 list 變數，代表十二生肖，依字母順序排序，並在 list, set, tuple 之間轉換。 "
   ]
  },
  {
   "cell_type": "markdown",
   "metadata": {},
   "source": [
    "# 函數 string 常用功能"
   ]
  },
  {
   "cell_type": "code",
   "execution_count": 31,
   "metadata": {},
   "outputs": [
    {
     "name": "stdout",
     "output_type": "stream",
     "text": [
      "python的簡單易學的程式，使用廣泛，可結合其他程式工具，特別適合初學者。\n"
     ]
    }
   ],
   "source": [
    "# 定義字串\n",
    "st='python的簡單易學的程式，使用廣泛，可結合其他程式工具，特別適合初學者。'\n",
    "print (st)"
   ]
  },
  {
   "cell_type": "markdown",
   "metadata": {},
   "source": [
    "## 從左邊選取數個字元"
   ]
  },
  {
   "cell_type": "code",
   "execution_count": 32,
   "metadata": {},
   "outputs": [
    {
     "name": "stdout",
     "output_type": "stream",
     "text": [
      "python\n"
     ]
    }
   ],
   "source": [
    "st1=st[:6]   # 從左邊選取 6 個字元\n",
    "print (st1)"
   ]
  },
  {
   "cell_type": "markdown",
   "metadata": {},
   "source": [
    "## 從右邊選取數個字元"
   ]
  },
  {
   "cell_type": "code",
   "execution_count": 33,
   "metadata": {
    "scrolled": true
   },
   "outputs": [
    {
     "name": "stdout",
     "output_type": "stream",
     "text": [
      "合初學者\n"
     ]
    }
   ],
   "source": [
    "p=5\n",
    "# 從右邊選取四個字元，但不要最後的句點。\n",
    "st1=st[len(st)-p:len(st)-1]  #總長度剪掉需要的長度，但不要句號。\n",
    "print (st1)"
   ]
  },
  {
   "cell_type": "markdown",
   "metadata": {},
   "source": [
    "## .find() 字串出現的位置"
   ]
  },
  {
   "cell_type": "code",
   "execution_count": 61,
   "metadata": {
    "scrolled": true
   },
   "outputs": [
    {
     "data": {
      "text/plain": [
       "12"
      ]
     },
     "execution_count": 61,
     "metadata": {},
     "output_type": "execute_result"
    }
   ],
   "source": [
    "st.find('程式')"
   ]
  },
  {
   "cell_type": "code",
   "execution_count": 34,
   "metadata": {},
   "outputs": [
    {
     "data": {
      "text/plain": [
       "12"
      ]
     },
     "execution_count": 34,
     "metadata": {},
     "output_type": "execute_result"
    }
   ],
   "source": [
    "st.find('程式')"
   ]
  },
  {
   "cell_type": "code",
   "execution_count": 35,
   "metadata": {
    "scrolled": true
   },
   "outputs": [
    {
     "name": "stdout",
     "output_type": "stream",
     "text": [
      "12\n",
      "25\n"
     ]
    }
   ],
   "source": [
    "# 尋找字串，從第幾個位置找起，第幾個位置結束\n",
    "# 找不到傳回 -1\n",
    "p1=st.find('程式',0)\n",
    "p2=st.find('程式',p1+1,len(st))\n",
    "print (p1)\n",
    "print (p2)"
   ]
  },
  {
   "cell_type": "code",
   "execution_count": 36,
   "metadata": {},
   "outputs": [
    {
     "name": "stdout",
     "output_type": "stream",
     "text": [
      "，使用廣泛，可結合其他\n"
     ]
    }
   ],
   "source": [
    "# 取出在兩個「程式」間的字串\n",
    "st1=st[p1+2:p2] #2代表兩個字\n",
    "print (st1)"
   ]
  },
  {
   "cell_type": "code",
   "execution_count": 37,
   "metadata": {},
   "outputs": [
    {
     "name": "stdout",
     "output_type": "stream",
     "text": [
      "-1\n"
     ]
    }
   ],
   "source": [
    "# 如果找不到傳回-1\n",
    "pp=st.find('英文',0)\n",
    "print (pp)"
   ]
  },
  {
   "cell_type": "markdown",
   "metadata": {},
   "source": [
    "## count() 計算字元出現的個數"
   ]
  },
  {
   "cell_type": "code",
   "execution_count": 38,
   "metadata": {
    "scrolled": true
   },
   "outputs": [
    {
     "name": "stdout",
     "output_type": "stream",
     "text": [
      "2\n",
      "1\n"
     ]
    }
   ],
   "source": [
    "# .count( ) 計算含有此字串有的個數 \n",
    "print (st.count('程式',0))      # 從 第一個字元找起，注意 0 代表第一個字元\n",
    "print (st.count('程式',0,14))   # 從 第一個字元起算第14個字元的字串內尋找"
   ]
  },
  {
   "cell_type": "markdown",
   "metadata": {},
   "source": [
    "## .endswith( ) 是否以...結尾"
   ]
  },
  {
   "cell_type": "code",
   "execution_count": 66,
   "metadata": {
    "scrolled": true
   },
   "outputs": [
    {
     "name": "stdout",
     "output_type": "stream",
     "text": [
      "True\n",
      "python的簡單易學的程式\n",
      "False\n"
     ]
    }
   ],
   "source": [
    "print (st.endswith('。'))  # 傳回 true or false\n",
    "print (st[0:14])           # 截取部分字串\n",
    "print (st.endswith('，',0,14))    # 從 第一個字元起算第14個"
   ]
  },
  {
   "cell_type": "markdown",
   "metadata": {},
   "source": [
    "## .startswith( ) 是否以...啟始"
   ]
  },
  {
   "cell_type": "code",
   "execution_count": 67,
   "metadata": {},
   "outputs": [
    {
     "data": {
      "text/plain": [
       "True"
      ]
     },
     "execution_count": 67,
     "metadata": {},
     "output_type": "execute_result"
    }
   ],
   "source": [
    "st.startswith('python')"
   ]
  },
  {
   "cell_type": "markdown",
   "metadata": {},
   "source": [
    "## replace() 字元替代"
   ]
  },
  {
   "cell_type": "code",
   "execution_count": 68,
   "metadata": {
    "scrolled": true
   },
   "outputs": [
    {
     "data": {
      "text/plain": [
       "'python的簡單易學的程式，使用廣泛，可結合其他程式工具，特別適合初學者。'"
      ]
     },
     "execution_count": 68,
     "metadata": {},
     "output_type": "execute_result"
    }
   ],
   "source": [
    "# replace( ) function replaces the element with another element.\n",
    "st.replace('utf8','utf-8')"
   ]
  },
  {
   "cell_type": "markdown",
   "metadata": {},
   "source": [
    "## .center( ) 置中並補空白"
   ]
  },
  {
   "cell_type": "code",
   "execution_count": 69,
   "metadata": {
    "scrolled": true
   },
   "outputs": [
    {
     "name": "stdout",
     "output_type": "stream",
     "text": [
      "           python的簡單易學的程式，使用廣泛，可結合其他程式工具，特別適合初學者。           \n"
     ]
    }
   ],
   "source": [
    "cen=st.center(60)  #60應是位置\n",
    "print (cen)"
   ]
  },
  {
   "cell_type": "code",
   "execution_count": 70,
   "metadata": {
    "scrolled": true
   },
   "outputs": [
    {
     "name": "stdout",
     "output_type": "stream",
     "text": [
      "***********python的簡單易學的程式，使用廣泛，可結合其他程式工具，特別適合初學者。***********\n"
     ]
    }
   ],
   "source": [
    "# 置中補星號\n",
    "cen=st.center(60,'*')\n",
    "print (cen)"
   ]
  },
  {
   "cell_type": "markdown",
   "metadata": {},
   "source": [
    "## lstrip(), rstrip() 左刪與右刪"
   ]
  },
  {
   "cell_type": "code",
   "execution_count": 39,
   "metadata": {
    "scrolled": true
   },
   "outputs": [],
   "source": [
    "# strip( ) function is used to delete elements from the right end and the left end which is not required.\n",
    "s = '  ***----hello---*******     '"
   ]
  },
  {
   "cell_type": "code",
   "execution_count": 72,
   "metadata": {
    "scrolled": true
   },
   "outputs": [
    {
     "data": {
      "text/plain": [
       "'***----hello---*******'"
      ]
     },
     "execution_count": 72,
     "metadata": {},
     "output_type": "execute_result"
    }
   ],
   "source": [
    "# .strip() 刪除頭尾空白字元\n",
    "s.strip()"
   ]
  },
  {
   "cell_type": "code",
   "execution_count": 41,
   "metadata": {},
   "outputs": [
    {
     "data": {
      "text/plain": [
       "'***----hello---*******'"
      ]
     },
     "execution_count": 41,
     "metadata": {},
     "output_type": "execute_result"
    }
   ],
   "source": [
    "s.strip()"
   ]
  },
  {
   "cell_type": "code",
   "execution_count": 73,
   "metadata": {
    "scrolled": true
   },
   "outputs": [
    {
     "data": {
      "text/plain": [
       "'  ***----hello---*******     '"
      ]
     },
     "execution_count": 73,
     "metadata": {},
     "output_type": "execute_result"
    }
   ],
   "source": [
    "# .strip() 刪除頭尾特定字元\n",
    "s.strip('*')"
   ]
  },
  {
   "cell_type": "code",
   "execution_count": 74,
   "metadata": {},
   "outputs": [
    {
     "data": {
      "text/plain": [
       "'----hello---'"
      ]
     },
     "execution_count": 74,
     "metadata": {},
     "output_type": "execute_result"
    }
   ],
   "source": [
    "# .strip() 刪除空白與星號\n",
    "s.strip(' *')"
   ]
  },
  {
   "cell_type": "code",
   "execution_count": 75,
   "metadata": {
    "scrolled": true
   },
   "outputs": [
    {
     "data": {
      "text/plain": [
       "'hello'"
      ]
     },
     "execution_count": 75,
     "metadata": {},
     "output_type": "execute_result"
    }
   ],
   "source": [
    "# .strip() 刪除空白、星號與-\n",
    "s.strip(' *-')"
   ]
  },
  {
   "cell_type": "markdown",
   "metadata": {},
   "source": [
    "# 字串 string 與 list 之間的轉換"
   ]
  },
  {
   "cell_type": "markdown",
   "metadata": {},
   "source": [
    "## .join()  List 合併成字串"
   ]
  },
  {
   "cell_type": "code",
   "execution_count": 42,
   "metadata": {},
   "outputs": [],
   "source": [
    "# list 合併為string 中間以空白隔開。\n",
    "lis=['春天','夏天','秋天','冬天']"
   ]
  },
  {
   "cell_type": "code",
   "execution_count": 76,
   "metadata": {
    "scrolled": true
   },
   "outputs": [
    {
     "data": {
      "text/plain": [
       "'春天 夏天 秋天 冬天'"
      ]
     },
     "execution_count": 76,
     "metadata": {},
     "output_type": "execute_result"
    }
   ],
   "source": [
    "b = ' '.join(lis) #使用.join()將list合併為字串\n",
    "b"
   ]
  },
  {
   "cell_type": "code",
   "execution_count": 43,
   "metadata": {},
   "outputs": [
    {
     "data": {
      "text/plain": [
       "'春天 夏天 秋天 冬天'"
      ]
     },
     "execution_count": 43,
     "metadata": {},
     "output_type": "execute_result"
    }
   ],
   "source": [
    "b = ' '.join(lis)\n",
    "b"
   ]
  },
  {
   "cell_type": "code",
   "execution_count": 45,
   "metadata": {},
   "outputs": [
    {
     "data": {
      "text/plain": [
       "'春天 夏天 秋天 冬天'"
      ]
     },
     "execution_count": 45,
     "metadata": {},
     "output_type": "execute_result"
    }
   ],
   "source": [
    "b = ' '.join(lis)\n",
    "b"
   ]
  },
  {
   "cell_type": "markdown",
   "metadata": {},
   "source": [
    "## .split()  字串拆解為List"
   ]
  },
  {
   "cell_type": "code",
   "execution_count": 77,
   "metadata": {
    "scrolled": true
   },
   "outputs": [
    {
     "name": "stdout",
     "output_type": "stream",
     "text": [
      "['春天', '夏天', '秋天', '冬天']\n"
     ]
    }
   ],
   "source": [
    "# split( ) 拆解字串為 list\n",
    "d = b.split(' ') #以什麼基準拆開成list(在這個例子中是空白) #使用.split將字串拆解成list\n",
    "print (d)"
   ]
  },
  {
   "cell_type": "code",
   "execution_count": 44,
   "metadata": {},
   "outputs": [
    {
     "name": "stdout",
     "output_type": "stream",
     "text": [
      "['春天', '夏天', '秋天', '冬天']\n"
     ]
    }
   ],
   "source": [
    "d = b.split(' ')\n",
    "print(d)"
   ]
  },
  {
   "cell_type": "code",
   "execution_count": 46,
   "metadata": {},
   "outputs": [
    {
     "name": "stdout",
     "output_type": "stream",
     "text": [
      "['春天', '夏天', '秋天', '冬天']\n"
     ]
    }
   ],
   "source": [
    "d = b.split(' ')\n",
    "print(d)"
   ]
  },
  {
   "cell_type": "markdown",
   "metadata": {},
   "source": [
    "# 自行練習 list ---------------"
   ]
  },
  {
   "cell_type": "code",
   "execution_count": null,
   "metadata": {},
   "outputs": [],
   "source": []
  },
  {
   "cell_type": "markdown",
   "metadata": {},
   "source": [
    "# 變數：Dictionary"
   ]
  },
  {
   "cell_type": "markdown",
   "metadata": {},
   "source": [
    "* 字典變數為配對的資料，通常作為資料庫使用。\n",
    "* 配對的兩個東西，前者稱為 key 後者稱為 value\n",
    "* 從key 可以呼叫 value"
   ]
  },
  {
   "cell_type": "markdown",
   "metadata": {},
   "source": [
    "### 方法一"
   ]
  },
  {
   "cell_type": "code",
   "execution_count": 45,
   "metadata": {},
   "outputs": [],
   "source": [
    "## zip( ) 將兩個List 配對結合，再轉為dictionary變數\n",
    "names = ['One', 'Two', 'Three', 'Four']\n",
    "numbers = [1, 2, 3, 4]"
   ]
  },
  {
   "cell_type": "code",
   "execution_count": 78,
   "metadata": {
    "scrolled": true
   },
   "outputs": [
    {
     "name": "stdout",
     "output_type": "stream",
     "text": [
      "{'One': 1, 'Two': 2, 'Three': 3, 'Four': 4}\n"
     ]
    }
   ],
   "source": [
    "dic = dict(zip(names,numbers))\n",
    "print (dic)"
   ]
  },
  {
   "cell_type": "code",
   "execution_count": 48,
   "metadata": {},
   "outputs": [
    {
     "name": "stdout",
     "output_type": "stream",
     "text": [
      "{'One': 1, 'Two': 2, 'Three': 3, 'Four': 4}\n"
     ]
    }
   ],
   "source": [
    "dic = dict(zip(names, numbers))\n",
    "print(dic)"
   ]
  },
  {
   "cell_type": "markdown",
   "metadata": {},
   "source": [
    "### 方法二"
   ]
  },
  {
   "cell_type": "code",
   "execution_count": 79,
   "metadata": {},
   "outputs": [
    {
     "name": "stdout",
     "output_type": "stream",
     "text": [
      "{'One': (1, 'A'), 'Two': (2, 'B'), 'Three': (3, 'C'), 'Four': (4, 'D')}\n"
     ]
    }
   ],
   "source": [
    "## key 對應 tuple \n",
    "names = ['One', 'Two', 'Three', 'Four']\n",
    "tup=[(1,\"A\"),(2,\"B\"),(3,\"C\"),(4,\"D\")] #list of tuple #dict 可以對應任何東西\n",
    "dic = dict(zip(names,tup))\n",
    "print (dic)"
   ]
  },
  {
   "cell_type": "markdown",
   "metadata": {},
   "source": [
    "### 方法三"
   ]
  },
  {
   "cell_type": "code",
   "execution_count": 48,
   "metadata": {
    "scrolled": true
   },
   "outputs": [
    {
     "name": "stdout",
     "output_type": "stream",
     "text": [
      "{'One': 1, 'Two': 2, 'Three': 3, 'Four': 4}\n"
     ]
    }
   ],
   "source": [
    "## 以回圈方式建構dictionary  #回去想過\n",
    "dic={}   # 先定義一個空白的 dictionary\n",
    "# 逐一定義 dictionary 的 key 與 value 關係，以後可以用迴圈方式處理\n",
    "dic[names[0]] = numbers[0]  \n",
    "dic[names[1]] = numbers[1]\n",
    "dic[names[2]] = numbers[2]\n",
    "dic[names[3]] = numbers[3]\n",
    "print (dic)"
   ]
  },
  {
   "cell_type": "code",
   "execution_count": 53,
   "metadata": {},
   "outputs": [
    {
     "name": "stdout",
     "output_type": "stream",
     "text": [
      "{'One': 1, 'Two': 2, 'Three': 3, 'Four': 4}\n"
     ]
    }
   ],
   "source": [
    "## 以回圈方式建構dictionary  #回去想過\n",
    "names = ['One', 'Two', 'Three', 'Four']\n",
    "numbers = [1, 2, 3, 4]\n",
    "dic={}   # 先定義一個空白的 dictionary\n",
    "# 逐一定義 dictionary 的 key 與 value 關係，以後可以用迴圈方式處理\n",
    "for i in range(4):\n",
    "    dic[names[i]] = numbers[i]\n",
    "print(dic)"
   ]
  },
  {
   "cell_type": "markdown",
   "metadata": {},
   "source": [
    "### 方法四"
   ]
  },
  {
   "cell_type": "code",
   "execution_count": 50,
   "metadata": {},
   "outputs": [
    {
     "name": "stdout",
     "output_type": "stream",
     "text": [
      "{'one': 1, 'two': 2, 'three': 3, 'Four': 4, 'Five': 5}\n"
     ]
    }
   ],
   "source": [
    "## 也可以直接定義\n",
    "dic=dict(one=1, two=2,three=3, Four=4, Five= 5)\n",
    "print (dic)"
   ]
  },
  {
   "cell_type": "code",
   "execution_count": 55,
   "metadata": {},
   "outputs": [
    {
     "name": "stdout",
     "output_type": "stream",
     "text": [
      "{'one': 1, 'two': 2, 'three': 3, 'four': 4, 'five': 5}\n"
     ]
    }
   ],
   "source": [
    "dic = dict (one = 1, two = 2, three = 3, four = 4, five = 5)\n",
    "print(dic)"
   ]
  },
  {
   "cell_type": "markdown",
   "metadata": {},
   "source": [
    "## 給定 key 傳回 value"
   ]
  },
  {
   "cell_type": "code",
   "execution_count": 56,
   "metadata": {},
   "outputs": [
    {
     "name": "stdout",
     "output_type": "stream",
     "text": [
      "1\n"
     ]
    }
   ],
   "source": [
    "print (dic['one'])"
   ]
  },
  {
   "cell_type": "markdown",
   "metadata": {},
   "source": [
    "## collections 模組，計算 list 元素出現的頻率，存成 dictionary"
   ]
  },
  {
   "cell_type": "code",
   "execution_count": 83,
   "metadata": {},
   "outputs": [
    {
     "name": "stdout",
     "output_type": "stream",
     "text": [
      "<class 'collections.Counter'>\n"
     ]
    },
    {
     "data": {
      "text/plain": [
       "Counter({'甲': 5, '乙': 2, '丙': 1, '丁': 5, '戊': 1})"
      ]
     },
     "execution_count": 83,
     "metadata": {},
     "output_type": "execute_result"
    }
   ],
   "source": [
    "import collections\n",
    "a=['甲','乙','丙','丁','甲','甲','乙','戊','丁','甲','甲','丁','丁','丁']\n",
    "counter=collections.Counter(a)\n",
    "print (type(counter))\n",
    "counter"
   ]
  },
  {
   "cell_type": "raw",
   "metadata": {},
   "source": []
  },
  {
   "cell_type": "code",
   "execution_count": 59,
   "metadata": {},
   "outputs": [
    {
     "name": "stdout",
     "output_type": "stream",
     "text": [
      "<class 'collections.Counter'>\n"
     ]
    },
    {
     "data": {
      "text/plain": [
       "Counter({'甲': 5, '乙': 2, '丙': 1, '丁': 5, '戊': 1})"
      ]
     },
     "execution_count": 59,
     "metadata": {},
     "output_type": "execute_result"
    }
   ],
   "source": [
    "import collections\n",
    "a=['甲','乙','丙','丁','甲','甲','乙','戊','丁','甲','甲','丁','丁','丁']\n",
    "counter = collections.Counter(a)\n",
    "print(type(counter))\n",
    "counter"
   ]
  },
  {
   "cell_type": "code",
   "execution_count": 84,
   "metadata": {
    "scrolled": true
   },
   "outputs": [
    {
     "name": "stdout",
     "output_type": "stream",
     "text": [
      "dict_values([5, 2, 1, 5, 1])\n",
      "dict_keys(['甲', '乙', '丙', '丁', '戊'])\n",
      "[('甲', 5), ('丁', 5), ('乙', 2), ('丙', 1), ('戊', 1)]\n"
     ]
    }
   ],
   "source": [
    "print (counter.values())\n",
    "print (counter.keys())\n",
    "print (counter.most_common(20)) # 20表幾個"
   ]
  },
  {
   "cell_type": "code",
   "execution_count": 61,
   "metadata": {
    "scrolled": true
   },
   "outputs": [
    {
     "name": "stdout",
     "output_type": "stream",
     "text": [
      "key ['甲', '乙', '丙', '丁', '戊']\n",
      "value [5, 2, 1, 5, 1]\n"
     ]
    }
   ],
   "source": [
    "# 轉為 list，方便後續處理\n",
    "a=list(counter.keys())\n",
    "b=list(counter.values())\n",
    "print ('key', a)\n",
    "print('value',b)"
   ]
  },
  {
   "cell_type": "code",
   "execution_count": 62,
   "metadata": {},
   "outputs": [
    {
     "name": "stdout",
     "output_type": "stream",
     "text": [
      "{'甲': 5, '乙': 2, '丙': 1, '丁': 5, '戊': 1}\n"
     ]
    }
   ],
   "source": [
    "## 合併 key 與  value 成為 dictionary \n",
    "dic1 = dict(zip(a,b))\n",
    "print (dic1)"
   ]
  },
  {
   "cell_type": "code",
   "execution_count": 63,
   "metadata": {},
   "outputs": [
    {
     "name": "stdout",
     "output_type": "stream",
     "text": [
      "{5: '丁', 2: '乙', 1: '戊'}\n"
     ]
    }
   ],
   "source": [
    "## key 與  value 對調，注意 key 不能重覆 \n",
    "dic2 = dict(zip(b,a))\n",
    "print (dic2)"
   ]
  },
  {
   "cell_type": "markdown",
   "metadata": {},
   "source": [
    "## 兩個dictionaries 合併 **\n",
    "* 如果 key 相同，後者的 value 值取代前前者的 value 值"
   ]
  },
  {
   "cell_type": "code",
   "execution_count": 88,
   "metadata": {
    "scrolled": true
   },
   "outputs": [
    {
     "data": {
      "text/plain": [
       "{5: '丁', 2: '乙', 1: '戊', '甲': 5, '乙': 2, '丙': 1, '丁': 5, '戊': 1}"
      ]
     },
     "execution_count": 88,
     "metadata": {},
     "output_type": "execute_result"
    }
   ],
   "source": [
    "# ** 表示合併兩dictionary\n",
    "d=dict(dic2,**dic1)\n",
    "d"
   ]
  },
  {
   "cell_type": "code",
   "execution_count": 64,
   "metadata": {},
   "outputs": [
    {
     "data": {
      "text/plain": [
       "{5: '丁', 2: '乙', 1: '戊', '甲': 5, '乙': 2, '丙': 1, '丁': 5, '戊': 1}"
      ]
     },
     "execution_count": 64,
     "metadata": {},
     "output_type": "execute_result"
    }
   ],
   "source": [
    "d = dict(dic2, **dic1)\n",
    "d"
   ]
  },
  {
   "cell_type": "markdown",
   "metadata": {},
   "source": [
    "## .update() 增加一個元素"
   ]
  },
  {
   "cell_type": "code",
   "execution_count": 65,
   "metadata": {},
   "outputs": [
    {
     "data": {
      "text/plain": [
       "{'one': 1, 'two': 2, 'three': 3, 'four': 4, 'five': 5}"
      ]
     },
     "execution_count": 65,
     "metadata": {},
     "output_type": "execute_result"
    }
   ],
   "source": [
    "dic"
   ]
  },
  {
   "cell_type": "code",
   "execution_count": 66,
   "metadata": {},
   "outputs": [
    {
     "data": {
      "text/plain": [
       "{'one': 1, 'two': 2, 'three': 3, 'four': 4, 'five': 5, 'hundred': 100}"
      ]
     },
     "execution_count": 66,
     "metadata": {},
     "output_type": "execute_result"
    }
   ],
   "source": [
    "dic.update({'hundred':100})\n",
    "dic"
   ]
  },
  {
   "cell_type": "markdown",
   "metadata": {},
   "source": [
    "## values(), keys(), items()"
   ]
  },
  {
   "cell_type": "code",
   "execution_count": 91,
   "metadata": {
    "scrolled": true
   },
   "outputs": [
    {
     "data": {
      "text/plain": [
       "[1, 2, 3, 4, 5, 100]"
      ]
     },
     "execution_count": 91,
     "metadata": {},
     "output_type": "execute_result"
    }
   ],
   "source": [
    "## .values() 讀取 dictionary的 values.\n",
    "val=list(dic.values())\n",
    "val"
   ]
  },
  {
   "cell_type": "code",
   "execution_count": 92,
   "metadata": {
    "scrolled": true
   },
   "outputs": [
    {
     "data": {
      "text/plain": [
       "['one', 'two', 'three', 'Four', 'Five', 'hundred']"
      ]
     },
     "execution_count": 92,
     "metadata": {},
     "output_type": "execute_result"
    }
   ],
   "source": [
    "## .keys() 讀取 dictionary的 keys\n",
    "key=list(dic.keys())\n",
    "key"
   ]
  },
  {
   "cell_type": "code",
   "execution_count": 68,
   "metadata": {
    "scrolled": true
   },
   "outputs": [
    {
     "data": {
      "text/plain": [
       "[('one', 1),\n",
       " ('two', 2),\n",
       " ('three', 3),\n",
       " ('four', 4),\n",
       " ('five', 5),\n",
       " ('hundred', 100)]"
      ]
     },
     "execution_count": 68,
     "metadata": {},
     "output_type": "execute_result"
    }
   ],
   "source": [
    "## items( ) 讀取 dictionary的 keys與 values\n",
    "item=list(dic.items())\n",
    "item"
   ]
  },
  {
   "cell_type": "markdown",
   "metadata": {},
   "source": [
    "## dictionary 按照value排序："
   ]
  },
  {
   "cell_type": "code",
   "execution_count": 72,
   "metadata": {},
   "outputs": [
    {
     "data": {
      "text/plain": [
       "[('hundred', 100),\n",
       " ('five', 5),\n",
       " ('four', 4),\n",
       " ('three', 3),\n",
       " ('two', 2),\n",
       " ('one', 1)]"
      ]
     },
     "execution_count": 72,
     "metadata": {},
     "output_type": "execute_result"
    }
   ],
   "source": [
    "# dictionary 依 value 排序，從大至小，lambda 表 ananymous function，變成 list，負表從大到小，先排 vlaue 再排 key\n",
    "sort_list=sorted(dic.items(),key=lambda kv: (-kv[1], kv[0])) #不太理解lambda的用法，猜[0]是代表先排序的意思，且 kv應是可以改變符號自行定義\n",
    "sort_list"
   ]
  },
  {
   "cell_type": "markdown",
   "metadata": {},
   "source": [
    "# dictionary按照key排序："
   ]
  },
  {
   "cell_type": "code",
   "execution_count": 95,
   "metadata": {},
   "outputs": [
    {
     "data": {
      "text/plain": [
       "[('Five', 5),\n",
       " ('Four', 4),\n",
       " ('hundred', 100),\n",
       " ('one', 1),\n",
       " ('three', 3),\n",
       " ('two', 2)]"
      ]
     },
     "execution_count": 95,
     "metadata": {},
     "output_type": "execute_result"
    }
   ],
   "source": [
    "# dictionary 依 key 排序，從大至小，lambda 表 ananymous function，變成 list，負表從大到小，先排 vlaue 再排 key\n",
    "sort_list=sorted(dic.items(),key=lambda kv: (kv[0], kv[1]))\n",
    "sort_list"
   ]
  },
  {
   "cell_type": "markdown",
   "metadata": {},
   "source": [
    "## pop() of dictionary\n",
    "* pop( ) function is used to get the remove that particular element and this removed element can be assigned to a new variable.\n",
    "But remember only the value is stored and not the key. Because the is just a index value.\n",
    "* 移除特定的元素(引數為 key)，傳回被移除的元素 的vlaue"
   ]
  },
  {
   "cell_type": "code",
   "execution_count": 96,
   "metadata": {
    "scrolled": true
   },
   "outputs": [
    {
     "data": {
      "text/plain": [
       "2"
      ]
     },
     "execution_count": 96,
     "metadata": {},
     "output_type": "execute_result"
    }
   ],
   "source": [
    "# 注意引數為 key，傳回 value\n",
    "value = dic.pop('two')\n",
    "value"
   ]
  },
  {
   "cell_type": "markdown",
   "metadata": {},
   "source": [
    "## 複製一個獨立的dictionary"
   ]
  },
  {
   "cell_type": "code",
   "execution_count": 97,
   "metadata": {},
   "outputs": [],
   "source": [
    "dic2=dic.copy()"
   ]
  },
  {
   "cell_type": "code",
   "execution_count": 98,
   "metadata": {
    "scrolled": true
   },
   "outputs": [
    {
     "name": "stdout",
     "output_type": "stream",
     "text": [
      "{'one': 1, 'three': 3, 'Four': 4, 'Five': 5, 'hundred': 100}\n",
      "{}\n"
     ]
    }
   ],
   "source": [
    "## .clear() 清空 dictionary 內容，原來的 dic 還在，不受影響\n",
    "dic2.clear()\n",
    "print (dic)\n",
    "print (dic2)"
   ]
  },
  {
   "cell_type": "markdown",
   "metadata": {},
   "source": [
    "## dictionary 刪除value值有重覆者\n",
    "* 注意：key 值不可能重覆"
   ]
  },
  {
   "cell_type": "code",
   "execution_count": 99,
   "metadata": {},
   "outputs": [
    {
     "data": {
      "text/plain": [
       "{'one': 1,\n",
       " 'three': 3,\n",
       " 'Four': 4,\n",
       " 'Five': 5,\n",
       " 'hundred': 100,\n",
       " 'double': 2,\n",
       " 'tripple': 3}"
      ]
     },
     "execution_count": 99,
     "metadata": {},
     "output_type": "execute_result"
    }
   ],
   "source": [
    "# 製作重覆的元素\n",
    "dic['double']=2\n",
    "dic['tripple']=3\n",
    "dic"
   ]
  },
  {
   "cell_type": "code",
   "execution_count": 1,
   "metadata": {},
   "outputs": [
    {
     "ename": "NameError",
     "evalue": "name 'dic' is not defined",
     "output_type": "error",
     "traceback": [
      "\u001b[1;31m---------------------------------------------------------------------------\u001b[0m",
      "\u001b[1;31mNameError\u001b[0m                                 Traceback (most recent call last)",
      "\u001b[1;32m<ipython-input-1-9c0ae3704b47>\u001b[0m in \u001b[0;36m<module>\u001b[1;34m\u001b[0m\n\u001b[0;32m      1\u001b[0m \u001b[0mvalues\u001b[0m\u001b[1;33m=\u001b[0m\u001b[0mset\u001b[0m\u001b[1;33m(\u001b[0m\u001b[1;33m)\u001b[0m\u001b[1;33m\u001b[0m\u001b[1;33m\u001b[0m\u001b[0m\n\u001b[1;32m----> 2\u001b[1;33m \u001b[0mLkey\u001b[0m\u001b[1;33m=\u001b[0m\u001b[0mlist\u001b[0m\u001b[1;33m(\u001b[0m\u001b[0mdic\u001b[0m\u001b[1;33m.\u001b[0m\u001b[0mkeys\u001b[0m\u001b[1;33m(\u001b[0m\u001b[1;33m)\u001b[0m\u001b[1;33m)\u001b[0m\u001b[1;33m\u001b[0m\u001b[1;33m\u001b[0m\u001b[0m\n\u001b[0m\u001b[0;32m      3\u001b[0m \u001b[1;32mfor\u001b[0m \u001b[0mkey\u001b[0m \u001b[1;32min\u001b[0m \u001b[0mLkey\u001b[0m\u001b[1;33m:\u001b[0m\u001b[1;33m\u001b[0m\u001b[1;33m\u001b[0m\u001b[0m\n\u001b[0;32m      4\u001b[0m     \u001b[0mval\u001b[0m \u001b[1;33m=\u001b[0m \u001b[0mdic\u001b[0m\u001b[1;33m[\u001b[0m\u001b[0mkey\u001b[0m\u001b[1;33m]\u001b[0m\u001b[1;33m\u001b[0m\u001b[1;33m\u001b[0m\u001b[0m\n\u001b[0;32m      5\u001b[0m     \u001b[1;31m# 如果 val 已在 values 內，則刪除，表示有重覆\u001b[0m\u001b[1;33m\u001b[0m\u001b[1;33m\u001b[0m\u001b[1;33m\u001b[0m\u001b[0m\n",
      "\u001b[1;31mNameError\u001b[0m: name 'dic' is not defined"
     ]
    }
   ],
   "source": [
    "values=set()\n",
    "Lkey=list(dic.keys())\n",
    "for key in Lkey:    \n",
    "    val = dic[key]\n",
    "    # 如果 val 已在 values 內，則刪除，表示有重覆\n",
    "    if val in values: \n",
    "        del dic[key]\n",
    "    # 如果不在 values 內，則 val 加入 values    \n",
    "    else:\n",
    "        values.add(val)\n",
    "# 剩下來的 字典 value 沒有重覆        \n",
    "dic"
   ]
  },
  {
   "cell_type": "markdown",
   "metadata": {},
   "source": [
    "# 邏輯變數 True, or False"
   ]
  },
  {
   "cell_type": "code",
   "execution_count": 101,
   "metadata": {
    "scrolled": true
   },
   "outputs": [
    {
     "data": {
      "text/plain": [
       "False"
      ]
     },
     "execution_count": 101,
     "metadata": {},
     "output_type": "execute_result"
    }
   ],
   "source": [
    "5>6"
   ]
  },
  {
   "cell_type": "code",
   "execution_count": 102,
   "metadata": {
    "scrolled": true
   },
   "outputs": [
    {
     "data": {
      "text/plain": [
       "False"
      ]
     },
     "execution_count": 102,
     "metadata": {},
     "output_type": "execute_result"
    }
   ],
   "source": [
    "# 注意邏輯語句 ==\n",
    "5==6"
   ]
  },
  {
   "cell_type": "code",
   "execution_count": 103,
   "metadata": {
    "scrolled": false
   },
   "outputs": [
    {
     "data": {
      "text/plain": [
       "True"
      ]
     },
     "execution_count": 103,
     "metadata": {},
     "output_type": "execute_result"
    }
   ],
   "source": [
    "# not eaual\n",
    "5 != 6\n"
   ]
  },
  {
   "cell_type": "markdown",
   "metadata": {},
   "source": [
    "## 檢查字串的屬性 isalnum(), isalpha(), isdigit(), isprintable()"
   ]
  },
  {
   "cell_type": "code",
   "execution_count": 104,
   "metadata": {
    "scrolled": true
   },
   "outputs": [
    {
     "data": {
      "text/plain": [
       "False"
      ]
     },
     "execution_count": 104,
     "metadata": {},
     "output_type": "execute_result"
    }
   ],
   "source": [
    "# 是否是數字\n",
    "f='123.0'\n",
    "f.isalnum()"
   ]
  },
  {
   "cell_type": "code",
   "execution_count": 105,
   "metadata": {
    "scrolled": true
   },
   "outputs": [
    {
     "data": {
      "text/plain": [
       "False"
      ]
     },
     "execution_count": 105,
     "metadata": {},
     "output_type": "execute_result"
    }
   ],
   "source": [
    "# 是否是字母，特殊符號不算字母\n",
    "f='$%^^^&^as'\n",
    "f.isalpha()"
   ]
  },
  {
   "cell_type": "code",
   "execution_count": 106,
   "metadata": {
    "scrolled": true
   },
   "outputs": [
    {
     "data": {
      "text/plain": [
       "False"
      ]
     },
     "execution_count": 106,
     "metadata": {},
     "output_type": "execute_result"
    }
   ],
   "source": [
    "# 是否是數字\n",
    "f='123.23'\n",
    "f.isdigit()"
   ]
  },
  {
   "cell_type": "code",
   "execution_count": 107,
   "metadata": {
    "scrolled": true
   },
   "outputs": [
    {
     "data": {
      "text/plain": [
       "True"
      ]
     },
     "execution_count": 107,
     "metadata": {},
     "output_type": "execute_result"
    }
   ],
   "source": [
    "# 是否可列印，有些特殊符號無法列印\n",
    "f='$%^^^&^'\n",
    "f.isprintable()"
   ]
  },
  {
   "cell_type": "markdown",
   "metadata": {},
   "source": [
    "# print 列印，變數控制"
   ]
  },
  {
   "cell_type": "code",
   "execution_count": 108,
   "metadata": {
    "scrolled": true
   },
   "outputs": [
    {
     "name": "stdout",
     "output_type": "stream",
     "text": [
      "Hello World 100 my name is ...\n"
     ]
    }
   ],
   "source": [
    "# % 表填入字串內容\n",
    "string1 = 'World'\n",
    "string2 = 100\n",
    "string3='my name is ...'\n",
    "# %s 代表 print 變數\n",
    "print (\"Hello %s %s %s\" %(string1,string2,string3))"
   ]
  },
  {
   "cell_type": "markdown",
   "metadata": {},
   "source": [
    "---\n",
    "# 練習：華氏改攝式\n",
    "* 公式為 f = ( c * 9.0 ) / 5.0 + 32.0\n",
    "* 給定一個攝式溫度，自動算華氏溫度。"
   ]
  },
  {
   "cell_type": "code",
   "execution_count": 109,
   "metadata": {
    "scrolled": true
   },
   "outputs": [
    {
     "name": "stdout",
     "output_type": "stream",
     "text": [
      "攝氏溫度： 100  華氏溫度：  212.0\n"
     ]
    }
   ],
   "source": [
    "#'Enter Celsius Temperature:'\n",
    "cel = 100\n",
    "# 將攝氏改為華氏溫度\n",
    "fahr = ( cel * 9.0 ) / 5.0 + 32.0\n",
    "fahr=round(fahr,2)\n",
    "print ('攝氏溫度：', cel, \" 華氏溫度： \", fahr)"
   ]
  },
  {
   "cell_type": "markdown",
   "metadata": {},
   "source": [
    "# 練習: 將華氏改為攝氏\n",
    "* cel = (fahr - 32.0) * 5.0 / 9.0 "
   ]
  },
  {
   "cell_type": "code",
   "execution_count": 110,
   "metadata": {
    "scrolled": true
   },
   "outputs": [
    {
     "name": "stdout",
     "output_type": "stream",
     "text": [
      "華氏溫度： 0  攝氏溫度： -17.78\n"
     ]
    }
   ],
   "source": [
    "fahr = 0\n",
    "cel = (fahr - 32.0) * 5.0 / 9.0\n",
    "cel=round(cel,2)\n",
    "print (\"華氏溫度：\", fahr, ' 攝氏溫度：',cel)"
   ]
  },
  {
   "cell_type": "markdown",
   "metadata": {},
   "source": [
    "# 作業：set, list, string, dictionary 間的轉換\n",
    "* 星相學有提到十二星座，請製作一個 dictionary, 以名稱為 key, vlue可為 list, 亦可為 tuple, 說明十二星座代表的屬性，包括日期、個性等。\n"
   ]
  },
  {
   "cell_type": "code",
   "execution_count": null,
   "metadata": {},
   "outputs": [],
   "source": [
    "# key為12星座\n",
    "# value可以是list/tuple等元素\n",
    "# 元素可以包括:日期、英文名字、個性、運勢等"
   ]
  },
  {
   "cell_type": "code",
   "execution_count": 14,
   "metadata": {},
   "outputs": [
    {
     "data": {
      "text/plain": [
       "{'Aries': '3/21-4/29',\n",
       " 'Taurus': '4/20-5/20',\n",
       " 'Gemini': '5/21-6/21',\n",
       " 'Cancer': '6/22-7/22',\n",
       " 'Leo': '7/23-8/22',\n",
       " 'Virgo': '8/23-9/22',\n",
       " 'Libra': '9/23-10/23',\n",
       " 'Scorpio': '10/24-11/22',\n",
       " 'Sagittarius': '11/23-12/21',\n",
       " 'Capricorn': '12/22-1/19',\n",
       " 'Aquarius': '1/20-2/18',\n",
       " 'Pisces': '2/19-3/20'}"
      ]
     },
     "execution_count": 14,
     "metadata": {},
     "output_type": "execute_result"
    }
   ],
   "source": [
    "twelve_Constellations = [\"Aries\", \"Taurus\", \"Gemini\", \"Cancer\", \"Leo\", \"Virgo\", \"Libra\", \"Scorpio\", \"Sagittarius\", \"Capricorn\", \"Aquarius\", \"Pisces\"]\n",
    "traits = [(\"3/21-4/29\", \"hopeful\", \n",
    "          \"4/20-5/20\", \"5/21-6/21\", \"6/22-7/22\", \"7/23-8/22\", \"8/23-9/22\", \"9/23-10/23\", \"10/24-11/22\", \"11/23-12/21\", \"12/22-1/19\", \"1/20-2/18\", \"2/19-3/20\"]\n",
    "value_dic = dict(zip(twelve_Constellations, traits))\n",
    "value_dic"
   ]
  },
  {
   "cell_type": "code",
   "execution_count": 10,
   "metadata": {},
   "outputs": [
    {
     "ename": "SyntaxError",
     "evalue": "unexpected EOF while parsing (<ipython-input-10-d157861704ae>, line 3)",
     "output_type": "error",
     "traceback": [
      "\u001b[1;36m  File \u001b[1;32m\"<ipython-input-10-d157861704ae>\"\u001b[1;36m, line \u001b[1;32m3\u001b[0m\n\u001b[1;33m    value_dic = dict(zip(twelve_Constellations, traits)\u001b[0m\n\u001b[1;37m                                                       ^\u001b[0m\n\u001b[1;31mSyntaxError\u001b[0m\u001b[1;31m:\u001b[0m unexpected EOF while parsing\n"
     ]
    }
   ],
   "source": [
    "twelve_Constellations = [\"Aries\", \"Ho\"]\n",
    "traits = [\"3/21-4/29\"&\"bold\", \"8/23-9/22\"&\"balanced\"]\n",
    "value_dic = dict(zip(twelve_Constellations, traits)"
   ]
  }
 ],
 "metadata": {
  "anaconda-cloud": {},
  "kernelspec": {
   "display_name": "Python 3",
   "language": "python",
   "name": "python3"
  },
  "language_info": {
   "codemirror_mode": {
    "name": "ipython",
    "version": 3
   },
   "file_extension": ".py",
   "mimetype": "text/x-python",
   "name": "python",
   "nbconvert_exporter": "python",
   "pygments_lexer": "ipython3",
   "version": "3.7.3"
  }
 },
 "nbformat": 4,
 "nbformat_minor": 2
}
