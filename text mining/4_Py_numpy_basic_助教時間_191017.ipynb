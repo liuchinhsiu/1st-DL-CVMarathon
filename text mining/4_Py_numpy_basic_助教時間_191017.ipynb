{
 "cells": [
  {
   "cell_type": "markdown",
   "metadata": {},
   "source": [
    "# Numpy Basic"
   ]
  },
  {
   "cell_type": "markdown",
   "metadata": {},
   "source": [
    "* Numpy 是處理 Array 的常用模組。\n",
    "* Array 是多維的陣列(list)，Numpy 有各種針對Array的數學計算功能，補強 python 的不足，例如平均值、變異數或矩陣運算等。\n",
    "* 安裝 Anaconda 後就會自動安裝 numpy, 不需另行安裝。"
   ]
  },
  {
   "cell_type": "code",
   "execution_count": 2,
   "metadata": {
    "scrolled": true
   },
   "outputs": [],
   "source": [
    "# 把模組叫進來。\n",
    "import numpy as np\n",
    "path='d:/My Python/'    # 資料庫儲存的位置"
   ]
  },
  {
   "cell_type": "markdown",
   "metadata": {},
   "source": [
    "# np.array() 製作一個 array"
   ]
  },
  {
   "cell_type": "markdown",
   "metadata": {},
   "source": [
    "## from List to np.array"
   ]
  },
  {
   "cell_type": "code",
   "execution_count": 5,
   "metadata": {
    "scrolled": true
   },
   "outputs": [
    {
     "name": "stdout",
     "output_type": "stream",
     "text": [
      "<class 'numpy.ndarray'>\n"
     ]
    },
    {
     "data": {
      "text/plain": [
       "array([1, 2, 3, 4, 5])"
      ]
     },
     "execution_count": 5,
     "metadata": {},
     "output_type": "execute_result"
    }
   ],
   "source": [
    "# 一個維度\n",
    "a1=[1, 2, 3, 4, 5]\n",
    "a = np.array(a1)  # list 轉為 array\n",
    "print (type(a))\n",
    "a"
   ]
  },
  {
   "cell_type": "code",
   "execution_count": 11,
   "metadata": {},
   "outputs": [
    {
     "name": "stdout",
     "output_type": "stream",
     "text": [
      "1\n",
      "2\n"
     ]
    }
   ],
   "source": [
    "# 印出第一個與第二個元素\n",
    "print (a[0])\n",
    "print (a[1])"
   ]
  },
  {
   "cell_type": "markdown",
   "metadata": {},
   "source": [
    "## from np.array to List"
   ]
  },
  {
   "cell_type": "code",
   "execution_count": 12,
   "metadata": {},
   "outputs": [
    {
     "name": "stdout",
     "output_type": "stream",
     "text": [
      "<class 'list'>\n"
     ]
    },
    {
     "data": {
      "text/plain": [
       "[1, 2, 3, 4, 5]"
      ]
     },
     "execution_count": 12,
     "metadata": {},
     "output_type": "execute_result"
    }
   ],
   "source": [
    "# numpy array 直接轉換為 list\n",
    "b=list(a)\n",
    "print (type(b))\n",
    "b"
   ]
  },
  {
   "cell_type": "markdown",
   "metadata": {},
   "source": [
    "## np.linspace(,,) 產生等距的數列 "
   ]
  },
  {
   "cell_type": "code",
   "execution_count": 16,
   "metadata": {
    "scrolled": true
   },
   "outputs": [
    {
     "name": "stdout",
     "output_type": "stream",
     "text": [
      "5\n",
      "<class 'numpy.ndarray'>\n",
      "[ 0.   2.5  5.   7.5 10. ]\n"
     ]
    }
   ],
   "source": [
    "# 從 0 到 10，5個元素，\n",
    "a= np.linspace(0,10,5)  \n",
    "print (len(a))\n",
    "print (type(a))\n",
    "print (a)"
   ]
  },
  {
   "cell_type": "code",
   "execution_count": 17,
   "metadata": {},
   "outputs": [
    {
     "name": "stdout",
     "output_type": "stream",
     "text": [
      "0.0\n",
      "2.5\n",
      "5.0\n",
      "7.5\n",
      "10.0\n"
     ]
    }
   ],
   "source": [
    "# 逐一印出檢查一下\n",
    "for i in a:\n",
    "    print (i)"
   ]
  },
  {
   "cell_type": "code",
   "execution_count": 18,
   "metadata": {},
   "outputs": [
    {
     "data": {
      "text/plain": [
       "[0.0, 2.5, 5.0, 7.5, 10.0]"
      ]
     },
     "execution_count": 18,
     "metadata": {},
     "output_type": "execute_result"
    }
   ],
   "source": [
    "# 存成 list \n",
    "num=list(a)\n",
    "num"
   ]
  },
  {
   "cell_type": "markdown",
   "metadata": {},
   "source": [
    "## np.arange() 依一定間距，產生數列"
   ]
  },
  {
   "cell_type": "code",
   "execution_count": 23,
   "metadata": {
    "scrolled": false
   },
   "outputs": [
    {
     "name": "stdout",
     "output_type": "stream",
     "text": [
      "5\n",
      "<class 'numpy.ndarray'>\n",
      "[0, 2, 4, 6, 8]\n"
     ]
    }
   ],
   "source": [
    "# 從 0 到 10，間距為 2，\n",
    "c=np.arange(0,10,2)      # define interval\n",
    "print (len(c))\n",
    "print (type(c))\n",
    "print (list(c))   # 轉成 list"
   ]
  },
  {
   "cell_type": "markdown",
   "metadata": {},
   "source": [
    "## 比較 range() 與 np.arrange()\n",
    "* 與 np.arrange() 類同"
   ]
  },
  {
   "cell_type": "code",
   "execution_count": 26,
   "metadata": {},
   "outputs": [
    {
     "name": "stdout",
     "output_type": "stream",
     "text": [
      "[0, 2, 4, 6, 8]\n"
     ]
    }
   ],
   "source": [
    "c2=range(0,10,2)\n",
    "print (list(c2))   # 轉成 list"
   ]
  },
  {
   "cell_type": "markdown",
   "metadata": {},
   "source": [
    "# 多維度的 array"
   ]
  },
  {
   "cell_type": "code",
   "execution_count": 27,
   "metadata": {
    "scrolled": false
   },
   "outputs": [
    {
     "data": {
      "text/plain": [
       "array([[ 1,  2,  3,  4,  5],\n",
       "       [ 6,  7,  8,  9, 10],\n",
       "       [11, 12, 13, 14, 15]])"
      ]
     },
     "execution_count": 27,
     "metadata": {},
     "output_type": "execute_result"
    }
   ],
   "source": [
    "# 兩個維度\n",
    "a1=[1,2,3,4,5]\n",
    "a2=[6,7,8,9,10]\n",
    "a3=[11,12,13,14,15]\n",
    "a = np.array([a1,a2,a3])   \n",
    "a"
   ]
  },
  {
   "cell_type": "code",
   "execution_count": 31,
   "metadata": {},
   "outputs": [
    {
     "name": "stdout",
     "output_type": "stream",
     "text": [
      "[array([1, 2, 3, 4, 5]), array([ 6,  7,  8,  9, 10]), array([11, 12, 13, 14, 15])]\n"
     ]
    }
   ],
   "source": [
    "# 直接轉 list 會變成這樣\n",
    "print (list(a))"
   ]
  },
  {
   "cell_type": "code",
   "execution_count": 32,
   "metadata": {},
   "outputs": [
    {
     "name": "stdout",
     "output_type": "stream",
     "text": [
      "[[1, 2, 3, 4, 5], [6, 7, 8, 9, 10], [11, 12, 13, 14, 15]]\n"
     ]
    }
   ],
   "source": [
    "# 轉為我們熟悉的 list 格式\n",
    "print ([list(a[0]),list(a[1]),list(a[2])])"
   ]
  },
  {
   "cell_type": "markdown",
   "metadata": {},
   "source": [
    "## reshape() 由一維變為多維"
   ]
  },
  {
   "cell_type": "code",
   "execution_count": 40,
   "metadata": {
    "scrolled": true
   },
   "outputs": [
    {
     "data": {
      "text/plain": [
       "array([[ 0,  1,  2,  3,  4],\n",
       "       [ 5,  6,  7,  8,  9],\n",
       "       [10, 11, 12, 13, 14]])"
      ]
     },
     "execution_count": 40,
     "metadata": {},
     "output_type": "execute_result"
    }
   ],
   "source": [
    "# 變成兩維的陣列，前者為第一層，後者為第二層\n",
    "# 注意個數必須一致，3*5=15，否則會出現 error\n",
    "a = np.arange(15).reshape(3, 5)\n",
    "a"
   ]
  },
  {
   "cell_type": "code",
   "execution_count": 48,
   "metadata": {
    "scrolled": false
   },
   "outputs": [
    {
     "name": "stdout",
     "output_type": "stream",
     "text": [
      "[0 1 2 3 4]\n",
      "[0 1 2 3 4]\n",
      "7\n"
     ]
    }
   ],
   "source": [
    "# 用 index 篩選\n",
    "print (a[0])\n",
    "print (a[0][:])   # 冒號代表全部\n",
    "# row 1, column 2，注意從 0 開始啟算 \n",
    "# 讀取某個元素的值\n",
    "print (a[1][2])"
   ]
  },
  {
   "cell_type": "markdown",
   "metadata": {},
   "source": [
    "## np.ones() 元素均為 1 的 array"
   ]
  },
  {
   "cell_type": "code",
   "execution_count": 44,
   "metadata": {
    "scrolled": true
   },
   "outputs": [
    {
     "data": {
      "text/plain": [
       "array([[1., 1., 1., 1., 1.],\n",
       "       [1., 1., 1., 1., 1.],\n",
       "       [1., 1., 1., 1., 1.],\n",
       "       [1., 1., 1., 1., 1.]])"
      ]
     },
     "execution_count": 44,
     "metadata": {},
     "output_type": "execute_result"
    }
   ],
   "source": [
    "# 兩層的 array\n",
    "b = np.ones((4,5))   # Create an array of all ones\n",
    "b"
   ]
  },
  {
   "cell_type": "markdown",
   "metadata": {},
   "source": [
    "## np.zeros() 元素均為 0 的 array"
   ]
  },
  {
   "cell_type": "code",
   "execution_count": 45,
   "metadata": {},
   "outputs": [
    {
     "data": {
      "text/plain": [
       "array([[0., 0., 0., 0., 0.],\n",
       "       [0., 0., 0., 0., 0.],\n",
       "       [0., 0., 0., 0., 0.],\n",
       "       [0., 0., 0., 0., 0.]])"
      ]
     },
     "execution_count": 45,
     "metadata": {},
     "output_type": "execute_result"
    }
   ],
   "source": [
    "# 兩層的 array\n",
    "b = np.zeros((4,5))   # Create an array of all ones\n",
    "b"
   ]
  },
  {
   "cell_type": "markdown",
   "metadata": {},
   "source": [
    "## 改變array中某個元素值"
   ]
  },
  {
   "cell_type": "code",
   "execution_count": 46,
   "metadata": {},
   "outputs": [
    {
     "data": {
      "text/plain": [
       "array([[  0.,   0.,   0.,   0.,   0.],\n",
       "       [  0.,   0., 100.,   0.,   0.],\n",
       "       [  0.,   0.,   0.,   0.,   0.],\n",
       "       [  0.,   0.,   0.,   0.,   0.]])"
      ]
     },
     "execution_count": 46,
     "metadata": {},
     "output_type": "execute_result"
    }
   ],
   "source": [
    "b[1][2]=100\n",
    "b"
   ]
  },
  {
   "cell_type": "markdown",
   "metadata": {},
   "source": [
    "# 隨機抽樣\n",
    "* https://docs.scipy.org/doc/numpy-1.13.0/reference/routines.random.html"
   ]
  },
  {
   "cell_type": "markdown",
   "metadata": {},
   "source": [
    "## np.random.random(n) 從0到1隨機抽樣，抽n個"
   ]
  },
  {
   "cell_type": "code",
   "execution_count": 49,
   "metadata": {},
   "outputs": [
    {
     "data": {
      "text/plain": [
       "array([0.14543237, 0.60621923, 0.95689727, 0.8283155 , 0.132521  ,\n",
       "       0.07716155, 0.83582217, 0.44532936, 0.88804271, 0.10727936])"
      ]
     },
     "execution_count": 49,
     "metadata": {},
     "output_type": "execute_result"
    }
   ],
   "source": [
    "# 一個維度，隨機取 n 個，機率都一樣\n",
    "e = np.random.random(10) \n",
    "e"
   ]
  },
  {
   "cell_type": "code",
   "execution_count": 53,
   "metadata": {
    "scrolled": true
   },
   "outputs": [
    {
     "data": {
      "text/plain": [
       "array([[0.54756201, 0.51168896, 0.90057346, 0.29401511, 0.0136724 ],\n",
       "       [0.45042176, 0.25378539, 0.11144029, 0.82534245, 0.73209186],\n",
       "       [0.80015948, 0.76652083, 0.86529372, 0.5744882 , 0.61237703],\n",
       "       [0.0294238 , 0.09535419, 0.57409875, 0.05397395, 0.84451406]])"
      ]
     },
     "execution_count": 53,
     "metadata": {},
     "output_type": "execute_result"
    }
   ],
   "source": [
    "# 兩個維度\n",
    "# 0~1 常態分布抽樣，隨機值，第一層四個元素，第二層五個元素\n",
    "e = np.random.random((4,5)) \n",
    "e"
   ]
  },
  {
   "cell_type": "markdown",
   "metadata": {},
   "source": [
    "## np.random.randint(n,m,k) 整數隨機抽樣，從n到m抽k個"
   ]
  },
  {
   "cell_type": "code",
   "execution_count": 54,
   "metadata": {},
   "outputs": [
    {
     "data": {
      "text/plain": [
       "array([6, 3, 6, 1, 6, 9, 1, 8, 2, 9])"
      ]
     },
     "execution_count": 54,
     "metadata": {},
     "output_type": "execute_result"
    }
   ],
   "source": [
    "# 整數隨機抽樣，從n到m抽k個\n",
    "e = np.random.randint(1,10,10) \n",
    "e"
   ]
  },
  {
   "cell_type": "markdown",
   "metadata": {},
   "source": [
    "## np.random.standard_normal(n) 標準常態分佈抽 n 個"
   ]
  },
  {
   "cell_type": "code",
   "execution_count": 55,
   "metadata": {},
   "outputs": [
    {
     "data": {
      "text/plain": [
       "array([ 0.08445935, -0.19277762, -0.56151888, -1.61922429, -0.18763411,\n",
       "       -0.34518861,  1.74419881, -1.29383476,  0.62452789,  0.91810219])"
      ]
     },
     "execution_count": 55,
     "metadata": {},
     "output_type": "execute_result"
    }
   ],
   "source": [
    "#  標準常態分佈抽 n 個\n",
    "e = np.random.standard_normal(10) # 1~10, integers\n",
    "e"
   ]
  },
  {
   "cell_type": "markdown",
   "metadata": {},
   "source": [
    "## np.random.standard_normal(u,s,n) 常態分佈，平均值 u, 標準差 s，抽 n 個"
   ]
  },
  {
   "cell_type": "code",
   "execution_count": 56,
   "metadata": {},
   "outputs": [
    {
     "data": {
      "text/plain": [
       "array([58.02866811, 48.39224164, 59.84656302, 64.95529085, 54.91328762,\n",
       "       50.20051489, 74.5526388 , 64.51058658, 58.04556348, 73.26643911])"
      ]
     },
     "execution_count": 56,
     "metadata": {},
     "output_type": "execute_result"
    }
   ],
   "source": [
    "# 常態分佈，平均值 u, 標準差 s，抽 n 個\n",
    "# u=60，s= 7，n= 10\n",
    "# normal()\n",
    "e = np.random.normal(60,7,10) \n",
    "e"
   ]
  },
  {
   "cell_type": "markdown",
   "metadata": {
    "collapsed": true
   },
   "source": [
    "## np.random.uniform(a,b,n) 均等分佈，從a到b，抽 n 個"
   ]
  },
  {
   "cell_type": "code",
   "execution_count": 57,
   "metadata": {},
   "outputs": [
    {
     "data": {
      "text/plain": [
       "array([6.70566776, 7.35647244, 9.6368881 , 2.43526838, 3.20881071,\n",
       "       6.74238842, 8.57833321, 8.89734566, 8.85169629, 2.18415691])"
      ]
     },
     "execution_count": 57,
     "metadata": {},
     "output_type": "execute_result"
    }
   ],
   "source": [
    "# 均等分佈，從a到b，抽 n 個\n",
    "# a=1, b=10, n=10\n",
    "e = np.random.uniform(1,10,10)\n",
    "e"
   ]
  },
  {
   "cell_type": "markdown",
   "metadata": {},
   "source": [
    "## .vstack([a,b]) 垂直合併"
   ]
  },
  {
   "cell_type": "code",
   "execution_count": 58,
   "metadata": {
    "scrolled": true
   },
   "outputs": [
    {
     "data": {
      "text/plain": [
       "array([[1., 1., 1., 1., 1.],\n",
       "       [1., 1., 1., 1., 1.],\n",
       "       [1., 1., 1., 1., 1.],\n",
       "       [1., 1., 1., 1., 1.],\n",
       "       [0., 0., 0., 0., 0.],\n",
       "       [0., 0., 0., 0., 0.],\n",
       "       [0., 0., 0., 0., 0.],\n",
       "       [0., 0., 0., 0., 0.]])"
      ]
     },
     "execution_count": 58,
     "metadata": {},
     "output_type": "execute_result"
    }
   ],
   "source": [
    "# 垂值合併\n",
    "a = np.ones((4,5))   # 隨機選取常態分佈值  \n",
    "b = np.zeros((4,5))   # 隨機選取常態分佈值\n",
    "c=np.vstack([a,b])\n",
    "c"
   ]
  },
  {
   "cell_type": "markdown",
   "metadata": {},
   "source": [
    "##  .htack([a,b]) 水平合併"
   ]
  },
  {
   "cell_type": "code",
   "execution_count": 59,
   "metadata": {
    "scrolled": true
   },
   "outputs": [
    {
     "data": {
      "text/plain": [
       "array([[1., 1., 1., 1., 1., 0., 0., 0., 0., 0.],\n",
       "       [1., 1., 1., 1., 1., 0., 0., 0., 0., 0.],\n",
       "       [1., 1., 1., 1., 1., 0., 0., 0., 0., 0.],\n",
       "       [1., 1., 1., 1., 1., 0., 0., 0., 0., 0.]])"
      ]
     },
     "execution_count": 59,
     "metadata": {},
     "output_type": "execute_result"
    }
   ],
   "source": [
    "# 水平合併\n",
    "d=np.hstack([a,b])\n",
    "d"
   ]
  },
  {
   "cell_type": "code",
   "execution_count": 62,
   "metadata": {},
   "outputs": [
    {
     "name": "stdout",
     "output_type": "stream",
     "text": [
      "something wrong, numbers not match\n"
     ]
    }
   ],
   "source": [
    "## 如果維度不對，則出現錯誤訊息（4,4) (2,8)\n",
    "import sys\n",
    "try:\n",
    "    e=np.hstack([c,d])\n",
    "    e\n",
    "except:\n",
    "    print ('something wrong, numbers not match')"
   ]
  },
  {
   "cell_type": "markdown",
   "metadata": {},
   "source": [
    "# 練習__\n",
    "* 擲骰子，一次擲三個，計算點數總和。總共擲100次，記錄每次擲的點數。"
   ]
  },
  {
   "cell_type": "code",
   "execution_count": 151,
   "metadata": {},
   "outputs": [
    {
     "data": {
      "text/plain": [
       "array([[2, 2, 3],\n",
       "       [5, 2, 5],\n",
       "       [4, 2, 3],\n",
       "       [1, 4, 3],\n",
       "       [5, 3, 4],\n",
       "       [3, 3, 1],\n",
       "       [1, 4, 1],\n",
       "       [2, 3, 1],\n",
       "       [1, 4, 5],\n",
       "       [5, 1, 2],\n",
       "       [2, 2, 2],\n",
       "       [3, 3, 5],\n",
       "       [4, 3, 5],\n",
       "       [1, 3, 4],\n",
       "       [5, 3, 5],\n",
       "       [6, 3, 5],\n",
       "       [3, 3, 5],\n",
       "       [4, 5, 6],\n",
       "       [2, 4, 1],\n",
       "       [3, 3, 4],\n",
       "       [6, 1, 5],\n",
       "       [4, 1, 3],\n",
       "       [4, 5, 6],\n",
       "       [3, 1, 6],\n",
       "       [3, 6, 4],\n",
       "       [4, 5, 3],\n",
       "       [3, 6, 6],\n",
       "       [1, 5, 1],\n",
       "       [3, 5, 2],\n",
       "       [3, 4, 5],\n",
       "       [2, 6, 3],\n",
       "       [4, 1, 4],\n",
       "       [5, 1, 1],\n",
       "       [1, 4, 4],\n",
       "       [5, 6, 4],\n",
       "       [4, 5, 1],\n",
       "       [4, 6, 6],\n",
       "       [6, 6, 3],\n",
       "       [1, 5, 5],\n",
       "       [6, 3, 2],\n",
       "       [4, 6, 2],\n",
       "       [1, 5, 1],\n",
       "       [2, 6, 4],\n",
       "       [5, 2, 2],\n",
       "       [5, 5, 2],\n",
       "       [2, 5, 2],\n",
       "       [3, 1, 3],\n",
       "       [4, 5, 1],\n",
       "       [2, 3, 4],\n",
       "       [3, 3, 6]])"
      ]
     },
     "execution_count": 151,
     "metadata": {},
     "output_type": "execute_result"
    }
   ],
   "source": [
    "a=np.random.randint(1,6,3)\n",
    "for i in range(49):\n",
    "    c=np.random.randint(1,7,3)\n",
    "    # 垂直往下加\n",
    "    a=np.vstack([a,c])\n",
    "a  "
   ]
  },
  {
   "cell_type": "markdown",
   "metadata": {},
   "source": [
    "## 顯示array 的資訊 .dtype, .shape,  .ndim, .size"
   ]
  },
  {
   "cell_type": "code",
   "execution_count": 152,
   "metadata": {},
   "outputs": [
    {
     "data": {
      "text/plain": [
       "dtype('int32')"
      ]
     },
     "execution_count": 152,
     "metadata": {},
     "output_type": "execute_result"
    }
   ],
   "source": [
    "a.dtype # 元素型態"
   ]
  },
  {
   "cell_type": "code",
   "execution_count": 153,
   "metadata": {},
   "outputs": [
    {
     "data": {
      "text/plain": [
       "2"
      ]
     },
     "execution_count": 153,
     "metadata": {},
     "output_type": "execute_result"
    }
   ],
   "source": [
    "a.ndim  #  dimention"
   ]
  },
  {
   "cell_type": "code",
   "execution_count": 154,
   "metadata": {},
   "outputs": [
    {
     "data": {
      "text/plain": [
       "(50, 3)"
      ]
     },
     "execution_count": 154,
     "metadata": {},
     "output_type": "execute_result"
    }
   ],
   "source": [
    "a.shape  # rows, columns"
   ]
  },
  {
   "cell_type": "code",
   "execution_count": 155,
   "metadata": {
    "scrolled": true
   },
   "outputs": [
    {
     "data": {
      "text/plain": [
       "150"
      ]
     },
     "execution_count": 155,
     "metadata": {},
     "output_type": "execute_result"
    }
   ],
   "source": [
    "a.size  # 總共元素個數"
   ]
  },
  {
   "cell_type": "markdown",
   "metadata": {},
   "source": [
    "# indexing and slicing of array elements"
   ]
  },
  {
   "cell_type": "code",
   "execution_count": 156,
   "metadata": {
    "scrolled": true
   },
   "outputs": [
    {
     "name": "stdout",
     "output_type": "stream",
     "text": [
      "50\n"
     ]
    },
    {
     "data": {
      "text/plain": [
       "array([2, 5, 4, 1, 5, 3, 1, 2, 1, 5, 2, 3, 4, 1, 5, 6, 3, 4, 2, 3, 6, 4,\n",
       "       4, 3, 3, 4, 3, 1, 3, 3, 2, 4, 5, 1, 5, 4, 4, 6, 1, 6, 4, 1, 2, 5,\n",
       "       5, 2, 3, 4, 2, 3])"
      ]
     },
     "execution_count": 156,
     "metadata": {},
     "output_type": "execute_result"
    }
   ],
   "source": [
    "print (len(a))\n",
    "# 每次擲骰子的第一個點數\n",
    "a[:,0]"
   ]
  },
  {
   "cell_type": "code",
   "execution_count": 157,
   "metadata": {},
   "outputs": [
    {
     "data": {
      "text/plain": [
       "array([4, 2, 3])"
      ]
     },
     "execution_count": 157,
     "metadata": {},
     "output_type": "execute_result"
    }
   ],
   "source": [
    "# 第三次擲骰子的點數\n",
    "a[2,:]"
   ]
  },
  {
   "cell_type": "code",
   "execution_count": 158,
   "metadata": {
    "scrolled": true
   },
   "outputs": [
    {
     "data": {
      "text/plain": [
       "array([3, 3, 6])"
      ]
     },
     "execution_count": 158,
     "metadata": {},
     "output_type": "execute_result"
    }
   ],
   "source": [
    "# 最後一次擲的骰子\n",
    "a[-1]"
   ]
  },
  {
   "cell_type": "markdown",
   "metadata": {},
   "source": [
    "## sort()"
   ]
  },
  {
   "cell_type": "code",
   "execution_count": 159,
   "metadata": {},
   "outputs": [
    {
     "data": {
      "text/plain": [
       "array([[1, 1, 1],\n",
       "       [1, 1, 1],\n",
       "       [1, 1, 1],\n",
       "       [1, 1, 1],\n",
       "       [1, 1, 1],\n",
       "       [1, 1, 1],\n",
       "       [1, 1, 1],\n",
       "       [1, 2, 1],\n",
       "       [2, 2, 1],\n",
       "       [2, 2, 2],\n",
       "       [2, 2, 2],\n",
       "       [2, 2, 2],\n",
       "       [2, 3, 2],\n",
       "       [2, 3, 2],\n",
       "       [2, 3, 2],\n",
       "       [2, 3, 2],\n",
       "       [3, 3, 2],\n",
       "       [3, 3, 3],\n",
       "       [3, 3, 3],\n",
       "       [3, 3, 3],\n",
       "       [3, 3, 3],\n",
       "       [3, 3, 3],\n",
       "       [3, 3, 3],\n",
       "       [3, 3, 3],\n",
       "       [3, 3, 3],\n",
       "       [3, 4, 4],\n",
       "       [3, 4, 4],\n",
       "       [4, 4, 4],\n",
       "       [4, 4, 4],\n",
       "       [4, 4, 4],\n",
       "       [4, 4, 4],\n",
       "       [4, 5, 4],\n",
       "       [4, 5, 4],\n",
       "       [4, 5, 4],\n",
       "       [4, 5, 5],\n",
       "       [4, 5, 5],\n",
       "       [4, 5, 5],\n",
       "       [4, 5, 5],\n",
       "       [5, 5, 5],\n",
       "       [5, 5, 5],\n",
       "       [5, 5, 5],\n",
       "       [5, 5, 5],\n",
       "       [5, 6, 5],\n",
       "       [5, 6, 5],\n",
       "       [5, 6, 6],\n",
       "       [5, 6, 6],\n",
       "       [6, 6, 6],\n",
       "       [6, 6, 6],\n",
       "       [6, 6, 6],\n",
       "       [6, 6, 6]])"
      ]
     },
     "execution_count": 159,
     "metadata": {},
     "output_type": "execute_result"
    }
   ],
   "source": [
    "# 各欄獨立，分別排序。第一個維度，各元素同樣位置的元素排序\n",
    "a0=np.sort(a, axis=0)\n",
    "a0"
   ]
  },
  {
   "cell_type": "code",
   "execution_count": 160,
   "metadata": {
    "scrolled": false
   },
   "outputs": [
    {
     "data": {
      "text/plain": [
       "array([[2, 2, 3],\n",
       "       [2, 5, 5],\n",
       "       [2, 3, 4],\n",
       "       [1, 3, 4],\n",
       "       [3, 4, 5],\n",
       "       [1, 3, 3],\n",
       "       [1, 1, 4],\n",
       "       [1, 2, 3],\n",
       "       [1, 4, 5],\n",
       "       [1, 2, 5],\n",
       "       [2, 2, 2],\n",
       "       [3, 3, 5],\n",
       "       [3, 4, 5],\n",
       "       [1, 3, 4],\n",
       "       [3, 5, 5],\n",
       "       [3, 5, 6],\n",
       "       [3, 3, 5],\n",
       "       [4, 5, 6],\n",
       "       [1, 2, 4],\n",
       "       [3, 3, 4],\n",
       "       [1, 5, 6],\n",
       "       [1, 3, 4],\n",
       "       [4, 5, 6],\n",
       "       [1, 3, 6],\n",
       "       [3, 4, 6],\n",
       "       [3, 4, 5],\n",
       "       [3, 6, 6],\n",
       "       [1, 1, 5],\n",
       "       [2, 3, 5],\n",
       "       [3, 4, 5],\n",
       "       [2, 3, 6],\n",
       "       [1, 4, 4],\n",
       "       [1, 1, 5],\n",
       "       [1, 4, 4],\n",
       "       [4, 5, 6],\n",
       "       [1, 4, 5],\n",
       "       [4, 6, 6],\n",
       "       [3, 6, 6],\n",
       "       [1, 5, 5],\n",
       "       [2, 3, 6],\n",
       "       [2, 4, 6],\n",
       "       [1, 1, 5],\n",
       "       [2, 4, 6],\n",
       "       [2, 2, 5],\n",
       "       [2, 5, 5],\n",
       "       [2, 2, 5],\n",
       "       [1, 3, 3],\n",
       "       [1, 4, 5],\n",
       "       [2, 3, 4],\n",
       "       [3, 3, 6]])"
      ]
     },
     "execution_count": 160,
     "metadata": {},
     "output_type": "execute_result"
    }
   ],
   "source": [
    "# 各列獨立，分別排序，第二個維度，各元素排序\n",
    "a1=np.sort(a, axis=1)       \n",
    "a1"
   ]
  },
  {
   "cell_type": "code",
   "execution_count": 161,
   "metadata": {},
   "outputs": [
    {
     "data": {
      "text/plain": [
       "array([1, 1, 1, 1, 1, 1, 1, 1, 1, 1, 1, 1, 1, 1, 1, 1, 1, 1, 1, 1, 1, 1,\n",
       "       1, 1, 2, 2, 2, 2, 2, 2, 2, 2, 2, 2, 2, 2, 2, 2, 2, 2, 2, 2, 2, 2,\n",
       "       2, 3, 3, 3, 3, 3, 3, 3, 3, 3, 3, 3, 3, 3, 3, 3, 3, 3, 3, 3, 3, 3,\n",
       "       3, 3, 3, 3, 3, 3, 3, 3, 3, 3, 3, 4, 4, 4, 4, 4, 4, 4, 4, 4, 4, 4,\n",
       "       4, 4, 4, 4, 4, 4, 4, 4, 4, 4, 4, 4, 4, 4, 4, 5, 5, 5, 5, 5, 5, 5,\n",
       "       5, 5, 5, 5, 5, 5, 5, 5, 5, 5, 5, 5, 5, 5, 5, 5, 5, 5, 5, 5, 5, 5,\n",
       "       6, 6, 6, 6, 6, 6, 6, 6, 6, 6, 6, 6, 6, 6, 6, 6, 6, 6])"
      ]
     },
     "execution_count": 161,
     "metadata": {},
     "output_type": "execute_result"
    }
   ],
   "source": [
    "# 所有元素值依大小排序\n",
    "a3=np.sort(a, axis=None)\n",
    "a3"
   ]
  },
  {
   "cell_type": "markdown",
   "metadata": {},
   "source": [
    "## 比較 擲骰子，存為list of tuple"
   ]
  },
  {
   "cell_type": "code",
   "execution_count": 166,
   "metadata": {},
   "outputs": [
    {
     "data": {
      "text/plain": [
       "[[6, 6, 5],\n",
       " [5, 3, 1],\n",
       " [5, 2, 3],\n",
       " [2, 5, 2],\n",
       " [5, 2, 5],\n",
       " [5, 4, 4],\n",
       " [6, 6, 5],\n",
       " [6, 1, 6],\n",
       " [5, 4, 1],\n",
       " [3, 3, 5]]"
      ]
     },
     "execution_count": 166,
     "metadata": {},
     "output_type": "execute_result"
    }
   ],
   "source": [
    "b=[]\n",
    "for i in range(49):\n",
    "    c=np.random.randint(1,7,3)\n",
    "    # 垂直往下加\n",
    "    b.append(list(c))\n",
    "b[:10]  "
   ]
  },
  {
   "cell_type": "code",
   "execution_count": 167,
   "metadata": {},
   "outputs": [
    {
     "data": {
      "text/plain": [
       "[[1, 6, 3],\n",
       " [1, 5, 3],\n",
       " [1, 1, 5],\n",
       " [1, 1, 2],\n",
       " [1, 4, 4],\n",
       " [1, 6, 3],\n",
       " [1, 4, 2],\n",
       " [2, 5, 2],\n",
       " [2, 1, 6],\n",
       " [2, 6, 4]]"
      ]
     },
     "execution_count": 167,
     "metadata": {},
     "output_type": "execute_result"
    }
   ],
   "source": [
    "# 根據第一欄排序\n",
    "b1=sorted(b,key=lambda x:x[0],reverse=False)\n",
    "b1[:10]"
   ]
  },
  {
   "cell_type": "code",
   "execution_count": 168,
   "metadata": {},
   "outputs": [
    {
     "data": {
      "text/plain": [
       "[[6, 1, 6],\n",
       " [2, 1, 6],\n",
       " [6, 1, 3],\n",
       " [6, 1, 4],\n",
       " [1, 1, 5],\n",
       " [1, 1, 2],\n",
       " [4, 1, 5],\n",
       " [5, 1, 1],\n",
       " [5, 2, 3],\n",
       " [5, 2, 5]]"
      ]
     },
     "execution_count": 168,
     "metadata": {},
     "output_type": "execute_result"
    }
   ],
   "source": [
    "# 根據第二欄排序\n",
    "b2=sorted(b,key=lambda x:x[1],reverse=False)\n",
    "b2[:10]"
   ]
  },
  {
   "cell_type": "markdown",
   "metadata": {},
   "source": [
    "## 篩選 numpy array"
   ]
  },
  {
   "cell_type": "code",
   "execution_count": 170,
   "metadata": {
    "scrolled": true
   },
   "outputs": [
    {
     "data": {
      "text/plain": [
       "array([6, 6, 6, 6, 6, 6, 6, 6, 6, 6, 6, 6, 6, 6, 6, 6, 6, 6])"
      ]
     },
     "execution_count": 170,
     "metadata": {},
     "output_type": "execute_result"
    }
   ],
   "source": [
    "# 大於 10 的 array\n",
    "b=(a[a > 5])\n",
    "b"
   ]
  },
  {
   "cell_type": "markdown",
   "metadata": {},
   "source": [
    "## 數學函數 sum(), cumsum(), average(), std()\n",
    "* 數學函數 https://docs.scipy.org/doc/numpy/reference/routines.math.html "
   ]
  },
  {
   "cell_type": "code",
   "execution_count": 171,
   "metadata": {
    "scrolled": true
   },
   "outputs": [
    {
     "name": "stdout",
     "output_type": "stream",
     "text": [
      "1\n",
      "6\n"
     ]
    }
   ],
   "source": [
    "# 最大值最小值\n",
    "print (np.min(a))\n",
    "print (np.max(a))"
   ]
  },
  {
   "cell_type": "code",
   "execution_count": 172,
   "metadata": {
    "scrolled": true
   },
   "outputs": [
    {
     "name": "stdout",
     "output_type": "stream",
     "text": [
      "519\n",
      "[165 183 171]\n",
      "[ 7 12  9  8 12  7  6  6 10  8  6 11 12  8 13 14 11 15  7 10 12  8 15 10\n",
      " 13 12 15  7 10 12 11  9  7  9 15 10 16 15 11 11 12  7 12  9 12  9  7 10\n",
      "  9 12]\n"
     ]
    }
   ],
   "source": [
    "# 各欄或列加總 .sum()\n",
    "print (np.sum(a))  # Compute sum of all elements; prints \"10\"\n",
    "print (np.sum(a, axis=0))  # Compute sum of each column; prints \"[4 6]\"\n",
    "print (np.sum(a, axis=1))  # Compute sum of each row; prints \"[3 7]\""
   ]
  },
  {
   "cell_type": "code",
   "execution_count": 173,
   "metadata": {},
   "outputs": [
    {
     "data": {
      "text/plain": [
       "array([ 6,  6,  6,  7,  7,  7,  7,  7,  7,  7,  8,  8,  8,  8,  9,  9,  9,\n",
       "        9,  9,  9, 10, 10, 10, 10, 10, 10, 11, 11, 11, 11, 11, 12, 12, 12,\n",
       "       12, 12, 12, 12, 12, 12, 12, 13, 13, 14, 15, 15, 15, 15, 15, 16])"
      ]
     },
     "execution_count": 173,
     "metadata": {},
     "output_type": "execute_result"
    }
   ],
   "source": [
    "# 每次擲骰子的點數總合，排序\n",
    "score=np.sort(np.sum(a, axis=1))\n",
    "score"
   ]
  },
  {
   "cell_type": "code",
   "execution_count": 174,
   "metadata": {},
   "outputs": [
    {
     "data": {
      "text/plain": [
       "6"
      ]
     },
     "execution_count": 174,
     "metadata": {},
     "output_type": "execute_result"
    }
   ],
   "source": [
    "# 大於15的次數\n",
    "b=len((score[score>=15]))\n",
    "b"
   ]
  },
  {
   "cell_type": "code",
   "execution_count": 175,
   "metadata": {},
   "outputs": [
    {
     "data": {
      "text/plain": [
       "array([[  2,   2,   3],\n",
       "       [  7,   4,   8],\n",
       "       [ 11,   6,  11],\n",
       "       [ 12,  10,  14],\n",
       "       [ 17,  13,  18],\n",
       "       [ 20,  16,  19],\n",
       "       [ 21,  20,  20],\n",
       "       [ 23,  23,  21],\n",
       "       [ 24,  27,  26],\n",
       "       [ 29,  28,  28],\n",
       "       [ 31,  30,  30],\n",
       "       [ 34,  33,  35],\n",
       "       [ 38,  36,  40],\n",
       "       [ 39,  39,  44],\n",
       "       [ 44,  42,  49],\n",
       "       [ 50,  45,  54],\n",
       "       [ 53,  48,  59],\n",
       "       [ 57,  53,  65],\n",
       "       [ 59,  57,  66],\n",
       "       [ 62,  60,  70],\n",
       "       [ 68,  61,  75],\n",
       "       [ 72,  62,  78],\n",
       "       [ 76,  67,  84],\n",
       "       [ 79,  68,  90],\n",
       "       [ 82,  74,  94],\n",
       "       [ 86,  79,  97],\n",
       "       [ 89,  85, 103],\n",
       "       [ 90,  90, 104],\n",
       "       [ 93,  95, 106],\n",
       "       [ 96,  99, 111],\n",
       "       [ 98, 105, 114],\n",
       "       [102, 106, 118],\n",
       "       [107, 107, 119],\n",
       "       [108, 111, 123],\n",
       "       [113, 117, 127],\n",
       "       [117, 122, 128],\n",
       "       [121, 128, 134],\n",
       "       [127, 134, 137],\n",
       "       [128, 139, 142],\n",
       "       [134, 142, 144],\n",
       "       [138, 148, 146],\n",
       "       [139, 153, 147],\n",
       "       [141, 159, 151],\n",
       "       [146, 161, 153],\n",
       "       [151, 166, 155],\n",
       "       [153, 171, 157],\n",
       "       [156, 172, 160],\n",
       "       [160, 177, 161],\n",
       "       [162, 180, 165],\n",
       "       [165, 183, 171]], dtype=int32)"
      ]
     },
     "execution_count": 175,
     "metadata": {},
     "output_type": "execute_result"
    }
   ],
   "source": [
    "# 依欄累計加總 .cumsum()\n",
    "a0=a.cumsum(axis=0)                         # cumulative sum along each column\n",
    "a0"
   ]
  },
  {
   "cell_type": "code",
   "execution_count": 176,
   "metadata": {
    "scrolled": true
   },
   "outputs": [
    {
     "data": {
      "text/plain": [
       "array([[ 2,  4,  7],\n",
       "       [ 5,  7, 12],\n",
       "       [ 4,  6,  9],\n",
       "       [ 1,  5,  8],\n",
       "       [ 5,  8, 12],\n",
       "       [ 3,  6,  7],\n",
       "       [ 1,  5,  6],\n",
       "       [ 2,  5,  6],\n",
       "       [ 1,  5, 10],\n",
       "       [ 5,  6,  8],\n",
       "       [ 2,  4,  6],\n",
       "       [ 3,  6, 11],\n",
       "       [ 4,  7, 12],\n",
       "       [ 1,  4,  8],\n",
       "       [ 5,  8, 13],\n",
       "       [ 6,  9, 14],\n",
       "       [ 3,  6, 11],\n",
       "       [ 4,  9, 15],\n",
       "       [ 2,  6,  7],\n",
       "       [ 3,  6, 10],\n",
       "       [ 6,  7, 12],\n",
       "       [ 4,  5,  8],\n",
       "       [ 4,  9, 15],\n",
       "       [ 3,  4, 10],\n",
       "       [ 3,  9, 13],\n",
       "       [ 4,  9, 12],\n",
       "       [ 3,  9, 15],\n",
       "       [ 1,  6,  7],\n",
       "       [ 3,  8, 10],\n",
       "       [ 3,  7, 12],\n",
       "       [ 2,  8, 11],\n",
       "       [ 4,  5,  9],\n",
       "       [ 5,  6,  7],\n",
       "       [ 1,  5,  9],\n",
       "       [ 5, 11, 15],\n",
       "       [ 4,  9, 10],\n",
       "       [ 4, 10, 16],\n",
       "       [ 6, 12, 15],\n",
       "       [ 1,  6, 11],\n",
       "       [ 6,  9, 11],\n",
       "       [ 4, 10, 12],\n",
       "       [ 1,  6,  7],\n",
       "       [ 2,  8, 12],\n",
       "       [ 5,  7,  9],\n",
       "       [ 5, 10, 12],\n",
       "       [ 2,  7,  9],\n",
       "       [ 3,  4,  7],\n",
       "       [ 4,  9, 10],\n",
       "       [ 2,  5,  9],\n",
       "       [ 3,  6, 12]], dtype=int32)"
      ]
     },
     "execution_count": 176,
     "metadata": {},
     "output_type": "execute_result"
    }
   ],
   "source": [
    "# 依列累計加總\n",
    "a1=a.cumsum(axis=1)                         # cumulative sum along each row\n",
    "a1"
   ]
  },
  {
   "cell_type": "code",
   "execution_count": 177,
   "metadata": {
    "scrolled": true
   },
   "outputs": [
    {
     "name": "stdout",
     "output_type": "stream",
     "text": [
      "[3.3  3.66 3.42]\n",
      "[2.33333333 4.         3.         2.66666667 4.         2.33333333\n",
      " 2.         2.         3.33333333 2.66666667 2.         3.66666667\n",
      " 4.         2.66666667 4.33333333 4.66666667 3.66666667 5.\n",
      " 2.33333333 3.33333333 4.         2.66666667 5.         3.33333333\n",
      " 4.33333333 4.         5.         2.33333333 3.33333333 4.\n",
      " 3.66666667 3.         2.33333333 3.         5.         3.33333333\n",
      " 5.33333333 5.         3.66666667 3.66666667 4.         2.33333333\n",
      " 4.         3.         4.         3.         2.33333333 3.33333333\n",
      " 3.         4.        ]\n",
      "2.3333333333333335\n",
      "3.42\n"
     ]
    }
   ],
   "source": [
    "# 平均值 .average()\n",
    "print (np.average(a, axis=0))\n",
    "print (np.average(a, axis=1))\n",
    "print (np.average(a[0]))\n",
    "print (np.average(a[:,2]))"
   ]
  },
  {
   "cell_type": "code",
   "execution_count": 178,
   "metadata": {
    "scrolled": true
   },
   "outputs": [
    {
     "name": "stdout",
     "output_type": "stream",
     "text": [
      "3.363265306122449\n"
     ]
    }
   ],
   "source": [
    "# 計算各列的加權平均值，依序列加權\n",
    "wei=np.arange(0,50,1)\n",
    "print (np.average(a[:,0], weights=wei))"
   ]
  },
  {
   "cell_type": "code",
   "execution_count": 179,
   "metadata": {},
   "outputs": [
    {
     "name": "stdout",
     "output_type": "stream",
     "text": [
      "1.6109210615876455\n",
      "[1.5132746  1.63229899 1.66240789]\n",
      "[0.47140452 1.41421356 0.81649658 1.24721913 0.81649658 0.94280904\n",
      " 1.41421356 0.81649658 1.69967317 1.69967317 0.         0.94280904\n",
      " 0.81649658 1.24721913 0.94280904 1.24721913 0.94280904 0.81649658\n",
      " 1.24721913 0.47140452 2.1602469  1.24721913 0.81649658 2.05480467\n",
      " 1.24721913 0.81649658 1.41421356 1.88561808 1.24721913 0.81649658\n",
      " 1.69967317 1.41421356 1.88561808 1.41421356 0.81649658 1.69967317\n",
      " 0.94280904 1.41421356 1.88561808 1.69967317 1.63299316 1.88561808\n",
      " 1.63299316 1.41421356 1.41421356 1.41421356 0.94280904 1.69967317\n",
      " 0.81649658 1.41421356]\n"
     ]
    }
   ],
   "source": [
    "# 標準差\n",
    "print (np.std(a))\n",
    "print (np.std(a, axis=0))\n",
    "print (np.std(a, axis=1))"
   ]
  },
  {
   "cell_type": "markdown",
   "metadata": {
    "collapsed": true
   },
   "source": [
    "## exp(), sqrt()"
   ]
  },
  {
   "cell_type": "code",
   "execution_count": 180,
   "metadata": {
    "scrolled": true
   },
   "outputs": [
    {
     "data": {
      "text/plain": [
       "array([[  7.3890561 ,   7.3890561 ,  20.08553692],\n",
       "       [148.4131591 ,   7.3890561 , 148.4131591 ],\n",
       "       [ 54.59815003,   7.3890561 ,  20.08553692],\n",
       "       [  2.71828183,  54.59815003,  20.08553692],\n",
       "       [148.4131591 ,  20.08553692,  54.59815003],\n",
       "       [ 20.08553692,  20.08553692,   2.71828183],\n",
       "       [  2.71828183,  54.59815003,   2.71828183],\n",
       "       [  7.3890561 ,  20.08553692,   2.71828183],\n",
       "       [  2.71828183,  54.59815003, 148.4131591 ],\n",
       "       [148.4131591 ,   2.71828183,   7.3890561 ],\n",
       "       [  7.3890561 ,   7.3890561 ,   7.3890561 ],\n",
       "       [ 20.08553692,  20.08553692, 148.4131591 ],\n",
       "       [ 54.59815003,  20.08553692, 148.4131591 ],\n",
       "       [  2.71828183,  20.08553692,  54.59815003],\n",
       "       [148.4131591 ,  20.08553692, 148.4131591 ],\n",
       "       [403.42879349,  20.08553692, 148.4131591 ],\n",
       "       [ 20.08553692,  20.08553692, 148.4131591 ],\n",
       "       [ 54.59815003, 148.4131591 , 403.42879349],\n",
       "       [  7.3890561 ,  54.59815003,   2.71828183],\n",
       "       [ 20.08553692,  20.08553692,  54.59815003],\n",
       "       [403.42879349,   2.71828183, 148.4131591 ],\n",
       "       [ 54.59815003,   2.71828183,  20.08553692],\n",
       "       [ 54.59815003, 148.4131591 , 403.42879349],\n",
       "       [ 20.08553692,   2.71828183, 403.42879349],\n",
       "       [ 20.08553692, 403.42879349,  54.59815003],\n",
       "       [ 54.59815003, 148.4131591 ,  20.08553692],\n",
       "       [ 20.08553692, 403.42879349, 403.42879349],\n",
       "       [  2.71828183, 148.4131591 ,   2.71828183],\n",
       "       [ 20.08553692, 148.4131591 ,   7.3890561 ],\n",
       "       [ 20.08553692,  54.59815003, 148.4131591 ],\n",
       "       [  7.3890561 , 403.42879349,  20.08553692],\n",
       "       [ 54.59815003,   2.71828183,  54.59815003],\n",
       "       [148.4131591 ,   2.71828183,   2.71828183],\n",
       "       [  2.71828183,  54.59815003,  54.59815003],\n",
       "       [148.4131591 , 403.42879349,  54.59815003],\n",
       "       [ 54.59815003, 148.4131591 ,   2.71828183],\n",
       "       [ 54.59815003, 403.42879349, 403.42879349],\n",
       "       [403.42879349, 403.42879349,  20.08553692],\n",
       "       [  2.71828183, 148.4131591 , 148.4131591 ],\n",
       "       [403.42879349,  20.08553692,   7.3890561 ],\n",
       "       [ 54.59815003, 403.42879349,   7.3890561 ],\n",
       "       [  2.71828183, 148.4131591 ,   2.71828183],\n",
       "       [  7.3890561 , 403.42879349,  54.59815003],\n",
       "       [148.4131591 ,   7.3890561 ,   7.3890561 ],\n",
       "       [148.4131591 , 148.4131591 ,   7.3890561 ],\n",
       "       [  7.3890561 , 148.4131591 ,   7.3890561 ],\n",
       "       [ 20.08553692,   2.71828183,  20.08553692],\n",
       "       [ 54.59815003, 148.4131591 ,   2.71828183],\n",
       "       [  7.3890561 ,  20.08553692,  54.59815003],\n",
       "       [ 20.08553692,  20.08553692, 403.42879349]])"
      ]
     },
     "execution_count": 180,
     "metadata": {},
     "output_type": "execute_result"
    }
   ],
   "source": [
    "# 指數\n",
    "np.exp(a)"
   ]
  },
  {
   "cell_type": "code",
   "execution_count": 181,
   "metadata": {
    "scrolled": true
   },
   "outputs": [
    {
     "data": {
      "text/plain": [
       "array([[1.41421356, 1.41421356, 1.73205081],\n",
       "       [2.23606798, 1.41421356, 2.23606798],\n",
       "       [2.        , 1.41421356, 1.73205081],\n",
       "       [1.        , 2.        , 1.73205081],\n",
       "       [2.23606798, 1.73205081, 2.        ],\n",
       "       [1.73205081, 1.73205081, 1.        ],\n",
       "       [1.        , 2.        , 1.        ],\n",
       "       [1.41421356, 1.73205081, 1.        ],\n",
       "       [1.        , 2.        , 2.23606798],\n",
       "       [2.23606798, 1.        , 1.41421356],\n",
       "       [1.41421356, 1.41421356, 1.41421356],\n",
       "       [1.73205081, 1.73205081, 2.23606798],\n",
       "       [2.        , 1.73205081, 2.23606798],\n",
       "       [1.        , 1.73205081, 2.        ],\n",
       "       [2.23606798, 1.73205081, 2.23606798],\n",
       "       [2.44948974, 1.73205081, 2.23606798],\n",
       "       [1.73205081, 1.73205081, 2.23606798],\n",
       "       [2.        , 2.23606798, 2.44948974],\n",
       "       [1.41421356, 2.        , 1.        ],\n",
       "       [1.73205081, 1.73205081, 2.        ],\n",
       "       [2.44948974, 1.        , 2.23606798],\n",
       "       [2.        , 1.        , 1.73205081],\n",
       "       [2.        , 2.23606798, 2.44948974],\n",
       "       [1.73205081, 1.        , 2.44948974],\n",
       "       [1.73205081, 2.44948974, 2.        ],\n",
       "       [2.        , 2.23606798, 1.73205081],\n",
       "       [1.73205081, 2.44948974, 2.44948974],\n",
       "       [1.        , 2.23606798, 1.        ],\n",
       "       [1.73205081, 2.23606798, 1.41421356],\n",
       "       [1.73205081, 2.        , 2.23606798],\n",
       "       [1.41421356, 2.44948974, 1.73205081],\n",
       "       [2.        , 1.        , 2.        ],\n",
       "       [2.23606798, 1.        , 1.        ],\n",
       "       [1.        , 2.        , 2.        ],\n",
       "       [2.23606798, 2.44948974, 2.        ],\n",
       "       [2.        , 2.23606798, 1.        ],\n",
       "       [2.        , 2.44948974, 2.44948974],\n",
       "       [2.44948974, 2.44948974, 1.73205081],\n",
       "       [1.        , 2.23606798, 2.23606798],\n",
       "       [2.44948974, 1.73205081, 1.41421356],\n",
       "       [2.        , 2.44948974, 1.41421356],\n",
       "       [1.        , 2.23606798, 1.        ],\n",
       "       [1.41421356, 2.44948974, 2.        ],\n",
       "       [2.23606798, 1.41421356, 1.41421356],\n",
       "       [2.23606798, 2.23606798, 1.41421356],\n",
       "       [1.41421356, 2.23606798, 1.41421356],\n",
       "       [1.73205081, 1.        , 1.73205081],\n",
       "       [2.        , 2.23606798, 1.        ],\n",
       "       [1.41421356, 1.73205081, 2.        ],\n",
       "       [1.73205081, 1.73205081, 2.44948974]])"
      ]
     },
     "execution_count": 181,
     "metadata": {},
     "output_type": "execute_result"
    }
   ],
   "source": [
    "# 開根號\n",
    "np.sqrt(a)"
   ]
  },
  {
   "cell_type": "markdown",
   "metadata": {},
   "source": [
    "# 矩陣運算"
   ]
  },
  {
   "cell_type": "code",
   "execution_count": 182,
   "metadata": {
    "scrolled": true
   },
   "outputs": [
    {
     "name": "stdout",
     "output_type": "stream",
     "text": [
      "[[1. 0. 0. 0.]\n",
      " [0. 1. 0. 0.]\n",
      " [0. 0. 1. 0.]\n",
      " [0. 0. 0. 1.]]\n"
     ]
    }
   ],
   "source": [
    "#identity matrix 單位矩陣\n",
    "I = np.eye(4)  \n",
    "print (I)"
   ]
  },
  {
   "cell_type": "code",
   "execution_count": 183,
   "metadata": {},
   "outputs": [
    {
     "name": "stdout",
     "output_type": "stream",
     "text": [
      "[[1 2 3 4]\n",
      " [3 4 5 6]]\n",
      "[[ 5  6  7  8]\n",
      " [ 7  8  9 10]]\n"
     ]
    }
   ],
   "source": [
    "x = np.array([[1,2,3,4],[3,4,5,6]])\n",
    "y = np.array([[5,6,7,8],[7,8,9,10]])\n",
    "print (x)\n",
    "print (y)"
   ]
  },
  {
   "cell_type": "code",
   "execution_count": 184,
   "metadata": {
    "scrolled": true
   },
   "outputs": [
    {
     "data": {
      "text/plain": [
       "array([[1, 3],\n",
       "       [2, 4],\n",
       "       [3, 5],\n",
       "       [4, 6]])"
      ]
     },
     "execution_count": 184,
     "metadata": {},
     "output_type": "execute_result"
    }
   ],
   "source": [
    "# 轉置矩陣\n",
    "xt=x.T\n",
    "xt"
   ]
  },
  {
   "cell_type": "markdown",
   "metadata": {},
   "source": [
    "## 矩陣的加減乘除\n"
   ]
  },
  {
   "cell_type": "code",
   "execution_count": 185,
   "metadata": {
    "scrolled": true
   },
   "outputs": [
    {
     "data": {
      "text/plain": [
       "array([[ 6,  8, 10, 12],\n",
       "       [10, 12, 14, 16]])"
      ]
     },
     "execution_count": 185,
     "metadata": {},
     "output_type": "execute_result"
    }
   ],
   "source": [
    "# 加\n",
    "xay=x+y\n",
    "xay"
   ]
  },
  {
   "cell_type": "code",
   "execution_count": 186,
   "metadata": {},
   "outputs": [
    {
     "data": {
      "text/plain": [
       "array([[ 6,  8, 10, 12],\n",
       "       [10, 12, 14, 16]])"
      ]
     },
     "execution_count": 186,
     "metadata": {},
     "output_type": "execute_result"
    }
   ],
   "source": [
    "np.add(x, y)"
   ]
  },
  {
   "cell_type": "code",
   "execution_count": 187,
   "metadata": {},
   "outputs": [
    {
     "data": {
      "text/plain": [
       "array([[-4, -4, -4, -4],\n",
       "       [-4, -4, -4, -4]])"
      ]
     },
     "execution_count": 187,
     "metadata": {},
     "output_type": "execute_result"
    }
   ],
   "source": [
    "# 減\n",
    "np.subtract(x, y)"
   ]
  },
  {
   "cell_type": "code",
   "execution_count": 188,
   "metadata": {
    "scrolled": true
   },
   "outputs": [
    {
     "data": {
      "text/plain": [
       "array([[ 5, 12, 21, 32],\n",
       "       [21, 32, 45, 60]])"
      ]
     },
     "execution_count": 188,
     "metadata": {},
     "output_type": "execute_result"
    }
   ],
   "source": [
    "# 元素兩兩相乘\n",
    "xpy=x*y\n",
    "xpy"
   ]
  },
  {
   "cell_type": "code",
   "execution_count": 189,
   "metadata": {},
   "outputs": [
    {
     "data": {
      "text/plain": [
       "array([[ 5, 12, 21, 32],\n",
       "       [21, 32, 45, 60]])"
      ]
     },
     "execution_count": 189,
     "metadata": {},
     "output_type": "execute_result"
    }
   ],
   "source": [
    "np.multiply(x, y)"
   ]
  },
  {
   "cell_type": "code",
   "execution_count": 190,
   "metadata": {},
   "outputs": [
    {
     "data": {
      "text/plain": [
       "array([[ 70,  90],\n",
       "       [122, 158]])"
      ]
     },
     "execution_count": 190,
     "metadata": {},
     "output_type": "execute_result"
    }
   ],
   "source": [
    "# 內積，矩陣相乘，注意 dot 與 multiply 不同\n",
    "# 轉置後方能相乘 2*4, 4*2\n",
    "np.dot(x, y.T)\n",
    "x.dot(y.T)"
   ]
  },
  {
   "cell_type": "code",
   "execution_count": 191,
   "metadata": {
    "scrolled": true
   },
   "outputs": [
    {
     "data": {
      "text/plain": [
       "array([[0.2       , 0.33333333, 0.42857143, 0.5       ],\n",
       "       [0.42857143, 0.5       , 0.55555556, 0.6       ]])"
      ]
     },
     "execution_count": 191,
     "metadata": {},
     "output_type": "execute_result"
    }
   ],
   "source": [
    "# 元素兩兩相除\n",
    "xdy=x/y\n",
    "xdy"
   ]
  },
  {
   "cell_type": "markdown",
   "metadata": {},
   "source": [
    "## 反矩陣 np.linalg.inv()"
   ]
  },
  {
   "cell_type": "code",
   "execution_count": 192,
   "metadata": {},
   "outputs": [
    {
     "name": "stdout",
     "output_type": "stream",
     "text": [
      "[[ 1.975 -1.125]\n",
      " [-1.525  0.875]]\n"
     ]
    }
   ],
   "source": [
    "xdy=x.dot(y.T)\n",
    "inv_x = np.linalg.inv(xdy)\n",
    "print (inv_x)"
   ]
  },
  {
   "cell_type": "code",
   "execution_count": 193,
   "metadata": {},
   "outputs": [
    {
     "data": {
      "text/plain": [
       "array([[1., 0.],\n",
       "       [0., 1.]])"
      ]
     },
     "execution_count": 193,
     "metadata": {},
     "output_type": "execute_result"
    }
   ],
   "source": [
    "# 矩陣和自己的反矩陣相乘等於單位矩陣\n",
    "np.dot(xdy,inv_x)"
   ]
  },
  {
   "cell_type": "markdown",
   "metadata": {},
   "source": [
    "## save(,), load(,) array"
   ]
  },
  {
   "cell_type": "code",
   "execution_count": 194,
   "metadata": {
    "scrolled": true
   },
   "outputs": [],
   "source": [
    "# save an array\n",
    "np.save(path + \"data/example.npy\",b)"
   ]
  },
  {
   "cell_type": "code",
   "execution_count": 195,
   "metadata": {
    "scrolled": true
   },
   "outputs": [
    {
     "data": {
      "text/plain": [
       "array(6)"
      ]
     },
     "execution_count": 195,
     "metadata": {},
     "output_type": "execute_result"
    }
   ],
   "source": [
    "a1=np.load(path + \"data/example.npy\")\n",
    "a1"
   ]
  },
  {
   "cell_type": "markdown",
   "metadata": {},
   "source": [
    "## numpy save and load dictionary\n",
    "* 用pickle 亦可儲存 dictionarfy"
   ]
  },
  {
   "cell_type": "code",
   "execution_count": 196,
   "metadata": {},
   "outputs": [
    {
     "name": "stdout",
     "output_type": "stream",
     "text": [
      "{'One': 1, 'Two': 2, 'Three': 3, 'Four': 4}\n"
     ]
    }
   ],
   "source": [
    "## zip( ) 將兩個List 配對結合，再轉為字典變數\n",
    "names = ['One', 'Two', 'Three', 'Four']\n",
    "numbers = [1, 2, 3, 4]\n",
    "d2 = zip(names,numbers)\n",
    "dic1 = dict(d2)\n",
    "print (dic1)"
   ]
  },
  {
   "cell_type": "code",
   "execution_count": 199,
   "metadata": {},
   "outputs": [],
   "source": [
    "# path/dic1 為檔案儲存的路徑，必須存在這個資料夾\n",
    "np.save(path + \"data/dic1.npy\", dic1)"
   ]
  },
  {
   "cell_type": "code",
   "execution_count": 200,
   "metadata": {
    "scrolled": true
   },
   "outputs": [
    {
     "name": "stdout",
     "output_type": "stream",
     "text": [
      "{'One': 1, 'Two': 2, 'Three': 3, 'Four': 4}\n"
     ]
    }
   ],
   "source": [
    "dic1=np.load(path + \"data/dic1.npy\")\n",
    "print (dic1)"
   ]
  },
  {
   "cell_type": "markdown",
   "metadata": {},
   "source": [
    "# 提示\n",
    "* numpy array 與 list 類同，可以進行多維度的資料整理，彼此也可以轉換。\n",
    "* numpy 加強數學運算的功能。特別是抽樣，與矩陣運算，甚為常用。\n",
    "* numpy array 裡面的元素，只能是數字，不能是字串、list 等其他的變數型態，list 則無此限制。"
   ]
  },
  {
   "cell_type": "markdown",
   "metadata": {
    "collapsed": true
   },
   "source": [
    "# 作業\n",
    "* 擲骰子，每次擲十個，共鄭一千次。每次擲骰子十個點數之和大於50的機率有多少? \n",
    "* 請用 numpy.random 抽樣，計算大於50的次數與總共次數的比例，即可得機率。"
   ]
  },
  {
   "cell_type": "code",
   "execution_count": 1,
   "metadata": {},
   "outputs": [
    {
     "ename": "NameError",
     "evalue": "name 'random' is not defined",
     "output_type": "error",
     "traceback": [
      "\u001b[1;31m---------------------------------------------------------------------------\u001b[0m",
      "\u001b[1;31mNameError\u001b[0m                                 Traceback (most recent call last)",
      "\u001b[1;32m<ipython-input-1-5d64b71392b1>\u001b[0m in \u001b[0;36m<module>\u001b[1;34m\u001b[0m\n\u001b[1;32m----> 1\u001b[1;33m \u001b[0mrandom\u001b[0m\u001b[1;33m\u001b[0m\u001b[1;33m\u001b[0m\u001b[0m\n\u001b[0m",
      "\u001b[1;31mNameError\u001b[0m: name 'random' is not defined"
     ]
    }
   ],
   "source": [
    "random"
   ]
  },
  {
   "cell_type": "code",
   "execution_count": null,
   "metadata": {},
   "outputs": [],
   "source": [
    "import random,datetime\n",
    "ls=['林慈璿','樊志文','許駿傑','劉津秀','洪立穎','田梓伶','呂明陽','洪暐婷','吳孟津','廖柔瑄','廖家陞','梁育宸','周禮邦','劉柏彥','張舒萍','林勁凱','許祖信','黃緯易','潘冠宇','鄔磊融','陳書弘','湯雅媜','何建儒','林昱瑄','洪榕蓮','陳彥傑','劉昀沅','熊  庭','陳浩欣','歐秉昀','王禕梵','洪愷伶','馮意凡','侯依寧']\n",
    "\n",
    "random.seed(datetime.datetime.now().time())\n",
    "print(ls[random.randint(0,len(ls)-1)])"
   ]
  },
  {
   "cell_type": "code",
   "execution_count": null,
   "metadata": {
    "collapsed": true
   },
   "outputs": [],
   "source": [
    "#助教提醒\n",
    "\n",
    "#方便用\n",
    "line number #View -> togglelinenumber\n",
    "shift+tab of func and property\n",
    "?range\n",
    "\n",
    "#縮排\n",
    "(tab or shift+tab) and 選取\n",
    "\n",
    "#垂直選擇\n",
    "alt/option + mouse right\n",
    "\n",
    "#dataframe用\n",
    "'notepad++' 妙用\n",
    "\n",
    "#統一編輯\n",
    "ctrl/cmd 複數游標 #可以同時用來改變數\n",
    "\n",
    "\n",
    "\n",
    "\n",
    "#快速選取用\n",
    "(shift or (ctrl/cmd + shift)) and 方向鍵\n",
    "\n",
    "#其他快捷鍵\n",
    "home or cmd+up, end or cmd+down, pageup, pagedown\n",
    "#ctrl/cmd+a, ctrl/cmd+r, ctrl/cmd+h, ctrl/cmd+f, win+d/m, ctrl/cmd+d"
   ]
  }
 ],
 "metadata": {
  "anaconda-cloud": {},
  "kernelspec": {
   "display_name": "Python 3",
   "language": "python",
   "name": "python3"
  },
  "language_info": {
   "codemirror_mode": {
    "name": "ipython",
    "version": 3
   },
   "file_extension": ".py",
   "mimetype": "text/x-python",
   "name": "python",
   "nbconvert_exporter": "python",
   "pygments_lexer": "ipython3",
   "version": "3.7.3"
  }
 },
 "nbformat": 4,
 "nbformat_minor": 1
}
