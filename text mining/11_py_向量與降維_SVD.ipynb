{
 "cells": [
  {
   "cell_type": "markdown",
   "metadata": {},
   "source": [
    "# 向量空間與降維，SVD 與 PCA\n",
    "* 文字探勘很重要的一個步驟是將字詞或文章向量化，變成數據之後，方能進行數學計算。\n",
    "* 降維基本上是將複雜的數據簡單化，是一個很重要的技巧。本節將舉例說明其基本的原理與應用。"
   ]
  },
  {
   "cell_type": "markdown",
   "metadata": {
    "collapsed": true
   },
   "source": [
    "## 先從兩個維度的向量開始"
   ]
  },
  {
   "cell_type": "code",
   "execution_count": 8,
   "metadata": {},
   "outputs": [
    {
     "name": "stdout",
     "output_type": "stream",
     "text": [
      "7\n"
     ]
    }
   ],
   "source": [
    "path ='d:/My Python/'\n",
    "# 假設有三個點 (X座標, Y座標)\n",
    "point=[[5,1],[7,9],[0,7]]\n",
    "print([1])"
   ]
  },
  {
   "cell_type": "code",
   "execution_count": 2,
   "metadata": {},
   "outputs": [
    {
     "name": "stdout",
     "output_type": "stream",
     "text": [
      "[7, 9]\n"
     ]
    }
   ],
   "source": [
    "point=[[5,1],[7,9],[0,7]]\n",
    "print(point[1])"
   ]
  },
  {
   "cell_type": "markdown",
   "metadata": {},
   "source": [
    "## 繪製二度空間散布圖"
   ]
  },
  {
   "cell_type": "code",
   "execution_count": 3,
   "metadata": {},
   "outputs": [
    {
     "data": {
      "image/png": "[encoded data removed]",
      "text/plain": [
       "<Figure size 360x360 with 1 Axes>"
      ]
     },
     "metadata": {
      "needs_background": "light"
     },
     "output_type": "display_data"
    }
   ],
   "source": [
    "import numpy as np\n",
    "import matplotlib.pyplot as plt\n",
    "# 圖形大小\n",
    "fig, ax = plt.subplots(figsize=(5,5))\n",
    "\n",
    "# 依序繪點\n",
    "for p in point:\n",
    "    ax.scatter(p[0], p[1], s=500,color='red')\n",
    "    ax.plot([0,p[0]],[0,p[1]], color='blue')\n",
    "    \n",
    "xticks = [0,1,2,3,4,5,6,7,8,9,10]\n",
    "yticks = [0,1,2,3,4,5,6,7,8,9,10]\n",
    "\n",
    "ax.set_yticks(yticks)              ## ysticklagels\n",
    "ax.set_xticks(xticks)              ## ysticklagels\n",
    "\n",
    "# 文字\n",
    "t=['P1','P2','P3']\n",
    "\n",
    "# 加標籤\n",
    "for i, txt in enumerate(t):\n",
    "    ax.annotate(txt, point[i], size=20)\n",
    "    \n",
    "# show    \n",
    "plt.show()    \n",
    "    "
   ]
  },
  {
   "cell_type": "markdown",
   "metadata": {},
   "source": [
    "## length\n",
    "* 向量自己與自己的內積，開根號，就是到原點的長度。"
   ]
  },
  {
   "cell_type": "code",
   "execution_count": 4,
   "metadata": {},
   "outputs": [
    {
     "name": "stdout",
     "output_type": "stream",
     "text": [
      "[5 1]\n",
      "5.0990195135927845\n",
      "[7 9]\n",
      "11.40175425099138\n",
      "[0 7]\n",
      "7.0\n"
     ]
    }
   ],
   "source": [
    "import numpy as np\n",
    "for p in point:\n",
    "    p=np.array(p)\n",
    "    print(p)\n",
    "    # 向量自己與自己的內積(元素兩兩相乘之和)，開根號，就是到原點的長度。 距離公式\n",
    "    # .T 是矩陣轉置。\n",
    "    length=np.sqrt(p.dot(p.T))\n",
    "    print (length)\n",
    "    "
   ]
  },
  {
   "cell_type": "markdown",
   "metadata": {},
   "source": [
    "## 內積求算 cos\n",
    "* 兩向量的內積除以其長度，就是 cos 值\n",
    "* p1, p2 內積 = $||p1||*||p2||* cos$ \n",
    "* $||p1||表p1的長度，$||p2||表p2的長度\n",
    "* 內積就是向量對應的元素兩兩相乘，再相加\n",
    "* p1(x1, y1), p2(x2,y2) 內積為 x1*x2 + y1*y2，即 p1.dot(p2.T)"
   ]
  },
  {
   "cell_type": "code",
   "execution_count": 19,
   "metadata": {},
   "outputs": [
    {
     "name": "stdout",
     "output_type": "stream",
     "text": [
      "cos  0.7568230077691597\n",
      "projection  44\n"
     ]
    }
   ],
   "source": [
    "# p1 與 p2 為兩向量，list 改 np.array 便於數學計算\n",
    "p1=np.array(point[0])\n",
    "p2=np.array(point[1])\n",
    "# 長度\n",
    "len_p1=np.sqrt(p1.dot(p1.T))\n",
    "# 也可以用 norm函數 計算，答案一樣\n",
    "Len_p1=np.linalg.norm(p1)\n",
    "len_p2=np.sqrt(p2.dot(p2.T))\n",
    "#兩向量的 cos 夾角 的值\n",
    "cos=p1.dot(p2.T)/(len_p1*len_p2)\n",
    "print ('cos ',cos)\n",
    "# 如果沒有除以長度，則為p1向量在p2向量上的投影長\n",
    "proj=p1.dot(p2.T)\n",
    "print ('projection ',proj)\n",
    "\n",
    "\n",
    "#查cos和內積的關係"
   ]
  },
  {
   "cell_type": "markdown",
   "metadata": {},
   "source": [
    "## 夾角愈小，cos值愈大，表示兩向量愈接近。\n",
    "* 知道cos值就知道夾角，反之亦然。\n",
    "* 當夾角為 0 時，cos值=1，表示兩向量完全一樣。\n",
    "* 當夾角為 90 時，cos值=0，表示兩向量獨立，相異。"
   ]
  },
  {
   "cell_type": "markdown",
   "metadata": {},
   "source": [
    "## 孤度量(radian)與角度量(angle)切換\n",
    "* radian 孤度量，圓周為 2*pi\n",
    "* angle 角度量，圖周為 360"
   ]
  },
  {
   "cell_type": "code",
   "execution_count": 20,
   "metadata": {},
   "outputs": [
    {
     "data": {
      "text/plain": [
       "0.7123575980943289"
      ]
     },
     "execution_count": 20,
     "metadata": {},
     "output_type": "execute_result"
    }
   ],
   "source": [
    "# arccos 求角度\n",
    "radian=np.arccos(cos)\n",
    "radian"
   ]
  },
  {
   "cell_type": "code",
   "execution_count": 21,
   "metadata": {},
   "outputs": [
    {
     "data": {
      "text/plain": [
       "40.81508387488157"
      ]
     },
     "execution_count": 21,
     "metadata": {},
     "output_type": "execute_result"
    }
   ],
   "source": [
    "# 角度量\n",
    "angle=radian*180/np.pi\n",
    "angle"
   ]
  },
  {
   "cell_type": "code",
   "execution_count": 22,
   "metadata": {},
   "outputs": [
    {
     "name": "stdout",
     "output_type": "stream",
     "text": [
      "0.7123575980943287\n",
      "40.81508387488157\n"
     ]
    }
   ],
   "source": [
    "# 角度量轉孤量度\n",
    "radian=angle/180*np.pi\n",
    "print (radian)\n",
    "# 孤量度轉角度量\n",
    "angle=radian*180/np.pi\n",
    "print (angle)"
   ]
  },
  {
   "cell_type": "markdown",
   "metadata": {},
   "source": [
    "## cos 函數\n",
    "* cos 0 =1\n",
    "* cos 90 =0"
   ]
  },
  {
   "cell_type": "code",
   "execution_count": 6,
   "metadata": {},
   "outputs": [
    {
     "data": {
      "image/png": "[encoded data removed]",
      "text/plain": [
       "<Figure size 432x288 with 1 Axes>"
      ]
     },
     "metadata": {
      "needs_background": "light"
     },
     "output_type": "display_data"
    }
   ],
   "source": [
    "def f(t):\n",
    "    return np.cos(t/180*np.pi)\n",
    "t = np.arange(0, 360,10)\n",
    "t1 = np.arange(0, 360,90)\n",
    "plt.figure()\n",
    "plt.grid(True)\n",
    "plt.plot(t, f(t), 'r--')\n",
    "plt.plot(t1, f(t1), 'bo')\n",
    "plt.show()"
   ]
  },
  {
   "cell_type": "markdown",
   "metadata": {
    "collapsed": true
   },
   "source": [
    "# 函數：兩向量的相似性，計算夾角與cos"
   ]
  },
  {
   "cell_type": "code",
   "execution_count": 24,
   "metadata": {},
   "outputs": [],
   "source": [
    "import numpy as np\n",
    "def cos_simility(a, b):\n",
    "    # list 改 array\n",
    "    x = np.array(a)\n",
    "    y = np.array(b)\n",
    "    # 向量長度\n",
    "    Lx=np.linalg.norm(x)\n",
    "    Ly=np.linalg.norm(y)\n",
    "    # cos 值\n",
    "    cos=round(x.dot(y)/(Lx*Ly),8)\n",
    "    # 角度\n",
    "    radian=np.arccos(cos)  \n",
    "    angle=radian*180/np.pi    \n",
    "    return angle, cos"
   ]
  },
  {
   "cell_type": "markdown",
   "metadata": {},
   "source": [
    "## 同學可以自己測試"
   ]
  },
  {
   "cell_type": "code",
   "execution_count": 25,
   "metadata": {},
   "outputs": [
    {
     "name": "stdout",
     "output_type": "stream",
     "text": [
      "angle: 35.74354784124601\n",
      "cos: 0.81163977\n"
     ]
    }
   ],
   "source": [
    "# 兩個多維度的向量\n",
    "a=[1,5,-1,1,2.2,1,3,1]\n",
    "b=[2,2,-2,2,2,2,2,2]\n",
    "cos=cos_simility(a,b)\n",
    "print ('angle:',cos[0])\n",
    "print ('cos:',cos[1])"
   ]
  },
  {
   "cell_type": "markdown",
   "metadata": {},
   "source": [
    "## A 向量在 B 向量上的投影\n",
    "* A 向量的長度愈長，投影愈長，與B 向量的長度無關。\n",
    "* 夾角的絕對值愈小投影愈長。\n",
    "* 其值為 $||A||* cos(angle)$\n"
   ]
  },
  {
   "cell_type": "code",
   "execution_count": 26,
   "metadata": {},
   "outputs": [
    {
     "data": {
      "image/jpeg": "[encoded data removed]",
      "text/plain": [
       "<IPython.core.display.Image object>"
      ]
     },
     "execution_count": 26,
     "metadata": {},
     "output_type": "execute_result"
    }
   ],
   "source": [
    "from IPython.display import Image\n",
    "Image( \"pic/向量與座標.jpg\")"
   ]
  },
  {
   "cell_type": "code",
   "execution_count": 27,
   "metadata": {},
   "outputs": [],
   "source": [
    "def projection(a,b):\n",
    "    angle=cos_simility(a,b)[0]\n",
    "    radian=angle/180*np.pi\n",
    "    La=np.linalg.norm(a)\n",
    "    proj=La*np.cos(radian)\n",
    "    return proj"
   ]
  },
  {
   "cell_type": "code",
   "execution_count": 28,
   "metadata": {},
   "outputs": [
    {
     "name": "stdout",
     "output_type": "stream",
     "text": [
      "7.242118183228566\n"
     ]
    }
   ],
   "source": [
    "a=[5,8,7]\n",
    "b=[5,0,2]\n",
    "print (projection(a,b))\n"
   ]
  },
  {
   "cell_type": "code",
   "execution_count": 29,
   "metadata": {},
   "outputs": [],
   "source": [
    "#2"
   ]
  },
  {
   "cell_type": "markdown",
   "metadata": {},
   "source": [
    "# 找一個實際的例子"
   ]
  },
  {
   "cell_type": "code",
   "execution_count": 5,
   "metadata": {},
   "outputs": [],
   "source": [
    "# 叫進所有的模組\n",
    "from __future__ import print_function\n",
    "import sklearn\n",
    "from sklearn.feature_extraction.text import TfidfVectorizer\n",
    "from sklearn.feature_extraction.text import CountVectorizer\n",
    "from sklearn.decomposition import TruncatedSVD\n",
    "from sklearn.preprocessing import Normalizer\n",
    "from sklearn import metrics\n",
    "from sklearn.cluster import KMeans, MiniBatchKMeans\n",
    "import pandas as pd\n",
    "import warnings\n",
    "# Suppress warnings from pandas library\n",
    "warnings.filterwarnings(\"ignore\", category=DeprecationWarning,\n",
    "module=\"pandas\", lineno=570)\n",
    "import numpy"
   ]
  },
  {
   "cell_type": "code",
   "execution_count": 7,
   "metadata": {},
   "outputs": [
    {
     "name": "stdout",
     "output_type": "stream",
     "text": [
      "['早上 去 吃飯 了，點了 許多 好吃 的 青菜。', '也 有 吃飯 了，是 吃 饅頭 和 豆漿', '吃飯 了 有 好吃 的 青菜 ', '他們 只是上課', '我們 和 他們 每天 都是 上課 和 睡覺', '明天 上課 讓 生活 很 充實 之外 也 很 有 意義 了', '明天 我們 不 打算 上課 了', '明天 上課 很 無聊 了', '明天 還是 一起 去 上課 吃飯 比較 有 意思 了', '為了 上課 我們 明天 不 睡覺 了']\n"
     ]
    }
   ],
   "source": [
    "# 十篇文章，有經過斷詞\n",
    "s0='早上 去 吃飯 了，點了 許多 好吃 的 青菜。'\n",
    "s1='也 有 吃飯 了，是 吃 饅頭 和 豆漿'\n",
    "s2='吃飯 了 有 好吃 的 青菜 '\n",
    "s3='他們 只是上課'\n",
    "s4='我們 和 他們 每天 都是 上課 和 睡覺'\n",
    "s5='明天 上課 讓 生活 很 充實 之外 也 很 有 意義 了'\n",
    "s6='明天 我們 不 打算 上課 了'\n",
    "s7='明天 上課 很 無聊 了'\n",
    "s8='明天 還是 一起 去 上課 吃飯 比較 有 意思 了'\n",
    "s9='為了 上課 我們 明天 不 睡覺 了'\n",
    "documents=[s0,s1,s2,s3,s4,s5,s6,s7,s8,s9]\n",
    "doc_label=['0','1','2','3','4','5','6','7','8','9']\n",
    "\n",
    "print(documents)"
   ]
  },
  {
   "cell_type": "markdown",
   "metadata": {},
   "source": [
    "# 文章向量"
   ]
  },
  {
   "cell_type": "code",
   "execution_count": 9,
   "metadata": {},
   "outputs": [
    {
     "data": {
      "text/plain": [
       "CountVectorizer(analyzer='word', binary=False, decode_error='strict',\n",
       "                dtype=<class 'numpy.int64'>, encoding='utf-8', input='content',\n",
       "                lowercase=True, max_df=1.0, max_features=None, min_df=0,\n",
       "                ngram_range=(1, 1), preprocessor=None, stop_words=None,\n",
       "                strip_accents=None, token_pattern='(?u)\\\\b\\\\w\\\\w+\\\\b',\n",
       "                tokenizer=None, vocabulary=None)"
      ]
     },
     "execution_count": 9,
     "metadata": {},
     "output_type": "execute_result"
    }
   ],
   "source": [
    "# 字頻計算，ngram 可控制連續詞彙數\n",
    "vectorizer = CountVectorizer(min_df = 0,ngram_range= (1,1))\n",
    "dtm_count_obj = vectorizer.fit_transform(documents) \n",
    "\n",
    "#CountVectorizer 类会将文本中的词语转换为词频矩阵，例如矩阵中包含一个元素a[i][j]，它表示j词在i类文本下的词频。\n",
    "#它通过 fit_transform 函数计算各个词语出现的次数，\n",
    "#通过get_feature_names()可获取词袋中所有文本的关键字，\n",
    "#通过 toarray()可看到词频矩阵的结果。"
   ]
  },
  {
   "cell_type": "markdown",
   "metadata": {},
   "source": [
    "## 字詞列表"
   ]
  },
  {
   "cell_type": "code",
   "execution_count": 10,
   "metadata": {},
   "outputs": [
    {
     "name": "stdout",
     "output_type": "stream",
     "text": [
      "27 ['一起', '上課', '之外', '他們', '充實', '只是上課', '吃飯', '好吃', '意思', '意義', '我們', '打算', '早上', '明天', '每天', '比較', '為了', '無聊', '生活', '睡覺', '許多', '豆漿', '還是', '都是', '青菜', '饅頭', '點了']\n"
     ]
    }
   ],
   "source": [
    "# 單一字詞被排除了\n",
    "terms=vectorizer.get_feature_names()\n",
    "print (len(terms),terms)"
   ]
  },
  {
   "cell_type": "markdown",
   "metadata": {},
   "source": [
    "## 文章字詞矩陣(dtm)\n",
    "* 每個橫列都代表一個文章向量"
   ]
  },
  {
   "cell_type": "code",
   "execution_count": 11,
   "metadata": {},
   "outputs": [],
   "source": [
    "# 轉成 array\n",
    "dtm_count=dtm_count_obj.toarray() "
   ]
  },
  {
   "cell_type": "code",
   "execution_count": 12,
   "metadata": {
    "scrolled": false
   },
   "outputs": [
    {
     "data": {
      "text/plain": [
       "array([[0, 0, 0, 0, 0, 0, 1, 1, 0, 0, 0, 0, 1, 0, 0, 0, 0, 0, 0, 0, 1, 0,\n",
       "        0, 0, 1, 0, 1],\n",
       "       [0, 0, 0, 0, 0, 0, 1, 0, 0, 0, 0, 0, 0, 0, 0, 0, 0, 0, 0, 0, 0, 1,\n",
       "        0, 0, 0, 1, 0],\n",
       "       [0, 0, 0, 0, 0, 0, 1, 1, 0, 0, 0, 0, 0, 0, 0, 0, 0, 0, 0, 0, 0, 0,\n",
       "        0, 0, 1, 0, 0],\n",
       "       [0, 0, 0, 1, 0, 1, 0, 0, 0, 0, 0, 0, 0, 0, 0, 0, 0, 0, 0, 0, 0, 0,\n",
       "        0, 0, 0, 0, 0],\n",
       "       [0, 1, 0, 1, 0, 0, 0, 0, 0, 0, 1, 0, 0, 0, 1, 0, 0, 0, 0, 1, 0, 0,\n",
       "        0, 1, 0, 0, 0],\n",
       "       [0, 1, 1, 0, 1, 0, 0, 0, 0, 1, 0, 0, 0, 1, 0, 0, 0, 0, 1, 0, 0, 0,\n",
       "        0, 0, 0, 0, 0],\n",
       "       [0, 1, 0, 0, 0, 0, 0, 0, 0, 0, 1, 1, 0, 1, 0, 0, 0, 0, 0, 0, 0, 0,\n",
       "        0, 0, 0, 0, 0],\n",
       "       [0, 1, 0, 0, 0, 0, 0, 0, 0, 0, 0, 0, 0, 1, 0, 0, 0, 1, 0, 0, 0, 0,\n",
       "        0, 0, 0, 0, 0],\n",
       "       [1, 1, 0, 0, 0, 0, 1, 0, 1, 0, 0, 0, 0, 1, 0, 1, 0, 0, 0, 0, 0, 0,\n",
       "        1, 0, 0, 0, 0],\n",
       "       [0, 1, 0, 0, 0, 0, 0, 0, 0, 0, 1, 0, 0, 1, 0, 0, 1, 0, 0, 1, 0, 0,\n",
       "        0, 0, 0, 0, 0]], dtype=int64)"
      ]
     },
     "execution_count": 12,
     "metadata": {},
     "output_type": "execute_result"
    }
   ],
   "source": [
    "# 文章字詞矩陣（array 格式微）\n",
    "dtm_count"
   ]
  },
  {
   "cell_type": "code",
   "execution_count": 13,
   "metadata": {},
   "outputs": [
    {
     "data": {
      "text/html": [
       "<div>\n",
       "<style scoped>\n",
       "    .dataframe tbody tr th:only-of-type {\n",
       "        vertical-align: middle;\n",
       "    }\n",
       "\n",
       "    .dataframe tbody tr th {\n",
       "        vertical-align: top;\n",
       "    }\n",
       "\n",
       "    .dataframe thead th {\n",
       "        text-align: right;\n",
       "    }\n",
       "</style>\n",
       "<table border=\"1\" class=\"dataframe\">\n",
       "  <thead>\n",
       "    <tr style=\"text-align: right;\">\n",
       "      <th></th>\n",
       "      <th>一起</th>\n",
       "      <th>上課</th>\n",
       "      <th>之外</th>\n",
       "      <th>他們</th>\n",
       "      <th>充實</th>\n",
       "      <th>只是上課</th>\n",
       "      <th>吃飯</th>\n",
       "      <th>好吃</th>\n",
       "      <th>意思</th>\n",
       "      <th>意義</th>\n",
       "      <th>...</th>\n",
       "      <th>無聊</th>\n",
       "      <th>生活</th>\n",
       "      <th>睡覺</th>\n",
       "      <th>許多</th>\n",
       "      <th>豆漿</th>\n",
       "      <th>還是</th>\n",
       "      <th>都是</th>\n",
       "      <th>青菜</th>\n",
       "      <th>饅頭</th>\n",
       "      <th>點了</th>\n",
       "    </tr>\n",
       "  </thead>\n",
       "  <tbody>\n",
       "    <tr>\n",
       "      <th>0</th>\n",
       "      <td>0</td>\n",
       "      <td>0</td>\n",
       "      <td>0</td>\n",
       "      <td>0</td>\n",
       "      <td>0</td>\n",
       "      <td>0</td>\n",
       "      <td>1</td>\n",
       "      <td>1</td>\n",
       "      <td>0</td>\n",
       "      <td>0</td>\n",
       "      <td>...</td>\n",
       "      <td>0</td>\n",
       "      <td>0</td>\n",
       "      <td>0</td>\n",
       "      <td>1</td>\n",
       "      <td>0</td>\n",
       "      <td>0</td>\n",
       "      <td>0</td>\n",
       "      <td>1</td>\n",
       "      <td>0</td>\n",
       "      <td>1</td>\n",
       "    </tr>\n",
       "    <tr>\n",
       "      <th>1</th>\n",
       "      <td>0</td>\n",
       "      <td>0</td>\n",
       "      <td>0</td>\n",
       "      <td>0</td>\n",
       "      <td>0</td>\n",
       "      <td>0</td>\n",
       "      <td>1</td>\n",
       "      <td>0</td>\n",
       "      <td>0</td>\n",
       "      <td>0</td>\n",
       "      <td>...</td>\n",
       "      <td>0</td>\n",
       "      <td>0</td>\n",
       "      <td>0</td>\n",
       "      <td>0</td>\n",
       "      <td>1</td>\n",
       "      <td>0</td>\n",
       "      <td>0</td>\n",
       "      <td>0</td>\n",
       "      <td>1</td>\n",
       "      <td>0</td>\n",
       "    </tr>\n",
       "    <tr>\n",
       "      <th>2</th>\n",
       "      <td>0</td>\n",
       "      <td>0</td>\n",
       "      <td>0</td>\n",
       "      <td>0</td>\n",
       "      <td>0</td>\n",
       "      <td>0</td>\n",
       "      <td>1</td>\n",
       "      <td>1</td>\n",
       "      <td>0</td>\n",
       "      <td>0</td>\n",
       "      <td>...</td>\n",
       "      <td>0</td>\n",
       "      <td>0</td>\n",
       "      <td>0</td>\n",
       "      <td>0</td>\n",
       "      <td>0</td>\n",
       "      <td>0</td>\n",
       "      <td>0</td>\n",
       "      <td>1</td>\n",
       "      <td>0</td>\n",
       "      <td>0</td>\n",
       "    </tr>\n",
       "    <tr>\n",
       "      <th>3</th>\n",
       "      <td>0</td>\n",
       "      <td>0</td>\n",
       "      <td>0</td>\n",
       "      <td>1</td>\n",
       "      <td>0</td>\n",
       "      <td>1</td>\n",
       "      <td>0</td>\n",
       "      <td>0</td>\n",
       "      <td>0</td>\n",
       "      <td>0</td>\n",
       "      <td>...</td>\n",
       "      <td>0</td>\n",
       "      <td>0</td>\n",
       "      <td>0</td>\n",
       "      <td>0</td>\n",
       "      <td>0</td>\n",
       "      <td>0</td>\n",
       "      <td>0</td>\n",
       "      <td>0</td>\n",
       "      <td>0</td>\n",
       "      <td>0</td>\n",
       "    </tr>\n",
       "    <tr>\n",
       "      <th>4</th>\n",
       "      <td>0</td>\n",
       "      <td>1</td>\n",
       "      <td>0</td>\n",
       "      <td>1</td>\n",
       "      <td>0</td>\n",
       "      <td>0</td>\n",
       "      <td>0</td>\n",
       "      <td>0</td>\n",
       "      <td>0</td>\n",
       "      <td>0</td>\n",
       "      <td>...</td>\n",
       "      <td>0</td>\n",
       "      <td>0</td>\n",
       "      <td>1</td>\n",
       "      <td>0</td>\n",
       "      <td>0</td>\n",
       "      <td>0</td>\n",
       "      <td>1</td>\n",
       "      <td>0</td>\n",
       "      <td>0</td>\n",
       "      <td>0</td>\n",
       "    </tr>\n",
       "    <tr>\n",
       "      <th>5</th>\n",
       "      <td>0</td>\n",
       "      <td>1</td>\n",
       "      <td>1</td>\n",
       "      <td>0</td>\n",
       "      <td>1</td>\n",
       "      <td>0</td>\n",
       "      <td>0</td>\n",
       "      <td>0</td>\n",
       "      <td>0</td>\n",
       "      <td>1</td>\n",
       "      <td>...</td>\n",
       "      <td>0</td>\n",
       "      <td>1</td>\n",
       "      <td>0</td>\n",
       "      <td>0</td>\n",
       "      <td>0</td>\n",
       "      <td>0</td>\n",
       "      <td>0</td>\n",
       "      <td>0</td>\n",
       "      <td>0</td>\n",
       "      <td>0</td>\n",
       "    </tr>\n",
       "    <tr>\n",
       "      <th>6</th>\n",
       "      <td>0</td>\n",
       "      <td>1</td>\n",
       "      <td>0</td>\n",
       "      <td>0</td>\n",
       "      <td>0</td>\n",
       "      <td>0</td>\n",
       "      <td>0</td>\n",
       "      <td>0</td>\n",
       "      <td>0</td>\n",
       "      <td>0</td>\n",
       "      <td>...</td>\n",
       "      <td>0</td>\n",
       "      <td>0</td>\n",
       "      <td>0</td>\n",
       "      <td>0</td>\n",
       "      <td>0</td>\n",
       "      <td>0</td>\n",
       "      <td>0</td>\n",
       "      <td>0</td>\n",
       "      <td>0</td>\n",
       "      <td>0</td>\n",
       "    </tr>\n",
       "    <tr>\n",
       "      <th>7</th>\n",
       "      <td>0</td>\n",
       "      <td>1</td>\n",
       "      <td>0</td>\n",
       "      <td>0</td>\n",
       "      <td>0</td>\n",
       "      <td>0</td>\n",
       "      <td>0</td>\n",
       "      <td>0</td>\n",
       "      <td>0</td>\n",
       "      <td>0</td>\n",
       "      <td>...</td>\n",
       "      <td>1</td>\n",
       "      <td>0</td>\n",
       "      <td>0</td>\n",
       "      <td>0</td>\n",
       "      <td>0</td>\n",
       "      <td>0</td>\n",
       "      <td>0</td>\n",
       "      <td>0</td>\n",
       "      <td>0</td>\n",
       "      <td>0</td>\n",
       "    </tr>\n",
       "    <tr>\n",
       "      <th>8</th>\n",
       "      <td>1</td>\n",
       "      <td>1</td>\n",
       "      <td>0</td>\n",
       "      <td>0</td>\n",
       "      <td>0</td>\n",
       "      <td>0</td>\n",
       "      <td>1</td>\n",
       "      <td>0</td>\n",
       "      <td>1</td>\n",
       "      <td>0</td>\n",
       "      <td>...</td>\n",
       "      <td>0</td>\n",
       "      <td>0</td>\n",
       "      <td>0</td>\n",
       "      <td>0</td>\n",
       "      <td>0</td>\n",
       "      <td>1</td>\n",
       "      <td>0</td>\n",
       "      <td>0</td>\n",
       "      <td>0</td>\n",
       "      <td>0</td>\n",
       "    </tr>\n",
       "    <tr>\n",
       "      <th>9</th>\n",
       "      <td>0</td>\n",
       "      <td>1</td>\n",
       "      <td>0</td>\n",
       "      <td>0</td>\n",
       "      <td>0</td>\n",
       "      <td>0</td>\n",
       "      <td>0</td>\n",
       "      <td>0</td>\n",
       "      <td>0</td>\n",
       "      <td>0</td>\n",
       "      <td>...</td>\n",
       "      <td>0</td>\n",
       "      <td>0</td>\n",
       "      <td>1</td>\n",
       "      <td>0</td>\n",
       "      <td>0</td>\n",
       "      <td>0</td>\n",
       "      <td>0</td>\n",
       "      <td>0</td>\n",
       "      <td>0</td>\n",
       "      <td>0</td>\n",
       "    </tr>\n",
       "  </tbody>\n",
       "</table>\n",
       "<p>10 rows × 27 columns</p>\n",
       "</div>"
      ],
      "text/plain": [
       "   一起  上課  之外  他們  充實  只是上課  吃飯  好吃  意思  意義  ...  無聊  生活  睡覺  許多  豆漿  還是  都是  \\\n",
       "0   0   0   0   0   0     0   1   1   0   0  ...   0   0   0   1   0   0   0   \n",
       "1   0   0   0   0   0     0   1   0   0   0  ...   0   0   0   0   1   0   0   \n",
       "2   0   0   0   0   0     0   1   1   0   0  ...   0   0   0   0   0   0   0   \n",
       "3   0   0   0   1   0     1   0   0   0   0  ...   0   0   0   0   0   0   0   \n",
       "4   0   1   0   1   0     0   0   0   0   0  ...   0   0   1   0   0   0   1   \n",
       "5   0   1   1   0   1     0   0   0   0   1  ...   0   1   0   0   0   0   0   \n",
       "6   0   1   0   0   0     0   0   0   0   0  ...   0   0   0   0   0   0   0   \n",
       "7   0   1   0   0   0     0   0   0   0   0  ...   1   0   0   0   0   0   0   \n",
       "8   1   1   0   0   0     0   1   0   1   0  ...   0   0   0   0   0   1   0   \n",
       "9   0   1   0   0   0     0   0   0   0   0  ...   0   0   1   0   0   0   0   \n",
       "\n",
       "   青菜  饅頭  點了  \n",
       "0   1   0   1  \n",
       "1   0   1   0  \n",
       "2   1   0   0  \n",
       "3   0   0   0  \n",
       "4   0   0   0  \n",
       "5   0   0   0  \n",
       "6   0   0   0  \n",
       "7   0   0   0  \n",
       "8   0   0   0  \n",
       "9   0   0   0  \n",
       "\n",
       "[10 rows x 27 columns]"
      ]
     },
     "execution_count": 13,
     "metadata": {},
     "output_type": "execute_result"
    }
   ],
   "source": [
    "# 轉成 DataFrame 看得清楚\n",
    "df=pd.DataFrame(dtm_count, columns=terms)\n",
    "df"
   ]
  },
  {
   "cell_type": "code",
   "execution_count": 14,
   "metadata": {},
   "outputs": [
    {
     "data": {
      "text/plain": [
       "0"
      ]
     },
     "execution_count": 14,
     "metadata": {},
     "output_type": "execute_result"
    }
   ],
   "source": [
    "dtm_count[1,2]"
   ]
  },
  {
   "cell_type": "code",
   "execution_count": 15,
   "metadata": {},
   "outputs": [
    {
     "ename": "NameError",
     "evalue": "name 'cos_simility' is not defined",
     "output_type": "error",
     "traceback": [
      "\u001b[1;31m---------------------------------------------------------------------------\u001b[0m",
      "\u001b[1;31mNameError\u001b[0m                                 Traceback (most recent call last)",
      "\u001b[1;32m<ipython-input-15-446dcafbface>\u001b[0m in \u001b[0;36m<module>\u001b[1;34m\u001b[0m\n\u001b[0;32m      3\u001b[0m     \u001b[0msim_row\u001b[0m \u001b[1;33m=\u001b[0m \u001b[1;33m[\u001b[0m\u001b[1;33m]\u001b[0m\u001b[1;33m\u001b[0m\u001b[1;33m\u001b[0m\u001b[0m\n\u001b[0;32m      4\u001b[0m     \u001b[1;32mfor\u001b[0m \u001b[0mm\u001b[0m \u001b[1;32min\u001b[0m \u001b[0mdtm_count\u001b[0m\u001b[1;33m:\u001b[0m\u001b[1;33m\u001b[0m\u001b[1;33m\u001b[0m\u001b[0m\n\u001b[1;32m----> 5\u001b[1;33m         \u001b[0mcos\u001b[0m \u001b[1;33m=\u001b[0m \u001b[0mcos_simility\u001b[0m\u001b[1;33m(\u001b[0m\u001b[0mn\u001b[0m\u001b[1;33m,\u001b[0m\u001b[0mm\u001b[0m\u001b[1;33m)\u001b[0m\u001b[1;33m\u001b[0m\u001b[1;33m\u001b[0m\u001b[0m\n\u001b[0m\u001b[0;32m      6\u001b[0m         \u001b[0mprint\u001b[0m\u001b[1;33m(\u001b[0m\u001b[0mcos\u001b[0m\u001b[1;33m)\u001b[0m\u001b[1;33m\u001b[0m\u001b[1;33m\u001b[0m\u001b[0m\n\u001b[0;32m      7\u001b[0m \u001b[1;33m\u001b[0m\u001b[0m\n",
      "\u001b[1;31mNameError\u001b[0m: name 'cos_simility' is not defined"
     ]
    }
   ],
   "source": [
    "sim = []\n",
    "for n in dtm_count:\n",
    "    sim_row = []\n",
    "    for m in dtm_count:\n",
    "        cos = cos_simility(n,m)\n",
    "        print(cos)\n",
    "        "
   ]
  },
  {
   "cell_type": "code",
   "execution_count": 16,
   "metadata": {},
   "outputs": [],
   "source": [
    "import numpy as np\n",
    "def cos_simility(a, b):\n",
    "    # list 改 array\n",
    "    x = np.array(a)\n",
    "    y = np.array(b)\n",
    "    # 向量長度\n",
    "    Lx=np.linalg.norm(x)\n",
    "    Ly=np.linalg.norm(y)\n",
    "    # cos 值\n",
    "    cos=round(x.dot(y)/(Lx*Ly),8)\n",
    "    # 角度\n",
    "    radian=np.arccos(cos)  \n",
    "    angle=radian*180/np.pi    \n",
    "    return angle, cos"
   ]
  },
  {
   "cell_type": "code",
   "execution_count": 17,
   "metadata": {},
   "outputs": [
    {
     "data": {
      "text/html": [
       "<div>\n",
       "<style scoped>\n",
       "    .dataframe tbody tr th:only-of-type {\n",
       "        vertical-align: middle;\n",
       "    }\n",
       "\n",
       "    .dataframe tbody tr th {\n",
       "        vertical-align: top;\n",
       "    }\n",
       "\n",
       "    .dataframe thead th {\n",
       "        text-align: right;\n",
       "    }\n",
       "</style>\n",
       "<table border=\"1\" class=\"dataframe\">\n",
       "  <thead>\n",
       "    <tr style=\"text-align: right;\">\n",
       "      <th></th>\n",
       "      <th>0</th>\n",
       "      <th>1</th>\n",
       "      <th>2</th>\n",
       "      <th>3</th>\n",
       "      <th>4</th>\n",
       "      <th>5</th>\n",
       "      <th>6</th>\n",
       "      <th>7</th>\n",
       "      <th>8</th>\n",
       "      <th>9</th>\n",
       "    </tr>\n",
       "  </thead>\n",
       "  <tbody>\n",
       "    <tr>\n",
       "      <th>0</th>\n",
       "      <td>1.000000</td>\n",
       "      <td>0.235702</td>\n",
       "      <td>0.707107</td>\n",
       "      <td>0.000000</td>\n",
       "      <td>0.000000</td>\n",
       "      <td>0.000000</td>\n",
       "      <td>0.000000</td>\n",
       "      <td>0.000000</td>\n",
       "      <td>0.154303</td>\n",
       "      <td>0.000000</td>\n",
       "    </tr>\n",
       "    <tr>\n",
       "      <th>1</th>\n",
       "      <td>0.235702</td>\n",
       "      <td>1.000000</td>\n",
       "      <td>0.333333</td>\n",
       "      <td>0.000000</td>\n",
       "      <td>0.000000</td>\n",
       "      <td>0.000000</td>\n",
       "      <td>0.000000</td>\n",
       "      <td>0.000000</td>\n",
       "      <td>0.218218</td>\n",
       "      <td>0.000000</td>\n",
       "    </tr>\n",
       "    <tr>\n",
       "      <th>2</th>\n",
       "      <td>0.707107</td>\n",
       "      <td>0.333333</td>\n",
       "      <td>1.000000</td>\n",
       "      <td>0.000000</td>\n",
       "      <td>0.000000</td>\n",
       "      <td>0.000000</td>\n",
       "      <td>0.000000</td>\n",
       "      <td>0.000000</td>\n",
       "      <td>0.218218</td>\n",
       "      <td>0.000000</td>\n",
       "    </tr>\n",
       "    <tr>\n",
       "      <th>3</th>\n",
       "      <td>0.000000</td>\n",
       "      <td>0.000000</td>\n",
       "      <td>0.000000</td>\n",
       "      <td>1.000000</td>\n",
       "      <td>0.288675</td>\n",
       "      <td>0.000000</td>\n",
       "      <td>0.000000</td>\n",
       "      <td>0.000000</td>\n",
       "      <td>0.000000</td>\n",
       "      <td>0.000000</td>\n",
       "    </tr>\n",
       "    <tr>\n",
       "      <th>4</th>\n",
       "      <td>0.000000</td>\n",
       "      <td>0.000000</td>\n",
       "      <td>0.000000</td>\n",
       "      <td>0.288675</td>\n",
       "      <td>1.000000</td>\n",
       "      <td>0.166667</td>\n",
       "      <td>0.408248</td>\n",
       "      <td>0.235702</td>\n",
       "      <td>0.154303</td>\n",
       "      <td>0.547723</td>\n",
       "    </tr>\n",
       "    <tr>\n",
       "      <th>5</th>\n",
       "      <td>0.000000</td>\n",
       "      <td>0.000000</td>\n",
       "      <td>0.000000</td>\n",
       "      <td>0.000000</td>\n",
       "      <td>0.166667</td>\n",
       "      <td>1.000000</td>\n",
       "      <td>0.408248</td>\n",
       "      <td>0.471405</td>\n",
       "      <td>0.308607</td>\n",
       "      <td>0.365148</td>\n",
       "    </tr>\n",
       "    <tr>\n",
       "      <th>6</th>\n",
       "      <td>0.000000</td>\n",
       "      <td>0.000000</td>\n",
       "      <td>0.000000</td>\n",
       "      <td>0.000000</td>\n",
       "      <td>0.408248</td>\n",
       "      <td>0.408248</td>\n",
       "      <td>1.000000</td>\n",
       "      <td>0.577350</td>\n",
       "      <td>0.377964</td>\n",
       "      <td>0.670820</td>\n",
       "    </tr>\n",
       "    <tr>\n",
       "      <th>7</th>\n",
       "      <td>0.000000</td>\n",
       "      <td>0.000000</td>\n",
       "      <td>0.000000</td>\n",
       "      <td>0.000000</td>\n",
       "      <td>0.235702</td>\n",
       "      <td>0.471405</td>\n",
       "      <td>0.577350</td>\n",
       "      <td>1.000000</td>\n",
       "      <td>0.436436</td>\n",
       "      <td>0.516398</td>\n",
       "    </tr>\n",
       "    <tr>\n",
       "      <th>8</th>\n",
       "      <td>0.154303</td>\n",
       "      <td>0.218218</td>\n",
       "      <td>0.218218</td>\n",
       "      <td>0.000000</td>\n",
       "      <td>0.154303</td>\n",
       "      <td>0.308607</td>\n",
       "      <td>0.377964</td>\n",
       "      <td>0.436436</td>\n",
       "      <td>1.000000</td>\n",
       "      <td>0.338062</td>\n",
       "    </tr>\n",
       "    <tr>\n",
       "      <th>9</th>\n",
       "      <td>0.000000</td>\n",
       "      <td>0.000000</td>\n",
       "      <td>0.000000</td>\n",
       "      <td>0.000000</td>\n",
       "      <td>0.547723</td>\n",
       "      <td>0.365148</td>\n",
       "      <td>0.670820</td>\n",
       "      <td>0.516398</td>\n",
       "      <td>0.338062</td>\n",
       "      <td>1.000000</td>\n",
       "    </tr>\n",
       "  </tbody>\n",
       "</table>\n",
       "</div>"
      ],
      "text/plain": [
       "          0         1         2         3         4         5         6  \\\n",
       "0  1.000000  0.235702  0.707107  0.000000  0.000000  0.000000  0.000000   \n",
       "1  0.235702  1.000000  0.333333  0.000000  0.000000  0.000000  0.000000   \n",
       "2  0.707107  0.333333  1.000000  0.000000  0.000000  0.000000  0.000000   \n",
       "3  0.000000  0.000000  0.000000  1.000000  0.288675  0.000000  0.000000   \n",
       "4  0.000000  0.000000  0.000000  0.288675  1.000000  0.166667  0.408248   \n",
       "5  0.000000  0.000000  0.000000  0.000000  0.166667  1.000000  0.408248   \n",
       "6  0.000000  0.000000  0.000000  0.000000  0.408248  0.408248  1.000000   \n",
       "7  0.000000  0.000000  0.000000  0.000000  0.235702  0.471405  0.577350   \n",
       "8  0.154303  0.218218  0.218218  0.000000  0.154303  0.308607  0.377964   \n",
       "9  0.000000  0.000000  0.000000  0.000000  0.547723  0.365148  0.670820   \n",
       "\n",
       "          7         8         9  \n",
       "0  0.000000  0.154303  0.000000  \n",
       "1  0.000000  0.218218  0.000000  \n",
       "2  0.000000  0.218218  0.000000  \n",
       "3  0.000000  0.000000  0.000000  \n",
       "4  0.235702  0.154303  0.547723  \n",
       "5  0.471405  0.308607  0.365148  \n",
       "6  0.577350  0.377964  0.670820  \n",
       "7  1.000000  0.436436  0.516398  \n",
       "8  0.436436  1.000000  0.338062  \n",
       "9  0.516398  0.338062  1.000000  "
      ]
     },
     "execution_count": 17,
     "metadata": {},
     "output_type": "execute_result"
    }
   ],
   "source": [
    "# 各篇文章相似性，cos #夾角越大，表兩篇文章相似度低\n",
    "sim=[]\n",
    "for n in dtm_count:\n",
    "    sim_row=[]\n",
    "    for m in dtm_count:\n",
    "        cos=cos_simility(n,m)\n",
    "        sim_row.append(cos[1])\n",
    "    sim.append(sim_row)\n",
    "\n",
    "df_count=pd.DataFrame(sim)\n",
    "df_count\n",
    "#餘弦相似性數值越高，代表文章越相似(1為0度)\n",
    "#向量距離: https://blog.csdn.net/u010412858/article/details/60467382\n",
    "#餘弦相似度: https://www.ruanyifeng.com/blog/2013/03/cosine_similarity.html"
   ]
  },
  {
   "cell_type": "markdown",
   "metadata": {},
   "source": [
    "## 用內訂的函數(sklearn.metrics.pairwise.cosine_similarity)計算，得到一樣的結果"
   ]
  },
  {
   "cell_type": "code",
   "execution_count": 18,
   "metadata": {},
   "outputs": [
    {
     "data": {
      "text/html": [
       "<div>\n",
       "<style scoped>\n",
       "    .dataframe tbody tr th:only-of-type {\n",
       "        vertical-align: middle;\n",
       "    }\n",
       "\n",
       "    .dataframe tbody tr th {\n",
       "        vertical-align: top;\n",
       "    }\n",
       "\n",
       "    .dataframe thead th {\n",
       "        text-align: right;\n",
       "    }\n",
       "</style>\n",
       "<table border=\"1\" class=\"dataframe\">\n",
       "  <thead>\n",
       "    <tr style=\"text-align: right;\">\n",
       "      <th></th>\n",
       "      <th>0</th>\n",
       "      <th>1</th>\n",
       "      <th>2</th>\n",
       "      <th>3</th>\n",
       "      <th>4</th>\n",
       "      <th>5</th>\n",
       "      <th>6</th>\n",
       "      <th>7</th>\n",
       "      <th>8</th>\n",
       "      <th>9</th>\n",
       "    </tr>\n",
       "  </thead>\n",
       "  <tbody>\n",
       "    <tr>\n",
       "      <th>0</th>\n",
       "      <td>1.000000</td>\n",
       "      <td>0.235702</td>\n",
       "      <td>0.707107</td>\n",
       "      <td>0.000000</td>\n",
       "      <td>0.000000</td>\n",
       "      <td>0.000000</td>\n",
       "      <td>0.000000</td>\n",
       "      <td>0.000000</td>\n",
       "      <td>0.154303</td>\n",
       "      <td>0.000000</td>\n",
       "    </tr>\n",
       "    <tr>\n",
       "      <th>1</th>\n",
       "      <td>0.235702</td>\n",
       "      <td>1.000000</td>\n",
       "      <td>0.333333</td>\n",
       "      <td>0.000000</td>\n",
       "      <td>0.000000</td>\n",
       "      <td>0.000000</td>\n",
       "      <td>0.000000</td>\n",
       "      <td>0.000000</td>\n",
       "      <td>0.218218</td>\n",
       "      <td>0.000000</td>\n",
       "    </tr>\n",
       "    <tr>\n",
       "      <th>2</th>\n",
       "      <td>0.707107</td>\n",
       "      <td>0.333333</td>\n",
       "      <td>1.000000</td>\n",
       "      <td>0.000000</td>\n",
       "      <td>0.000000</td>\n",
       "      <td>0.000000</td>\n",
       "      <td>0.000000</td>\n",
       "      <td>0.000000</td>\n",
       "      <td>0.218218</td>\n",
       "      <td>0.000000</td>\n",
       "    </tr>\n",
       "    <tr>\n",
       "      <th>3</th>\n",
       "      <td>0.000000</td>\n",
       "      <td>0.000000</td>\n",
       "      <td>0.000000</td>\n",
       "      <td>1.000000</td>\n",
       "      <td>0.288675</td>\n",
       "      <td>0.000000</td>\n",
       "      <td>0.000000</td>\n",
       "      <td>0.000000</td>\n",
       "      <td>0.000000</td>\n",
       "      <td>0.000000</td>\n",
       "    </tr>\n",
       "    <tr>\n",
       "      <th>4</th>\n",
       "      <td>0.000000</td>\n",
       "      <td>0.000000</td>\n",
       "      <td>0.000000</td>\n",
       "      <td>0.288675</td>\n",
       "      <td>1.000000</td>\n",
       "      <td>0.166667</td>\n",
       "      <td>0.408248</td>\n",
       "      <td>0.235702</td>\n",
       "      <td>0.154303</td>\n",
       "      <td>0.547723</td>\n",
       "    </tr>\n",
       "    <tr>\n",
       "      <th>5</th>\n",
       "      <td>0.000000</td>\n",
       "      <td>0.000000</td>\n",
       "      <td>0.000000</td>\n",
       "      <td>0.000000</td>\n",
       "      <td>0.166667</td>\n",
       "      <td>1.000000</td>\n",
       "      <td>0.408248</td>\n",
       "      <td>0.471405</td>\n",
       "      <td>0.308607</td>\n",
       "      <td>0.365148</td>\n",
       "    </tr>\n",
       "    <tr>\n",
       "      <th>6</th>\n",
       "      <td>0.000000</td>\n",
       "      <td>0.000000</td>\n",
       "      <td>0.000000</td>\n",
       "      <td>0.000000</td>\n",
       "      <td>0.408248</td>\n",
       "      <td>0.408248</td>\n",
       "      <td>1.000000</td>\n",
       "      <td>0.577350</td>\n",
       "      <td>0.377964</td>\n",
       "      <td>0.670820</td>\n",
       "    </tr>\n",
       "    <tr>\n",
       "      <th>7</th>\n",
       "      <td>0.000000</td>\n",
       "      <td>0.000000</td>\n",
       "      <td>0.000000</td>\n",
       "      <td>0.000000</td>\n",
       "      <td>0.235702</td>\n",
       "      <td>0.471405</td>\n",
       "      <td>0.577350</td>\n",
       "      <td>1.000000</td>\n",
       "      <td>0.436436</td>\n",
       "      <td>0.516398</td>\n",
       "    </tr>\n",
       "    <tr>\n",
       "      <th>8</th>\n",
       "      <td>0.154303</td>\n",
       "      <td>0.218218</td>\n",
       "      <td>0.218218</td>\n",
       "      <td>0.000000</td>\n",
       "      <td>0.154303</td>\n",
       "      <td>0.308607</td>\n",
       "      <td>0.377964</td>\n",
       "      <td>0.436436</td>\n",
       "      <td>1.000000</td>\n",
       "      <td>0.338062</td>\n",
       "    </tr>\n",
       "    <tr>\n",
       "      <th>9</th>\n",
       "      <td>0.000000</td>\n",
       "      <td>0.000000</td>\n",
       "      <td>0.000000</td>\n",
       "      <td>0.000000</td>\n",
       "      <td>0.547723</td>\n",
       "      <td>0.365148</td>\n",
       "      <td>0.670820</td>\n",
       "      <td>0.516398</td>\n",
       "      <td>0.338062</td>\n",
       "      <td>1.000000</td>\n",
       "    </tr>\n",
       "  </tbody>\n",
       "</table>\n",
       "</div>"
      ],
      "text/plain": [
       "          0         1         2         3         4         5         6  \\\n",
       "0  1.000000  0.235702  0.707107  0.000000  0.000000  0.000000  0.000000   \n",
       "1  0.235702  1.000000  0.333333  0.000000  0.000000  0.000000  0.000000   \n",
       "2  0.707107  0.333333  1.000000  0.000000  0.000000  0.000000  0.000000   \n",
       "3  0.000000  0.000000  0.000000  1.000000  0.288675  0.000000  0.000000   \n",
       "4  0.000000  0.000000  0.000000  0.288675  1.000000  0.166667  0.408248   \n",
       "5  0.000000  0.000000  0.000000  0.000000  0.166667  1.000000  0.408248   \n",
       "6  0.000000  0.000000  0.000000  0.000000  0.408248  0.408248  1.000000   \n",
       "7  0.000000  0.000000  0.000000  0.000000  0.235702  0.471405  0.577350   \n",
       "8  0.154303  0.218218  0.218218  0.000000  0.154303  0.308607  0.377964   \n",
       "9  0.000000  0.000000  0.000000  0.000000  0.547723  0.365148  0.670820   \n",
       "\n",
       "          7         8         9  \n",
       "0  0.000000  0.154303  0.000000  \n",
       "1  0.000000  0.218218  0.000000  \n",
       "2  0.000000  0.218218  0.000000  \n",
       "3  0.000000  0.000000  0.000000  \n",
       "4  0.235702  0.154303  0.547723  \n",
       "5  0.471405  0.308607  0.365148  \n",
       "6  0.577350  0.377964  0.670820  \n",
       "7  1.000000  0.436436  0.516398  \n",
       "8  0.436436  1.000000  0.338062  \n",
       "9  0.516398  0.338062  1.000000  "
      ]
     },
     "execution_count": 18,
     "metadata": {},
     "output_type": "execute_result"
    }
   ],
   "source": [
    "# 文章與文章間的相似矩陣 cos\n",
    "# 引數為 doc, 為文章向量 list\n",
    "similarity= sklearn.metrics.pairwise.cosine_similarity(dtm_count) \n",
    "sim=pd.DataFrame(similarity)\n",
    "sim"
   ]
  },
  {
   "cell_type": "markdown",
   "metadata": {},
   "source": [
    "# TFIDF 加權\n",
    "* TFIDF 是一種加權的方式，判斷字詞的重性，重覆出現的字詞(例如介繫詞)沒有重要性，降低權數；文章愈長，其字詞頻率權數亦降低。\n",
    "* 加權的公式\n",
    "* 經過加權，DTM 各元素值為小數。"
   ]
  },
  {
   "cell_type": "code",
   "execution_count": 20,
   "metadata": {},
   "outputs": [
    {
     "data": {
      "text/html": [
       "<div>\n",
       "<style scoped>\n",
       "    .dataframe tbody tr th:only-of-type {\n",
       "        vertical-align: middle;\n",
       "    }\n",
       "\n",
       "    .dataframe tbody tr th {\n",
       "        vertical-align: top;\n",
       "    }\n",
       "\n",
       "    .dataframe thead th {\n",
       "        text-align: right;\n",
       "    }\n",
       "</style>\n",
       "<table border=\"1\" class=\"dataframe\">\n",
       "  <thead>\n",
       "    <tr style=\"text-align: right;\">\n",
       "      <th></th>\n",
       "      <th>一起</th>\n",
       "      <th>上課</th>\n",
       "      <th>之外</th>\n",
       "      <th>他們</th>\n",
       "      <th>充實</th>\n",
       "      <th>只是上課</th>\n",
       "      <th>吃飯</th>\n",
       "      <th>好吃</th>\n",
       "      <th>意思</th>\n",
       "      <th>意義</th>\n",
       "      <th>...</th>\n",
       "      <th>無聊</th>\n",
       "      <th>生活</th>\n",
       "      <th>睡覺</th>\n",
       "      <th>許多</th>\n",
       "      <th>豆漿</th>\n",
       "      <th>還是</th>\n",
       "      <th>都是</th>\n",
       "      <th>青菜</th>\n",
       "      <th>饅頭</th>\n",
       "      <th>點了</th>\n",
       "    </tr>\n",
       "  </thead>\n",
       "  <tbody>\n",
       "    <tr>\n",
       "      <th>0</th>\n",
       "      <td>0.000000</td>\n",
       "      <td>0.000000</td>\n",
       "      <td>0.000000</td>\n",
       "      <td>0.000000</td>\n",
       "      <td>0.000000</td>\n",
       "      <td>0.000000</td>\n",
       "      <td>0.299247</td>\n",
       "      <td>0.384718</td>\n",
       "      <td>0.000000</td>\n",
       "      <td>0.000000</td>\n",
       "      <td>...</td>\n",
       "      <td>0.000000</td>\n",
       "      <td>0.000000</td>\n",
       "      <td>0.000000</td>\n",
       "      <td>0.452561</td>\n",
       "      <td>0.000000</td>\n",
       "      <td>0.000000</td>\n",
       "      <td>0.000000</td>\n",
       "      <td>0.384718</td>\n",
       "      <td>0.000000</td>\n",
       "      <td>0.452561</td>\n",
       "    </tr>\n",
       "    <tr>\n",
       "      <th>1</th>\n",
       "      <td>0.000000</td>\n",
       "      <td>0.000000</td>\n",
       "      <td>0.000000</td>\n",
       "      <td>0.000000</td>\n",
       "      <td>0.000000</td>\n",
       "      <td>0.000000</td>\n",
       "      <td>0.423549</td>\n",
       "      <td>0.000000</td>\n",
       "      <td>0.000000</td>\n",
       "      <td>0.000000</td>\n",
       "      <td>...</td>\n",
       "      <td>0.000000</td>\n",
       "      <td>0.000000</td>\n",
       "      <td>0.000000</td>\n",
       "      <td>0.000000</td>\n",
       "      <td>0.640549</td>\n",
       "      <td>0.000000</td>\n",
       "      <td>0.000000</td>\n",
       "      <td>0.000000</td>\n",
       "      <td>0.640549</td>\n",
       "      <td>0.000000</td>\n",
       "    </tr>\n",
       "    <tr>\n",
       "      <th>2</th>\n",
       "      <td>0.000000</td>\n",
       "      <td>0.000000</td>\n",
       "      <td>0.000000</td>\n",
       "      <td>0.000000</td>\n",
       "      <td>0.000000</td>\n",
       "      <td>0.000000</td>\n",
       "      <td>0.481926</td>\n",
       "      <td>0.619575</td>\n",
       "      <td>0.000000</td>\n",
       "      <td>0.000000</td>\n",
       "      <td>...</td>\n",
       "      <td>0.000000</td>\n",
       "      <td>0.000000</td>\n",
       "      <td>0.000000</td>\n",
       "      <td>0.000000</td>\n",
       "      <td>0.000000</td>\n",
       "      <td>0.000000</td>\n",
       "      <td>0.000000</td>\n",
       "      <td>0.619575</td>\n",
       "      <td>0.000000</td>\n",
       "      <td>0.000000</td>\n",
       "    </tr>\n",
       "    <tr>\n",
       "      <th>3</th>\n",
       "      <td>0.000000</td>\n",
       "      <td>0.000000</td>\n",
       "      <td>0.000000</td>\n",
       "      <td>0.647689</td>\n",
       "      <td>0.000000</td>\n",
       "      <td>0.761905</td>\n",
       "      <td>0.000000</td>\n",
       "      <td>0.000000</td>\n",
       "      <td>0.000000</td>\n",
       "      <td>0.000000</td>\n",
       "      <td>...</td>\n",
       "      <td>0.000000</td>\n",
       "      <td>0.000000</td>\n",
       "      <td>0.000000</td>\n",
       "      <td>0.000000</td>\n",
       "      <td>0.000000</td>\n",
       "      <td>0.000000</td>\n",
       "      <td>0.000000</td>\n",
       "      <td>0.000000</td>\n",
       "      <td>0.000000</td>\n",
       "      <td>0.000000</td>\n",
       "    </tr>\n",
       "    <tr>\n",
       "      <th>4</th>\n",
       "      <td>0.000000</td>\n",
       "      <td>0.259285</td>\n",
       "      <td>0.000000</td>\n",
       "      <td>0.410589</td>\n",
       "      <td>0.000000</td>\n",
       "      <td>0.000000</td>\n",
       "      <td>0.000000</td>\n",
       "      <td>0.000000</td>\n",
       "      <td>0.000000</td>\n",
       "      <td>0.000000</td>\n",
       "      <td>...</td>\n",
       "      <td>0.000000</td>\n",
       "      <td>0.000000</td>\n",
       "      <td>0.410589</td>\n",
       "      <td>0.000000</td>\n",
       "      <td>0.000000</td>\n",
       "      <td>0.000000</td>\n",
       "      <td>0.482994</td>\n",
       "      <td>0.000000</td>\n",
       "      <td>0.000000</td>\n",
       "      <td>0.000000</td>\n",
       "    </tr>\n",
       "    <tr>\n",
       "      <th>5</th>\n",
       "      <td>0.000000</td>\n",
       "      <td>0.249195</td>\n",
       "      <td>0.464198</td>\n",
       "      <td>0.000000</td>\n",
       "      <td>0.464198</td>\n",
       "      <td>0.000000</td>\n",
       "      <td>0.000000</td>\n",
       "      <td>0.000000</td>\n",
       "      <td>0.000000</td>\n",
       "      <td>0.464198</td>\n",
       "      <td>...</td>\n",
       "      <td>0.000000</td>\n",
       "      <td>0.464198</td>\n",
       "      <td>0.000000</td>\n",
       "      <td>0.000000</td>\n",
       "      <td>0.000000</td>\n",
       "      <td>0.000000</td>\n",
       "      <td>0.000000</td>\n",
       "      <td>0.000000</td>\n",
       "      <td>0.000000</td>\n",
       "      <td>0.000000</td>\n",
       "    </tr>\n",
       "    <tr>\n",
       "      <th>6</th>\n",
       "      <td>0.000000</td>\n",
       "      <td>0.362429</td>\n",
       "      <td>0.000000</td>\n",
       "      <td>0.000000</td>\n",
       "      <td>0.000000</td>\n",
       "      <td>0.000000</td>\n",
       "      <td>0.000000</td>\n",
       "      <td>0.000000</td>\n",
       "      <td>0.000000</td>\n",
       "      <td>0.000000</td>\n",
       "      <td>...</td>\n",
       "      <td>0.000000</td>\n",
       "      <td>0.000000</td>\n",
       "      <td>0.000000</td>\n",
       "      <td>0.000000</td>\n",
       "      <td>0.000000</td>\n",
       "      <td>0.000000</td>\n",
       "      <td>0.000000</td>\n",
       "      <td>0.000000</td>\n",
       "      <td>0.000000</td>\n",
       "      <td>0.000000</td>\n",
       "    </tr>\n",
       "    <tr>\n",
       "      <th>7</th>\n",
       "      <td>0.000000</td>\n",
       "      <td>0.419089</td>\n",
       "      <td>0.000000</td>\n",
       "      <td>0.000000</td>\n",
       "      <td>0.000000</td>\n",
       "      <td>0.000000</td>\n",
       "      <td>0.000000</td>\n",
       "      <td>0.000000</td>\n",
       "      <td>0.000000</td>\n",
       "      <td>0.000000</td>\n",
       "      <td>...</td>\n",
       "      <td>0.780677</td>\n",
       "      <td>0.000000</td>\n",
       "      <td>0.000000</td>\n",
       "      <td>0.000000</td>\n",
       "      <td>0.000000</td>\n",
       "      <td>0.000000</td>\n",
       "      <td>0.000000</td>\n",
       "      <td>0.000000</td>\n",
       "      <td>0.000000</td>\n",
       "      <td>0.000000</td>\n",
       "    </tr>\n",
       "    <tr>\n",
       "      <th>8</th>\n",
       "      <td>0.443764</td>\n",
       "      <td>0.238225</td>\n",
       "      <td>0.000000</td>\n",
       "      <td>0.000000</td>\n",
       "      <td>0.000000</td>\n",
       "      <td>0.000000</td>\n",
       "      <td>0.293430</td>\n",
       "      <td>0.000000</td>\n",
       "      <td>0.443764</td>\n",
       "      <td>0.000000</td>\n",
       "      <td>...</td>\n",
       "      <td>0.000000</td>\n",
       "      <td>0.000000</td>\n",
       "      <td>0.000000</td>\n",
       "      <td>0.000000</td>\n",
       "      <td>0.000000</td>\n",
       "      <td>0.443764</td>\n",
       "      <td>0.000000</td>\n",
       "      <td>0.000000</td>\n",
       "      <td>0.000000</td>\n",
       "      <td>0.000000</td>\n",
       "    </tr>\n",
       "    <tr>\n",
       "      <th>9</th>\n",
       "      <td>0.000000</td>\n",
       "      <td>0.314338</td>\n",
       "      <td>0.000000</td>\n",
       "      <td>0.000000</td>\n",
       "      <td>0.000000</td>\n",
       "      <td>0.000000</td>\n",
       "      <td>0.000000</td>\n",
       "      <td>0.000000</td>\n",
       "      <td>0.000000</td>\n",
       "      <td>0.000000</td>\n",
       "      <td>...</td>\n",
       "      <td>0.000000</td>\n",
       "      <td>0.000000</td>\n",
       "      <td>0.497769</td>\n",
       "      <td>0.000000</td>\n",
       "      <td>0.000000</td>\n",
       "      <td>0.000000</td>\n",
       "      <td>0.000000</td>\n",
       "      <td>0.000000</td>\n",
       "      <td>0.000000</td>\n",
       "      <td>0.000000</td>\n",
       "    </tr>\n",
       "  </tbody>\n",
       "</table>\n",
       "<p>10 rows × 27 columns</p>\n",
       "</div>"
      ],
      "text/plain": [
       "         一起        上課        之外        他們        充實      只是上課        吃飯  \\\n",
       "0  0.000000  0.000000  0.000000  0.000000  0.000000  0.000000  0.299247   \n",
       "1  0.000000  0.000000  0.000000  0.000000  0.000000  0.000000  0.423549   \n",
       "2  0.000000  0.000000  0.000000  0.000000  0.000000  0.000000  0.481926   \n",
       "3  0.000000  0.000000  0.000000  0.647689  0.000000  0.761905  0.000000   \n",
       "4  0.000000  0.259285  0.000000  0.410589  0.000000  0.000000  0.000000   \n",
       "5  0.000000  0.249195  0.464198  0.000000  0.464198  0.000000  0.000000   \n",
       "6  0.000000  0.362429  0.000000  0.000000  0.000000  0.000000  0.000000   \n",
       "7  0.000000  0.419089  0.000000  0.000000  0.000000  0.000000  0.000000   \n",
       "8  0.443764  0.238225  0.000000  0.000000  0.000000  0.000000  0.293430   \n",
       "9  0.000000  0.314338  0.000000  0.000000  0.000000  0.000000  0.000000   \n",
       "\n",
       "         好吃        意思        意義  ...        無聊        生活        睡覺        許多  \\\n",
       "0  0.384718  0.000000  0.000000  ...  0.000000  0.000000  0.000000  0.452561   \n",
       "1  0.000000  0.000000  0.000000  ...  0.000000  0.000000  0.000000  0.000000   \n",
       "2  0.619575  0.000000  0.000000  ...  0.000000  0.000000  0.000000  0.000000   \n",
       "3  0.000000  0.000000  0.000000  ...  0.000000  0.000000  0.000000  0.000000   \n",
       "4  0.000000  0.000000  0.000000  ...  0.000000  0.000000  0.410589  0.000000   \n",
       "5  0.000000  0.000000  0.464198  ...  0.000000  0.464198  0.000000  0.000000   \n",
       "6  0.000000  0.000000  0.000000  ...  0.000000  0.000000  0.000000  0.000000   \n",
       "7  0.000000  0.000000  0.000000  ...  0.780677  0.000000  0.000000  0.000000   \n",
       "8  0.000000  0.443764  0.000000  ...  0.000000  0.000000  0.000000  0.000000   \n",
       "9  0.000000  0.000000  0.000000  ...  0.000000  0.000000  0.497769  0.000000   \n",
       "\n",
       "         豆漿        還是        都是        青菜        饅頭        點了  \n",
       "0  0.000000  0.000000  0.000000  0.384718  0.000000  0.452561  \n",
       "1  0.640549  0.000000  0.000000  0.000000  0.640549  0.000000  \n",
       "2  0.000000  0.000000  0.000000  0.619575  0.000000  0.000000  \n",
       "3  0.000000  0.000000  0.000000  0.000000  0.000000  0.000000  \n",
       "4  0.000000  0.000000  0.482994  0.000000  0.000000  0.000000  \n",
       "5  0.000000  0.000000  0.000000  0.000000  0.000000  0.000000  \n",
       "6  0.000000  0.000000  0.000000  0.000000  0.000000  0.000000  \n",
       "7  0.000000  0.000000  0.000000  0.000000  0.000000  0.000000  \n",
       "8  0.000000  0.443764  0.000000  0.000000  0.000000  0.000000  \n",
       "9  0.000000  0.000000  0.000000  0.000000  0.000000  0.000000  \n",
       "\n",
       "[10 rows x 27 columns]"
      ]
     },
     "execution_count": 20,
     "metadata": {},
     "output_type": "execute_result"
    }
   ],
   "source": [
    "# 文章字詞矩陣\n",
    "# dtm_tfidf 有加權\n",
    "#如何讓字詞在文章具有辨識度，有利於文章和文章間的區辨\n",
    "vectorizer = TfidfVectorizer(min_df = 1,ngram_range= (1,1))\n",
    "dtm_tfidf = vectorizer.fit_transform(documents) # sparse matrix\n",
    "\n",
    "# 轉成 array\n",
    "dtm_tfidf=dtm_tfidf.toarray() \n",
    "# 轉成 DataFrame\n",
    "df_tfidf=pd.DataFrame(dtm_tfidf, columns=terms)\n",
    "df_tfidf"
   ]
  },
  {
   "cell_type": "markdown",
   "metadata": {},
   "source": [
    "## 與未加權比較"
   ]
  },
  {
   "cell_type": "code",
   "execution_count": 89,
   "metadata": {},
   "outputs": [
    {
     "data": {
      "text/html": [
       "<div>\n",
       "<style scoped>\n",
       "    .dataframe tbody tr th:only-of-type {\n",
       "        vertical-align: middle;\n",
       "    }\n",
       "\n",
       "    .dataframe tbody tr th {\n",
       "        vertical-align: top;\n",
       "    }\n",
       "\n",
       "    .dataframe thead th {\n",
       "        text-align: right;\n",
       "    }\n",
       "</style>\n",
       "<table border=\"1\" class=\"dataframe\">\n",
       "  <thead>\n",
       "    <tr style=\"text-align: right;\">\n",
       "      <th></th>\n",
       "      <th>一起</th>\n",
       "      <th>上課</th>\n",
       "      <th>之外</th>\n",
       "      <th>他們</th>\n",
       "      <th>充實</th>\n",
       "      <th>只是上課</th>\n",
       "      <th>吃飯</th>\n",
       "      <th>好吃</th>\n",
       "      <th>意思</th>\n",
       "      <th>意義</th>\n",
       "      <th>...</th>\n",
       "      <th>無聊</th>\n",
       "      <th>生活</th>\n",
       "      <th>睡覺</th>\n",
       "      <th>許多</th>\n",
       "      <th>豆漿</th>\n",
       "      <th>還是</th>\n",
       "      <th>都是</th>\n",
       "      <th>青菜</th>\n",
       "      <th>饅頭</th>\n",
       "      <th>點了</th>\n",
       "    </tr>\n",
       "  </thead>\n",
       "  <tbody>\n",
       "    <tr>\n",
       "      <th>0</th>\n",
       "      <td>0</td>\n",
       "      <td>0</td>\n",
       "      <td>0</td>\n",
       "      <td>0</td>\n",
       "      <td>0</td>\n",
       "      <td>0</td>\n",
       "      <td>1</td>\n",
       "      <td>1</td>\n",
       "      <td>0</td>\n",
       "      <td>0</td>\n",
       "      <td>...</td>\n",
       "      <td>0</td>\n",
       "      <td>0</td>\n",
       "      <td>0</td>\n",
       "      <td>1</td>\n",
       "      <td>0</td>\n",
       "      <td>0</td>\n",
       "      <td>0</td>\n",
       "      <td>1</td>\n",
       "      <td>0</td>\n",
       "      <td>1</td>\n",
       "    </tr>\n",
       "    <tr>\n",
       "      <th>1</th>\n",
       "      <td>0</td>\n",
       "      <td>0</td>\n",
       "      <td>0</td>\n",
       "      <td>0</td>\n",
       "      <td>0</td>\n",
       "      <td>0</td>\n",
       "      <td>1</td>\n",
       "      <td>0</td>\n",
       "      <td>0</td>\n",
       "      <td>0</td>\n",
       "      <td>...</td>\n",
       "      <td>0</td>\n",
       "      <td>0</td>\n",
       "      <td>0</td>\n",
       "      <td>0</td>\n",
       "      <td>1</td>\n",
       "      <td>0</td>\n",
       "      <td>0</td>\n",
       "      <td>0</td>\n",
       "      <td>1</td>\n",
       "      <td>0</td>\n",
       "    </tr>\n",
       "    <tr>\n",
       "      <th>2</th>\n",
       "      <td>0</td>\n",
       "      <td>0</td>\n",
       "      <td>0</td>\n",
       "      <td>0</td>\n",
       "      <td>0</td>\n",
       "      <td>0</td>\n",
       "      <td>1</td>\n",
       "      <td>1</td>\n",
       "      <td>0</td>\n",
       "      <td>0</td>\n",
       "      <td>...</td>\n",
       "      <td>0</td>\n",
       "      <td>0</td>\n",
       "      <td>0</td>\n",
       "      <td>0</td>\n",
       "      <td>0</td>\n",
       "      <td>0</td>\n",
       "      <td>0</td>\n",
       "      <td>1</td>\n",
       "      <td>0</td>\n",
       "      <td>0</td>\n",
       "    </tr>\n",
       "    <tr>\n",
       "      <th>3</th>\n",
       "      <td>0</td>\n",
       "      <td>0</td>\n",
       "      <td>0</td>\n",
       "      <td>1</td>\n",
       "      <td>0</td>\n",
       "      <td>1</td>\n",
       "      <td>0</td>\n",
       "      <td>0</td>\n",
       "      <td>0</td>\n",
       "      <td>0</td>\n",
       "      <td>...</td>\n",
       "      <td>0</td>\n",
       "      <td>0</td>\n",
       "      <td>0</td>\n",
       "      <td>0</td>\n",
       "      <td>0</td>\n",
       "      <td>0</td>\n",
       "      <td>0</td>\n",
       "      <td>0</td>\n",
       "      <td>0</td>\n",
       "      <td>0</td>\n",
       "    </tr>\n",
       "    <tr>\n",
       "      <th>4</th>\n",
       "      <td>0</td>\n",
       "      <td>1</td>\n",
       "      <td>0</td>\n",
       "      <td>1</td>\n",
       "      <td>0</td>\n",
       "      <td>0</td>\n",
       "      <td>0</td>\n",
       "      <td>0</td>\n",
       "      <td>0</td>\n",
       "      <td>0</td>\n",
       "      <td>...</td>\n",
       "      <td>0</td>\n",
       "      <td>0</td>\n",
       "      <td>1</td>\n",
       "      <td>0</td>\n",
       "      <td>0</td>\n",
       "      <td>0</td>\n",
       "      <td>1</td>\n",
       "      <td>0</td>\n",
       "      <td>0</td>\n",
       "      <td>0</td>\n",
       "    </tr>\n",
       "    <tr>\n",
       "      <th>5</th>\n",
       "      <td>0</td>\n",
       "      <td>1</td>\n",
       "      <td>1</td>\n",
       "      <td>0</td>\n",
       "      <td>1</td>\n",
       "      <td>0</td>\n",
       "      <td>0</td>\n",
       "      <td>0</td>\n",
       "      <td>0</td>\n",
       "      <td>1</td>\n",
       "      <td>...</td>\n",
       "      <td>0</td>\n",
       "      <td>1</td>\n",
       "      <td>0</td>\n",
       "      <td>0</td>\n",
       "      <td>0</td>\n",
       "      <td>0</td>\n",
       "      <td>0</td>\n",
       "      <td>0</td>\n",
       "      <td>0</td>\n",
       "      <td>0</td>\n",
       "    </tr>\n",
       "    <tr>\n",
       "      <th>6</th>\n",
       "      <td>0</td>\n",
       "      <td>1</td>\n",
       "      <td>0</td>\n",
       "      <td>0</td>\n",
       "      <td>0</td>\n",
       "      <td>0</td>\n",
       "      <td>0</td>\n",
       "      <td>0</td>\n",
       "      <td>0</td>\n",
       "      <td>0</td>\n",
       "      <td>...</td>\n",
       "      <td>0</td>\n",
       "      <td>0</td>\n",
       "      <td>0</td>\n",
       "      <td>0</td>\n",
       "      <td>0</td>\n",
       "      <td>0</td>\n",
       "      <td>0</td>\n",
       "      <td>0</td>\n",
       "      <td>0</td>\n",
       "      <td>0</td>\n",
       "    </tr>\n",
       "    <tr>\n",
       "      <th>7</th>\n",
       "      <td>0</td>\n",
       "      <td>1</td>\n",
       "      <td>0</td>\n",
       "      <td>0</td>\n",
       "      <td>0</td>\n",
       "      <td>0</td>\n",
       "      <td>0</td>\n",
       "      <td>0</td>\n",
       "      <td>0</td>\n",
       "      <td>0</td>\n",
       "      <td>...</td>\n",
       "      <td>1</td>\n",
       "      <td>0</td>\n",
       "      <td>0</td>\n",
       "      <td>0</td>\n",
       "      <td>0</td>\n",
       "      <td>0</td>\n",
       "      <td>0</td>\n",
       "      <td>0</td>\n",
       "      <td>0</td>\n",
       "      <td>0</td>\n",
       "    </tr>\n",
       "    <tr>\n",
       "      <th>8</th>\n",
       "      <td>1</td>\n",
       "      <td>1</td>\n",
       "      <td>0</td>\n",
       "      <td>0</td>\n",
       "      <td>0</td>\n",
       "      <td>0</td>\n",
       "      <td>1</td>\n",
       "      <td>0</td>\n",
       "      <td>1</td>\n",
       "      <td>0</td>\n",
       "      <td>...</td>\n",
       "      <td>0</td>\n",
       "      <td>0</td>\n",
       "      <td>0</td>\n",
       "      <td>0</td>\n",
       "      <td>0</td>\n",
       "      <td>1</td>\n",
       "      <td>0</td>\n",
       "      <td>0</td>\n",
       "      <td>0</td>\n",
       "      <td>0</td>\n",
       "    </tr>\n",
       "    <tr>\n",
       "      <th>9</th>\n",
       "      <td>0</td>\n",
       "      <td>1</td>\n",
       "      <td>0</td>\n",
       "      <td>0</td>\n",
       "      <td>0</td>\n",
       "      <td>0</td>\n",
       "      <td>0</td>\n",
       "      <td>0</td>\n",
       "      <td>0</td>\n",
       "      <td>0</td>\n",
       "      <td>...</td>\n",
       "      <td>0</td>\n",
       "      <td>0</td>\n",
       "      <td>1</td>\n",
       "      <td>0</td>\n",
       "      <td>0</td>\n",
       "      <td>0</td>\n",
       "      <td>0</td>\n",
       "      <td>0</td>\n",
       "      <td>0</td>\n",
       "      <td>0</td>\n",
       "    </tr>\n",
       "  </tbody>\n",
       "</table>\n",
       "<p>10 rows × 27 columns</p>\n",
       "</div>"
      ],
      "text/plain": [
       "   一起  上課  之外  他們  充實  只是上課  吃飯  好吃  意思  意義 ...  無聊  生活  睡覺  許多  豆漿  還是  都是  \\\n",
       "0   0   0   0   0   0     0   1   1   0   0 ...   0   0   0   1   0   0   0   \n",
       "1   0   0   0   0   0     0   1   0   0   0 ...   0   0   0   0   1   0   0   \n",
       "2   0   0   0   0   0     0   1   1   0   0 ...   0   0   0   0   0   0   0   \n",
       "3   0   0   0   1   0     1   0   0   0   0 ...   0   0   0   0   0   0   0   \n",
       "4   0   1   0   1   0     0   0   0   0   0 ...   0   0   1   0   0   0   1   \n",
       "5   0   1   1   0   1     0   0   0   0   1 ...   0   1   0   0   0   0   0   \n",
       "6   0   1   0   0   0     0   0   0   0   0 ...   0   0   0   0   0   0   0   \n",
       "7   0   1   0   0   0     0   0   0   0   0 ...   1   0   0   0   0   0   0   \n",
       "8   1   1   0   0   0     0   1   0   1   0 ...   0   0   0   0   0   1   0   \n",
       "9   0   1   0   0   0     0   0   0   0   0 ...   0   0   1   0   0   0   0   \n",
       "\n",
       "   青菜  饅頭  點了  \n",
       "0   1   0   1  \n",
       "1   0   1   0  \n",
       "2   1   0   0  \n",
       "3   0   0   0  \n",
       "4   0   0   0  \n",
       "5   0   0   0  \n",
       "6   0   0   0  \n",
       "7   0   0   0  \n",
       "8   0   0   0  \n",
       "9   0   0   0  \n",
       "\n",
       "[10 rows x 27 columns]"
      ]
     },
     "execution_count": 89,
     "metadata": {},
     "output_type": "execute_result"
    }
   ],
   "source": [
    "df"
   ]
  },
  {
   "cell_type": "markdown",
   "metadata": {
    "collapsed": true
   },
   "source": [
    "## tfidf 篩選 features\n",
    "* 簡化各篇文章，只取 tfidf 分數較高的 features"
   ]
  },
  {
   "cell_type": "code",
   "execution_count": 69,
   "metadata": {},
   "outputs": [
    {
     "name": "stdout",
     "output_type": "stream",
     "text": [
      "總共元素個數  270\n",
      "非零元素個數 45\n",
      "中位數 0.44376425186838186\n"
     ]
    }
   ],
   "source": [
    "# features\n",
    "allF = dtm_tfidf.flatten()\n",
    "print ('總共元素個數 ',len(allF))\n",
    "nonZero = allF[np.nonzero(allF)]\n",
    "print ('非零元素個數', len(nonZero))\n",
    "m = np.median(nonZero)\n",
    "print ('中位數',m)"
   ]
  },
  {
   "cell_type": "code",
   "execution_count": 70,
   "metadata": {},
   "outputs": [
    {
     "data": {
      "image/png": "[encoded data removed]",
      "text/plain": [
       "<Figure size 432x288 with 1 Axes>"
      ]
     },
     "metadata": {
      "needs_background": "light"
     },
     "output_type": "display_data"
    },
    {
     "data": {
      "text/plain": [
       "0.44376425186838186"
      ]
     },
     "execution_count": 70,
     "metadata": {},
     "output_type": "execute_result"
    }
   ],
   "source": [
    "plt.hist(nonZero, bins=10)\n",
    "plt.show()\n",
    "m"
   ]
  },
  {
   "cell_type": "markdown",
   "metadata": {},
   "source": [
    "# 萃取 features"
   ]
  },
  {
   "cell_type": "code",
   "execution_count": 25,
   "metadata": {
    "scrolled": true
   },
   "outputs": [
    {
     "data": {
      "text/plain": [
       "[['吃飯', '好吃', '早上', '許多', '青菜', '點了'],\n",
       " ['吃飯', '豆漿', '饅頭'],\n",
       " ['吃飯', '好吃', '青菜'],\n",
       " ['他們', '只是上課'],\n",
       " ['上課', '他們', '我們', '每天', '睡覺', '都是'],\n",
       " ['上課', '之外', '充實', '意義', '明天', '生活'],\n",
       " ['上課', '我們', '打算', '明天'],\n",
       " ['上課', '明天', '無聊'],\n",
       " ['一起', '上課', '吃飯', '意思', '明天', '比較', '還是'],\n",
       " ['上課', '我們', '明天', '為了', '睡覺']]"
      ]
     },
     "execution_count": 25,
     "metadata": {},
     "output_type": "execute_result"
    }
   ],
   "source": [
    "# extract features ################################\n",
    "m = 0.1\n",
    "dataset = []\n",
    "# 所有的 tfidf 值\n",
    "tit =df_tfidf.columns.values\n",
    "# print(tit)\n",
    "# print(df_tfidf.iloc[0])\n",
    "for i in range(len(df_tfidf)):   \n",
    "    cri = df_tfidf.iloc[i]>=m #threshold\n",
    "    temp = [x for j,x in enumerate(tit) if cri[j]]\n",
    "#     print(temp)\n",
    "    dataset.append(temp)\n",
    "dataset"
   ]
  },
  {
   "cell_type": "markdown",
   "metadata": {},
   "source": [
    "## show 出最後篩選的結果"
   ]
  },
  {
   "cell_type": "code",
   "execution_count": 77,
   "metadata": {},
   "outputs": [
    {
     "name": "stdout",
     "output_type": "stream",
     "text": [
      "['吃飯', '好吃', '早上', '許多', '青菜', '點了']\n",
      "['吃飯', '豆漿', '饅頭']\n",
      "['吃飯', '好吃', '青菜']\n",
      "['他們', '只是上課']\n",
      "['上課', '他們', '我們', '每天', '睡覺', '都是']\n",
      "['上課', '之外', '充實', '意義', '明天', '生活']\n",
      "['上課', '我們', '打算', '明天']\n",
      "['上課', '明天', '無聊']\n",
      "['一起', '上課', '吃飯', '意思', '明天', '比較', '還是']\n",
      "['上課', '我們', '明天', '為了', '睡覺']\n"
     ]
    }
   ],
   "source": [
    "# 篩選 Tfidf 各篇文章的重要字詞\n",
    "for i in range(len(df_tfidf)):\n",
    "    print(dataset[i])"
   ]
  },
  {
   "cell_type": "markdown",
   "metadata": {},
   "source": [
    "# 比較未篩選\n",
    "* s0='早上 去 吃飯 了，點了 許多 好吃 的 青菜。'\n",
    "* s1='也 有 吃飯 了，是 吃 饅頭 和 豆漿'\n",
    "* s2='吃飯 了 有 好吃 的 青菜 '\n",
    "* s3='他們 只是上課'\n",
    "* s4='我們 和 他們 每天 都是 上課 和 睡覺'\n",
    "* s5='明天 上課 讓 生活 很 充實 之外 也 很 有 意義 了'\n",
    "* s6='明天 我們 不 打算 上課 了'\n",
    "* s7='明天 上課 很 無聊 了'\n",
    "* s8='明天 還是 一起 去 上課 吃飯 比較 有 意思 了'\n",
    "* s9='為了 上課 我們 明天 不 睡覺 了' "
   ]
  },
  {
   "cell_type": "code",
   "execution_count": 80,
   "metadata": {},
   "outputs": [],
   "source": [
    "#3"
   ]
  },
  {
   "cell_type": "markdown",
   "metadata": {},
   "source": [
    "---\n",
    "# SVD 降維\n",
    "---\n",
    "* 設 A 為一個 $m\\times n$ 階實矩陣，列為文章，欄為字詞。\n",
    "* SVD 為將A 分解為三個矩陣相乘：\n",
    "* $A = U\\Sigma V^T$\n",
    "* 目標是將 A ( $m\\times n$) 降維成為 A' ($m\\times r$) 矩陣。"
   ]
  },
  {
   "cell_type": "code",
   "execution_count": 90,
   "metadata": {},
   "outputs": [
    {
     "data": {
      "image/jpeg": "[encoded data removed]",
      "text/plain": [
       "<IPython.core.display.Image object>"
      ]
     },
     "execution_count": 90,
     "metadata": {},
     "output_type": "execute_result"
    }
   ],
   "source": [
    "from IPython.display import Image\n",
    "Image(\"pic/svd.jpg\")"
   ]
  },
  {
   "cell_type": "markdown",
   "metadata": {},
   "source": [
    "* A 為文章字詞矩陣，m為文章數，n為字詞數\n",
    "* 其中 U 是 $m\\times m$ 階，$\\Sigma$ 是 $m\\times n$ 階，V 是 $n\\times n$ 階。\n",
    "* 特別的是，方陣 $U$ 和 $V$ 都是正交矩陣 (orthogonal matrix)，也就是說，$U^T=U^{-1}，V^T=V^{-1}$。\n",
    "* 正交矩陣是一個方塊矩陣，其元素為實數，而且行與列皆為正交的單位向量，使得該矩陣的轉置矩陣為其逆矩陣。\n",
    "* $\\Sigma$ 是對角矩陣，只有對角線有值，其他均為 0。\n",
    "* $\\Sigma$ 對角元素 $\\sigma_i>0，i=1,2,\\ldots,r$，稱為奇異值 (singular values)。為一數值遞減的對角線矩陣( 第一個元素最大 )，除了對角線上的奇異值以外皆為零，同時奇異值為非負數值，U 與 V 都是正交矩陣。\n",
    "* $r$ 代表降維以後的維度，其值必須小於 $min (m,n)$。$U$ 取前面 $m\\times r$維，$\\Sigma$ 取前面 $r\\times r$維，相乘得 $A'$。 $A$ 為文章向量。$A'$ 為降維後的結果。 \n",
    "* 經過簡化後的 $U\\Sigma$ 是$A$在新維度上的投影。 $D = U\\Sigma$ 為降維後的文章矩陣。$m\\times r$維。\n",
    "*  $T = V^T\\Sigma$ 為降維後的字詞矩陣。$n\\times r$維。 "
   ]
  },
  {
   "cell_type": "markdown",
   "metadata": {},
   "source": [
    "## 降維所能解釋的變異"
   ]
  },
  {
   "cell_type": "code",
   "execution_count": 91,
   "metadata": {},
   "outputs": [
    {
     "name": "stdout",
     "output_type": "stream",
     "text": [
      "[0.06660969 0.13970681 0.11950625]\n",
      "[0.08314845 0.17439512 0.1491789 ]\n",
      "0.40672247637356723\n"
     ]
    }
   ],
   "source": [
    "# Fit LSI model to X and perform dimensionality reduction on X.\n",
    "# 降成的維度數，其值小於 min(m,n)\n",
    "num_i=3\n",
    "\n",
    "# 降維\n",
    "svd = TruncatedSVD(num_i, algorithm = 'arpack')   # object\n",
    "dtm_svd_tfidf = svd.fit_transform(dtm_tfidf)  # numpy array\n",
    "\n",
    "# 兩個維度所能解釋的變異，簡化成兩個維度\n",
    "print (svd.explained_variance_)\n",
    "print (svd.explained_variance_ratio_)\n",
    "print(svd.explained_variance_ratio_.sum())   "
   ]
  },
  {
   "cell_type": "code",
   "execution_count": 92,
   "metadata": {
    "scrolled": true
   },
   "outputs": [
    {
     "name": "stdout",
     "output_type": "stream",
     "text": [
      "[0.08314845 0.25754358 0.40672248]\n"
     ]
    },
    {
     "data": {
      "image/png": "[encoded data removed]",
      "text/plain": [
       "<Figure size 432x288 with 1 Axes>"
      ]
     },
     "metadata": {
      "needs_background": "light"
     },
     "output_type": "display_data"
    }
   ],
   "source": [
    "# 累計圖 \n",
    "len_d=len(svd.explained_variance_ratio_)\n",
    "print (np.cumsum(svd.explained_variance_ratio_))\n",
    "ind =range(len_d)\n",
    "plt.bar(ind, np.cumsum(svd.explained_variance_ratio_)[:len_d])\n",
    "plt.show()"
   ]
  },
  {
   "cell_type": "markdown",
   "metadata": {},
   "source": [
    "## TruncatedSVD() 函數"
   ]
  },
  {
   "cell_type": "code",
   "execution_count": 93,
   "metadata": {},
   "outputs": [
    {
     "data": {
      "text/plain": [
       "array([[ 0.09721305,  0.83276367],\n",
       "       [ 0.07381281,  0.42440638],\n",
       "       [ 0.11303603,  0.86649746],\n",
       "       [ 0.1252298 , -0.04630918],\n",
       "       [ 0.56991294, -0.1281903 ],\n",
       "       [ 0.42383535, -0.04810953],\n",
       "       [ 0.73226436, -0.10939373],\n",
       "       [ 0.60037992, -0.06277959],\n",
       "       [ 0.43399475,  0.24143134],\n",
       "       [ 0.75989166, -0.12891791]])"
      ]
     },
     "execution_count": 93,
     "metadata": {},
     "output_type": "execute_result"
    }
   ],
   "source": [
    "# 向量降維\n",
    "# 降維的維度數，其值不能小於 min(m,n)\n",
    "num_i=2\n",
    "# 降成 2 維，產出 numpy array, 注意有 transform\n",
    "svd = TruncatedSVD(num_i, algorithm = 'arpack')   # object\n",
    "dtm_svd_tfidf = svd.fit_transform(dtm_tfidf)  # numpy array\n",
    "\n",
    "# 10*2 矩陣，文章在兩個維度上的投影, array dtm\n",
    "dtm_svd_tfidf\n",
    "\n",
    "\n",
    "#有點像主成分分析"
   ]
  },
  {
   "cell_type": "markdown",
   "metadata": {},
   "source": [
    "## 維度的組成"
   ]
  },
  {
   "cell_type": "code",
   "execution_count": 105,
   "metadata": {},
   "outputs": [
    {
     "name": "stdout",
     "output_type": "stream",
     "text": [
      "[[ 0.08713558  0.50340261  0.08901416  0.14256767  0.08901416  0.04316853\n",
      "   0.10956953  0.04860718  0.08713558  0.08901416  0.40869912  0.22367328\n",
      "   0.01990493  0.48289206  0.12454012  0.08713558  0.20131318  0.21205866\n",
      "   0.08901416  0.27700508  0.01990493  0.02139158  0.08713558  0.12454012\n",
      "   0.04860718  0.02139158  0.01990493]\n",
      " [ 0.0617107  -0.05425415 -0.01286319 -0.04759257 -0.01286319 -0.02032275\n",
      "   0.52840664  0.49376119  0.0617107  -0.01286319 -0.09049864 -0.0425397\n",
      "   0.21707692 -0.03883693 -0.0356625   0.0617107  -0.04348    -0.02822956\n",
      "  -0.01286319 -0.06727836  0.21707692  0.15658449  0.0617107  -0.0356625\n",
      "   0.49376119  0.15658449  0.21707692]]\n"
     ]
    }
   ],
   "source": [
    "# 向量降維  #無 transform\n",
    "# 降維的維度數，其值不能小於 min(m,n)\n",
    "num_i=2\n",
    "# 降成 2 維，產出 numpy array, 注意無 transform\n",
    "svd = TruncatedSVD(num_i, algorithm = 'arpack')   # object\n",
    "dtm_svd_tfidf_com = svd.fit(dtm_tfidf)  # object, not numpy array\n",
    "# components\n",
    "comp=dtm_svd_tfidf_com.components_\n",
    "print (comp)\n"
   ]
  },
  {
   "cell_type": "markdown",
   "metadata": {},
   "source": [
    "## 文章在維度上的投影"
   ]
  },
  {
   "cell_type": "code",
   "execution_count": 109,
   "metadata": {},
   "outputs": [
    {
     "name": "stdout",
     "output_type": "stream",
     "text": [
      "0.09721305000000006\n",
      "0.8327636699999998\n"
     ]
    }
   ],
   "source": [
    "# 第一篇文章在第二個維度上的投影，使用　projection 函數。\n",
    "doc=dtm_tfidf[0]\n",
    "print (projection(doc,comp[0]))\n",
    "print (projection(doc,comp[1]))"
   ]
  },
  {
   "cell_type": "markdown",
   "metadata": {},
   "source": [
    "## 各篇文章的投影 dtm_tfidf"
   ]
  },
  {
   "cell_type": "code",
   "execution_count": 111,
   "metadata": {},
   "outputs": [
    {
     "data": {
      "text/plain": [
       "array([[ 0.09721305,  0.83276367],\n",
       "       [ 0.07381281,  0.42440638],\n",
       "       [ 0.11303603,  0.86649746],\n",
       "       [ 0.1252298 , -0.04630918],\n",
       "       [ 0.56991294, -0.1281903 ],\n",
       "       [ 0.42383535, -0.04810953],\n",
       "       [ 0.73226436, -0.10939373],\n",
       "       [ 0.60037992, -0.06277959],\n",
       "       [ 0.43399475,  0.24143134],\n",
       "       [ 0.75989166, -0.12891791]])"
      ]
     },
     "execution_count": 111,
     "metadata": {},
     "output_type": "execute_result"
    }
   ],
   "source": [
    "# 沒有標準化\n",
    "dtm_svd_tfidf"
   ]
  },
  {
   "cell_type": "markdown",
   "metadata": {},
   "source": [
    "## 標準化"
   ]
  },
  {
   "cell_type": "code",
   "execution_count": 113,
   "metadata": {},
   "outputs": [
    {
     "data": {
      "text/plain": [
       "array([[ 0.11594812,  0.99325527],\n",
       "       [ 0.17134796,  0.98521058],\n",
       "       [ 0.12935564,  0.99159826],\n",
       "       [ 0.93792483, -0.34683859],\n",
       "       [ 0.97562446, -0.21944684],\n",
       "       [ 0.99361934, -0.11278567],\n",
       "       [ 0.98902453, -0.1477514 ],\n",
       "       [ 0.99457736, -0.10399941],\n",
       "       [ 0.8738809 ,  0.48614007],\n",
       "       [ 0.98591231, -0.16726299]])"
      ]
     },
     "execution_count": 113,
     "metadata": {},
     "output_type": "execute_result"
    }
   ],
   "source": [
    "# 比較：正負號沒有變，數字改變, \n",
    "# 十篇文章在兩個維度的投影標準化，當然也可以不標準化\n",
    "dtm_svd_tfidf_n = Normalizer().fit_transform(dtm_svd_tfidf)\n",
    "dtm_svd_tfidf_n"
   ]
  },
  {
   "cell_type": "markdown",
   "metadata": {},
   "source": [
    "# 繪圖"
   ]
  },
  {
   "cell_type": "code",
   "execution_count": 115,
   "metadata": {
    "scrolled": false
   },
   "outputs": [
    {
     "name": "stdout",
     "output_type": "stream",
     "text": [
      "Populating the interactive namespace from numpy and matplotlib\n"
     ]
    },
    {
     "data": {
      "image/png": "[encoded data removed]",
      "text/plain": [
       "<Figure size 720x720 with 1 Axes>"
      ]
     },
     "metadata": {
      "needs_background": "light"
     },
     "output_type": "display_data"
    }
   ],
   "source": [
    "#疊在一起代表向量的夾角很小\n",
    "import matplotlib.pyplot as plt\n",
    "# 中文設定\n",
    "from matplotlib import rcParams\n",
    "rcParams[\"font.sans-serif\"] = [\"kaiu\"] \n",
    "rcParams[\"font.family\"] =\"DFKai-sb\"\n",
    "\n",
    "%pylab inline\n",
    "# 文章在 components上的投影，兩度空間作圖\n",
    "com1=0\n",
    "com2=1\n",
    "\n",
    "# 這是沒有標準化的圖，如果標準化會不一樣\n",
    "xs = [w[com1] for w in dtm_svd_tfidf]\n",
    "ys = [w[com2] for w in dtm_svd_tfidf]\n",
    "\n",
    "# 繪圖\n",
    "fig, ax = plt.subplots(figsize=(10,10))\n",
    "ax.scatter(xs, ys, s=900,color='yellow')\n",
    "# 無法顯示中文文字，以數字替代\n",
    "t=doc_label\n",
    "\n",
    "for i, txt in enumerate(t):\n",
    "    ax.annotate(txt, (xs[i],ys[i]), size=30,color=numpy.random.random(3))\n",
    "    \n",
    "xlabel('向度1')\n",
    "ylabel('向度2')\n",
    "title('在兩個向度上的投影')    \n",
    "plt.show()"
   ]
  },
  {
   "cell_type": "code",
   "execution_count": null,
   "metadata": {
    "collapsed": true
   },
   "outputs": [],
   "source": [
    "s0='早上 去 吃飯 了　，　點了　許多　好吃　的　青菜。'\n",
    "s1='也 有 吃飯 了　，是　吃　饅頭　和　豆漿'\n",
    "s2='吃飯　了　有　好吃　的　青菜　 '\n",
    "s3='他們 只是 上課'\n",
    "s4='我們 和 他們 每天 都是 上課 和 睡覺'\n",
    "s5='明天 上課 讓 生活 很 充實 之外 也 很 有 意義 了'\n",
    "s6='明天 我們 不 打算 上課 了'\n",
    "s7='明天 上課 很 無聊 了'\n",
    "s8='明天 還是 一起　去 上課　吃飯　比較 有 意思 了'\n",
    "s9='為了 上課 我們 明天 不 睡覺 了'"
   ]
  },
  {
   "cell_type": "markdown",
   "metadata": {},
   "source": [
    "## 標準化"
   ]
  },
  {
   "cell_type": "code",
   "execution_count": 116,
   "metadata": {
    "scrolled": false
   },
   "outputs": [
    {
     "data": {
      "image/png": "[encoded data removed]",
      "text/plain": [
       "<Figure size 720x720 with 1 Axes>"
      ]
     },
     "metadata": {
      "needs_background": "light"
     },
     "output_type": "display_data"
    }
   ],
   "source": [
    "# 文章在 components上的投影，兩度空間作圖\n",
    "com1=0\n",
    "com2=1\n",
    "\n",
    "# 這是沒有標準化的圖，如果標準化會不一樣\n",
    "xs = [w[com1] for w in dtm_svd_tfidf_n]\n",
    "ys = [w[com2] for w in dtm_svd_tfidf_n]\n",
    "\n",
    "# 繪圖\n",
    "fig, ax = plt.subplots(figsize=(10,10))\n",
    "ax.scatter(xs, ys, s=900,color='yellow')\n",
    "# 無法顯示中文文字，以數字替代\n",
    "t=doc_label\n",
    "\n",
    "for i, txt in enumerate(t):\n",
    "    ax.annotate(txt, (xs[i],ys[i]), size=30,color=numpy.random.random(3))\n",
    "    \n",
    "xlabel('向度1')\n",
    "ylabel('向度2')\n",
    "title('在兩個向度上的投影(標準化)')    \n",
    "plt.show()"
   ]
  },
  {
   "cell_type": "markdown",
   "metadata": {},
   "source": [
    "## 在 X 軸上的投影"
   ]
  },
  {
   "cell_type": "code",
   "execution_count": 117,
   "metadata": {},
   "outputs": [
    {
     "data": {
      "image/png": "[encoded data removed]",
      "text/plain": [
       "<Figure size 432x288 with 1 Axes>"
      ]
     },
     "metadata": {
      "needs_background": "light"
     },
     "output_type": "display_data"
    }
   ],
   "source": [
    "plt.hist(xs, alpha=0.5)\n",
    "plt.show()"
   ]
  },
  {
   "cell_type": "markdown",
   "metadata": {},
   "source": [
    "## 在 Y 軸上的投影"
   ]
  },
  {
   "cell_type": "code",
   "execution_count": 118,
   "metadata": {},
   "outputs": [
    {
     "data": {
      "image/png": "[encoded data removed]",
      "text/plain": [
       "<Figure size 432x288 with 1 Axes>"
      ]
     },
     "metadata": {
      "needs_background": "light"
     },
     "output_type": "display_data"
    }
   ],
   "source": [
    "plt.hist(ys, alpha=0.5)\n",
    "plt.show()"
   ]
  },
  {
   "cell_type": "code",
   "execution_count": 120,
   "metadata": {},
   "outputs": [
    {
     "data": {
      "text/html": [
       "<div>\n",
       "<style scoped>\n",
       "    .dataframe tbody tr th:only-of-type {\n",
       "        vertical-align: middle;\n",
       "    }\n",
       "\n",
       "    .dataframe tbody tr th {\n",
       "        vertical-align: top;\n",
       "    }\n",
       "\n",
       "    .dataframe thead th {\n",
       "        text-align: right;\n",
       "    }\n",
       "</style>\n",
       "<table border=\"1\" class=\"dataframe\">\n",
       "  <thead>\n",
       "    <tr style=\"text-align: right;\">\n",
       "      <th></th>\n",
       "      <th>0</th>\n",
       "      <th>1</th>\n",
       "      <th>2</th>\n",
       "      <th>3</th>\n",
       "      <th>4</th>\n",
       "      <th>5</th>\n",
       "      <th>6</th>\n",
       "      <th>7</th>\n",
       "      <th>8</th>\n",
       "      <th>9</th>\n",
       "    </tr>\n",
       "  </thead>\n",
       "  <tbody>\n",
       "    <tr>\n",
       "      <th>0</th>\n",
       "      <td>1.000000</td>\n",
       "      <td>0.998433</td>\n",
       "      <td>0.999909</td>\n",
       "      <td>-0.235749</td>\n",
       "      <td>-0.104845</td>\n",
       "      <td>0.003183</td>\n",
       "      <td>-0.032079</td>\n",
       "      <td>0.012021</td>\n",
       "      <td>0.584186</td>\n",
       "      <td>-0.051820</td>\n",
       "    </tr>\n",
       "    <tr>\n",
       "      <th>1</th>\n",
       "      <td>0.998433</td>\n",
       "      <td>1.000000</td>\n",
       "      <td>0.999098</td>\n",
       "      <td>-0.180998</td>\n",
       "      <td>-0.049030</td>\n",
       "      <td>0.059137</td>\n",
       "      <td>0.023901</td>\n",
       "      <td>0.067957</td>\n",
       "      <td>0.628688</td>\n",
       "      <td>0.004145</td>\n",
       "    </tr>\n",
       "    <tr>\n",
       "      <th>2</th>\n",
       "      <td>0.999909</td>\n",
       "      <td>0.999098</td>\n",
       "      <td>1.000000</td>\n",
       "      <td>-0.222599</td>\n",
       "      <td>-0.091401</td>\n",
       "      <td>0.016692</td>\n",
       "      <td>-0.018574</td>\n",
       "      <td>0.025529</td>\n",
       "      <td>0.595097</td>\n",
       "      <td>-0.038324</td>\n",
       "    </tr>\n",
       "    <tr>\n",
       "      <th>3</th>\n",
       "      <td>-0.235749</td>\n",
       "      <td>-0.180998</td>\n",
       "      <td>-0.222599</td>\n",
       "      <td>1.000000</td>\n",
       "      <td>0.991175</td>\n",
       "      <td>0.971059</td>\n",
       "      <td>0.978877</td>\n",
       "      <td>0.968910</td>\n",
       "      <td>0.651022</td>\n",
       "      <td>0.982725</td>\n",
       "    </tr>\n",
       "    <tr>\n",
       "      <th>4</th>\n",
       "      <td>-0.104845</td>\n",
       "      <td>-0.049030</td>\n",
       "      <td>-0.091401</td>\n",
       "      <td>0.991175</td>\n",
       "      <td>1.000000</td>\n",
       "      <td>0.994150</td>\n",
       "      <td>0.997340</td>\n",
       "      <td>0.993156</td>\n",
       "      <td>0.745898</td>\n",
       "      <td>0.998586</td>\n",
       "    </tr>\n",
       "    <tr>\n",
       "      <th>5</th>\n",
       "      <td>0.003183</td>\n",
       "      <td>0.059137</td>\n",
       "      <td>0.016692</td>\n",
       "      <td>0.971059</td>\n",
       "      <td>0.994150</td>\n",
       "      <td>1.000000</td>\n",
       "      <td>0.999378</td>\n",
       "      <td>0.999961</td>\n",
       "      <td>0.813475</td>\n",
       "      <td>0.998486</td>\n",
       "    </tr>\n",
       "    <tr>\n",
       "      <th>6</th>\n",
       "      <td>-0.032079</td>\n",
       "      <td>0.023901</td>\n",
       "      <td>-0.018574</td>\n",
       "      <td>0.978877</td>\n",
       "      <td>0.997340</td>\n",
       "      <td>0.999378</td>\n",
       "      <td>1.000000</td>\n",
       "      <td>0.999027</td>\n",
       "      <td>0.792462</td>\n",
       "      <td>0.999805</td>\n",
       "    </tr>\n",
       "    <tr>\n",
       "      <th>7</th>\n",
       "      <td>0.012021</td>\n",
       "      <td>0.067957</td>\n",
       "      <td>0.025529</td>\n",
       "      <td>0.968910</td>\n",
       "      <td>0.993156</td>\n",
       "      <td>0.999961</td>\n",
       "      <td>0.999027</td>\n",
       "      <td>1.000000</td>\n",
       "      <td>0.818584</td>\n",
       "      <td>0.997961</td>\n",
       "    </tr>\n",
       "    <tr>\n",
       "      <th>8</th>\n",
       "      <td>0.584186</td>\n",
       "      <td>0.628688</td>\n",
       "      <td>0.595097</td>\n",
       "      <td>0.651022</td>\n",
       "      <td>0.745898</td>\n",
       "      <td>0.813475</td>\n",
       "      <td>0.792462</td>\n",
       "      <td>0.818584</td>\n",
       "      <td>1.000000</td>\n",
       "      <td>0.780257</td>\n",
       "    </tr>\n",
       "    <tr>\n",
       "      <th>9</th>\n",
       "      <td>-0.051820</td>\n",
       "      <td>0.004145</td>\n",
       "      <td>-0.038324</td>\n",
       "      <td>0.982725</td>\n",
       "      <td>0.998586</td>\n",
       "      <td>0.998486</td>\n",
       "      <td>0.999805</td>\n",
       "      <td>0.997961</td>\n",
       "      <td>0.780257</td>\n",
       "      <td>1.000000</td>\n",
       "    </tr>\n",
       "  </tbody>\n",
       "</table>\n",
       "</div>"
      ],
      "text/plain": [
       "          0         1         2         3         4         5         6  \\\n",
       "0  1.000000  0.998433  0.999909 -0.235749 -0.104845  0.003183 -0.032079   \n",
       "1  0.998433  1.000000  0.999098 -0.180998 -0.049030  0.059137  0.023901   \n",
       "2  0.999909  0.999098  1.000000 -0.222599 -0.091401  0.016692 -0.018574   \n",
       "3 -0.235749 -0.180998 -0.222599  1.000000  0.991175  0.971059  0.978877   \n",
       "4 -0.104845 -0.049030 -0.091401  0.991175  1.000000  0.994150  0.997340   \n",
       "5  0.003183  0.059137  0.016692  0.971059  0.994150  1.000000  0.999378   \n",
       "6 -0.032079  0.023901 -0.018574  0.978877  0.997340  0.999378  1.000000   \n",
       "7  0.012021  0.067957  0.025529  0.968910  0.993156  0.999961  0.999027   \n",
       "8  0.584186  0.628688  0.595097  0.651022  0.745898  0.813475  0.792462   \n",
       "9 -0.051820  0.004145 -0.038324  0.982725  0.998586  0.998486  0.999805   \n",
       "\n",
       "          7         8         9  \n",
       "0  0.012021  0.584186 -0.051820  \n",
       "1  0.067957  0.628688  0.004145  \n",
       "2  0.025529  0.595097 -0.038324  \n",
       "3  0.968910  0.651022  0.982725  \n",
       "4  0.993156  0.745898  0.998586  \n",
       "5  0.999961  0.813475  0.998486  \n",
       "6  0.999027  0.792462  0.999805  \n",
       "7  1.000000  0.818584  0.997961  \n",
       "8  0.818584  1.000000  0.780257  \n",
       "9  0.997961  0.780257  1.000000  "
      ]
     },
     "execution_count": 120,
     "metadata": {},
     "output_type": "execute_result"
    }
   ],
   "source": [
    "# 文章與文章間的相似矩陣，降維，函數會自動標準化\n",
    "similarity= sklearn.metrics.pairwise.cosine_similarity(dtm_svd_tfidf) \n",
    "sim=pd.DataFrame(similarity)\n",
    "sim"
   ]
  },
  {
   "cell_type": "code",
   "execution_count": 121,
   "metadata": {},
   "outputs": [
    {
     "data": {
      "text/html": [
       "<div>\n",
       "<style scoped>\n",
       "    .dataframe tbody tr th:only-of-type {\n",
       "        vertical-align: middle;\n",
       "    }\n",
       "\n",
       "    .dataframe tbody tr th {\n",
       "        vertical-align: top;\n",
       "    }\n",
       "\n",
       "    .dataframe thead th {\n",
       "        text-align: right;\n",
       "    }\n",
       "</style>\n",
       "<table border=\"1\" class=\"dataframe\">\n",
       "  <thead>\n",
       "    <tr style=\"text-align: right;\">\n",
       "      <th></th>\n",
       "      <th>0</th>\n",
       "      <th>1</th>\n",
       "      <th>2</th>\n",
       "      <th>3</th>\n",
       "      <th>4</th>\n",
       "      <th>5</th>\n",
       "      <th>6</th>\n",
       "      <th>7</th>\n",
       "      <th>8</th>\n",
       "      <th>9</th>\n",
       "    </tr>\n",
       "  </thead>\n",
       "  <tbody>\n",
       "    <tr>\n",
       "      <th>0</th>\n",
       "      <td>0.702946</td>\n",
       "      <td>0.360606</td>\n",
       "      <td>0.732576</td>\n",
       "      <td>-0.026391</td>\n",
       "      <td>-0.051349</td>\n",
       "      <td>0.001138</td>\n",
       "      <td>-0.019913</td>\n",
       "      <td>0.006084</td>\n",
       "      <td>0.243245</td>\n",
       "      <td>-0.033487</td>\n",
       "    </tr>\n",
       "    <tr>\n",
       "      <th>1</th>\n",
       "      <td>0.360606</td>\n",
       "      <td>0.185569</td>\n",
       "      <td>0.376091</td>\n",
       "      <td>-0.010410</td>\n",
       "      <td>-0.012338</td>\n",
       "      <td>0.010866</td>\n",
       "      <td>0.007623</td>\n",
       "      <td>0.017672</td>\n",
       "      <td>0.134499</td>\n",
       "      <td>0.001376</td>\n",
       "    </tr>\n",
       "    <tr>\n",
       "      <th>2</th>\n",
       "      <td>0.732576</td>\n",
       "      <td>0.376091</td>\n",
       "      <td>0.763595</td>\n",
       "      <td>-0.025971</td>\n",
       "      <td>-0.046656</td>\n",
       "      <td>0.006222</td>\n",
       "      <td>-0.012017</td>\n",
       "      <td>0.013466</td>\n",
       "      <td>0.258257</td>\n",
       "      <td>-0.025812</td>\n",
       "    </tr>\n",
       "    <tr>\n",
       "      <th>3</th>\n",
       "      <td>-0.026391</td>\n",
       "      <td>-0.010410</td>\n",
       "      <td>-0.025971</td>\n",
       "      <td>0.017827</td>\n",
       "      <td>0.077306</td>\n",
       "      <td>0.055305</td>\n",
       "      <td>0.096767</td>\n",
       "      <td>0.078093</td>\n",
       "      <td>0.043169</td>\n",
       "      <td>0.101131</td>\n",
       "    </tr>\n",
       "    <tr>\n",
       "      <th>4</th>\n",
       "      <td>-0.051349</td>\n",
       "      <td>-0.012338</td>\n",
       "      <td>-0.046656</td>\n",
       "      <td>0.077306</td>\n",
       "      <td>0.341234</td>\n",
       "      <td>0.247716</td>\n",
       "      <td>0.431350</td>\n",
       "      <td>0.350212</td>\n",
       "      <td>0.216390</td>\n",
       "      <td>0.449598</td>\n",
       "    </tr>\n",
       "    <tr>\n",
       "      <th>5</th>\n",
       "      <td>0.001138</td>\n",
       "      <td>0.010866</td>\n",
       "      <td>0.006222</td>\n",
       "      <td>0.055305</td>\n",
       "      <td>0.247716</td>\n",
       "      <td>0.181951</td>\n",
       "      <td>0.315622</td>\n",
       "      <td>0.257483</td>\n",
       "      <td>0.172327</td>\n",
       "      <td>0.328271</td>\n",
       "    </tr>\n",
       "    <tr>\n",
       "      <th>6</th>\n",
       "      <td>-0.019913</td>\n",
       "      <td>0.007623</td>\n",
       "      <td>-0.012017</td>\n",
       "      <td>0.096767</td>\n",
       "      <td>0.431350</td>\n",
       "      <td>0.315622</td>\n",
       "      <td>0.548178</td>\n",
       "      <td>0.446505</td>\n",
       "      <td>0.291388</td>\n",
       "      <td>0.570544</td>\n",
       "    </tr>\n",
       "    <tr>\n",
       "      <th>7</th>\n",
       "      <td>0.006084</td>\n",
       "      <td>0.017672</td>\n",
       "      <td>0.013466</td>\n",
       "      <td>0.078093</td>\n",
       "      <td>0.350212</td>\n",
       "      <td>0.257483</td>\n",
       "      <td>0.446505</td>\n",
       "      <td>0.364397</td>\n",
       "      <td>0.245405</td>\n",
       "      <td>0.464317</td>\n",
       "    </tr>\n",
       "    <tr>\n",
       "      <th>8</th>\n",
       "      <td>0.243245</td>\n",
       "      <td>0.134499</td>\n",
       "      <td>0.258257</td>\n",
       "      <td>0.043169</td>\n",
       "      <td>0.216390</td>\n",
       "      <td>0.172327</td>\n",
       "      <td>0.291388</td>\n",
       "      <td>0.245405</td>\n",
       "      <td>0.246641</td>\n",
       "      <td>0.298664</td>\n",
       "    </tr>\n",
       "    <tr>\n",
       "      <th>9</th>\n",
       "      <td>-0.033487</td>\n",
       "      <td>0.001376</td>\n",
       "      <td>-0.025812</td>\n",
       "      <td>0.101131</td>\n",
       "      <td>0.449598</td>\n",
       "      <td>0.328271</td>\n",
       "      <td>0.570544</td>\n",
       "      <td>0.464317</td>\n",
       "      <td>0.298664</td>\n",
       "      <td>0.594055</td>\n",
       "    </tr>\n",
       "  </tbody>\n",
       "</table>\n",
       "</div>"
      ],
      "text/plain": [
       "          0         1         2         3         4         5         6  \\\n",
       "0  0.702946  0.360606  0.732576 -0.026391 -0.051349  0.001138 -0.019913   \n",
       "1  0.360606  0.185569  0.376091 -0.010410 -0.012338  0.010866  0.007623   \n",
       "2  0.732576  0.376091  0.763595 -0.025971 -0.046656  0.006222 -0.012017   \n",
       "3 -0.026391 -0.010410 -0.025971  0.017827  0.077306  0.055305  0.096767   \n",
       "4 -0.051349 -0.012338 -0.046656  0.077306  0.341234  0.247716  0.431350   \n",
       "5  0.001138  0.010866  0.006222  0.055305  0.247716  0.181951  0.315622   \n",
       "6 -0.019913  0.007623 -0.012017  0.096767  0.431350  0.315622  0.548178   \n",
       "7  0.006084  0.017672  0.013466  0.078093  0.350212  0.257483  0.446505   \n",
       "8  0.243245  0.134499  0.258257  0.043169  0.216390  0.172327  0.291388   \n",
       "9 -0.033487  0.001376 -0.025812  0.101131  0.449598  0.328271  0.570544   \n",
       "\n",
       "          7         8         9  \n",
       "0  0.006084  0.243245 -0.033487  \n",
       "1  0.017672  0.134499  0.001376  \n",
       "2  0.013466  0.258257 -0.025812  \n",
       "3  0.078093  0.043169  0.101131  \n",
       "4  0.350212  0.216390  0.449598  \n",
       "5  0.257483  0.172327  0.328271  \n",
       "6  0.446505  0.291388  0.570544  \n",
       "7  0.364397  0.245405  0.464317  \n",
       "8  0.245405  0.246641  0.298664  \n",
       "9  0.464317  0.298664  0.594055  "
      ]
     },
     "execution_count": 121,
     "metadata": {},
     "output_type": "execute_result"
    }
   ],
   "source": [
    "# 如果不要標準化，內積是矩陣相乘之意，對角線不是1\n",
    "similarity = sklearn.metrics.pairwise.safe_sparse_dot(dtm_svd_tfidf,dtm_svd_tfidf.T)\n",
    "sim=pd.DataFrame(similarity)\n",
    "sim"
   ]
  },
  {
   "cell_type": "code",
   "execution_count": 122,
   "metadata": {},
   "outputs": [
    {
     "data": {
      "text/html": [
       "<div>\n",
       "<style scoped>\n",
       "    .dataframe tbody tr th:only-of-type {\n",
       "        vertical-align: middle;\n",
       "    }\n",
       "\n",
       "    .dataframe tbody tr th {\n",
       "        vertical-align: top;\n",
       "    }\n",
       "\n",
       "    .dataframe thead th {\n",
       "        text-align: right;\n",
       "    }\n",
       "</style>\n",
       "<table border=\"1\" class=\"dataframe\">\n",
       "  <thead>\n",
       "    <tr style=\"text-align: right;\">\n",
       "      <th></th>\n",
       "      <th>0</th>\n",
       "      <th>1</th>\n",
       "      <th>2</th>\n",
       "      <th>3</th>\n",
       "      <th>4</th>\n",
       "      <th>5</th>\n",
       "      <th>6</th>\n",
       "      <th>7</th>\n",
       "      <th>8</th>\n",
       "      <th>9</th>\n",
       "    </tr>\n",
       "  </thead>\n",
       "  <tbody>\n",
       "    <tr>\n",
       "      <th>0</th>\n",
       "      <td>1.000000</td>\n",
       "      <td>0.126746</td>\n",
       "      <td>0.620939</td>\n",
       "      <td>0.000000</td>\n",
       "      <td>0.000000</td>\n",
       "      <td>0.000000</td>\n",
       "      <td>0.000000</td>\n",
       "      <td>0.000000</td>\n",
       "      <td>0.087808</td>\n",
       "      <td>0.000000</td>\n",
       "    </tr>\n",
       "    <tr>\n",
       "      <th>1</th>\n",
       "      <td>0.126746</td>\n",
       "      <td>1.000000</td>\n",
       "      <td>0.204119</td>\n",
       "      <td>0.000000</td>\n",
       "      <td>0.000000</td>\n",
       "      <td>0.000000</td>\n",
       "      <td>0.000000</td>\n",
       "      <td>0.000000</td>\n",
       "      <td>0.124282</td>\n",
       "      <td>0.000000</td>\n",
       "    </tr>\n",
       "    <tr>\n",
       "      <th>2</th>\n",
       "      <td>0.620939</td>\n",
       "      <td>0.204119</td>\n",
       "      <td>1.000000</td>\n",
       "      <td>0.000000</td>\n",
       "      <td>0.000000</td>\n",
       "      <td>0.000000</td>\n",
       "      <td>0.000000</td>\n",
       "      <td>0.000000</td>\n",
       "      <td>0.141411</td>\n",
       "      <td>0.000000</td>\n",
       "    </tr>\n",
       "    <tr>\n",
       "      <th>3</th>\n",
       "      <td>0.000000</td>\n",
       "      <td>0.000000</td>\n",
       "      <td>0.000000</td>\n",
       "      <td>1.000000</td>\n",
       "      <td>0.265934</td>\n",
       "      <td>0.000000</td>\n",
       "      <td>0.000000</td>\n",
       "      <td>0.000000</td>\n",
       "      <td>0.000000</td>\n",
       "      <td>0.000000</td>\n",
       "    </tr>\n",
       "    <tr>\n",
       "      <th>4</th>\n",
       "      <td>0.000000</td>\n",
       "      <td>0.000000</td>\n",
       "      <td>0.000000</td>\n",
       "      <td>0.265934</td>\n",
       "      <td>1.000000</td>\n",
       "      <td>0.064612</td>\n",
       "      <td>0.274340</td>\n",
       "      <td>0.108664</td>\n",
       "      <td>0.061768</td>\n",
       "      <td>0.442317</td>\n",
       "    </tr>\n",
       "    <tr>\n",
       "      <th>5</th>\n",
       "      <td>0.000000</td>\n",
       "      <td>0.000000</td>\n",
       "      <td>0.000000</td>\n",
       "      <td>0.000000</td>\n",
       "      <td>0.064612</td>\n",
       "      <td>1.000000</td>\n",
       "      <td>0.200825</td>\n",
       "      <td>0.232221</td>\n",
       "      <td>0.132003</td>\n",
       "      <td>0.174178</td>\n",
       "    </tr>\n",
       "    <tr>\n",
       "      <th>6</th>\n",
       "      <td>0.000000</td>\n",
       "      <td>0.000000</td>\n",
       "      <td>0.000000</td>\n",
       "      <td>0.000000</td>\n",
       "      <td>0.274340</td>\n",
       "      <td>0.200825</td>\n",
       "      <td>1.000000</td>\n",
       "      <td>0.337743</td>\n",
       "      <td>0.191985</td>\n",
       "      <td>0.471989</td>\n",
       "    </tr>\n",
       "    <tr>\n",
       "      <th>7</th>\n",
       "      <td>0.000000</td>\n",
       "      <td>0.000000</td>\n",
       "      <td>0.000000</td>\n",
       "      <td>0.000000</td>\n",
       "      <td>0.108664</td>\n",
       "      <td>0.232221</td>\n",
       "      <td>0.337743</td>\n",
       "      <td>1.000000</td>\n",
       "      <td>0.221999</td>\n",
       "      <td>0.292928</td>\n",
       "    </tr>\n",
       "    <tr>\n",
       "      <th>8</th>\n",
       "      <td>0.087808</td>\n",
       "      <td>0.124282</td>\n",
       "      <td>0.141411</td>\n",
       "      <td>0.000000</td>\n",
       "      <td>0.061768</td>\n",
       "      <td>0.132003</td>\n",
       "      <td>0.191985</td>\n",
       "      <td>0.221999</td>\n",
       "      <td>1.000000</td>\n",
       "      <td>0.166511</td>\n",
       "    </tr>\n",
       "    <tr>\n",
       "      <th>9</th>\n",
       "      <td>0.000000</td>\n",
       "      <td>0.000000</td>\n",
       "      <td>0.000000</td>\n",
       "      <td>0.000000</td>\n",
       "      <td>0.442317</td>\n",
       "      <td>0.174178</td>\n",
       "      <td>0.471989</td>\n",
       "      <td>0.292928</td>\n",
       "      <td>0.166511</td>\n",
       "      <td>1.000000</td>\n",
       "    </tr>\n",
       "  </tbody>\n",
       "</table>\n",
       "</div>"
      ],
      "text/plain": [
       "          0         1         2         3         4         5         6  \\\n",
       "0  1.000000  0.126746  0.620939  0.000000  0.000000  0.000000  0.000000   \n",
       "1  0.126746  1.000000  0.204119  0.000000  0.000000  0.000000  0.000000   \n",
       "2  0.620939  0.204119  1.000000  0.000000  0.000000  0.000000  0.000000   \n",
       "3  0.000000  0.000000  0.000000  1.000000  0.265934  0.000000  0.000000   \n",
       "4  0.000000  0.000000  0.000000  0.265934  1.000000  0.064612  0.274340   \n",
       "5  0.000000  0.000000  0.000000  0.000000  0.064612  1.000000  0.200825   \n",
       "6  0.000000  0.000000  0.000000  0.000000  0.274340  0.200825  1.000000   \n",
       "7  0.000000  0.000000  0.000000  0.000000  0.108664  0.232221  0.337743   \n",
       "8  0.087808  0.124282  0.141411  0.000000  0.061768  0.132003  0.191985   \n",
       "9  0.000000  0.000000  0.000000  0.000000  0.442317  0.174178  0.471989   \n",
       "\n",
       "          7         8         9  \n",
       "0  0.000000  0.087808  0.000000  \n",
       "1  0.000000  0.124282  0.000000  \n",
       "2  0.000000  0.141411  0.000000  \n",
       "3  0.000000  0.000000  0.000000  \n",
       "4  0.108664  0.061768  0.442317  \n",
       "5  0.232221  0.132003  0.174178  \n",
       "6  0.337743  0.191985  0.471989  \n",
       "7  1.000000  0.221999  0.292928  \n",
       "8  0.221999  1.000000  0.166511  \n",
       "9  0.292928  0.166511  1.000000  "
      ]
     },
     "execution_count": 122,
     "metadata": {},
     "output_type": "execute_result"
    }
   ],
   "source": [
    "# 原始沒有降維的加權矩陣\n",
    "similarity= sklearn.metrics.pairwise.cosine_similarity(dtm_tfidf) \n",
    "sim=pd.DataFrame(similarity)\n",
    "sim"
   ]
  },
  {
   "cell_type": "code",
   "execution_count": 123,
   "metadata": {},
   "outputs": [
    {
     "data": {
      "image/png": "[encoded data removed]",
      "text/plain": [
       "<Figure size 720x720 with 2 Axes>"
      ]
     },
     "metadata": {
      "needs_background": "light"
     },
     "output_type": "display_data"
    }
   ],
   "source": [
    "# 相似矩陣圖像化\n",
    "# Correction Matrix Plot\n",
    "# https://matplotlib.org/users/colormaps.html\n",
    "import matplotlib.pyplot as plt\n",
    "import pandas\n",
    "import numpy\n",
    "names=['1','2','3', '4', '5', '6', '7', '8', '9','10']\n",
    "correlations = sim\n",
    "\n",
    "# plot correlation matrix\n",
    "fig = plt.figure(figsize=(10,10))\n",
    "ax = fig.add_subplot(111)\n",
    "\n",
    "# 注意都是正相關! \n",
    "cax = ax.matshow(correlations, vmin=0, vmax=1,cmap=cm.YlOrBr)\n",
    "fig.colorbar(cax)\n",
    "ticks = numpy.arange(0,10,1)\n",
    "ax.set_xticks(ticks)\n",
    "ax.set_yticks(ticks)\n",
    "ax.set_xticklabels(names)\n",
    "ax.set_yticklabels(names)\n",
    "plt.show()"
   ]
  },
  {
   "cell_type": "markdown",
   "metadata": {
    "collapsed": true
   },
   "source": [
    "## 最接近的文章"
   ]
  },
  {
   "cell_type": "code",
   "execution_count": 124,
   "metadata": {},
   "outputs": [],
   "source": [
    "#  最接近的 k 個\n",
    "def kClosestDocs(k,kw,vectorizer,dtm_lsa,documents): \n",
    "    # kw： doc序號，\n",
    "\n",
    "    similarity= sklearn.metrics.pairwise.cosine_similarity(dtm_lsa) \n",
    "\n",
    "    # 宣告 dictonary, key=doc, value=數值，代表相似性\n",
    "    closestDocs = {}\n",
    "    for i in range(len(documents)):\n",
    "        # index 與 其他字詞 的相似性\n",
    "        if i!=kw:\n",
    "            closestDocs[i] = similarity[kw][i]\n",
    "\n",
    "    # 依 dictionary 的 value (即相似性) 排序\n",
    "    sortedList = sorted(closestDocs , key= lambda l : closestDocs[l])\n",
    "    \n",
    "    # 取前 k個\n",
    "    lis_sorted =sortedList[::-1][0:k]\n",
    "    # 前 k個 cos theda 值\n",
    "    lis_sim=[]\n",
    "    for l in lis_sorted:\n",
    "        lis_sim.append(closestDocs[l])\n",
    "    # DataFrame        \n",
    "    data=list(zip(lis_sorted, lis_sim))   \n",
    "    df=pd.DataFrame(data,columns=['no.','similartiy'])     \n",
    "\n",
    "    return df"
   ]
  },
  {
   "cell_type": "code",
   "execution_count": 128,
   "metadata": {},
   "outputs": [
    {
     "data": {
      "text/html": [
       "<div>\n",
       "<style scoped>\n",
       "    .dataframe tbody tr th:only-of-type {\n",
       "        vertical-align: middle;\n",
       "    }\n",
       "\n",
       "    .dataframe tbody tr th {\n",
       "        vertical-align: top;\n",
       "    }\n",
       "\n",
       "    .dataframe thead th {\n",
       "        text-align: right;\n",
       "    }\n",
       "</style>\n",
       "<table border=\"1\" class=\"dataframe\">\n",
       "  <thead>\n",
       "    <tr style=\"text-align: right;\">\n",
       "      <th></th>\n",
       "      <th>no.</th>\n",
       "      <th>similartiy</th>\n",
       "    </tr>\n",
       "  </thead>\n",
       "  <tbody>\n",
       "    <tr>\n",
       "      <th>0</th>\n",
       "      <td>6</td>\n",
       "      <td>0.999805</td>\n",
       "    </tr>\n",
       "    <tr>\n",
       "      <th>1</th>\n",
       "      <td>4</td>\n",
       "      <td>0.998586</td>\n",
       "    </tr>\n",
       "    <tr>\n",
       "      <th>2</th>\n",
       "      <td>5</td>\n",
       "      <td>0.998486</td>\n",
       "    </tr>\n",
       "    <tr>\n",
       "      <th>3</th>\n",
       "      <td>7</td>\n",
       "      <td>0.997961</td>\n",
       "    </tr>\n",
       "    <tr>\n",
       "      <th>4</th>\n",
       "      <td>3</td>\n",
       "      <td>0.982725</td>\n",
       "    </tr>\n",
       "  </tbody>\n",
       "</table>\n",
       "</div>"
      ],
      "text/plain": [
       "   no.  similartiy\n",
       "0    6    0.999805\n",
       "1    4    0.998586\n",
       "2    5    0.998486\n",
       "3    7    0.997961\n",
       "4    3    0.982725"
      ]
     },
     "execution_count": 128,
     "metadata": {},
     "output_type": "execute_result"
    }
   ],
   "source": [
    "# 有降維\n",
    "kClosestDocs(5,9,vectorizer,dtm_svd_tfidf,documents)"
   ]
  },
  {
   "cell_type": "code",
   "execution_count": 129,
   "metadata": {},
   "outputs": [
    {
     "data": {
      "text/html": [
       "<div>\n",
       "<style scoped>\n",
       "    .dataframe tbody tr th:only-of-type {\n",
       "        vertical-align: middle;\n",
       "    }\n",
       "\n",
       "    .dataframe tbody tr th {\n",
       "        vertical-align: top;\n",
       "    }\n",
       "\n",
       "    .dataframe thead th {\n",
       "        text-align: right;\n",
       "    }\n",
       "</style>\n",
       "<table border=\"1\" class=\"dataframe\">\n",
       "  <thead>\n",
       "    <tr style=\"text-align: right;\">\n",
       "      <th></th>\n",
       "      <th>no.</th>\n",
       "      <th>similartiy</th>\n",
       "    </tr>\n",
       "  </thead>\n",
       "  <tbody>\n",
       "    <tr>\n",
       "      <th>0</th>\n",
       "      <td>6</td>\n",
       "      <td>0.471989</td>\n",
       "    </tr>\n",
       "    <tr>\n",
       "      <th>1</th>\n",
       "      <td>4</td>\n",
       "      <td>0.442317</td>\n",
       "    </tr>\n",
       "    <tr>\n",
       "      <th>2</th>\n",
       "      <td>7</td>\n",
       "      <td>0.292928</td>\n",
       "    </tr>\n",
       "    <tr>\n",
       "      <th>3</th>\n",
       "      <td>5</td>\n",
       "      <td>0.174178</td>\n",
       "    </tr>\n",
       "    <tr>\n",
       "      <th>4</th>\n",
       "      <td>8</td>\n",
       "      <td>0.166511</td>\n",
       "    </tr>\n",
       "  </tbody>\n",
       "</table>\n",
       "</div>"
      ],
      "text/plain": [
       "   no.  similartiy\n",
       "0    6    0.471989\n",
       "1    4    0.442317\n",
       "2    7    0.292928\n",
       "3    5    0.174178\n",
       "4    8    0.166511"
      ]
     },
     "execution_count": 129,
     "metadata": {},
     "output_type": "execute_result"
    }
   ],
   "source": [
    "# 無降維\n",
    "kClosestDocs(5,9,vectorizer,dtm_tfidf,documents)"
   ]
  },
  {
   "cell_type": "code",
   "execution_count": null,
   "metadata": {
    "collapsed": true
   },
   "outputs": [],
   "source": []
  }
 ],
 "metadata": {
  "kernelspec": {
   "display_name": "Python 3",
   "language": "python",
   "name": "python3"
  },
  "language_info": {
   "codemirror_mode": {
    "name": "ipython",
    "version": 3
   },
   "file_extension": ".py",
   "mimetype": "text/x-python",
   "name": "python",
   "nbconvert_exporter": "python",
   "pygments_lexer": "ipython3",
   "version": "3.7.3"
  }
 },
 "nbformat": 4,
 "nbformat_minor": 2
}
