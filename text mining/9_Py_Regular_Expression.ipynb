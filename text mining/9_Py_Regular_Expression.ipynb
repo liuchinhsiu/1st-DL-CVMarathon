{
 "cells": [
  {
   "cell_type": "markdown",
   "metadata": {},
   "source": [
    "# Regular Expression"
   ]
  },
  {
   "cell_type": "markdown",
   "metadata": {},
   "source": [
    "* 安裝了 python, anaconda 後便會自動安裝 Regular Expression (re)，毋須另行安裝。\n",
    "* Regualar Expression 經常配合 Beautiful soup 使用，主要的功能是針對很長的string 進行文字解析，為文本分析的必要工具。\n",
    "* 要注意的是 Regular Expression 本是針對英文字串(string)而設計，英文字與字間有空白隔開，中文沒有。中文的標點符號會被視為空白，有時會有意想不到的結果。\n",
    "* 請同學先建資料夾 d:\\my python\\data 作為置放檔案之用。"
   ]
  },
  {
   "cell_type": "code",
   "execution_count": 1,
   "metadata": {},
   "outputs": [],
   "source": [
    "# 呼叫 regular expression\n",
    "import re"
   ]
  },
  {
   "cell_type": "markdown",
   "metadata": {},
   "source": [
    "# 先定義兩個字串，作為範例"
   ]
  },
  {
   "cell_type": "code",
   "execution_count": 6,
   "metadata": {},
   "outputs": [],
   "source": [
    "# 先定義兩個字串，作為範例，一個是中文，一個是英文。注意 \\n代表跳行。'''代表長字串。\n",
    "s='''我們都是從過去的經 驗出發，每個人都有不同的經歷，經過檢討過去的零零總總，\n",
    "方能策勵將來，過去到底有什麼優點或缺點？\\n\n",
    "同時，不只是個人經驗的反省，我們很想看看別人的經驗。經常思索才會成長，\\n\n",
    "要去做，不要只是:\\n唸經，或發神經, 而是從經驗出發。生日: 1980年8月20日, ID 19800821,\\n\n",
    "Email:abcabc@ntu.edu.tw，TEL 1234-4578，0930889889'''\n",
    "s1='''\n",
    "This is a test for string, 1234-5678 is tel number, regulation expression is used to analyse long string, \n",
    "and this text is used as an example.'''"
   ]
  },
  {
   "cell_type": "code",
   "execution_count": 3,
   "metadata": {},
   "outputs": [
    {
     "name": "stdout",
     "output_type": "stream",
     "text": [
      "\n",
      "我們都是從過去的經 驗出發，每個人都有不同的經歷，經過檢討過去的零零總總，\n",
      "方能策勵將來，過去到底有什麼優點或缺點？\n",
      "\n",
      "同時，不只是個人經驗的反省，我們很想看看別人的經驗。經常思索才會成長，\n",
      "\n",
      "要去做，不要只是:\n",
      "唸經，或發神經, 而是從經驗出發。生日: 1980年8月20日, ID 19800821,\n",
      "\n",
      "Email:abcabc@ntu.edu.tw，TEL 1234-4578，0930889889\n"
     ]
    }
   ],
   "source": [
    "print (s)"
   ]
  },
  {
   "cell_type": "code",
   "execution_count": 4,
   "metadata": {},
   "outputs": [
    {
     "name": "stdout",
     "output_type": "stream",
     "text": [
      "\n",
      "This is a test for string, 1234-5678 is tel number, regulation expression is used to analyse long string, \n",
      "and this text is used as an example.\n"
     ]
    }
   ],
   "source": [
    "print (s1)"
   ]
  },
  {
   "cell_type": "markdown",
   "metadata": {},
   "source": [
    "# re.search()  尋找字串"
   ]
  },
  {
   "cell_type": "code",
   "execution_count": 7,
   "metadata": {},
   "outputs": [
    {
     "name": "stdout",
     "output_type": "stream",
     "text": [
      "found, position:  68 - 70\n"
     ]
    }
   ],
   "source": [
    "# .start(), .end() 顯示找到的字串，起啟與結束\n",
    "f=re.search(r'經驗', s)\n",
    "if f:\n",
    "    print ('found, position: ',f.start(),'-', f.end() )"
   ]
  },
  {
   "cell_type": "code",
   "execution_count": 8,
   "metadata": {},
   "outputs": [
    {
     "name": "stdout",
     "output_type": "stream",
     "text": [
      "found, position: 68 - 70\n"
     ]
    }
   ],
   "source": [
    "f=re.search(r'經驗', s)\n",
    "if f:\n",
    "    print('found, position:', f.start(), '-', f.end())"
   ]
  },
  {
   "cell_type": "markdown",
   "metadata": {},
   "source": [
    "## re.finall() 尋找所有的字串"
   ]
  },
  {
   "cell_type": "code",
   "execution_count": 18,
   "metadata": {},
   "outputs": [
    {
     "name": "stdout",
     "output_type": "stream",
     "text": [
      "['經驗', '經驗', '經驗']\n",
      "3\n"
     ]
    }
   ],
   "source": [
    "# list 給定一條件，將所有符合條件都找出來\n",
    "result=re.findall(r'經驗',s)\n",
    "print (result)\n",
    "print (len(result))"
   ]
  },
  {
   "cell_type": "code",
   "execution_count": 11,
   "metadata": {},
   "outputs": [
    {
     "name": "stdout",
     "output_type": "stream",
     "text": [
      "['經驗', '經驗', '經驗']\n",
      "3\n"
     ]
    }
   ],
   "source": [
    "result = re.findall(r'經驗', s)\n",
    "print(result)\n",
    "print(len(result))"
   ]
  },
  {
   "cell_type": "markdown",
   "metadata": {},
   "source": [
    "# commonly used operators\n",
    "* 以下指令表看不懂，沒關係，下面會慢慢解釋。"
   ]
  },
  {
   "cell_type": "markdown",
   "metadata": {},
   "source": [
    "Operators \tDescription\n",
    "\n",
    "    . \t Matches with any single character except newline ‘\\n’\n",
    "    ? \t match 0 or 1 occurrence of the pattern to its left\n",
    "    + \t 1 or more occurrences of the pattern to its left\n",
    "    * \t 0 or more occurrences of the pattern to its left\n",
    "    \\w \t Matches with a alphanumeric character whereas \n",
    "    \\W (upper case W) matches non alphanumeric character.\n",
    "    \\d \t  Matches with digits [0-9] and \n",
    "    \\D (upper case D) matches with non-digits.\n",
    "    \\s \t Matches with a single white space character (space, newline, return, tab, form) and \n",
    "    \\S (upper case S) matches any non-white space character.\n",
    "    \\b \t boundary between word and non-word and \n",
    "    \\B is opposite of \\b\n",
    "    [..] \t Matches any single character in a square bracket and \n",
    "    [^..] matches any single character not in square bracket\n",
    "    \\ \t It is used for special meaning characters like \n",
    "    \\. to match a period or \\+ for plus sign.\n",
    "    ^ and $ \t ^ and $ match the start or end of the string respectively\n",
    "    {n,m} \t Matches at least n and at most m occurrences of preceding expression if we write it as {,m} then it will return at least any minimum occurrence to max m preceding expression.\n",
    "    a| b \t Matches either a or b\n",
    "    ( ) \tGroups regular expressions and returns matched text\n",
    "    \\t, \\n, \\r \t Matches tab, newline, return"
   ]
  },
  {
   "cell_type": "markdown",
   "metadata": {},
   "source": [
    "# 篩選字串 findall()\n",
    "* 以符號代表字串，來進行蒐尋。"
   ]
  },
  {
   "cell_type": "markdown",
   "metadata": {},
   "source": [
    "## .   任意字元(含空白、標點符號)"
   ]
  },
  {
   "cell_type": "code",
   "execution_count": 48,
   "metadata": {},
   "outputs": [
    {
     "name": "stdout",
     "output_type": "stream",
     "text": [
      "['我們', '我們']\n"
     ]
    }
   ],
   "source": [
    "# Matches with any single character except newline ‘\\n’ (標點符號會計入)\n",
    "# 設定條件：字串後面加一個任意字元\n",
    "result=re.findall(r'我.',s)\n",
    "print (result)"
   ]
  },
  {
   "cell_type": "code",
   "execution_count": 12,
   "metadata": {},
   "outputs": [
    {
     "name": "stdout",
     "output_type": "stream",
     "text": [
      "['我們', '我們']\n"
     ]
    }
   ],
   "source": [
    "result = re.findall(r'我.', s)\n",
    "print(result)"
   ]
  },
  {
   "cell_type": "code",
   "execution_count": 20,
   "metadata": {},
   "outputs": [
    {
     "name": "stdout",
     "output_type": "stream",
     "text": [
      "['經 驗', '經歷，', '經過檢', '經驗的', '經驗。', '經常思', '經，或', '經, ', '經驗出']\n"
     ]
    }
   ],
   "source": [
    "# 設定條件：字串後面加兩個任意字元\n",
    "result=re.findall(r'經..',s)\n",
    "print (result)"
   ]
  },
  {
   "cell_type": "code",
   "execution_count": 13,
   "metadata": {},
   "outputs": [
    {
     "name": "stdout",
     "output_type": "stream",
     "text": [
      "['經 驗', '經歷，', '經過檢', '經驗的', '經驗。', '經常思', '經，或', '經, ', '經驗出']\n"
     ]
    }
   ],
   "source": [
    "result=re.findall(r'經..',s)\n",
    "print(result)"
   ]
  },
  {
   "cell_type": "markdown",
   "metadata": {},
   "source": [
    "## \\w    文字或數字字元 (排除標點符號)\n",
    "* 斜線代表排除符号，表示W 有特殊的意義而非單純的字母"
   ]
  },
  {
   "cell_type": "code",
   "execution_count": 14,
   "metadata": {},
   "outputs": [
    {
     "name": "stdout",
     "output_type": "stream",
     "text": [
      "['經歷', '經過', '經驗', '經驗', '經常', '經驗']\n"
     ]
    }
   ],
   "source": [
    "# \\w \t Matches with a alphanumeric character whereas  (中英文的標點符號均不計入)\n",
    "# 設定條件：字串後面加文字或數字字元\n",
    "result=re.findall(r'經\\w',s)\n",
    "print (result)"
   ]
  },
  {
   "cell_type": "code",
   "execution_count": 15,
   "metadata": {},
   "outputs": [
    {
     "name": "stdout",
     "output_type": "stream",
     "text": [
      "['經過檢討過', '經驗的反省', '經常思索才']\n"
     ]
    }
   ],
   "source": [
    "# \\w \t Matches with a alphanumeric character whereas  (中英文的標點符號均不計入)\n",
    "# 設定條件：字串後面加兩個文字或數字字元\n",
    "result=re.findall(r'經\\w\\w\\w\\w',s)\n",
    "print (result)"
   ]
  },
  {
   "cell_type": "markdown",
   "metadata": {},
   "source": [
    "## \\\\S   non-white space character (非空白的所有字元).\n",
    "* 注意包括標點符號。"
   ]
  },
  {
   "cell_type": "code",
   "execution_count": 16,
   "metadata": {},
   "outputs": [
    {
     "name": "stdout",
     "output_type": "stream",
     "text": [
      "['經歷', '經過', '經驗', '經驗', '經常', '經，', '經,', '經驗']\n"
     ]
    }
   ],
   "source": [
    "# (upper case S) matches any non-white space character.\n",
    "# 設定條件：字串後面加一個非空白字元\n",
    "result=re.findall(r'經\\S',s)\n",
    "print (result)"
   ]
  },
  {
   "cell_type": "markdown",
   "metadata": {},
   "source": [
    "## \\\\s   a single white space character (一個空白)."
   ]
  },
  {
   "cell_type": "code",
   "execution_count": 17,
   "metadata": {},
   "outputs": [
    {
     "name": "stdout",
     "output_type": "stream",
     "text": [
      "['經 ']\n"
     ]
    }
   ],
   "source": [
    "# \\s \t Matches with a single white space character (space, newline, return, tab, form)\n",
    "# 設定條件：字串後面加一個空白字元\n",
    "result=re.findall(r'經\\s',s)\n",
    "print (result)"
   ]
  },
  {
   "cell_type": "markdown",
   "metadata": {},
   "source": [
    "## \\w?  有無字元均可\n",
    "* match 0 or 1 occurrence"
   ]
  },
  {
   "cell_type": "code",
   "execution_count": 18,
   "metadata": {},
   "outputs": [
    {
     "name": "stdout",
     "output_type": "stream",
     "text": [
      "['經', '經歷', '經過', '經驗', '經驗', '經常', '經', '經', '經驗']\n"
     ]
    }
   ],
   "source": [
    "# ? \t match 0 or 1 occurrence of the pattern to its left\n",
    "# 設定條件：字串後面有無字元均可\n",
    "result=re.findall(r'經\\w?',s)\n",
    "print (result)"
   ]
  },
  {
   "cell_type": "code",
   "execution_count": 19,
   "metadata": {},
   "outputs": [
    {
     "name": "stdout",
     "output_type": "stream",
     "text": [
      "['te', 't', 'tr', 'te', 'ti', 'to', 'tr', 'th', 'te', 't']\n"
     ]
    }
   ],
   "source": [
    "result=re.findall(r't\\w?',s1)\n",
    "print (result)"
   ]
  },
  {
   "cell_type": "markdown",
   "metadata": {},
   "source": [
    "## \\w+   向右延伸直到碰到標點符號或空白，至少要有一個字元\n",
    "one or more"
   ]
  },
  {
   "cell_type": "code",
   "execution_count": 20,
   "metadata": {},
   "outputs": [
    {
     "name": "stdout",
     "output_type": "stream",
     "text": [
      "['經驗的反省', '經驗出發']\n"
     ]
    }
   ],
   "source": [
    "# \\w \t Matches with a alphanumeric character whereas  (中英文的標點符號均不計入)\n",
    "# +   1 or more occurrences of the pattern to its left\n",
    "# 字串向右延伸直到碰到標點符號或空白，延伸的字元必須要有一個或以上\n",
    "result=re.findall(r'經驗\\w+',s)\n",
    "print (result)"
   ]
  },
  {
   "cell_type": "code",
   "execution_count": 21,
   "metadata": {},
   "outputs": [
    {
     "name": "stdout",
     "output_type": "stream",
     "text": [
      "['test', 'tring', 'tel', 'tion', 'to', 'tring', 'this', 'text']\n"
     ]
    }
   ],
   "source": [
    "result=re.findall(r't\\w+',s1)\n",
    "print (result)"
   ]
  },
  {
   "cell_type": "markdown",
   "metadata": {},
   "source": [
    "## \\w*   向右延伸直到碰到標點符號或空白，有無字元均可\n",
    "0 or more"
   ]
  },
  {
   "cell_type": "code",
   "execution_count": 22,
   "metadata": {},
   "outputs": [
    {
     "name": "stdout",
     "output_type": "stream",
     "text": [
      "['經驗的反省', '經驗', '經驗出發']\n"
     ]
    }
   ],
   "source": [
    "# \\w \t Matches with a alphanumeric character whereas  (中英文的標點符號均不計入)\n",
    "# * \t 0 or more occurrences of the pattern to its left\n",
    "# 字串向右延伸直到碰到標點符號或空白，延伸的字元有無均可\n",
    "result=re.findall(r'經驗\\w*',s)\n",
    "print (result)"
   ]
  },
  {
   "cell_type": "code",
   "execution_count": 33,
   "metadata": {},
   "outputs": [
    {
     "name": "stdout",
     "output_type": "stream",
     "text": [
      "['test', 'tring', 'tel', 'tion', 'to', 'tring', 'this', 'text']\n"
     ]
    }
   ],
   "source": [
    "result=re.findall(r't\\w*',s1)\n",
    "print (result)"
   ]
  },
  {
   "cell_type": "markdown",
   "metadata": {},
   "source": [
    "# (\\w+)  截取字元的起迄"
   ]
  },
  {
   "cell_type": "code",
   "execution_count": 34,
   "metadata": {},
   "outputs": [
    {
     "name": "stdout",
     "output_type": "stream",
     "text": [
      "['的反省', '出發']\n"
     ]
    }
   ],
   "source": [
    "# ( ) \tGroups regular expressions and returns matched text\n",
    "# 設定起迄，括弧內的字元方算是。\n",
    "result=re.findall(r'經驗(\\w+)',s)\n",
    "print (result)"
   ]
  },
  {
   "cell_type": "code",
   "execution_count": 34,
   "metadata": {},
   "outputs": [
    {
     "name": "stdout",
     "output_type": "stream",
     "text": [
      "['常思索才會成']\n"
     ]
    }
   ],
   "source": [
    "# 夾在中間的字詞，碰到標點符號中斷\n",
    "result=re.findall(r'經(\\w+)長',s)\n",
    "print (result)"
   ]
  },
  {
   "cell_type": "code",
   "execution_count": 35,
   "metadata": {},
   "outputs": [
    {
     "name": "stdout",
     "output_type": "stream",
     "text": [
      "['est', 'ring', 'el', 'ion', 'o', 'ring', 'his', 'ext']\n"
     ]
    }
   ],
   "source": [
    "result=re.findall(r't(\\w+)',s1)\n",
    "print (result)"
   ]
  },
  {
   "cell_type": "markdown",
   "metadata": {},
   "source": [
    "# {n,m} 前一字元重覆出現至少n 次，至多m次"
   ]
  },
  {
   "cell_type": "code",
   "execution_count": 23,
   "metadata": {},
   "outputs": [
    {
     "name": "stdout",
     "output_type": "stream",
     "text": [
      "['零零']\n"
     ]
    }
   ],
   "source": [
    "# {n,m} \t Matches at least n and at most m occurrences of preceding expression \n",
    "# if we write it as {,m} then it will return at least any minimum occurrence to max m preceding expression.\n",
    "# 重覆出現，至少n 次，至多 m次才算。\n",
    "result=re.findall(r'零{1,2}',s)\n",
    "print (result)"
   ]
  },
  {
   "cell_type": "code",
   "execution_count": 24,
   "metadata": {},
   "outputs": [
    {
     "name": "stdout",
     "output_type": "stream",
     "text": [
      "['ss']\n"
     ]
    }
   ],
   "source": [
    "result=re.findall(r's{2,3}',s1)\n",
    "print (result)"
   ]
  },
  {
   "cell_type": "markdown",
   "metadata": {},
   "source": [
    "# \\b\\w  標點符號或空白後的啟始字"
   ]
  },
  {
   "cell_type": "code",
   "execution_count": 60,
   "metadata": {},
   "outputs": [
    {
     "name": "stdout",
     "output_type": "stream",
     "text": [
      "['我', '驗', '每', '經', '方', '過', '同', '不', '我', '經', '要', '不', '唸', '或', '而', '生', '1', 'I', '1', 'E', 'a', 'n', 'e', 't', 'T', '1', '4', '0']\n"
     ]
    }
   ],
   "source": [
    "# boundary between word and non-word\n",
    "result=re.findall(r'\\b\\w',s)\n",
    "print (result)"
   ]
  },
  {
   "cell_type": "code",
   "execution_count": 25,
   "metadata": {},
   "outputs": [
    {
     "name": "stdout",
     "output_type": "stream",
     "text": [
      "['我們都是從過去的經', '驗出發', '每個人都有不同的經歷', '經過檢討過去的零零總總', '方能策勵將來', '過去到底有什麼優點或缺點', '同時', '不只是個人經驗的反省', '我們很想看看別人的經驗', '經常思索才會成長', '要去做', '不要只是', '唸經', '或發神經', '而是從經驗出發', '生日', '1980年8月20日', 'ID', '19800821', 'Email', 'abcabc', 'ntu', 'edu', 'tw', 'TEL', '1234', '4578', '0930889889']\n"
     ]
    }
   ],
   "source": [
    "# +   1 or more occurrences of the pattern to its left\n",
    "result=re.findall(r'\\b\\w+',s)\n",
    "print (result)"
   ]
  },
  {
   "cell_type": "code",
   "execution_count": 62,
   "metadata": {},
   "outputs": [
    {
     "name": "stdout",
     "output_type": "stream",
     "text": [
      "['This', 'is', 'a', 'test', 'for', 'string', '1234', '5678', 'is', 'tel', 'number', 'regulation', 'expression', 'is', 'used', 'to', 'analyse', 'long', 'string', 'and', 'this', 'text', 'is', 'used', 'as', 'an', 'example']\n"
     ]
    }
   ],
   "source": [
    "# boundary between word and non-word\n",
    "# +   1 or more occurrences of the pattern to its left\n",
    "result=re.findall(r'\\b\\w+',s1)\n",
    "print (result)"
   ]
  },
  {
   "cell_type": "markdown",
   "metadata": {},
   "source": [
    "## [aeiouAEIOU]  包含[...]字元的字串"
   ]
  },
  {
   "cell_type": "code",
   "execution_count": 71,
   "metadata": {},
   "outputs": [
    {
     "data": {
      "text/plain": [
       "'\\n我們都是從過去的經 驗出發，每個人都有不同的經歷，經過檢討過去的零零總總，\\n方能策勵將來，過去到底有什麼優點或缺點？\\n\\n同時，不只是個人經驗的反省，我們很想看看別人的經驗。經常思索才會成長，\\n\\n要去做，不要只是:\\n唸經，或發神經, 而是從經驗出發。生日: 1980年8月20日, ID 19800821,\\n\\nEmail:abcabc@ntu.edu.tw，TEL 1234-4578，0930889889'"
      ]
     },
     "execution_count": 71,
     "metadata": {},
     "output_type": "execute_result"
    }
   ],
   "source": [
    "s"
   ]
  },
  {
   "cell_type": "code",
   "execution_count": 76,
   "metadata": {},
   "outputs": [
    {
     "name": "stdout",
     "output_type": "stream",
     "text": [
      "['我們都是從過去的經', '零零總總', '我們很想看看別人的經驗']\n"
     ]
    }
   ],
   "source": [
    "# 包含[]字元的字串，\"只要有其一即可\"\n",
    "result=re.findall(r'[我零]\\w*',s)\n",
    "print (result)"
   ]
  },
  {
   "cell_type": "code",
   "execution_count": 85,
   "metadata": {},
   "outputs": [
    {
     "name": "stdout",
     "output_type": "stream",
     "text": [
      "['我們都是從過去的經', '經歷', '經驗的反省', '我們很想看看別人的經驗', '經驗出發']\n"
     ]
    }
   ],
   "source": [
    "# 符合兩個條件\n",
    "result=re.findall(r'[我經][們驗歷]\\w*',s) #第一個字和第二個字的篩選 \n",
    "print (result)"
   ]
  },
  {
   "cell_type": "code",
   "execution_count": 46,
   "metadata": {},
   "outputs": [
    {
     "name": "stdout",
     "output_type": "stream",
     "text": [
      "['is', 'is', 'est', 'or', 'ing', 'is', 'el', 'umber', 'egulation', 'expression', 'is', 'used', 'analyse', 'ong', 'ing', 'and', 'is', 'ext', 'is', 'used', 'as', 'an', 'example']\n"
     ]
    }
   ],
   "source": [
    "result=re.findall(r'[aeiouAEIOU]\\w+',s1)\n",
    "print (result)"
   ]
  },
  {
   "cell_type": "code",
   "execution_count": 27,
   "metadata": {},
   "outputs": [
    {
     "data": {
      "text/plain": [
       "'我們都是從過去的經 驗出發，每個人都有不同的經歷，經過檢討過去的零零總總，\\n方能策勵將來，過去到底有什麼優點或缺點？\\n\\n同時，不只是個人經驗的反省，我們很想看看別人的經驗。經常思索才會成長，\\n\\n要去做，不要只是:\\n唸經，或發神經, 而是從經驗出發。生日: 1980年8月20日, ID 19800821,\\n\\nEmail:abcabc@ntu.edu.tw，TEL 1234-4578，0930889889'"
      ]
     },
     "execution_count": 27,
     "metadata": {},
     "output_type": "execute_result"
    }
   ],
   "source": [
    "s"
   ]
  },
  {
   "cell_type": "code",
   "execution_count": 75,
   "metadata": {},
   "outputs": [
    {
     "name": "stdout",
     "output_type": "stream",
     "text": [
      "['TEL']\n"
     ]
    }
   ],
   "source": [
    "result=re.findall(r'[A-Z][A-Z][A-Z]\\w*',s)\n",
    "print (result)"
   ]
  },
  {
   "cell_type": "code",
   "execution_count": 28,
   "metadata": {},
   "outputs": [
    {
     "name": "stdout",
     "output_type": "stream",
     "text": [
      "['Email']\n"
     ]
    }
   ],
   "source": [
    "result=re.findall(r'[A-Z][a-z]\\w+',s)\n",
    "print (result)"
   ]
  },
  {
   "cell_type": "markdown",
   "metadata": {},
   "source": [
    "## 或 |"
   ]
  },
  {
   "cell_type": "code",
   "execution_count": 90,
   "metadata": {},
   "outputs": [
    {
     "name": "stdout",
     "output_type": "stream",
     "text": [
      "['過去的經', '過去的零零總總', '過去到底有什麼優點或缺點', '經驗的反省', '經驗出發']\n"
     ]
    }
   ],
   "source": [
    "# 或聯結\n",
    "result=re.findall(r'經驗\\w+|經歷\\w+|過去\\w+',s) #符合其中任一個就符合條件\n",
    "print (result)"
   ]
  },
  {
   "cell_type": "markdown",
   "metadata": {},
   "source": [
    "## \\d digital"
   ]
  },
  {
   "cell_type": "code",
   "execution_count": 29,
   "metadata": {},
   "outputs": [
    {
     "name": "stdout",
     "output_type": "stream",
     "text": [
      "['1980年']\n"
     ]
    }
   ],
   "source": [
    "# {4} 重覆四個數字字元\n",
    "year=re.findall(r'[0-9]{4}年',s) \n",
    "print (year)"
   ]
  },
  {
   "cell_type": "code",
   "execution_count": 30,
   "metadata": {},
   "outputs": [
    {
     "name": "stdout",
     "output_type": "stream",
     "text": [
      "['1980年8月20日']\n"
     ]
    }
   ],
   "source": [
    "# 重覆四個數字字元，年字元延伸到最後\n",
    "year=re.findall(r'[0-9]{4}年\\w+',s)\n",
    "print (year)"
   ]
  },
  {
   "cell_type": "code",
   "execution_count": 93,
   "metadata": {},
   "outputs": [
    {
     "name": "stdout",
     "output_type": "stream",
     "text": [
      "['8月']\n"
     ]
    }
   ],
   "source": [
    "# 月份至少一個數字字元，至多兩個\n",
    "month=re.findall(r'[0-9]{1,2}月',s)\n",
    "print (month)"
   ]
  },
  {
   "cell_type": "code",
   "execution_count": 31,
   "metadata": {},
   "outputs": [
    {
     "name": "stdout",
     "output_type": "stream",
     "text": [
      "['20']\n"
     ]
    }
   ],
   "source": [
    "# 日期至少一個數字字元，至多兩個\n",
    "day=re.findall(r'([0-9]{1,2})日',s)\n",
    "print (day)"
   ]
  },
  {
   "cell_type": "code",
   "execution_count": 95,
   "metadata": {},
   "outputs": [
    {
     "name": "stdout",
     "output_type": "stream",
     "text": [
      "1980-8-20\n"
     ]
    }
   ],
   "source": [
    "# 合乎日期格式者\n",
    "print (re.findall(r'([0-9]{4})年',s)[0]+'-'+ re.findall(r'([0-9]{1,2})月',s)[0]+'-'+ re.findall(r'([0-9]{1,2})日',s)[0])"
   ]
  },
  {
   "cell_type": "code",
   "execution_count": 96,
   "metadata": {},
   "outputs": [
    {
     "name": "stdout",
     "output_type": "stream",
     "text": [
      "['19800821', '09308898']\n"
     ]
    }
   ],
   "source": [
    "# 合於八個數字字元者\n",
    "result=re.findall(r'[0-9]{8}',s)\n",
    "print (result)"
   ]
  },
  {
   "cell_type": "code",
   "execution_count": 97,
   "metadata": {},
   "outputs": [
    {
     "name": "stdout",
     "output_type": "stream",
     "text": [
      "['1234-4578']\n"
     ]
    }
   ],
   "source": [
    "# 特殊的數字格式，中間以 - 分開\n",
    "result=re.findall(r'\\d{4}-\\d{4}',s)\n",
    "print (result)"
   ]
  },
  {
   "cell_type": "code",
   "execution_count": 98,
   "metadata": {},
   "outputs": [
    {
     "name": "stdout",
     "output_type": "stream",
     "text": [
      "['2-05-2007', '1-11-2011', '2-01-2009']\n"
     ]
    }
   ],
   "source": [
    "# 合於特定數字格式者\n",
    "str='Amit 34-3456 12-05-2007, XYZ 56-4532 11-11-2011, ABC 67-8945 12-01-2009 ycoo21.453423 xcoo110.323456'\n",
    "result=re.findall(r'\\d{1}-\\d{2}-\\d{4}',str)\n",
    "print (result)"
   ]
  },
  {
   "cell_type": "markdown",
   "metadata": {},
   "source": [
    "# 中華民國年月日"
   ]
  },
  {
   "cell_type": "code",
   "execution_count": 99,
   "metadata": {},
   "outputs": [
    {
     "name": "stdout",
     "output_type": "stream",
     "text": [
      "['100', '101', '102', '103', '104']\n",
      "['1', '3', '11', '5', '4']\n",
      "['23', '2', '11', '20', '4']\n"
     ]
    }
   ],
   "source": [
    "import re\n",
    "day=['中華民國100年1月23日','中華民國101年3月2日','中華民國102年11月11日','中華民國103年5月20日','中華民國104年4月4日']\n",
    "year=[]\n",
    "month=[]\n",
    "date=[]\n",
    "for d in day:    \n",
    "    if len(re.findall(r'中華民國(\\w+)年',d))>0:        \n",
    "        year.append(re.findall(r'中華民國(\\w+)年',d)[0])\n",
    "    else:\n",
    "        year.append(\"\")\n",
    "    if len(re.findall(r'年(\\w+)月',d))>0:    \n",
    "        month.append(re.findall(r'年(\\w+)月',d)[0])\n",
    "    else:\n",
    "        month.append(\"\")        \n",
    "    if len(re.findall(r'月(\\w+)日',d))>0:    \n",
    "        date.append(re.findall(r'月(\\w+)日',d)[0])\n",
    "    else:\n",
    "        date.append(\"\")\n",
    "print (year)\n",
    "print (month)\n",
    "print (date)"
   ]
  },
  {
   "cell_type": "markdown",
   "metadata": {},
   "source": [
    "## compile()"
   ]
  },
  {
   "cell_type": "code",
   "execution_count": 61,
   "metadata": {},
   "outputs": [
    {
     "name": "stdout",
     "output_type": "stream",
     "text": [
      "['經歷', '經過檢討過去的零零總總', '經驗的反省', '經驗', '經常思索才會成長', '經驗出發']\n"
     ]
    }
   ],
   "source": [
    "# to search a pattern again without rewriting it.\n",
    "pattern=re.compile(r'經\\w+')\n",
    "result=pattern.findall(s)\n",
    "print (result)"
   ]
  },
  {
   "cell_type": "code",
   "execution_count": 32,
   "metadata": {},
   "outputs": [
    {
     "name": "stdout",
     "output_type": "stream",
     "text": [
      "['經歷', '經過檢討過去的零零總總', '經驗的反省', '經驗', '經常思索才會成長', '經驗出發']\n"
     ]
    }
   ],
   "source": [
    "pattern = re.compile(r'經\\w+')\n",
    "result = pattern.findall(s)\n",
    "print(result)"
   ]
  },
  {
   "cell_type": "code",
   "execution_count": 100,
   "metadata": {},
   "outputs": [
    {
     "name": "stdout",
     "output_type": "stream",
     "text": [
      "['經歷', '經過檢討過去的零零總總', '經驗的反省', '經驗', '經常思索才會成長', '經驗出發']\n"
     ]
    }
   ],
   "source": [
    "# 與前同\n",
    "result=re.compile(r'經\\w+').findall(s)\n",
    "print (result)"
   ]
  },
  {
   "cell_type": "markdown",
   "metadata": {},
   "source": [
    "# 字串的內訂函數(複習)"
   ]
  },
  {
   "cell_type": "code",
   "execution_count": 101,
   "metadata": {},
   "outputs": [
    {
     "name": "stdout",
     "output_type": "stream",
     "text": [
      "\n",
      "我們都是從過去的經 驗出發，每個人都有不同的經歷，經過檢討過去的零零總總，\n",
      "方能策勵將來，過去到底有什麼優點或缺點？\n",
      "\n",
      "同時，不只是個人經驗的反省，我們很想看看別人的經驗。經常思索才會成長，\n",
      "\n",
      "要去做，不要只是:\n",
      "唸經，或發神經, 而是從經驗出發。生日: 1980年8月20日, ID 19800821,\n",
      "\n",
      "Email:abcabc@ntu.edu.tw，TEL 1234-4578，0930889889\n",
      "\n",
      "我們都是\n"
     ]
    }
   ],
   "source": [
    "# left 5\n",
    "print (s)\n",
    "a=s[0:5]\n",
    "print (a)"
   ]
  },
  {
   "cell_type": "code",
   "execution_count": 33,
   "metadata": {},
   "outputs": [
    {
     "name": "stdout",
     "output_type": "stream",
     "text": [
      "8988\n",
      "9\n"
     ]
    }
   ],
   "source": [
    "# right 5, -1 表最後一個字元 \n",
    "print (s[-5:-1])\n",
    "print (s[-1])"
   ]
  },
  {
   "cell_type": "markdown",
   "metadata": {},
   "source": [
    "## find()"
   ]
  },
  {
   "cell_type": "code",
   "execution_count": 34,
   "metadata": {},
   "outputs": [
    {
     "name": "stdout",
     "output_type": "stream",
     "text": [
      "8\n"
     ]
    }
   ],
   "source": [
    "# 第一個 #str.find(str, beg=0, end=len(string))\n",
    "p1=s.find('經',0,len(s))\n",
    "print (p1)"
   ]
  },
  {
   "cell_type": "code",
   "execution_count": 104,
   "metadata": {},
   "outputs": [
    {
     "name": "stdout",
     "output_type": "stream",
     "text": [
      "23\n"
     ]
    }
   ],
   "source": [
    "# 第二個\n",
    "p2=s.find('經',p1+1,len(s))\n",
    "print (p2)"
   ]
  },
  {
   "cell_type": "markdown",
   "metadata": {},
   "source": [
    "## count()"
   ]
  },
  {
   "cell_type": "code",
   "execution_count": 35,
   "metadata": {},
   "outputs": [
    {
     "data": {
      "text/plain": [
       "9"
      ]
     },
     "execution_count": 35,
     "metadata": {},
     "output_type": "execute_result"
    }
   ],
   "source": [
    "# 總共有幾個\n",
    "s.count(\"經\", 0 , len(s))"
   ]
  },
  {
   "cell_type": "markdown",
   "metadata": {},
   "source": [
    "## split()"
   ]
  },
  {
   "cell_type": "code",
   "execution_count": 106,
   "metadata": {},
   "outputs": [],
   "source": [
    "# 先定義兩個字串，作為範例，一個是中文，一個是英文。注意 \\n代表跳行。\n",
    "s='''我們都是從過去的經 驗出發，每個人都有不同的經歷，經過檢討過去的零零總總，\n",
    "方能策勵將來，過去到底有什麼優點或缺點？\\n同時，不只是個人經驗的反省，我們很想看看別人的經驗。經常思索才會成長，\n",
    "要去做，不要只是:\\n唸經，或發神經,。生日: 1980年8月20日, 19800821, Email:abcabc@ntu.edu.tw，TEL 1234-4578，0930889889'''\n",
    "s1='''This is a test for string, 1234-5678, regulation expression is used to analyse string, and this example of t.'''"
   ]
  },
  {
   "cell_type": "code",
   "execution_count": 107,
   "metadata": {},
   "outputs": [
    {
     "data": {
      "text/plain": [
       "['我們都是從過去的經',\n",
       " '驗出發，每個人都有不同的經歷，經過檢討過去的零零總總，',\n",
       " '方能策勵將來，過去到底有什麼優點或缺點？',\n",
       " '同時，不只是個人經驗的反省，我們很想看看別人的經驗。經常思索才會成長，',\n",
       " '要去做，不要只是:',\n",
       " '唸經，或發神經,。生日:',\n",
       " '1980年8月20日,',\n",
       " '19800821,',\n",
       " 'Email:abcabc@ntu.edu.tw，TEL',\n",
       " '1234-4578，0930889889']"
      ]
     },
     "execution_count": 107,
     "metadata": {},
     "output_type": "execute_result"
    }
   ],
   "source": [
    "# 內訂的切割：空白、換行，存成 list #split空白/換行\n",
    "lis=s.split()\n",
    "lis"
   ]
  },
  {
   "cell_type": "markdown",
   "metadata": {},
   "source": [
    "## replace()"
   ]
  },
  {
   "cell_type": "code",
   "execution_count": 70,
   "metadata": {
    "scrolled": false
   },
   "outputs": [
    {
     "name": "stdout",
     "output_type": "stream",
     "text": [
      "我們都是從過去的經 驗出發，每個人都有不同的經歷，經過檢討過去的零零總總，方能策勵將來，過去到底有什麼優點或缺點？同時，不只是個人經驗的反省，我們很想看看別人的經驗。經常思索才會成長，要去做，不要只是:唸經，或發神經,。生日: 1980年8月20日, 19800821, Email:abcabc@ntu.edu.tw，TEL 1234-4578，0930889889\n"
     ]
    }
   ],
   "source": [
    "s2=s.replace('\\n','')\n",
    "print (s2)"
   ]
  },
  {
   "cell_type": "markdown",
   "metadata": {},
   "source": [
    "## re.split()  多個分隔符號的切割"
   ]
  },
  {
   "cell_type": "code",
   "execution_count": 109,
   "metadata": {
    "scrolled": true
   },
   "outputs": [
    {
     "data": {
      "text/plain": [
       "['我們都是從過去的經 驗出發',\n",
       " '每個人都有不同的經歷',\n",
       " '經過檢討過去的零零總總',\n",
       " '',\n",
       " '方能策勵將來',\n",
       " '過去到底有什麼優點或缺點？',\n",
       " '同時',\n",
       " '不只是個人經驗的反省',\n",
       " '我們很想看看別人的經驗',\n",
       " '經常思索才會成長',\n",
       " '',\n",
       " '要去做',\n",
       " '不要只是:',\n",
       " '唸經',\n",
       " '或發神經,',\n",
       " '生日: 1980年8月20日, 19800821, Email:abcabc@ntu.edu.tw',\n",
       " 'TEL 1234-4578',\n",
       " '0930889889']"
      ]
     },
     "execution_count": 109,
     "metadata": {},
     "output_type": "execute_result"
    }
   ],
   "source": [
    "#多種符號之切割 # 自訂的切割\n",
    "lis=re.split(r'[，。\\n]',s)\n",
    "lis"
   ]
  },
  {
   "cell_type": "code",
   "execution_count": 36,
   "metadata": {},
   "outputs": [
    {
     "data": {
      "text/plain": [
       "['我們都是從過去的經 驗出發',\n",
       " '每個人都有不同的經歷',\n",
       " '經過檢討過去的零零總總',\n",
       " '',\n",
       " '方能策勵將來',\n",
       " '過去到底有什麼優點或缺點？',\n",
       " '',\n",
       " '同時',\n",
       " '不只是個人經驗的反省',\n",
       " '我們很想看看別人的經驗',\n",
       " '經常思索才會成長',\n",
       " '',\n",
       " '',\n",
       " '要去做',\n",
       " '不要只是:',\n",
       " '唸經',\n",
       " '或發神經, 而是從經驗出發',\n",
       " '生日: 1980年8月20日, ID 19800821,',\n",
       " '',\n",
       " 'Email:abcabc@ntu.edu.tw',\n",
       " 'TEL 1234-4578',\n",
       " '0930889889']"
      ]
     },
     "execution_count": 36,
     "metadata": {},
     "output_type": "execute_result"
    }
   ],
   "source": [
    "lis = re.split(r'[，。\\n]', s)\n",
    "lis"
   ]
  },
  {
   "cell_type": "markdown",
   "metadata": {},
   "source": [
    "# re.sub() 正規表示式的替代功能"
   ]
  },
  {
   "cell_type": "code",
   "execution_count": 37,
   "metadata": {},
   "outputs": [],
   "source": [
    "s3='我們都是|鹤山·古劳...，【從過去的@經驗:出發】，<每個人>都有不同的@經歷:，經過(檢討)過去的|零零...總總'"
   ]
  },
  {
   "cell_type": "code",
   "execution_count": 38,
   "metadata": {},
   "outputs": [
    {
     "data": {
      "text/plain": [
       "'我們都是|鹤山·古劳...，【從過去的@經驗:出發】，[大家]都有不同的@經歷:，經過(檢討)過去的|零零...總總'"
      ]
     },
     "execution_count": 38,
     "metadata": {},
     "output_type": "execute_result"
    }
   ],
   "source": [
    "# 字串替代\n",
    "re.sub(r'<每個人>','[大家]', s3)"
   ]
  },
  {
   "cell_type": "code",
   "execution_count": 73,
   "metadata": {},
   "outputs": [
    {
     "data": {
      "text/plain": [
       "'我們都是鹤山古劳，【從過去的經驗出發】，每個人都有不同的經歷，經過檢討過去的零零總總'"
      ]
     },
     "execution_count": 73,
     "metadata": {},
     "output_type": "execute_result"
    }
   ],
   "source": [
    "# 去除數字英文及特殊符號\n",
    "re.sub(r'[0-9]|[a-z]|[A-z]|[!@#$%^&*()_+:\"{}<>?;,.·/-|]','', s3)"
   ]
  },
  {
   "cell_type": "code",
   "execution_count": 74,
   "metadata": {},
   "outputs": [
    {
     "data": {
      "text/plain": [
       "'Thi i a tet for tring, -, regulation expreion i ued to analye tring, and thi example of t.'"
      ]
     },
     "execution_count": 74,
     "metadata": {},
     "output_type": "execute_result"
    }
   ],
   "source": [
    "# 去除數字及's'\n",
    "re.sub(r'[0-9]|[s]','', s1)"
   ]
  },
  {
   "cell_type": "code",
   "execution_count": 75,
   "metadata": {},
   "outputs": [
    {
     "data": {
      "text/plain": [
       "'我們都是|鹤山·古劳...，【從過去的*****出發】，<每個人>都有不同的*****，經過(檢討)過去的|零零...總總'"
      ]
     },
     "execution_count": 75,
     "metadata": {},
     "output_type": "execute_result"
    }
   ],
   "source": [
    "# 取代 @ 開頭 至 :的字串為 *****\n",
    "# 本例為 「@經驗:」\n",
    "re.sub('(@\\w+:)','*****',s3)"
   ]
  },
  {
   "cell_type": "code",
   "execution_count": 40,
   "metadata": {},
   "outputs": [
    {
     "data": {
      "text/plain": [
       "'我們都是|鹤山·古劳...，【從過去的*****出發】，<每個人>都有不同的*****，經過(檢討)過去的|零零...總總'"
      ]
     },
     "execution_count": 40,
     "metadata": {},
     "output_type": "execute_result"
    }
   ],
   "source": [
    "re.sub('(@\\w+:)', '*****', s3)"
   ]
  },
  {
   "cell_type": "code",
   "execution_count": 76,
   "metadata": {},
   "outputs": [
    {
     "data": {
      "text/plain": [
       "'我們都是|鹤山·古劳...，【從過去的@經驗:出發】，+++++都有不同的@經歷:，經過(檢討)過去的|零零...總總'"
      ]
     },
     "execution_count": 76,
     "metadata": {},
     "output_type": "execute_result"
    }
   ],
   "source": [
    "# 取代 <> 及其中間的字串為 +++++\n",
    "# 本例為 <每個人>\n",
    "re.sub('(<\\w+>)','+++++',s3)"
   ]
  },
  {
   "cell_type": "code",
   "execution_count": 77,
   "metadata": {},
   "outputs": [
    {
     "data": {
      "text/plain": [
       "'我們都是|鹤山·古劳...，【從過去的@經驗:出發】，<每個人>都有不同的@經歷:，經過-----過去的|零零...總總'"
      ]
     },
     "execution_count": 77,
     "metadata": {},
     "output_type": "execute_result"
    }
   ],
   "source": [
    "# 取代 () 及其中間的字串為 -----\n",
    "# 本例為 (檢討)\n",
    "re.sub('(\\(\\w+\\))','-----',s3)"
   ]
  },
  {
   "cell_type": "code",
   "execution_count": 115,
   "metadata": {},
   "outputs": [
    {
     "data": {
      "text/plain": [
       "'我們都是---人名---，【從過去的@經驗:出發】，<每個人>都有不同的@經歷:，經過(檢討)過去的|零零...總總'"
      ]
     },
     "execution_count": 115,
     "metadata": {},
     "output_type": "execute_result"
    }
   ],
   "source": [
    "# 把 |   ·   ... 格式取代為 '---人名---'\n",
    "re.sub('(\\|\\w+·\\w+\\.\\.\\.)','---人名---',s3)"
   ]
  },
  {
   "cell_type": "code",
   "execution_count": 116,
   "metadata": {},
   "outputs": [
    {
     "data": {
      "text/plain": [
       "'我們都是|鹤山·古劳...，，<每個人>都有不同的@經歷:，經過(檢討)過去的|零零...總總'"
      ]
     },
     "execution_count": 116,
     "metadata": {},
     "output_type": "execute_result"
    }
   ],
   "source": [
    "# 把 【  @  : 】 格式內容刪除\n",
    "re.sub('(【\\w+@\\w+:\\w+】)','',s3)"
   ]
  },
  {
   "cell_type": "code",
   "execution_count": 80,
   "metadata": {},
   "outputs": [
    {
     "data": {
      "text/plain": [
       "'我們都是|鹤山·古劳...，，<每個人>都有不同的@經歷:，經過(檢討)過去的|零零...總總'"
      ]
     },
     "execution_count": 80,
     "metadata": {},
     "output_type": "execute_result"
    }
   ],
   "source": [
    "# 把 【】 及其夾的內容刪除\n",
    "# 起始位置\n",
    "st=re.search('【', s3).start()\n",
    "# 結束位置\n",
    "en=re.search('】', s3).end()\n",
    "s3.replace(s3[st:en],'')\n"
   ]
  },
  {
   "cell_type": "markdown",
   "metadata": {},
   "source": [
    "# 補充"
   ]
  },
  {
   "cell_type": "markdown",
   "metadata": {},
   "source": [
    "# Email address"
   ]
  },
  {
   "cell_type": "code",
   "execution_count": 81,
   "metadata": {},
   "outputs": [
    {
     "name": "stdout",
     "output_type": "stream",
     "text": [
      "Details: rev=1.234567, from: 99abc.test@gmail.com.tw, from: xyz@test.in.edu.tw, test.first@analyticsvidhya.com,     first.test@rest.edu.tw\n"
     ]
    }
   ],
   "source": [
    "str='Details: rev=1.234567, from: 99abc.test@gmail.com.tw, from: xyz@test.in.edu.tw, test.first@analyticsvidhya.com, \\\n",
    "    first.test@rest.edu.tw'\n",
    "print (str)"
   ]
  },
  {
   "cell_type": "code",
   "execution_count": 82,
   "metadata": {},
   "outputs": [
    {
     "name": "stdout",
     "output_type": "stream",
     "text": [
      "['gmail.com.tw', 'test.in.edu', 'analyticsvidhya.com', 'rest.edu.tw']\n"
     ]
    }
   ],
   "source": [
    "# @ 開頭，中間有兩個. 到最後字串，不包 @\n",
    "result=re.findall(r'@(\\w+.\\w+.\\w+)',str)\n",
    "print (result)"
   ]
  },
  {
   "cell_type": "code",
   "execution_count": 83,
   "metadata": {},
   "outputs": [
    {
     "name": "stdout",
     "output_type": "stream",
     "text": [
      "['@gmail.com.tw', '@test.in.edu', '@analyticsvidhya.com', '@rest.edu.tw']\n"
     ]
    }
   ],
   "source": [
    "# @ 開頭，中間有兩個. 到最後字串，包含 @ \n",
    "result=re.findall(r'(@\\w+.\\w+.\\w+)',str)\n",
    "print (result)"
   ]
  },
  {
   "cell_type": "code",
   "execution_count": 84,
   "metadata": {},
   "outputs": [
    {
     "name": "stdout",
     "output_type": "stream",
     "text": [
      "['.com', '.in', '.com', '.edu']\n"
     ]
    }
   ],
   "source": [
    "# @ 開頭，取最後一個. 到最後字串 \n",
    "result=re.findall(r'@\\w+.(\\.\\w+)',str)\n",
    "print (result)"
   ]
  },
  {
   "cell_type": "code",
   "execution_count": 85,
   "metadata": {},
   "outputs": [
    {
     "name": "stdout",
     "output_type": "stream",
     "text": [
      "['99abc.test@gmail.com.tw,', 'xyz@test.in.edu.tw,', 'test.first@analyticsvidhya.com,', 'first.test@rest.edu.tw']\n"
     ]
    }
   ],
   "source": [
    "# 含有 @ 的字串， \\S+ 所有非空的字元\n",
    "result = re.findall(r'\\S+@\\S+', str)\n",
    "print (result)"
   ]
  },
  {
   "cell_type": "code",
   "execution_count": 86,
   "metadata": {},
   "outputs": [
    {
     "name": "stdout",
     "output_type": "stream",
     "text": [
      "['1.234567']\n"
     ]
    }
   ],
   "source": [
    "# 印出 rev= 其後的數字到結束\n",
    "result = re.findall(r' rev=([0-9.]+)', str)\n",
    "print (result)"
   ]
  },
  {
   "cell_type": "code",
   "execution_count": 87,
   "metadata": {},
   "outputs": [
    {
     "name": "stdout",
     "output_type": "stream",
     "text": [
      "99abc.test@gmail.com.tw,\n",
      "xyz@test.in.edu.tw,\n",
      "first.test@rest.edu.tw\n"
     ]
    }
   ],
   "source": [
    "# 印出有 edu.tw, com.tw 者\n",
    "lis=str.split()\n",
    "for l in lis:\n",
    "    if re.search(r'(edu|com)\\.tw',l): \n",
    "        print (l) "
   ]
  },
  {
   "cell_type": "code",
   "execution_count": 88,
   "metadata": {},
   "outputs": [
    {
     "name": "stdout",
     "output_type": "stream",
     "text": [
      "99abc.test@gmail.***,\n",
      "xyz@test.in.***,\n",
      "first.test@rest.***\n"
     ]
    }
   ],
   "source": [
    "# 把 edu.tw, com.tw 取代為 ***\n",
    "lis=str.split()\n",
    "for l in lis:\n",
    "    if re.search(r'(edu|com)\\.tw',l): \n",
    "        print (re.sub(r'(edu|com)\\.tw','***', l)) \n"
   ]
  },
  {
   "cell_type": "markdown",
   "metadata": {},
   "source": [
    "# 讀進一篇文章"
   ]
  },
  {
   "cell_type": "code",
   "execution_count": 42,
   "metadata": {},
   "outputs": [],
   "source": [
    "# 蔡英文就職演說\n",
    "string='''\n",
    "各位友邦的元首與貴賓、各國駐台使節及代表、現場的好朋友，全體國人同胞，大家好\n",
    "感謝與承擔\n",
    "就在剛剛，我和陳建仁已經在總統府裡面，正式宣誓就任中華民國第十四任總統與副總統。我們要感謝這塊土地對我們的栽培，感謝人民對我們的信任，以及，最重要的，感謝這個國家的民主機制，讓我們透過和平的選舉過程，實現第三次政黨輪替，並且克服種種不確定因素，順利渡過長達四個月的交接期，完成政權和平移轉。\n",
    "台灣，再一次用行動告訴世界，作為一群民主人與自由人，我們有堅定的信念，去捍衛民主自由的生活方式。這段旅程，我們每一個人都參與其中。親愛的台灣人民，我們做到了。\n",
    "我要告訴大家，對於一月十六日的選舉結果，我從來沒有其他的解讀方式。人民選擇了新總統、新政府，所期待的就是四個字：解決問題。此時此刻，台灣的處境很困難，迫切需要執政者義無反顧的承擔。這一點，我不會忘記。\n",
    "我也要告訴大家，眼前的種種難關，需要我們誠實面對，需要我們共同承擔。所以，這個演說是一個邀請，我要邀請全體國人同胞一起來，扛起這個國家的未來。\n",
    "國家不會因為領導人而偉大；全體國民的共同奮鬥，才讓這個國家偉大。總統該團結的不只是支持者，總統該團結的是整個國家。團結是為了改變，這是我對這個國家最深切的期待。在這裡，我要誠懇地呼籲，請給這個國家一個機會，讓我們拋下成見，拋下過去的對立，我們一起來完成新時代交給我們的使命。\n",
    "在我們共同奮鬥的過程中，身為總統，我要向全國人民宣示，未來我和新政府，將領導這個國家的改革，展現決心，絕不退縮。\n",
    "為年輕人打造一個更好的國家\n",
    "未來的路並不好走，台灣需要一個正面迎向一切挑戰的新政府，我的責任就是領導這個新政府。\n",
    "我們的年金制度，如果不改，就會破產。我們僵化的教育制度，已經逐漸與社會脈動脫節。我們的能源與資源十分有限，我們的經濟缺乏動能，舊的代工模式已經面臨瓶頸，整個國家極需要新的經濟發展模式。我們的人口結構急速老化，長照體系卻尚未健全。我們的人口出生率持續低落，完善的托育制度卻始終遙遙無期。我們環境汙染問題仍然嚴重。我們國家的財政並不樂觀。我們的司法已經失去人民的信任。我們的食品安全問題，困擾著所有家庭。我們的貧富差距越來越嚴重。我們的社會安全網還是有很多破洞。最重要的，我要特別強調，我們的年輕人處於低薪的處境，他們的人生，動彈不得，對於未來，充滿無奈與茫然。\n",
    "年輕人的未來是政府的責任。如果不友善的結構沒有改變，再多個人菁英的出現，都不足以讓整體年輕人的處境變好。我期許自己，在未來的任期之內，要一步一步，從根本的結構來解決這個國家的問題。\n",
    "這就是我想為台灣的年輕人做的事。雖然我沒有辦法立刻幫所有的年輕人加薪，但是我願意承諾，新政府會立刻展開行動。請給我們一點時間，也請跟我們一起走上改革的這一條路。\n",
    "改變年輕人的處境，就是改變國家的處境。一個國家的年輕人沒有未來，這個國家必定沒有未來。幫助年輕人突破困境，實現世代正義，把一個更好的國家交到下一代手上，就是新政府重大的責任。?第一、經濟結構的轉型\n",
    "要打造一個更好的國家，未來，新政府要做到以下幾件事情。\n",
    "首先，就是讓台灣的經濟結構轉型。這是新政府所必須承擔的最艱鉅使命。我們不要妄自菲薄，更不要失去信心。台灣有很多別的國家沒有的優勢，我們有海洋經濟的活力和?性，高素質的人力資源、務實可靠的工程師文化、完整的產業鏈、敏捷靈活的中小企業，以及，永不屈服的創業精神。\n",
    "我們要讓台灣經濟脫胎換骨，就必須從現在起就下定決心，勇敢地走出另外一條路。這一條路，就是打造台灣經濟發展的新模式。\n",
    "新政府將打造一個以創新、就業、分配為核心價值，追求永續發展的新經濟模式。改革的第一步，就是強化經濟的活力與自主性，加強和全球及區域的連結，積極參與多邊及雙邊經濟合作及自由貿易談判，包括TPP、RCEP等，並且，推動新南向政策，提升對外經濟的格局及多元性，告別以往過於依賴單一市場的現象。?除此之外，新政府相信，唯有激發新的成長動能，我們才能突破當前經濟的停滯不前。我們會以出口和內需作為雙引擎，讓企業生產和人民生活互為表裡，讓對外貿易和在地經濟緊密連結。\n",
    "我們會優先推動五大創新研發計畫，藉著這些產業來重新塑造台灣的全球競爭力。我們也要積極提升勞動生產力，保障勞工權益，讓薪資和經濟成長能同步提升。\n",
    "這是台灣經濟發展的關鍵時刻。我們有決心，也有溝通能力。我們已經有系統性的規劃，未來，會以跨部會聯手的模式，把整個國家的力量集結起來，一起來催生這個新模式。\n",
    "在經濟發展的同時，我們不要忘記對環境的責任。經濟發展的新模式會和國土規劃、區域發展及環境永續，相互結合。產業的佈局和國土的利用，應該拋棄零碎的規畫，和短視近利的眼光。我們必須追求區域的均衡發展，這需要中央來規畫、整合，也需要地方政府充分發揮區域聯合治理的精神。?我們也不能再像過去，無止盡地揮霍自然資源及國民健康。所以，對各種汙染的控制，我們會嚴格把關，更要讓台灣走向循環經濟的時代，把廢棄物轉換為再生資源。對於能源的選擇，我們會以永續的觀念去逐步調整。新政府會嚴肅看待氣候變遷、國土保育、災害防治的相關議題，因為，我們只有一個地球，我們也只有一個台灣。\n",
    "第二、強化社會安全網\n",
    "新政府必須要承擔的第二件事情，就是強化台灣的社會安全網。這些年，幾件關於兒少安全及隨機殺人的事件，都讓整個社會震驚。不過，一個政府不能永遠在震驚，它必須要有同理心。沒有人可以替受害者家屬承受傷痛，但是，一個政府，尤其是第一線處理問題的人，必須要讓受害者以及家屬覺得，不幸事件發生的時候，政府是站在他們這一邊。\n",
    "除了同理心之外，政府更應該要提出解決的方法。全力防止悲劇一再發生，從治安、教育、心理健康、社會工作等各個面向，積極把破洞補起來。尤其是治安與反毒的工作，這些事情，新政府會用最嚴肅的態度和行動來面對。?在年金的改革方面，這是攸關台灣生存發展的關鍵改革，我們不應該遲疑，也不可以躁進。由陳建仁副總統擔任召集人的年金改革委員會，已經緊鑼密鼓在籌備之中。過去的政府在這個議題上，曾經有過一些努力。但是，缺乏社會的參與。新政府的做法，是發動一個集體協商，因為年金改革必須是一個透過協商來團結所有人的過程。\n",
    "這就是為什麼，我們要召開年金改革國是會議，由不同階層、不同職業代表，在社會團結的基礎上，共同協商。一年之內，我們會提出可行的改革方案。無論是勞工還是公務員，每一個國民的退休生活都應該得到公平的保障。\n",
    "另外，在長期照顧的議題上，我們將會把優質、平價、普及的長期照顧系統建立起來。和年金改革一樣，長照體系也是一個社會總動員的過程。新政府的做法是由政府主導和規劃，鼓勵民間發揮社區主義的精神，透過社會集體互助的力量，來建立一套妥善而完整的體系。每一個老年人都可以在自己熟悉的社區，安心享受老年生活，每一個家庭的照顧壓力將會減輕。照顧老人的工作不能完全讓它變成自由市場。我們會把責任扛起來，按部就班來規劃與執行，為超高齡社會的來臨，做好準備。?第三、社會的公平與正義\n",
    "新政府要承擔的第三件事情，就是社會的公平與正義。在這個議題上，新政府會持續和公民社會一起合作，讓台灣的政策更符合多元、平等、開放、透明、人權的價值，讓台灣的民主機制更加深化與進化。\n",
    "新的民主制度要能夠上路，我們必須先找出面對過去的共同方法。未來，我會在總統府成立真相與和解委員會，用最誠懇與謹慎的態度，來處理過去的歷史。追求轉型正義的目標是在追求社會的真正和解，讓所有台灣人都記取那個時代的錯誤。\n",
    "我們將從真相的調查與整理出發，預計在三年之內，完成台灣自己的轉型正義調查報告書。我們將會依據調查報告所揭示的真相，來進行後續的轉型正義工作。挖掘真相、彌平傷痕、釐清責任。從此以後，過去的歷史不再是台灣分裂的原因，而是台灣一起往前走的動力。\n",
    "同樣在公平正義的議題上，我會秉持相同的原則，來面對原住民族的議題。今天的就職典禮，原住民族的小朋友在唱國歌之前，先唱了他們部落傳統的古調。這象徵了，我們不敢忘記，這個島上先來後到的順序。?新政府會用道歉的態度，來面對原住民族相關議題，重建原民史觀，逐步推動自治，復育語言文化，提升生活照顧，這就是我要領導新政府推動的改變。\n",
    "接下來，新政府也會積極推動司法改革。這是現階段台灣人民最關心的議題。司法無法親近人民、不被人民信任、司法無法有效打擊犯罪，以及，司法失去作為正義最後一道防線的功能，是人民普遍的感受。\n",
    "為了展現新政府的決心，我們會在今年十月召開司法國是會議，透過人民實際的參與，讓社會力進來，一起推動司法改革。司法必須回應人民的需求，不再只是法律人的司法，而是全民的司法。司法改革也不只是司法人的家務事，而是全民參與的改革。這就是我對司法改革的期待。\n",
    "第四、區域的和平穩定發展及兩岸關係\n",
    "新政府要承擔的第四件事情，是區域的和平穩定與發展，以及妥善處理兩岸關係。過去三十年，無論是對亞洲或是全球，都是變動最劇烈的時期；而全球及區域的經濟穩定和集體安全，也是各國政府越來越關切的課題。\n",
    "台灣在區域發展當中，一直是不可或缺的關鍵角色。但是近年來，區域的情勢快速變動，如果台灣不善用自己的實力和籌碼，積極參與區域事務，不但將會變得無足輕重，甚至可能被邊緣化，喪失對於未來的自主權。\n",
    "我們有危機，但也有轉機。台灣現階段的經濟發展，和區域中許多國家高度關聯和互補。如果將打造經濟發展新模式的努力，透過和亞洲、乃至亞太區域的國家合作，共同形塑未來的發展策略，不但可以為區域的經濟創新、結構調整和永續發展，做出積極的貢獻，更可以和區域內的成員，建立緊密的「經濟共同體」意識。\n",
    "我們要和其他國家共享資源、人才與市場，擴大經濟規模，讓資源有效利用。「新南向政策」就是基於這樣的精神。我們會在科技、文化與經貿等各層面，和區域成員廣泛交流合作，尤其是增進與東協、印度的多元關係。為此，我們也願意和對岸，就共同參與區域發展的相關議題，坦誠交換意見，尋求各種合作與協力的可能性。\n",
    "在積極發展經濟的同時，亞太地區的安全情勢也變得越來越複雜，而兩岸關係，也成為建構區域和平與集體安全的重要一環。這個建構的進程，台灣會做一個「和平的堅定維護者」，積極參與，絕不缺席；我們也將致力維持兩岸關係的和平穩定；我們更會努力促成內部和解，強化民主機制，凝聚共識，形成一致對外的立場。\n",
    "對話和溝通，是我們達成目標最重要的關鍵。台灣也要成為一個「和平的積極溝通者」，我們將和相關的各方，建立常態、緊密的溝通機制，隨時交換意見，防止誤判，建立互信，有效解決爭議。我們將謹守和平原則、利益共享原則，來處理相關的爭議。\n",
    "我依照中華民國憲法當選總統，我有責任捍衛中華民國的主權和領土；對於東海及南海問題，我們主張應擱置爭議，共同開發。\n",
    "兩岸之間的對話與溝通，我們也將努力維持現有的機制。1992年兩岸兩會秉持相互諒解、求同存異的政治思維，進行溝通協商，達成若干的共同認知與諒解，我尊重這個歷史事實。92年之後，20多年來雙方交流、協商所累積形成的現狀與成果，兩岸都應該共同珍惜與維護，並在這個既有的事實與政治基礎上，持續推動兩岸關係和平穩定發展；新政府會依據中華民國憲法、兩岸人民關係條例及其他相關法律，處理兩岸事務。兩岸的兩個執政黨應該要放下歷史包袱，展開良性對話，造福兩岸人民。\n",
    "我所講的既有政治基礎，包含幾個關鍵元素，第一，1992年兩岸兩會會談的歷史事實與求同存異的共同認知，這是歷史事實；第二，中華民國現行憲政體制；第三，兩岸過去20多年來協商和交流互動的成果；第四，台灣民主原則及普遍民意。\n",
    "第五、外交與全球性議題\n",
    "新政府要承擔的第五件事情，是善盡地球公民的責任，在外交與全球性的議題上做出貢獻。讓台灣走向世界，也要讓世界走進台灣。\n",
    "現場有許多來自各國的元首與使節團，我要特別謝謝他們，長久以來一直幫助台灣，讓我們有機會參與國際社會。未來，我們會持續透過官方互動、企業投資與民間合作各種方式，分享台灣發展的經驗，與友邦建立永續的夥伴關係。\n",
    "台灣是全球公民社會的模範生，民主化以來，我們始終堅持和平、自由、民主及人權的普世價值。我們會秉持這個精神，加入全球議題的價值同盟。我們會繼續深化與包括美國、日本、歐洲在內的友好民主國家的關係，在共同的價值基礎上，推動全方位的合作。\n",
    "我們會積極參與國際經貿合作及規則制定，堅定維護全球的經濟秩序，並且融入重要的區域經貿體系。我們也不會在防制全球暖化、氣候變遷的議題上缺席。我們將會在行政院設立專責的能源和減碳辦公室，並且根據COP21巴黎協議的規定，定期檢討溫室氣體的減量目標，與友好國家攜手，共同維護永續的地球。?\n",
    "同時，新政府會支持並參與，全球性新興議題的國際合作，包括人道救援、醫療援助、疾病的防治與研究、反恐合作，以及共同打擊跨國犯罪，讓台灣成為國際社會不可或缺的夥伴。\n",
    "結語\n",
    "1996年台灣第一次總統直選，到今天剛好20年。過去20年，在幾任政府以及公民社會的努力之下，我們成功渡過了許多新興民主國家必須面對的難關。在這個過程中，我們曾經有過許多感動人心的時刻和故事，不過，正如同世界上其他國家一樣，我們也曾經有過焦慮、不安、矛盾、與對立。\n",
    "我們看到了社會的對立，進步與保守的對立，環境與開發的對立，以及，政治意識之間的對立。這些對立，曾經激發出選舉時的動員能量，不過也因為這些對立，我們的民主逐漸失去了解決問題的能力。\n",
    "民主是一個進程，每一個時代的政治工作者，都要清楚認識他身上所肩負的責任。民主會前進，民主也有可能倒退。今天，我站在這裡，就是要告訴大家，倒退不會是我們的選項。新政府的責任就是把台灣的民主推向下一個階段：以前的民主是選舉的輸贏，現在的民主則是關於人民的幸福；以前的民主是兩個價值觀的對決，現在的民主則是不同價值觀的對話。\n",
    "打造一個沒有被意識形態綁架的「團結的民主」，打造一個可以回應社會與經濟問題的「有效率的民主」，打造一個能夠實質照料人民的「務實的民主」，這就是新時代的意義。\n",
    "只要我們相信，新時代就會來臨。只要這個國家的主人，有堅定的信念，新時代一定會在我們這一代人的手上誕生。\n",
    "各位親愛的台灣人民，演講要結束了，改革要開始了。從這一刻起，這個國家的擔子交在新政府身上。我會讓大家看見這個國家的改變。\n",
    "歷史會記得我們這個勇敢的世代，這個國家的繁榮、尊嚴、團結、自信和公義，都有我們努力的痕跡。歷史會記得我們的勇敢，我們在2016年一起把國家帶向新的方向。這塊土地上的每一個人，都因為參與台灣的改變，而感到驕傲。\n",
    "剛才表演節目中的一首歌曲當中，有一句讓我很感動的歌詞：(台語)現在是彼一天，勇敢ㄟ台灣人。\n",
    "各位國人同胞，兩千三百萬的台灣人民，等待已經結束，現在就是那一天。今天，明天，未來的每一天，我們都要做一個守護民主、守護自由、守護這個國家的台灣人。\n",
    "謝謝大家。\n",
    "'''"
   ]
  },
  {
   "cell_type": "code",
   "execution_count": 43,
   "metadata": {},
   "outputs": [
    {
     "name": "stdout",
     "output_type": "stream",
     "text": [
      "555\n",
      "['', '各位友邦的元首與貴賓、各國駐台使節及代表、現場的好朋友', '全體國人同胞', '大家好', '感謝與承擔', '就在剛剛', '我和陳建仁已經在總統府裡面', '正式宣誓就任中華民國第十四任總統與副總統', '我們要感謝這塊土地對我們的栽培', '感謝人民對我們的信任', '以及', '最重要的', '感謝這個國家的民主機制', '讓我們透過和平的選舉過程', '實現第三次政黨輪替', '並且克服種種不確定因素', '順利渡過長達四個月的交接期', '完成政權和平移轉', '', '台灣', '再一次用行動告訴世界', '作為一群民主人與自由人', '我們有堅定的信念', '去捍衛民主自由的生活方式', '這段旅程', '我們每一個人都參與其中', '親愛的台灣人民', '我們做到了', '', '我要告訴大家', '對於一月十六日的選舉結果', '我從來沒有其他的解讀方式', '人民選擇了新總統、新政府', '所期待的就是四個字：解決問題', '此時此刻', '台灣的處境很困難', '迫切需要執政者義無反顧的承擔', '這一點', '我不會忘記', '', '我也要告訴大家', '眼前的種種難關', '需要我們誠實面對', '需要我們共同承擔', '所以', '這個演說是一個邀請', '我要邀請全體國人同胞一起來', '扛起這個國家的未來', '', '國家不會因為領導人而偉大；全體國民的共同奮鬥', '才讓這個國家偉大', '總統該團結的不只是支持者', '總統該團結的是整個國家', '團結是為了改變', '這是我對這個國家最深切的期待', '在這裡', '我要誠懇地呼籲', '請給這個國家一個機會', '讓我們拋下成見', '拋下過去的對立', '我們一起來完成新時代交給我們的使命', '', '在我們共同奮鬥的過程中', '身為總統', '我要向全國人民宣示', '未來我和新政府', '將領導這個國家的改革', '展現決心', '絕不退縮', '', '為年輕人打造一個更好的國家', '未來的路並不好走', '台灣需要一個正面迎向一切挑戰的新政府', '我的責任就是領導這個新政府', '', '我們的年金制度', '如果不改', '就會破產', '我們僵化的教育制度', '已經逐漸與社會脈動脫節', '我們的能源與資源十分有限', '我們的經濟缺乏動能', '舊的代工模式已經面臨瓶頸', '整個國家極需要新的經濟發展模式', '我們的人口結構急速老化', '長照體系卻尚未健全', '我們的人口出生率持續低落', '完善的托育制度卻始終遙遙無期', '我們環境汙染問題仍然嚴重', '我們國家的財政並不樂觀', '我們的司法已經失去人民的信任', '我們的食品安全問題', '困擾著所有家庭', '我們的貧富差距越來越嚴重', '我們的社會安全網還是有很多破洞', '最重要的', '我要特別強調', '我們的年輕人處於低薪的處境', '他們的人生', '動彈不得', '對於未來', '充滿無奈與茫然', '', '年輕人的未來是政府的責任', '如果不友善的結構沒有改變', '再多個人菁英的出現', '都不足以讓整體年輕人的處境變好', '我期許自己', '在未來的任期之內', '要一步一步', '從根本的結構來解決這個國家的問題', '', '這就是我想為台灣的年輕人做的事', '雖然我沒有辦法立刻幫所有的年輕人加薪', '但是我願意承諾', '新政府會立刻展開行動', '請給我們一點時間', '也請跟我們一起走上改革的這一條路', '', '改變年輕人的處境', '就是改變國家的處境', '一個國家的年輕人沒有未來', '這個國家必定沒有未來', '幫助年輕人突破困境', '實現世代正義', '把一個更好的國家交到下一代手上', '就是新政府重大的責任', '?第一、經濟結構的轉型', '要打造一個更好的國家', '未來', '新政府要做到以下幾件事情', '', '首先', '就是讓台灣的經濟結構轉型', '這是新政府所必須承擔的最艱鉅使命', '我們不要妄自菲薄', '更不要失去信心', '台灣有很多別的國家沒有的優勢', '我們有海洋經濟的活力和?性', '高素質的人力資源、務實可靠的工程師文化、完整的產業鏈、敏捷靈活的中小企業', '以及', '永不屈服的創業精神', '', '我們要讓台灣經濟脫胎換骨', '就必須從現在起就下定決心', '勇敢地走出另外一條路', '這一條路', '就是打造台灣經濟發展的新模式', '', '新政府將打造一個以創新、就業、分配為核心價值', '追求永續發展的新經濟模式', '改革的第一步', '就是強化經濟的活力與自主性', '加強和全球及區域的連結', '積極參與多邊及雙邊經濟合作及自由貿易談判', '包括TPP、RCEP等', '並且', '推動新南向政策', '提升對外經濟的格局及多元性', '告別以往過於依賴單一市場的現象', '?除此之外', '新政府相信', '唯有激發新的成長動能', '我們才能突破當前經濟的停滯不前', '我們會以出口和內需作為雙引擎', '讓企業生產和人民生活互為表裡', '讓對外貿易和在地經濟緊密連結', '', '我們會優先推動五大創新研發計畫', '藉著這些產業來重新塑造台灣的全球競爭力', '我們也要積極提升勞動生產力', '保障勞工權益', '讓薪資和經濟成長能同步提升', '', '這是台灣經濟發展的關鍵時刻', '我們有決心', '也有溝通能力', '我們已經有系統性的規劃', '未來', '會以跨部會聯手的模式', '把整個國家的力量集結起來', '一起來催生這個新模式', '', '在經濟發展的同時', '我們不要忘記對環境的責任', '經濟發展的新模式會和國土規劃、區域發展及環境永續', '相互結合', '產業的佈局和國土的利用', '應該拋棄零碎的規畫', '和短視近利的眼光', '我們必須追求區域的均衡發展', '這需要中央來規畫、整合', '也需要地方政府充分發揮區域聯合治理的精神', '?我們也不能再像過去', '無止盡地揮霍自然資源及國民健康', '所以', '對各種汙染的控制', '我們會嚴格把關', '更要讓台灣走向循環經濟的時代', '把廢棄物轉換為再生資源', '對於能源的選擇', '我們會以永續的觀念去逐步調整', '新政府會嚴肅看待氣候變遷、國土保育、災害防治的相關議題', '因為', '我們只有一個地球', '我們也只有一個台灣', '', '第二、強化社會安全網', '新政府必須要承擔的第二件事情', '就是強化台灣的社會安全網', '這些年', '幾件關於兒少安全及隨機殺人的事件', '都讓整個社會震驚', '不過', '一個政府不能永遠在震驚', '它必須要有同理心', '沒有人可以替受害者家屬承受傷痛', '但是', '一個政府', '尤其是第一線處理問題的人', '必須要讓受害者以及家屬覺得', '不幸事件發生的時候', '政府是站在他們這一邊', '', '除了同理心之外', '政府更應該要提出解決的方法', '全力防止悲劇一再發生', '從治安、教育、心理健康、社會工作等各個面向', '積極把破洞補起來', '尤其是治安與反毒的工作', '這些事情', '新政府會用最嚴肅的態度和行動來面對', '?在年金的改革方面', '這是攸關台灣生存發展的關鍵改革', '我們不應該遲疑', '也不可以躁進', '由陳建仁副總統擔任召集人的年金改革委員會', '已經緊鑼密鼓在籌備之中', '過去的政府在這個議題上', '曾經有過一些努力', '但是', '缺乏社會的參與', '新政府的做法', '是發動一個集體協商', '因為年金改革必須是一個透過協商來團結所有人的過程', '', '這就是為什麼', '我們要召開年金改革國是會議', '由不同階層、不同職業代表', '在社會團結的基礎上', '共同協商', '一年之內', '我們會提出可行的改革方案', '無論是勞工還是公務員', '每一個國民的退休生活都應該得到公平的保障', '', '另外', '在長期照顧的議題上', '我們將會把優質、平價、普及的長期照顧系統建立起來', '和年金改革一樣', '長照體系也是一個社會總動員的過程', '新政府的做法是由政府主導和規劃', '鼓勵民間發揮社區主義的精神', '透過社會集體互助的力量', '來建立一套妥善而完整的體系', '每一個老年人都可以在自己熟悉的社區', '安心享受老年生活', '每一個家庭的照顧壓力將會減輕', '照顧老人的工作不能完全讓它變成自由市場', '我們會把責任扛起來', '按部就班來規劃與執行', '為超高齡社會的來臨', '做好準備', '?第三、社會的公平與正義', '新政府要承擔的第三件事情', '就是社會的公平與正義', '在這個議題上', '新政府會持續和公民社會一起合作', '讓台灣的政策更符合多元、平等、開放、透明、人權的價值', '讓台灣的民主機制更加深化與進化', '', '新的民主制度要能夠上路', '我們必須先找出面對過去的共同方法', '未來', '我會在總統府成立真相與和解委員會', '用最誠懇與謹慎的態度', '來處理過去的歷史', '追求轉型正義的目標是在追求社會的真正和解', '讓所有台灣人都記取那個時代的錯誤', '', '我們將從真相的調查與整理出發', '預計在三年之內', '完成台灣自己的轉型正義調查報告書', '我們將會依據調查報告所揭示的真相', '來進行後續的轉型正義工作', '挖掘真相、彌平傷痕、釐清責任', '從此以後', '過去的歷史不再是台灣分裂的原因', '而是台灣一起往前走的動力', '', '同樣在公平正義的議題上', '我會秉持相同的原則', '來面對原住民族的議題', '今天的就職典禮', '原住民族的小朋友在唱國歌之前', '先唱了他們部落傳統的古調', '這象徵了', '我們不敢忘記', '這個島上先來後到的順序', '?新政府會用道歉的態度', '來面對原住民族相關議題', '重建原民史觀', '逐步推動自治', '復育語言文化', '提升生活照顧', '這就是我要領導新政府推動的改變', '', '接下來', '新政府也會積極推動司法改革', '這是現階段台灣人民最關心的議題', '司法無法親近人民、不被人民信任、司法無法有效打擊犯罪', '以及', '司法失去作為正義最後一道防線的功能', '是人民普遍的感受', '', '為了展現新政府的決心', '我們會在今年十月召開司法國是會議', '透過人民實際的參與', '讓社會力進來', '一起推動司法改革', '司法必須回應人民的需求', '不再只是法律人的司法', '而是全民的司法', '司法改革也不只是司法人的家務事', '而是全民參與的改革', '這就是我對司法改革的期待', '', '第四、區域的和平穩定發展及兩岸關係', '新政府要承擔的第四件事情', '是區域的和平穩定與發展', '以及妥善處理兩岸關係', '過去三十年', '無論是對亞洲或是全球', '都是變動最劇烈的時期；而全球及區域的經濟穩定和集體安全', '也是各國政府越來越關切的課題', '', '台灣在區域發展當中', '一直是不可或缺的關鍵角色', '但是近年來', '區域的情勢快速變動', '如果台灣不善用自己的實力和籌碼', '積極參與區域事務', '不但將會變得無足輕重', '甚至可能被邊緣化', '喪失對於未來的自主權', '', '我們有危機', '但也有轉機', '台灣現階段的經濟發展', '和區域中許多國家高度關聯和互補', '如果將打造經濟發展新模式的努力', '透過和亞洲、乃至亞太區域的國家合作', '共同形塑未來的發展策略', '不但可以為區域的經濟創新、結構調整和永續發展', '做出積極的貢獻', '更可以和區域內的成員', '建立緊密的「經濟共同體」意識', '', '我們要和其他國家共享資源、人才與市場', '擴大經濟規模', '讓資源有效利用', '「新南向政策」就是基於這樣的精神', '我們會在科技、文化與經貿等各層面', '和區域成員廣泛交流合作', '尤其是增進與東協、印度的多元關係', '為此', '我們也願意和對岸', '就共同參與區域發展的相關議題', '坦誠交換意見', '尋求各種合作與協力的可能性', '', '在積極發展經濟的同時', '亞太地區的安全情勢也變得越來越複雜', '而兩岸關係', '也成為建構區域和平與集體安全的重要一環', '這個建構的進程', '台灣會做一個「和平的堅定維護者」', '積極參與', '絕不缺席；我們也將致力維持兩岸關係的和平穩定；我們更會努力促成內部和解', '強化民主機制', '凝聚共識', '形成一致對外的立場', '', '對話和溝通', '是我們達成目標最重要的關鍵', '台灣也要成為一個「和平的積極溝通者」', '我們將和相關的各方', '建立常態、緊密的溝通機制', '隨時交換意見', '防止誤判', '建立互信', '有效解決爭議', '我們將謹守和平原則、利益共享原則', '來處理相關的爭議', '', '我依照中華民國憲法當選總統', '我有責任捍衛中華民國的主權和領土；對於東海及南海問題', '我們主張應擱置爭議', '共同開發', '', '兩岸之間的對話與溝通', '我們也將努力維持現有的機制', '1992年兩岸兩會秉持相互諒解、求同存異的政治思維', '進行溝通協商', '達成若干的共同認知與諒解', '我尊重這個歷史事實', '92年之後', '20多年來雙方交流、協商所累積形成的現狀與成果', '兩岸都應該共同珍惜與維護', '並在這個既有的事實與政治基礎上', '持續推動兩岸關係和平穩定發展；新政府會依據中華民國憲法、兩岸人民關係條例及其他相關法律', '處理兩岸事務', '兩岸的兩個執政黨應該要放下歷史包袱', '展開良性對話', '造福兩岸人民', '', '我所講的既有政治基礎', '包含幾個關鍵元素', '第一', '1992年兩岸兩會會談的歷史事實與求同存異的共同認知', '這是歷史事實；第二', '中華民國現行憲政體制；第三', '兩岸過去20多年來協商和交流互動的成果；第四', '台灣民主原則及普遍民意', '', '第五、外交與全球性議題', '新政府要承擔的第五件事情', '是善盡地球公民的責任', '在外交與全球性的議題上做出貢獻', '讓台灣走向世界', '也要讓世界走進台灣', '', '現場有許多來自各國的元首與使節團', '我要特別謝謝他們', '長久以來一直幫助台灣', '讓我們有機會參與國際社會', '未來', '我們會持續透過官方互動、企業投資與民間合作各種方式', '分享台灣發展的經驗', '與友邦建立永續的夥伴關係', '', '台灣是全球公民社會的模範生', '民主化以來', '我們始終堅持和平、自由、民主及人權的普世價值', '我們會秉持這個精神', '加入全球議題的價值同盟', '我們會繼續深化與包括美國、日本、歐洲在內的友好民主國家的關係', '在共同的價值基礎上', '推動全方位的合作', '', '我們會積極參與國際經貿合作及規則制定', '堅定維護全球的經濟秩序', '並且融入重要的區域經貿體系', '我們也不會在防制全球暖化、氣候變遷的議題上缺席', '我們將會在行政院設立專責的能源和減碳辦公室', '並且根據COP21巴黎協議的規定', '定期檢討溫室氣體的減量目標', '與友好國家攜手', '共同維護永續的地球', '?', '同時', '新政府會支持並參與', '全球性新興議題的國際合作', '包括人道救援、醫療援助、疾病的防治與研究、反恐合作', '以及共同打擊跨國犯罪', '讓台灣成為國際社會不可或缺的夥伴', '', '結語', '1996年台灣第一次總統直選', '到今天剛好20年', '過去20年', '在幾任政府以及公民社會的努力之下', '我們成功渡過了許多新興民主國家必須面對的難關', '在這個過程中', '我們曾經有過許多感動人心的時刻和故事', '不過', '正如同世界上其他國家一樣', '我們也曾經有過焦慮、不安、矛盾、與對立', '', '我們看到了社會的對立', '進步與保守的對立', '環境與開發的對立', '以及', '政治意識之間的對立', '這些對立', '曾經激發出選舉時的動員能量', '不過也因為這些對立', '我們的民主逐漸失去了解決問題的能力', '', '民主是一個進程', '每一個時代的政治工作者', '都要清楚認識他身上所肩負的責任', '民主會前進', '民主也有可能倒退', '今天', '我站在這裡', '就是要告訴大家', '倒退不會是我們的選項', '新政府的責任就是把台灣的民主推向下一個階段：以前的民主是選舉的輸贏', '現在的民主則是關於人民的幸福；以前的民主是兩個價值觀的對決', '現在的民主則是不同價值觀的對話', '', '打造一個沒有被意識形態綁架的「團結的民主」', '打造一個可以回應社會與經濟問題的「有效率的民主」', '打造一個能夠實質照料人民的「務實的民主」', '這就是新時代的意義', '', '只要我們相信', '新時代就會來臨', '只要這個國家的主人', '有堅定的信念', '新時代一定會在我們這一代人的手上誕生', '', '各位親愛的台灣人民', '演講要結束了', '改革要開始了', '從這一刻起', '這個國家的擔子交在新政府身上', '我會讓大家看見這個國家的改變', '', '歷史會記得我們這個勇敢的世代', '這個國家的繁榮、尊嚴、團結、自信和公義', '都有我們努力的痕跡', '歷史會記得我們的勇敢', '我們在2016年一起把國家帶向新的方向', '這塊土地上的每一個人', '都因為參與台灣的改變', '而感到驕傲', '', '剛才表演節目中的一首歌曲當中', '有一句讓我很感動的歌詞：(台語)現在是彼一天', '勇敢ㄟ台灣人', '', '各位國人同胞', '兩千三百萬的台灣人民', '等待已經結束', '現在就是那一天', '今天', '明天', '未來的每一天', '我們都要做一個守護民主、守護自由、守護這個國家的台灣人', '', '謝謝大家', '', '']\n"
     ]
    }
   ],
   "source": [
    "# 共有多少句子\n",
    "sent=re.split('[？，。\\n]',string)\n",
    "print (len(sent))\n",
    "print(sent)"
   ]
  },
  {
   "cell_type": "code",
   "execution_count": 44,
   "metadata": {},
   "outputs": [
    {
     "name": "stdout",
     "output_type": "stream",
     "text": [
      "5\n",
      "['正式宣誓就任中華民國第十四任總統與副總統', '我依照中華民國憲法當選總統', '我有責任捍衛中華民國的主權和領土', '新政府會依據中華民國憲法', '中華民國現行憲政體制']\n"
     ]
    }
   ],
   "source": [
    "# 至標點符號切斷 #\\b\\w標點符號或空白後的起始字\n",
    "s1=re.findall(r'(\\b\\w+中華民國\\w+|中華民國\\w+)',string) \n",
    "print (len(s1))\n",
    "print (s1)"
   ]
  },
  {
   "cell_type": "code",
   "execution_count": 45,
   "metadata": {},
   "outputs": [
    {
     "name": "stdout",
     "output_type": "stream",
     "text": [
      "37\n",
      "['親愛的台灣人民', '台灣的處境很困難', '台灣需要一個正面迎向一切挑戰的新政府', '這就是我想為台灣的年輕人做的事', '就是讓台灣的經濟結構轉型', '台灣有很多別的國家沒有的優勢', '我們要讓台灣經濟脫胎換骨', '就是打造台灣經濟發展的新模式', '藉著這些產業來重新塑造台灣的全球競爭力', '這是台灣經濟發展的關鍵時刻', '更要讓台灣走向循環經濟的時代', '就是強化台灣的社會安全網', '這是攸關台灣生存發展的關鍵改革', '讓台灣的政策更符合多元', '讓台灣的民主機制更加深化與進化', '讓所有台灣人都記取那個時代的錯誤', '完成台灣自己的轉型正義調查報告書', '過去的歷史不再是台灣分裂的原因', '而是台灣一起往前走的動力', '這是現階段台灣人民最關心的議題', '台灣在區域發展當中', '如果台灣不善用自己的實力和籌碼', '台灣現階段的經濟發展', '台灣會做一個', '台灣也要成為一個', '台灣民主原則及普遍民意', '讓台灣走向世界', '分享台灣發展的經驗', '台灣是全球公民社會的模範生', '讓台灣成為國際社會不可或缺的夥伴', '1996年台灣第一次總統直選', '新政府的責任就是把台灣的民主推向下一個階段', '各位親愛的台灣人民', '都因為參與台灣的改變', '勇敢ㄟ台灣人', '兩千三百萬的台灣人民', '守護這個國家的台灣人']\n"
     ]
    }
   ],
   "source": [
    "# 至標點符號切斷\n",
    "s1=re.findall(r'(\\b\\w+台灣\\w+|台灣\\w+)',string)\n",
    "print (len(s1))\n",
    "print (s1)"
   ]
  },
  {
   "cell_type": "markdown",
   "metadata": {},
   "source": [
    "## 第一點 ......"
   ]
  },
  {
   "cell_type": "code",
   "execution_count": 124,
   "metadata": {},
   "outputs": [
    {
     "name": "stdout",
     "output_type": "stream",
     "text": [
      "第一、經濟結構的轉型\n",
      "第二、強化社會安全網\n",
      "第三、社會的公平與正義\n",
      "第四、區域的和平穩定發展及兩岸關係\n",
      "第五、外交與全球性議題\n"
     ]
    }
   ],
   "source": [
    "for sen in sent:\n",
    "    result=re.findall(r'第\\w+、\\w+',sen)\n",
    "    if len(result)>0:\n",
    "        print (result[0])"
   ]
  },
  {
   "cell_type": "code",
   "execution_count": 47,
   "metadata": {},
   "outputs": [
    {
     "name": "stdout",
     "output_type": "stream",
     "text": [
      "第一、經濟結構的轉型\n",
      "第二、強化社會安全網\n",
      "第三、社會的公平與正義\n",
      "第四、區域的和平穩定發展及兩岸關係\n",
      "第五、外交與全球性議題\n"
     ]
    }
   ],
   "source": [
    "for sen in sent:\n",
    "    result = re.findall(r'第\\w+、\\w+', sen)\n",
    "    if len(result)>0:\n",
    "        print(result[0])"
   ]
  },
  {
   "cell_type": "markdown",
   "metadata": {
    "collapsed": true
   },
   "source": [
    "## 我們......"
   ]
  },
  {
   "cell_type": "code",
   "execution_count": 48,
   "metadata": {},
   "outputs": [
    {
     "data": {
      "text/plain": [
       "['我們要感謝這塊土地對我們的栽培',\n",
       " '感謝人民對我們的信任',\n",
       " '讓我們透過和平的選舉過程',\n",
       " '我們有堅定的信念',\n",
       " '我們每一個人都參與其中',\n",
       " '我們做到了',\n",
       " '需要我們誠實面對',\n",
       " '需要我們共同承擔',\n",
       " '讓我們拋下成見',\n",
       " '我們一起來完成新時代交給我們的使命',\n",
       " '在我們共同奮鬥的過程中',\n",
       " '我們的年金制度',\n",
       " '我們僵化的教育制度',\n",
       " '我們的能源與資源十分有限',\n",
       " '我們的經濟缺乏動能',\n",
       " '我們的人口結構急速老化',\n",
       " '我們的人口出生率持續低落',\n",
       " '我們環境汙染問題仍然嚴重',\n",
       " '我們國家的財政並不樂觀',\n",
       " '我們的司法已經失去人民的信任',\n",
       " '我們的食品安全問題',\n",
       " '我們的貧富差距越來越嚴重',\n",
       " '我們的社會安全網還是有很多破洞',\n",
       " '我們的年輕人處於低薪的處境',\n",
       " '請給我們一點時間',\n",
       " '也請跟我們一起走上改革的這一條路',\n",
       " '我們不要妄自菲薄',\n",
       " '我們有海洋經濟的活力和',\n",
       " '我們要讓台灣經濟脫胎換骨',\n",
       " '我們才能突破當前經濟的停滯不前',\n",
       " '我們會以出口和內需作為雙引擎',\n",
       " '我們會優先推動五大創新研發計畫',\n",
       " '我們也要積極提升勞動生產力',\n",
       " '我們有決心',\n",
       " '我們已經有系統性的規劃',\n",
       " '我們不要忘記對環境的責任',\n",
       " '我們必須追求區域的均衡發展',\n",
       " '我們也不能再像過去',\n",
       " '我們會嚴格把關',\n",
       " '我們會以永續的觀念去逐步調整',\n",
       " '我們只有一個地球',\n",
       " '我們也只有一個台灣',\n",
       " '我們不應該遲疑',\n",
       " '我們要召開年金改革國是會議',\n",
       " '我們會提出可行的改革方案',\n",
       " '我們將會把優質',\n",
       " '我們會把責任扛起來',\n",
       " '我們必須先找出面對過去的共同方法',\n",
       " '我們將從真相的調查與整理出發',\n",
       " '我們將會依據調查報告所揭示的真相',\n",
       " '我們不敢忘記',\n",
       " '我們會在今年十月召開司法國是會議',\n",
       " '我們有危機',\n",
       " '我們要和其他國家共享資源',\n",
       " '我們會在科技',\n",
       " '我們也願意和對岸',\n",
       " '我們也將致力維持兩岸關係的和平穩定',\n",
       " '我們更會努力促成內部和解',\n",
       " '是我們達成目標最重要的關鍵',\n",
       " '我們將和相關的各方',\n",
       " '我們將謹守和平原則',\n",
       " '我們主張應擱置爭議',\n",
       " '我們也將努力維持現有的機制',\n",
       " '讓我們有機會參與國際社會',\n",
       " '我們會持續透過官方互動',\n",
       " '我們始終堅持和平',\n",
       " '我們會秉持這個精神',\n",
       " '我們會繼續深化與包括美國',\n",
       " '我們會積極參與國際經貿合作及規則制定',\n",
       " '我們也不會在防制全球暖化',\n",
       " '我們將會在行政院設立專責的能源和減碳辦公室',\n",
       " '我們成功渡過了許多新興民主國家必須面對的難關',\n",
       " '我們曾經有過許多感動人心的時刻和故事',\n",
       " '我們也曾經有過焦慮',\n",
       " '我們看到了社會的對立',\n",
       " '我們的民主逐漸失去了解決問題的能力',\n",
       " '倒退不會是我們的選項',\n",
       " '只要我們相信',\n",
       " '新時代一定會在我們這一代人的手上誕生',\n",
       " '歷史會記得我們這個勇敢的世代',\n",
       " '都有我們努力的痕跡',\n",
       " '歷史會記得我們的勇敢',\n",
       " '我們在2016年一起把國家帶向新的方向',\n",
       " '我們都要做一個守護民主']"
      ]
     },
     "execution_count": 48,
     "metadata": {},
     "output_type": "execute_result"
    }
   ],
   "source": [
    "re.findall(r'(\\b\\w+我們\\w+|我們\\w+)',string)"
   ]
  },
  {
   "cell_type": "code",
   "execution_count": 49,
   "metadata": {
    "scrolled": true
   },
   "outputs": [
    {
     "name": "stdout",
     "output_type": "stream",
     "text": [
      "[我們]要感謝這塊土地對[我們]的栽培\n",
      "感謝人民對[我們]的信任\n",
      "讓[我們]透過和平的選舉過程\n",
      "[我們]有堅定的信念\n",
      "[我們]每一個人都參與其中\n",
      "[我們]做到了\n",
      "需要[我們]誠實面對\n",
      "需要[我們]共同承擔\n",
      "讓[我們]拋下成見\n",
      "[我們]一起來完成新時代交給[我們]的使命\n",
      "在[我們]共同奮鬥的過程中\n",
      "[我們]的年金制度\n",
      "[我們]僵化的教育制度\n",
      "[我們]的能源與資源十分有限\n",
      "[我們]的經濟缺乏動能\n",
      "[我們]的人口結構急速老化\n",
      "[我們]的人口出生率持續低落\n",
      "[我們]環境汙染問題仍然嚴重\n",
      "[我們]國家的財政並不樂觀\n",
      "[我們]的司法已經失去人民的信任\n",
      "[我們]的食品安全問題\n",
      "[我們]的貧富差距越來越嚴重\n",
      "[我們]的社會安全網還是有很多破洞\n",
      "[我們]的年輕人處於低薪的處境\n",
      "請給[我們]一點時間\n",
      "也請跟[我們]一起走上改革的這一條路\n",
      "[我們]不要妄自菲薄\n",
      "[我們]有海洋經濟的活力和?性\n",
      "[我們]要讓台灣經濟脫胎換骨\n",
      "[我們]才能突破當前經濟的停滯不前\n",
      "[我們]會以出口和內需作為雙引擎\n",
      "[我們]會優先推動五大創新研發計畫\n",
      "[我們]也要積極提升勞動生產力\n",
      "[我們]有決心\n",
      "[我們]已經有系統性的規劃\n",
      "[我們]不要忘記對環境的責任\n",
      "[我們]必須追求區域的均衡發展\n",
      "?[我們]也不能再像過去\n",
      "[我們]會嚴格把關\n",
      "[我們]會以永續的觀念去逐步調整\n",
      "[我們]只有一個地球\n",
      "[我們]也只有一個台灣\n",
      "[我們]不應該遲疑\n",
      "[我們]要召開年金改革國是會議\n",
      "[我們]會提出可行的改革方案\n",
      "[我們]將會把優質、平價、普及的長期照顧系統建立起來\n",
      "[我們]會把責任扛起來\n",
      "[我們]必須先找出面對過去的共同方法\n",
      "[我們]將從真相的調查與整理出發\n",
      "[我們]將會依據調查報告所揭示的真相\n",
      "[我們]不敢忘記\n",
      "[我們]會在今年十月召開司法國是會議\n",
      "[我們]有危機\n",
      "[我們]要和其他國家共享資源、人才與市場\n",
      "[我們]會在科技、文化與經貿等各層面\n",
      "[我們]也願意和對岸\n",
      "絕不缺席；[我們]也將致力維持兩岸關係的和平穩定；[我們]更會努力促成內部和解\n",
      "是[我們]達成目標最重要的關鍵\n",
      "[我們]將和相關的各方\n",
      "[我們]將謹守和平原則、利益共享原則\n",
      "[我們]主張應擱置爭議\n",
      "[我們]也將努力維持現有的機制\n",
      "讓[我們]有機會參與國際社會\n",
      "[我們]會持續透過官方互動、企業投資與民間合作各種方式\n",
      "[我們]始終堅持和平、自由、民主及人權的普世價值\n",
      "[我們]會秉持這個精神\n",
      "[我們]會繼續深化與包括美國、日本、歐洲在內的友好民主國家的關係\n",
      "[我們]會積極參與國際經貿合作及規則制定\n",
      "[我們]也不會在防制全球暖化、氣候變遷的議題上缺席\n",
      "[我們]將會在行政院設立專責的能源和減碳辦公室\n",
      "[我們]成功渡過了許多新興民主國家必須面對的難關\n",
      "[我們]曾經有過許多感動人心的時刻和故事\n",
      "[我們]也曾經有過焦慮、不安、矛盾、與對立\n",
      "[我們]看到了社會的對立\n",
      "[我們]的民主逐漸失去了解決問題的能力\n",
      "倒退不會是[我們]的選項\n",
      "只要[我們]相信\n",
      "新時代一定會在[我們]這一代人的手上誕生\n",
      "歷史會記得[我們]這個勇敢的世代\n",
      "都有[我們]努力的痕跡\n",
      "歷史會記得[我們]的勇敢\n",
      "[我們]在2016年一起把國家帶向新的方向\n",
      "[我們]都要做一個守護民主、守護自由、守護這個國家的台灣人\n"
     ]
    }
   ],
   "source": [
    "# 標示出關鍵字\n",
    "for sen in sent:\n",
    "    result=re.findall(r'(我們\\w+)',sen)\n",
    "    if len(result)>0:\n",
    "        sen=re.sub('我們','[我們]',sen)\n",
    "        print (sen)"
   ]
  },
  {
   "cell_type": "markdown",
   "metadata": {},
   "source": [
    "# 作業:\n",
    "* 針對你們下載的文本，增加新欄位：年(2019)、月(11)、日(07)、年月日(例如:20191107)，如果有其他欄位可增加亦即嘗試，例如 來源、地區、分類等。\n",
    "* 同學下載的文本，至少有要一千篇，如果上萬篇最好。\n",
    "* 交作業時，必須要有: \n",
    "* 1 網址，及其簡介\n",
    "* 2 下載的資料性質與用處 \n",
    "* 3 資料檔 \n",
    "* 4 程式檔\n"
   ]
  }
 ],
 "metadata": {
  "anaconda-cloud": {},
  "kernelspec": {
   "display_name": "Python 3",
   "language": "python",
   "name": "python3"
  },
  "language_info": {
   "codemirror_mode": {
    "name": "ipython",
    "version": 3
   },
   "file_extension": ".py",
   "mimetype": "text/x-python",
   "name": "python",
   "nbconvert_exporter": "python",
   "pygments_lexer": "ipython3",
   "version": "3.7.3"
  }
 },
 "nbformat": 4,
 "nbformat_minor": 1
}
