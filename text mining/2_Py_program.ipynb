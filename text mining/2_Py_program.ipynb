{
 "cells": [
  {
   "cell_type": "markdown",
   "metadata": {
    "collapsed": true
   },
   "source": [
    "# Python Programming\n",
    "* Python 程式語言簡單易學，功能完整，幾乎無所不能。\n",
    "* 所謂的「程式」就是將一連串的「指令」串聯起來，電腦依你的設定逐步執行。\n",
    "* 學習程式可先從前人的程式範例開始，嘗試瞭解程式的邏輯，再修改成為自己要的，不斷試誤。\n",
    "* 每個單元，我們都會提供「學習包」，亦即範例程式，旁邊會有中文註解，請從學習包開始，每個 cells 依序執行(Shift-Enter)。\n",
    "* 有任何問題記得 google 上網查詢。鍵入python 和指令名稱，或程式出現的錯誤警告訊息即可。google 蒐尋，你會有許多意想不到的發現。\n",
    "* 本週課程重點是流程控制，亦即設定一些條件，請電腦重覆執行，百次、千次。"
   ]
  },
  {
   "cell_type": "markdown",
   "metadata": {},
   "source": [
    "# 流程控制的指令 Control Flow Statements\n",
    "* 基本的指令 如 for, if , elif, else, while, try, except, def等，分述如下："
   ]
  },
  {
   "cell_type": "markdown",
   "metadata": {},
   "source": [
    "# for 迴圈"
   ]
  },
  {
   "cell_type": "code",
   "execution_count": 1,
   "metadata": {},
   "outputs": [
    {
     "name": "stdout",
     "output_type": "stream",
     "text": [
      "0\n",
      "1\n",
      "2\n",
      "3\n",
      "4\n",
      "5\n",
      "6\n",
      "7\n",
      "8\n",
      "9\n"
     ]
    }
   ],
   "source": [
    "# list 裡面的元素逐一執行。\n",
    "num=10\n",
    "for n in range(num):     # 逐一執行， range(n) 由 0 至 n-1，注意要加冒號 :\n",
    "    print (n)   # 印出每個元素"
   ]
  },
  {
   "cell_type": "code",
   "execution_count": 1,
   "metadata": {},
   "outputs": [
    {
     "name": "stdout",
     "output_type": "stream",
     "text": [
      "0\n",
      "1\n",
      "2\n",
      "3\n",
      "4\n",
      "5\n",
      "6\n",
      "7\n",
      "8\n",
      "9\n"
     ]
    }
   ],
   "source": [
    "num = 10\n",
    "for n in range(num):\n",
    "    print(n)"
   ]
  },
  {
   "cell_type": "code",
   "execution_count": 1,
   "metadata": {},
   "outputs": [
    {
     "name": "stdout",
     "output_type": "stream",
     "text": [
      "0 1 2 3 4 5 6 7 8 "
     ]
    }
   ],
   "source": [
    "# end=' '，表示 print 在同一行，中間以空白隔開。\n",
    "#印出list中的元素\n",
    "num=[\"a\",\"b\",\"c\",\"d\",\"e\",\"f\",\"g\",\"h\",\"i\"]\n",
    "for n in range(len(num)):     # 取 list 的長度\n",
    "    print (n, end=' ')   "
   ]
  },
  {
   "cell_type": "code",
   "execution_count": 2,
   "metadata": {},
   "outputs": [
    {
     "name": "stdout",
     "output_type": "stream",
     "text": [
      "0 1 2 3 4 5 6 7 8 "
     ]
    }
   ],
   "source": [
    "num=[\"a\",\"b\",\"c\",\"d\",\"e\",\"f\",\"g\",\"h\",\"i\"]\n",
    "for n in range(len(num)):\n",
    "    print(n, end=\" \")"
   ]
  },
  {
   "cell_type": "code",
   "execution_count": 4,
   "metadata": {},
   "outputs": [
    {
     "name": "stdout",
     "output_type": "stream",
     "text": [
      "55\n"
     ]
    }
   ],
   "source": [
    "# 0~10 每個元素逐一加總\n",
    "num=11\n",
    "sum=0\n",
    "for n in range(1,num):  # 從 0 起算與從 1 起算，總和一樣 → 因為range默認是從0start\n",
    "    sum=sum+n      # 注意要內縮    \n",
    "print (sum)        # 注意與 for 對齊"
   ]
  },
  {
   "cell_type": "code",
   "execution_count": 3,
   "metadata": {},
   "outputs": [
    {
     "name": "stdout",
     "output_type": "stream",
     "text": [
      "55\n"
     ]
    }
   ],
   "source": [
    "num = 11\n",
    "sum = 0\n",
    "for n in range(1, num):\n",
    "    sum=sum+n\n",
    "print(sum)"
   ]
  },
  {
   "cell_type": "markdown",
   "metadata": {},
   "source": [
    "## 練習：計算 num 的個數，平均值，標準差等。"
   ]
  },
  {
   "cell_type": "code",
   "execution_count": 5,
   "metadata": {},
   "outputs": [
    {
     "name": "stdout",
     "output_type": "stream",
     "text": [
      "9.082951062292475\n"
     ]
    }
   ],
   "source": [
    "# 計算標準差\n",
    "num=10\n",
    "# 計算總和\n",
    "sum=0\n",
    "for n in range(num):\n",
    "    sum=sum+n\n",
    "# 計算平均值    \n",
    "ave=sum/10\n",
    "# 計算變異數，個別值減平均值的平方和\n",
    "var=0\n",
    "for n in range(num):\n",
    "    var=var+(n-ave)**2\n",
    "    \n",
    "# 標準差為變異數開根號    \n",
    "std=var**0.5\n",
    "# 印出最後結果\n",
    "print (std)"
   ]
  },
  {
   "cell_type": "code",
   "execution_count": 6,
   "metadata": {},
   "outputs": [
    {
     "name": "stdout",
     "output_type": "stream",
     "text": [
      "9.082951062292475\n"
     ]
    }
   ],
   "source": [
    "#計算1-10總和\n",
    "num = 10\n",
    "sum = 0 \n",
    "for n in range(num):\n",
    "    sum = sum+n\n",
    "    \n",
    "#計算平均\n",
    "ave = sum/10\n",
    "\n",
    "#變異數\n",
    "var = 0\n",
    "for n in range(num):\n",
    "    var = (n-ave)**2 + var\n",
    "\n",
    "#標準差\n",
    "std = var**0.5 #\\ SD= \\sqrt{\\frac{1}{N} \\sum_{i=1}^N (x_i - \\mu)^2}\n",
    "\n",
    "print(std)"
   ]
  },
  {
   "cell_type": "code",
   "execution_count": 5,
   "metadata": {},
   "outputs": [
    {
     "name": "stdout",
     "output_type": "stream",
     "text": [
      "0 done\n",
      "1000 done\n",
      "2000 done\n",
      "3000 done\n",
      "4000 done\n",
      "5000 done\n",
      "6000 done\n",
      "7000 done\n",
      "8000 done\n",
      "9000 done\n",
      "finished\n"
     ]
    }
   ],
   "source": [
    "# 每隔1000印出計數\n",
    "num=10000\n",
    "for n in range(num):\n",
    "    if n%1000==0:  # 餘數為 0 表整除\n",
    "        print (n,'done')\n",
    "    elif n==num-1:  # 注意 -1\n",
    "        print ('finished')"
   ]
  },
  {
   "cell_type": "code",
   "execution_count": 9,
   "metadata": {},
   "outputs": [
    {
     "name": "stdout",
     "output_type": "stream",
     "text": [
      "0 down\n",
      "1000 down\n",
      "2000 down\n",
      "3000 down\n",
      "4000 down\n",
      "5000 down\n",
      "6000 down\n",
      "7000 down\n",
      "8000 down\n",
      "9000 down\n"
     ]
    }
   ],
   "source": [
    "#在1-10000的範圍中，每隔1000印出\n",
    "num = 10000\n",
    "for n in range(num):\n",
    "    if n % 1000 == 0:\n",
    "        print(n, \"down\")\n",
    "    elif n == num -1 : #不會跑到10000，只會到999\n",
    "        print(\"finished\")"
   ]
  },
  {
   "cell_type": "markdown",
   "metadata": {},
   "source": [
    "## for 的另一種寫法"
   ]
  },
  {
   "cell_type": "code",
   "execution_count": 5,
   "metadata": {},
   "outputs": [
    {
     "name": "stdout",
     "output_type": "stream",
     "text": [
      "[1, 4, 9, 16, 25, 36, 49, 64, 81, 100]\n"
     ]
    }
   ],
   "source": [
    "# 平方\n",
    "x=[x**2 for x in range(1,11)]\n",
    "print (x)"
   ]
  },
  {
   "cell_type": "code",
   "execution_count": 10,
   "metadata": {},
   "outputs": [
    {
     "name": "stdout",
     "output_type": "stream",
     "text": [
      "[1, 4, 9, 16, 25, 36, 49, 64, 81, 100]\n"
     ]
    }
   ],
   "source": [
    "x = [x**2 for x in range(1, 11)]\n",
    "print(x)"
   ]
  },
  {
   "cell_type": "code",
   "execution_count": 11,
   "metadata": {},
   "outputs": [
    {
     "name": "stdout",
     "output_type": "stream",
     "text": [
      "[1, 4, 9, 16, 25, 36, 49, 64, 81, 100]\n"
     ]
    }
   ],
   "source": [
    "x = [x**2 for x in range(1, 11)]\n",
    "print(x)"
   ]
  },
  {
   "cell_type": "code",
   "execution_count": 6,
   "metadata": {},
   "outputs": [
    {
     "name": "stdout",
     "output_type": "stream",
     "text": [
      "[4, 16, 36, 64]\n"
     ]
    }
   ],
   "source": [
    "# 加一個條件式，偶數才計算\n",
    "x2=[x**2 for x in range(1,10) if x%2==0]   # 被2整除表偶數\n",
    "print (x2)"
   ]
  },
  {
   "cell_type": "code",
   "execution_count": 12,
   "metadata": {},
   "outputs": [
    {
     "name": "stdout",
     "output_type": "stream",
     "text": [
      "[4, 16, 36, 64]\n"
     ]
    }
   ],
   "source": [
    "x2 = [x**2 for x in range(1, 10) if x%2 == 0]\n",
    "print(x2)"
   ]
  },
  {
   "cell_type": "markdown",
   "metadata": {},
   "source": [
    "# list 元素，逐個計算"
   ]
  },
  {
   "cell_type": "code",
   "execution_count": 9,
   "metadata": {},
   "outputs": [
    {
     "name": "stdout",
     "output_type": "stream",
     "text": [
      "[1, 2, 5, 7, 4, 2] 長度 6\n",
      "[4, 5, 1, 2] 長度 4\n",
      "[7, 8, 7, 1, 1, 1, 1] 長度 7\n",
      "[1, 1] 長度 2\n",
      "[2, 3, 0] 長度 3\n"
     ]
    }
   ],
   "source": [
    "# list 的元素是 list \n",
    "lists = [[1, 2, 5,7,4,2], [4, 5,1,2], [7, 8,7,1,1,1,1,],[1,1],[2,3,0]]\n",
    "# i 代表每一個list 的元素，每個元素都是一個list\n",
    "for i in lists:\n",
    "    # 印出各元素及其長度\n",
    "    print (i,\"長度\", len(i))"
   ]
  },
  {
   "cell_type": "code",
   "execution_count": 13,
   "metadata": {},
   "outputs": [
    {
     "name": "stdout",
     "output_type": "stream",
     "text": [
      "[1, 2, 5, 7, 4, 2] 長度 6\n",
      "[4, 5, 1, 2] 長度 4\n",
      "[7, 8, 7, 1, 1, 1, 1] 長度 7\n",
      "[1, 1] 長度 2\n",
      "[2, 3, 0] 長度 3\n"
     ]
    }
   ],
   "source": [
    "lists = [[1, 2, 5,7,4,2], [4, 5,1,2], [7, 8,7,1,1,1,1,],[1,1],[2,3,0]]\n",
    "for i in lists:\n",
    "    print(i, \"長度\", len(i))"
   ]
  },
  {
   "cell_type": "markdown",
   "metadata": {},
   "source": [
    "## enumerate() 為 list 的每個元素增加序號，成為 list of tuple"
   ]
  },
  {
   "cell_type": "code",
   "execution_count": 14,
   "metadata": {},
   "outputs": [
    {
     "name": "stdout",
     "output_type": "stream",
     "text": [
      "[(0, 'Huey'), (1, 'Dewey'), (2, 'Louie')]\n"
     ]
    }
   ],
   "source": [
    "# 增加流水號編碼\n",
    "nephews = [\"Huey\",\"Dewey\",\"Louie\"]\n",
    "order=[]\n",
    "# i 是流水號，c 是元素值，這為固定元素\n",
    "for i, c in enumerate(nephews):\n",
    "    order.append((i,c))\n",
    "print(order)"
   ]
  },
  {
   "cell_type": "code",
   "execution_count": 15,
   "metadata": {},
   "outputs": [
    {
     "name": "stdout",
     "output_type": "stream",
     "text": [
      "[(0, 'Huey'), (1, 'Dewey'), (2, 'Louie')]\n"
     ]
    }
   ],
   "source": [
    "nephews = [\"Huey\",\"Dewey\",\"Louie\"]\n",
    "order = []\n",
    "\n",
    "for i, c in enumerate(nephews):\n",
    "    order.append((i, c))\n",
    "print(order)"
   ]
  },
  {
   "cell_type": "code",
   "execution_count": 12,
   "metadata": {},
   "outputs": [
    {
     "name": "stdout",
     "output_type": "stream",
     "text": [
      "[(0, 'Huey'), (1, 'Dewey'), (2, 'Louie')]\n"
     ]
    }
   ],
   "source": [
    "nephews = [\"Huey\",\"Dewey\",\"Louie\"]\n",
    "order = []\n",
    "\n",
    "for i, c in enumerate(nephews):\n",
    "    order.append((i, c))\n",
    "print(order)"
   ]
  },
  {
   "cell_type": "markdown",
   "metadata": {},
   "source": [
    "## 練習 ____\n",
    "* 班上同學的成績如下　28,65,52,30, 20,11, 15,45,78,76,65,12\n",
    "* 但是老師想當掉太多學生，因此想調分數。\n",
    "* 最後希望常態分布，平均為70，標準差為10。亦即百分之95的學生會落在 90~50之間, 百分之68的學生會落在 80~60之間。 \n",
    "* 提示：先計算平均值 m，標準差 s, 調整後的分數 =  ((原始分數-m)/s)*10+70\n",
    "* s=(個別值-平均值)的平方和/學生數，再開根號"
   ]
  },
  {
   "cell_type": "code",
   "execution_count": 32,
   "metadata": {},
   "outputs": [
    {
     "name": "stdout",
     "output_type": "stream",
     "text": [
      "497\n",
      "41.416666666666664\n",
      "7028.916666666666\n",
      "24.202129153352512\n",
      "[64.0, 80.0, 74.0, 65.0, 61.0, 57.0, 59.0, 71.0, 85.0, 84.0, 80.0, 58.0]\n"
     ]
    }
   ],
   "source": [
    "grade = [28,65,52,30, 20,11, 15,45,78,76,65,12]\n",
    "sum = 0\n",
    "for n in grade:\n",
    "    sum = n +sum\n",
    "print(sum)\n",
    "\n",
    "ave = sum/len(grade)\n",
    "print(ave)\n",
    "\n",
    "var = 0\n",
    "for n in grade:\n",
    "    var = var + (n-ave)**2\n",
    "print(var)\n",
    "\n",
    "std = (var/len(grade))**0.5\n",
    "print(std)\n",
    "\n",
    "ad_grade = []\n",
    "for i in grade:\n",
    "    ad_grade.append(round((i -ave)/std*10+70, 0))\n",
    "print(ad_grade)"
   ]
  },
  {
   "cell_type": "code",
   "execution_count": 30,
   "metadata": {},
   "outputs": [
    {
     "name": "stdout",
     "output_type": "stream",
     "text": [
      "497\n",
      "7028.916666666666\n",
      "24.202129153352512\n",
      "[64.0, 80.0, 74.0, 65.0, 61.0, 57.0, 59.0, 71.0, 85.0, 84.0, 80.0, 58.0]\n"
     ]
    }
   ],
   "source": [
    "import numpy as np\n",
    "ori=[28,65,52,30, 20,11, 15,45,78,76,65,12]\n",
    "# 加總\n",
    "sum=0\n",
    "for o in ori:\n",
    "    sum=sum+o\n",
    "print(sum)\n",
    "# 平均     \n",
    "ave=sum/len(ori)\n",
    "ss=0\n",
    "for o in ori:\n",
    "    ss=ss+ (o-ave)**2\n",
    "print(ss)\n",
    "# 標準差    \n",
    "s=np.sqrt(ss/len(ori))  # sqrt() 表開根號，要先 import numpy as np\n",
    "print(s)\n",
    "final=[]\n",
    "for o in ori:\n",
    "    # 調整分數\n",
    "    f=((o-ave)/s)*10+70\n",
    "    # 加入list\n",
    "    final.append(round(f,0)) #round(number, number_digit)\n",
    "print (final)    \n",
    "\n",
    "#再想過統計→ 標準差\n",
    "#\\ SD= \\sqrt{\\frac{1}{N} \\sum_{i=1}^N (x_i - \\mu)^2}"
   ]
  },
  {
   "cell_type": "code",
   "execution_count": 27,
   "metadata": {},
   "outputs": [
    {
     "name": "stdout",
     "output_type": "stream",
     "text": [
      "24.202129153352512\n"
     ]
    }
   ],
   "source": [
    "# Numpy 是 Python 的一個重要模組（Python 是一個高階語言也是一種膠水語言，\n",
    "#可以透過整合其他低階語言同時擁有效能和高效率的開發），主要用於資料處理上。\n",
    "#Python 其餘重量級的資料科學相關套件（例如：Pandas、SciPy、Scikit-learn 等）都幾乎是奠基在 Numpy 的基礎上。\n",
    "\n",
    "import numpy as np\n",
    "ori=[28,65,52,30, 20,11, 15,45,78,76,65,12]\n",
    "# 加總\n",
    "sum=0\n",
    "for o in ori:\n",
    "    sum=sum+o\n",
    "# 平均     \n",
    "ave=sum/len(ori)\n",
    "ss=0\n",
    "for o in ori:\n",
    "    ss=ss+ (o-ave)**2\n",
    "# 標準差    \n",
    "s = np.sqrt(ss/len(ori))\n",
    "print(s)"
   ]
  },
  {
   "cell_type": "markdown",
   "metadata": {},
   "source": [
    "# 請自行練習 三分鐘 ___"
   ]
  },
  {
   "cell_type": "markdown",
   "metadata": {},
   "source": [
    "# If ... elif ... else... 條件設定"
   ]
  },
  {
   "cell_type": "code",
   "execution_count": 11,
   "metadata": {},
   "outputs": [
    {
     "name": "stdout",
     "output_type": "stream",
     "text": [
      "x = y\n"
     ]
    }
   ],
   "source": [
    "# 注意句尾要加冒號\n",
    "x = 10\n",
    "y = 10\n",
    "if x > y:\n",
    "    print (\"x > y\")\n",
    "elif x < y:\n",
    "    print (\"x < y\")\n",
    "else:\n",
    "    print (\"x = y\")"
   ]
  },
  {
   "cell_type": "markdown",
   "metadata": {},
   "source": [
    "## continue, pass，break，跳過"
   ]
  },
  {
   "cell_type": "code",
   "execution_count": 34,
   "metadata": {},
   "outputs": [
    {
     "name": "stdout",
     "output_type": "stream",
     "text": [
      "台灣\n",
      "['台北', '台中', '台南']\n"
     ]
    }
   ],
   "source": [
    "# 碰到 台 開頭的縣市加入清單，不包括 台北\n",
    "地名 = [\"start\",\"台灣\", \"板橋\",\"台北\",\"台中\",'台南','花蓮','澎湖','宜蘭','新北','基隆','桃園','end','高雄','台東']\n",
    "selected=[]\n",
    "for p in 地名:\n",
    "    if p==\"start\":\n",
    "        continue     # 跳出 if，不執行後續的指令 print (p) → 強制跳出本次迴圈\n",
    "        print (p)\n",
    "    elif p==\"台灣\":\n",
    "        pass         # 繼續執行 if 內的指令，有沒有pass結果一樣 \n",
    "        print (p)\n",
    "    elif p.startswith(\"台\"):           \n",
    "        selected.append(p)     # 加入選取名單 \n",
    "    elif p==\"end\":\n",
    "        break   # 跳出 for 迴歸，不管尚未完成的 '高雄','台東'\n",
    "        \n",
    "print (selected)"
   ]
  },
  {
   "cell_type": "code",
   "execution_count": 36,
   "metadata": {},
   "outputs": [
    {
     "name": "stdout",
     "output_type": "stream",
     "text": [
      "台灣\n",
      "['台北', '台中', '台南']\n"
     ]
    }
   ],
   "source": [
    "#break：強制跳出 ❮整個❯ 迴圈\n",
    "#continue：強制跳出 ❮本次❯ 迴圈，繼續進入下一圈\n",
    "#pass：不做任何事情，所有的程式都將繼續→pass的功能是提醒程式撰寫者日後回來修改\n",
    "\n",
    "地名 = [\"start\",\"台灣\", \"板橋\",\"台北\",\"台中\",'台南','花蓮','澎湖','宜蘭','新北','基隆','桃園','end','高雄','台東']\n",
    "select = []\n",
    "\n",
    "for i in 地名:\n",
    "    if i == \"start\":\n",
    "        continue\n",
    "        print(i)\n",
    "    elif i ==\"台灣\":\n",
    "        print(i)\n",
    "    elif i.startswith(\"台\"): #\"startswith\" 功能特別用在檢查\"字串\"是否符合指定開頭\n",
    "        select.append(i)\n",
    "    elif i == \"end\":\n",
    "        break\n",
    "print(select)"
   ]
  },
  {
   "cell_type": "code",
   "execution_count": 14,
   "metadata": {},
   "outputs": [
    {
     "name": "stdout",
     "output_type": "stream",
     "text": [
      "台灣\n"
     ]
    }
   ],
   "source": []
  },
  {
   "cell_type": "markdown",
   "metadata": {},
   "source": [
    "# While loop 迴圈，合乎條件方停止"
   ]
  },
  {
   "cell_type": "code",
   "execution_count": 11,
   "metadata": {},
   "outputs": [
    {
     "name": "stdout",
     "output_type": "stream",
     "text": [
      "0 1 4 9 16 25 36 49 64 81 100 121 144 169 196 225 256 289 324 361 400 441 484 529 576 625 676 729 784 841 900 961 1024 1089 1156 1225 1296 1369 1444 1521 1600 1681 1764 1849 1936 2025 2116 2209 2304 2401 2500 2601 2704 2809 2916 3025 3136 3249 3364 3481 3600 3721 3844 3969 4096 4225 4356 4489 4624 4761 4900 5041 5184 5329 5476 5625 5776 5929 6084 6241 6400 6561 6724 6889 7056 7225 7396 7569 7744 7921 8100 8281 8464 8649 8836 9025 9216 9409 9604 9801 "
     ]
    }
   ],
   "source": [
    "# 重覆執行，直到\n",
    "i = 0\n",
    "cont=True\n",
    "while cont==True:      # 設定 while loop 的執行條件\n",
    "    print(i**2, end=\" \")\n",
    "    i = i+1\n",
    "    if i == 100:    # 設定條件 跳出 while loop\n",
    "        cont=False        \n"
   ]
  },
  {
   "cell_type": "code",
   "execution_count": 37,
   "metadata": {},
   "outputs": [
    {
     "name": "stdout",
     "output_type": "stream",
     "text": [
      "0 1 4 9 16 25 36 49 64 81 100 121 144 169 196 225 256 289 324 361 400 441 484 529 576 625 676 729 784 841 900 961 1024 1089 1156 1225 1296 1369 1444 1521 1600 1681 1764 1849 1936 2025 2116 2209 2304 2401 2500 2601 2704 2809 2916 3025 3136 3249 3364 3481 3600 3721 3844 3969 4096 4225 4356 4489 4624 4761 4900 5041 5184 5329 5476 5625 5776 5929 6084 6241 6400 6561 6724 6889 7056 7225 7396 7569 7744 7921 8100 8281 8464 8649 8836 9025 9216 9409 9604 9801 "
     ]
    }
   ],
   "source": [
    "i = 0\n",
    "cont = True\n",
    "while cont ==True:\n",
    "    print(i**2, end =\" \")\n",
    "    i += 1\n",
    "    if i ==100:\n",
    "        cont = False\n"
   ]
  },
  {
   "cell_type": "markdown",
   "metadata": {},
   "source": [
    "# 除錯"
   ]
  },
  {
   "cell_type": "markdown",
   "metadata": {},
   "source": [
    "## try and except"
   ]
  },
  {
   "cell_type": "code",
   "execution_count": 12,
   "metadata": {},
   "outputs": [
    {
     "name": "stdout",
     "output_type": "stream",
     "text": [
      "36\n"
     ]
    }
   ],
   "source": [
    "# 計算總合，如果錯誤的話，移至 except，注意 數字與字串不能相加\n",
    "score = [1,2,3,4,5,6,7,8,'nan',9,10,11,12]\n",
    "sum=0\n",
    "try:\n",
    "    for s in score:\n",
    "        sum=s+sum\n",
    "except:\n",
    "    pass          # 如果出現錯誤，則跳過，數字與字串不能相加 \n",
    "print (sum)"
   ]
  },
  {
   "cell_type": "code",
   "execution_count": null,
   "metadata": {},
   "outputs": [],
   "source": [
    "#python使用try和except功能來處理異常"
   ]
  },
  {
   "cell_type": "code",
   "execution_count": 19,
   "metadata": {},
   "outputs": [
    {
     "name": "stdout",
     "output_type": "stream",
     "text": [
      "36\n"
     ]
    }
   ],
   "source": [
    "score = [1,2,3,4,5,6,7,8,'nan',9,10,11,12]\n",
    "sum=0\n",
    "try:\n",
    "    for s in score:\n",
    "        sum = s + sum\n",
    "except:\n",
    "    pass\n",
    "print(sum)"
   ]
  },
  {
   "cell_type": "code",
   "execution_count": 38,
   "metadata": {},
   "outputs": [
    {
     "name": "stdout",
     "output_type": "stream",
     "text": [
      "36\n"
     ]
    }
   ],
   "source": [
    "score = [1,2,3,4,5,6,7,8,'nan',9,10,11,12]\n",
    "sum = 0\n",
    "try:\n",
    "    for s in score:\n",
    "        sum = sum + s\n",
    "except:\n",
    "    pass\n",
    "print(sum)"
   ]
  },
  {
   "cell_type": "code",
   "execution_count": 20,
   "metadata": {},
   "outputs": [
    {
     "name": "stdout",
     "output_type": "stream",
     "text": [
      "nan ,error type:  unsupported operand type(s) for /: 'int' and 'str'\n",
      "[1.0, 0.5, 0.3333333333333333, 0.25, 0.2, 0.16666666666666666, 0.14285714285714285, 0.125]\n"
     ]
    }
   ],
   "source": [
    "# 求各元素的倒數，如果錯誤的話，移至 except，注意 0 沒有倒數\n",
    "score = [1,2,3,4,5,6,7,8,'nan',9,10,11,12]\n",
    "inv=[]\n",
    "try:\n",
    "    for s in score:\n",
    "        inv.append(1/s)\n",
    "except Exception as e:    \n",
    "    print (s,',error type: ', e)  # 列出錯誤的位置與原因，0 沒有倒數\n",
    "print (inv)\n",
    "\n",
    "#若要繼續加上nan之後的數字，可以找到它把它delete掉"
   ]
  },
  {
   "cell_type": "code",
   "execution_count": 39,
   "metadata": {},
   "outputs": [
    {
     "name": "stdout",
     "output_type": "stream",
     "text": [
      "nan  , erroe type:  unsupported operand type(s) for /: 'int' and 'str'\n",
      "[1.0, 0.5, 0.3333333333333333, 0.25, 0.2, 0.16666666666666666, 0.14285714285714285, 0.125]\n"
     ]
    }
   ],
   "source": [
    "score = [1,2,3,4,5,6,7,8,'nan',9,10,11,12]\n",
    "inv=[]\n",
    "try:\n",
    "    for s in score:\n",
    "        inv.append(1/s)\n",
    "except Exception as e:\n",
    "    print(s, ' , erroe type: ', e)\n",
    "print(inv)"
   ]
  },
  {
   "cell_type": "markdown",
   "metadata": {},
   "source": [
    "# 自行練習 三分鐘 ___"
   ]
  },
  {
   "cell_type": "markdown",
   "metadata": {},
   "source": [
    "# 定義函數，def"
   ]
  },
  {
   "cell_type": "code",
   "execution_count": null,
   "metadata": {},
   "outputs": [],
   "source": [
    "# 兩變數相乘，傳回一個數字\n",
    "def times(x,y):\n",
    "    z = x*y    \n",
    "    return z\n",
    "\n",
    "c = times(4,50)\n",
    "print (c)"
   ]
  },
  {
   "cell_type": "code",
   "execution_count": 1,
   "metadata": {},
   "outputs": [
    {
     "name": "stdout",
     "output_type": "stream",
     "text": [
      "15\n"
     ]
    }
   ],
   "source": [
    "def times(x, y):\n",
    "    z = x * y\n",
    "    return z\n",
    "print(times(5, 3))"
   ]
  },
  {
   "cell_type": "code",
   "execution_count": null,
   "metadata": {},
   "outputs": [],
   "source": []
  },
  {
   "cell_type": "code",
   "execution_count": null,
   "metadata": {},
   "outputs": [],
   "source": [
    "# 回傳相加與相乘，兩個結果\n",
    "def times_plus(x,y):\n",
    "    z1 = x*y\n",
    "    z2 =x+y       \n",
    "    return z1,z2\n",
    "\n",
    "c = times_plus(4,50)\n",
    "print (c[0],c[1])"
   ]
  },
  {
   "cell_type": "code",
   "execution_count": 2,
   "metadata": {},
   "outputs": [
    {
     "name": "stdout",
     "output_type": "stream",
     "text": [
      "200 54\n"
     ]
    }
   ],
   "source": [
    "def times_plus(x, y):\n",
    "    z1 = x * y\n",
    "    z2 = x + y\n",
    "    return z1, z2\n",
    "c = times_plus(4, 50)\n",
    "print(c[0], c[1])"
   ]
  },
  {
   "cell_type": "code",
   "execution_count": 2,
   "metadata": {},
   "outputs": [
    {
     "name": "stdout",
     "output_type": "stream",
     "text": [
      "<class 'list'>\n"
     ]
    },
    {
     "ename": "TypeError",
     "evalue": "'int' object is not iterable",
     "output_type": "error",
     "traceback": [
      "\u001b[1;31m---------------------------------------------------------------------------\u001b[0m",
      "\u001b[1;31mTypeError\u001b[0m                                 Traceback (most recent call last)",
      "\u001b[1;32m<ipython-input-2-9d9946251cef>\u001b[0m in \u001b[0;36m<module>\u001b[1;34m\u001b[0m\n\u001b[0;32m     15\u001b[0m     \u001b[0mstd\u001b[0m\u001b[1;33m=\u001b[0m\u001b[0mround\u001b[0m\u001b[1;33m(\u001b[0m\u001b[0msum2\u001b[0m\u001b[1;33m/\u001b[0m\u001b[0mlen\u001b[0m\u001b[1;33m(\u001b[0m\u001b[0mnumbers\u001b[0m\u001b[1;33m)\u001b[0m\u001b[1;33m,\u001b[0m\u001b[1;36m2\u001b[0m\u001b[1;33m)\u001b[0m\u001b[1;33m\u001b[0m\u001b[1;33m\u001b[0m\u001b[0m\n\u001b[0;32m     16\u001b[0m     \u001b[1;32mreturn\u001b[0m \u001b[0mhighest\u001b[0m\u001b[1;33m,\u001b[0m \u001b[0mlowest\u001b[0m\u001b[1;33m,\u001b[0m \u001b[0mave\u001b[0m\u001b[1;33m,\u001b[0m \u001b[0mstd\u001b[0m\u001b[1;33m\u001b[0m\u001b[1;33m\u001b[0m\u001b[0m\n\u001b[1;32m---> 17\u001b[1;33m \u001b[0mprint\u001b[0m\u001b[1;33m(\u001b[0m\u001b[0mcal\u001b[0m\u001b[1;33m(\u001b[0m\u001b[1;36m30\u001b[0m\u001b[1;33m)\u001b[0m\u001b[1;33m)\u001b[0m\u001b[1;33m\u001b[0m\u001b[1;33m\u001b[0m\u001b[0m\n\u001b[0m",
      "\u001b[1;32m<ipython-input-2-9d9946251cef>\u001b[0m in \u001b[0;36mcal\u001b[1;34m(numbers)\u001b[0m\n\u001b[0;32m      4\u001b[0m \u001b[1;33m\u001b[0m\u001b[0m\n\u001b[0;32m      5\u001b[0m \u001b[1;32mdef\u001b[0m \u001b[0mcal\u001b[0m\u001b[1;33m(\u001b[0m\u001b[0mnumbers\u001b[0m\u001b[1;33m)\u001b[0m\u001b[1;33m:\u001b[0m\u001b[1;33m\u001b[0m\u001b[1;33m\u001b[0m\u001b[0m\n\u001b[1;32m----> 6\u001b[1;33m     \u001b[0mhighest\u001b[0m \u001b[1;33m=\u001b[0m \u001b[0mmax\u001b[0m\u001b[1;33m(\u001b[0m\u001b[0mnumbers\u001b[0m\u001b[1;33m)\u001b[0m\u001b[1;33m\u001b[0m\u001b[1;33m\u001b[0m\u001b[0m\n\u001b[0m\u001b[0;32m      7\u001b[0m     \u001b[0mlowest\u001b[0m \u001b[1;33m=\u001b[0m \u001b[0mmin\u001b[0m\u001b[1;33m(\u001b[0m\u001b[0mnumbers\u001b[0m\u001b[1;33m)\u001b[0m\u001b[1;33m\u001b[0m\u001b[1;33m\u001b[0m\u001b[0m\n\u001b[0;32m      8\u001b[0m     \u001b[0msum1\u001b[0m\u001b[1;33m=\u001b[0m\u001b[1;36m0\u001b[0m\u001b[1;33m\u001b[0m\u001b[1;33m\u001b[0m\u001b[0m\n",
      "\u001b[1;31mTypeError\u001b[0m: 'int' object is not iterable"
     ]
    }
   ],
   "source": [
    "# 計算基本統計量，傳回一個 list\n",
    "numbers = [1, 2, 3, 4, 5, 6, 7]\n",
    "print(type(numbers))\n",
    "\n",
    "def cal(numbers):    \n",
    "    highest = max(numbers)\n",
    "    lowest = min(numbers)\n",
    "    sum1=0\n",
    "    for n in numbers:\n",
    "        sum1=sum1+n\n",
    "    ave=round(sum1/len(numbers),2) #小數點取兩位\n",
    "    sum2=0\n",
    "    for n in numbers:\n",
    "        sum2=sum2+(n-ave)**2\n",
    "    std=round(sum2/len(numbers),2)    \n",
    "    return highest, lowest, ave, std\n",
    "print(cal(30))"
   ]
  },
  {
   "cell_type": "code",
   "execution_count": 2,
   "metadata": {},
   "outputs": [
    {
     "name": "stdout",
     "output_type": "stream",
     "text": [
      "102\n"
     ]
    }
   ],
   "source": [
    "\n",
    "def cal(numbers):\n",
    "    highest = max(numbers) \n",
    "    lowest = min(numbers)\n",
    "    \n",
    "    sum1 = 0\n",
    "    for n in numbers:\n",
    "        sum1 += n\n",
    "    return sum1\n",
    "\n",
    "numbers = [1,3,5,7,8,25,4,20,29]\n",
    "print(cal(numbers))"
   ]
  },
  {
   "cell_type": "code",
   "execution_count": 14,
   "metadata": {},
   "outputs": [
    {
     "name": "stdout",
     "output_type": "stream",
     "text": [
      "102\n"
     ]
    }
   ],
   "source": [
    "numbers = [1,3,5,7,8,25,4,20,29]\n",
    "i = 0\n",
    "sum = 0\n",
    "for n in numbers:\n",
    "    sum += numbers[i]\n",
    "    i+=1\n",
    "print(sum)"
   ]
  },
  {
   "cell_type": "code",
   "execution_count": 1,
   "metadata": {},
   "outputs": [
    {
     "name": "stdout",
     "output_type": "stream",
     "text": [
      "102\n"
     ]
    }
   ],
   "source": [
    "numbers = [1,3,5,7,8,25,4,20,29]\n",
    "sum = 0\n",
    "for n in numbers:\n",
    "    sum += n\n",
    "print(sum)"
   ]
  },
  {
   "cell_type": "code",
   "execution_count": 7,
   "metadata": {},
   "outputs": [
    {
     "name": "stdout",
     "output_type": "stream",
     "text": [
      "(29, 1, 11.333333333333334, 9.854496999396321)\n"
     ]
    }
   ],
   "source": [
    "# 定義一個函數去計算list中數值的標準差/平均數/最大值/最小值，並產生一個list\n",
    "def cal(numbers):\n",
    "    highest = max(numbers) \n",
    "    lowest = min(numbers)\n",
    "    \n",
    "    sum1 = 0\n",
    "    for n in numbers:\n",
    "        sum1 = sum1 + n\n",
    "    \n",
    "    ave = sum1 / len(numbers)\n",
    "    \n",
    "    var = 0\n",
    "    for n in numbers:\n",
    "        var += (n-ave)**2\n",
    "    \n",
    "    std = (var/len(numbers))**0.5\n",
    "    return highest, lowest, ave, std\n",
    "\n",
    "numbers = [1,3,5,7,8,25,4,20,29]\n",
    "\n",
    "print(cal(numbers))"
   ]
  },
  {
   "cell_type": "code",
   "execution_count": 8,
   "metadata": {},
   "outputs": [
    {
     "ename": "TypeError",
     "evalue": "'int' object is not iterable",
     "output_type": "error",
     "traceback": [
      "\u001b[1;31m---------------------------------------------------------------------------\u001b[0m",
      "\u001b[1;31mTypeError\u001b[0m                                 Traceback (most recent call last)",
      "\u001b[1;32m<ipython-input-8-107282c05643>\u001b[0m in \u001b[0;36m<module>\u001b[1;34m\u001b[0m\n\u001b[0;32m     15\u001b[0m \u001b[1;33m\u001b[0m\u001b[0m\n\u001b[0;32m     16\u001b[0m     \u001b[1;32mreturn\u001b[0m \u001b[0mhighest\u001b[0m\u001b[1;33m,\u001b[0m \u001b[0mlowest\u001b[0m\u001b[1;33m,\u001b[0m \u001b[0mave\u001b[0m\u001b[1;33m,\u001b[0m \u001b[0mstd\u001b[0m\u001b[1;33m\u001b[0m\u001b[1;33m\u001b[0m\u001b[0m\n\u001b[1;32m---> 17\u001b[1;33m \u001b[0mprint\u001b[0m\u001b[1;33m(\u001b[0m\u001b[0mcal\u001b[0m\u001b[1;33m(\u001b[0m\u001b[1;36m59\u001b[0m\u001b[1;33m)\u001b[0m\u001b[1;33m)\u001b[0m\u001b[1;33m\u001b[0m\u001b[1;33m\u001b[0m\u001b[0m\n\u001b[0m",
      "\u001b[1;32m<ipython-input-8-107282c05643>\u001b[0m in \u001b[0;36mcal\u001b[1;34m(numbers)\u001b[0m\n\u001b[0;32m      1\u001b[0m \u001b[1;32mdef\u001b[0m \u001b[0mcal\u001b[0m\u001b[1;33m(\u001b[0m\u001b[0mnumbers\u001b[0m\u001b[1;33m)\u001b[0m\u001b[1;33m:\u001b[0m\u001b[1;33m\u001b[0m\u001b[1;33m\u001b[0m\u001b[0m\n\u001b[1;32m----> 2\u001b[1;33m     \u001b[0mhighest\u001b[0m \u001b[1;33m=\u001b[0m \u001b[0mmax\u001b[0m\u001b[1;33m(\u001b[0m\u001b[0mnumbers\u001b[0m\u001b[1;33m)\u001b[0m\u001b[1;33m\u001b[0m\u001b[1;33m\u001b[0m\u001b[0m\n\u001b[0m\u001b[0;32m      3\u001b[0m     \u001b[0mlowest\u001b[0m \u001b[1;33m=\u001b[0m \u001b[0mmin\u001b[0m\u001b[1;33m(\u001b[0m\u001b[0mnumbers\u001b[0m\u001b[1;33m)\u001b[0m\u001b[1;33m\u001b[0m\u001b[1;33m\u001b[0m\u001b[0m\n\u001b[0;32m      4\u001b[0m \u001b[1;33m\u001b[0m\u001b[0m\n\u001b[0;32m      5\u001b[0m     \u001b[0msum1\u001b[0m \u001b[1;33m=\u001b[0m \u001b[1;36m0\u001b[0m\u001b[1;33m\u001b[0m\u001b[1;33m\u001b[0m\u001b[0m\n",
      "\u001b[1;31mTypeError\u001b[0m: 'int' object is not iterable"
     ]
    }
   ],
   "source": []
  },
  {
   "cell_type": "code",
   "execution_count": null,
   "metadata": {},
   "outputs": [],
   "source": []
  },
  {
   "cell_type": "code",
   "execution_count": 21,
   "metadata": {},
   "outputs": [
    {
     "name": "stdout",
     "output_type": "stream",
     "text": [
      "highest 100\n",
      "lowest 50\n",
      "average 76.58\n",
      "standard deviation 276.58\n"
     ]
    }
   ],
   "source": [
    "score = [78,50,90,81,60,80,100,56,98,77,56,93]\n",
    "highest, lowest, ave, std = cal(score)\n",
    "print ('highest',highest)\n",
    "print ('lowest',lowest)\n",
    "print ('average',ave)\n",
    "print ('standard deviation',round(std,2))"
   ]
  },
  {
   "cell_type": "markdown",
   "metadata": {},
   "source": [
    "# 練習：判斷閏年或非閏年 __\n",
    "* 1 如果年份能被4 整除，請移至步驟2。 否則請移至步驟5。\n",
    "* 2 如果年份能被100 整除，請移至步驟3。 否則請移至步驟4。\n",
    "* 3 如果年份能被400 整除，請移至步驟4。 否則請移至步驟5。\n",
    "* 4 該年份為閏年(有366 天)。\n",
    "* 5 該年份不是閏年(有365 天)。\n"
   ]
  },
  {
   "cell_type": "code",
   "execution_count": 15,
   "metadata": {},
   "outputs": [
    {
     "name": "stdout",
     "output_type": "stream",
     "text": [
      "閏年\n"
     ]
    }
   ],
   "source": [
    "#閏年規則 \n",
    "#公元年分除以4不可整除，為平年。\n",
    "#公元年分除以4可整除但除以100不可整除，為閏年。\n",
    "#公元年分除以100可整除但除以400不可整除，為平年。\n",
    "#公元年分除以400可整除，為閏年。\n",
    "\n",
    "def leap_year(year):\n",
    "    if year%4==0:\n",
    "        if year % 100==0:    \n",
    "            if year % 400==0:\n",
    "                fin= '閏年'\n",
    "            else:\n",
    "                fin= '非閏年'\n",
    "        else:\n",
    "            fin= '閏年'\n",
    "    else:\n",
    "        fin= '非閏年'\n",
    "    return fin\n",
    "\n",
    "ans=leap_year(2004)\n",
    "print (ans)"
   ]
  },
  {
   "cell_type": "code",
   "execution_count": 12,
   "metadata": {},
   "outputs": [
    {
     "name": "stdout",
     "output_type": "stream",
     "text": [
      "閏年\n"
     ]
    }
   ],
   "source": [
    "#閏年規則 \n",
    "#公元年分除以4不可整除，為平年。\n",
    "#公元年分除以4可整除但除以100不可整除，為閏年。\n",
    "#公元年分除以100可整除但除以400不可整除，為平年。\n",
    "#公元年分除以400可整除，為閏年。\n",
    "\n",
    "def leap_year(year):\n",
    "    if year % 4 == 0:\n",
    "        if year % 100 == 0:\n",
    "            if year % 400 == 0:\n",
    "                fin = \"閏年\"\n",
    "            else:\n",
    "                fin = \"平年\"\n",
    "        else:\n",
    "            fin = \"閏年\"\n",
    "    else: \n",
    "        fin = \"平年\"\n",
    "    return fin\n",
    "        \n",
    "ans = leap_year(2008)\n",
    "print(ans)"
   ]
  },
  {
   "cell_type": "code",
   "execution_count": 16,
   "metadata": {},
   "outputs": [
    {
     "name": "stdout",
     "output_type": "stream",
     "text": [
      "閏年\n"
     ]
    }
   ],
   "source": [
    "def leap_year(year):\n",
    "    if (year % 4 == 0) & (year % 100 != 0):\n",
    "        fin = \"閏年\"\n",
    "    elif (year % 400 == 0) & (year % 3200 != 0):\n",
    "        fin = \"閏年\"\n",
    "    else:\n",
    "        fin = \"平年\"\n",
    "    return fin\n",
    "\n",
    "ans = leap_year(2008)\n",
    "print(ans)"
   ]
  },
  {
   "cell_type": "code",
   "execution_count": 17,
   "metadata": {},
   "outputs": [
    {
     "name": "stdout",
     "output_type": "stream",
     "text": [
      "閏年\n"
     ]
    }
   ],
   "source": [
    "def leap_year(year):\n",
    "    if (year % 4 == 0) & (year % 100 != 0) or (year % 400 == 0) & (year % 3200 != 0):\n",
    "        fin = \"閏年\"\n",
    "    else:\n",
    "        fin = \"平年\"\n",
    "    return fin\n",
    "\n",
    "ans = leap_year(2008)\n",
    "print(ans)"
   ]
  },
  {
   "cell_type": "markdown",
   "metadata": {},
   "source": [
    "# 練習：告訴我生日，我告訴你四季"
   ]
  },
  {
   "cell_type": "code",
   "execution_count": 31,
   "metadata": {},
   "outputs": [
    {
     "data": {
      "text/plain": [
       "'冬'"
      ]
     },
     "execution_count": 31,
     "metadata": {},
     "output_type": "execute_result"
    }
   ],
   "source": [
    "def season(birth):\n",
    "    ymd=birth.split(\",\") \n",
    "    month=ymd[1] # 只取月，依需要你可以取 年、月、日\n",
    "    if month==3 or month==4 or month==5:\n",
    "        return \"春\"\n",
    "    elif month==6 or month==7 or month==8:\n",
    "        return \"夏\" \n",
    "    elif month==9 or month==10 or month==11:\n",
    "        return \"秋\" \n",
    "    else:    \n",
    "        return \"冬\"\n",
    "# 注意本例中日期以字串加逗號表達    \n",
    "birth1 = \"1995,8,4\"\n",
    "season(birth1)"
   ]
  },
  {
   "cell_type": "code",
   "execution_count": 39,
   "metadata": {},
   "outputs": [
    {
     "data": {
      "text/plain": [
       "'夏'"
      ]
     },
     "execution_count": 39,
     "metadata": {},
     "output_type": "execute_result"
    }
   ],
   "source": [
    "def season(birth):\n",
    "    ymd=birth.split(\",\") \n",
    "    month=ymd[1] # 只取月，依需要你可以取 年、月、日\n",
    "    if month==\"3\" or month==\"4\" or month==\"5\":\n",
    "        return \"春\"\n",
    "    elif month==\"6\" or month==\"7\" or month==\"8\":\n",
    "        return \"夏\" \n",
    "    elif month==\"9\" or month==\"10\" or month==\"11\":\n",
    "        return \"秋\" \n",
    "    else:    \n",
    "        return \"冬\"\n",
    "# 注意本例中日期以字串加逗號表達    \n",
    "birth = \"1995,8,4\" #注意str和int的轉換\n",
    "season(birth) "
   ]
  },
  {
   "cell_type": "code",
   "execution_count": 20,
   "metadata": {},
   "outputs": [
    {
     "name": "stdout",
     "output_type": "stream",
     "text": [
      "夏\n"
     ]
    }
   ],
   "source": [
    "def season(birth):\n",
    "    ymd = birth.split(\",\")\n",
    "    month = ymd[1]\n",
    "    \n",
    "    if (month == \"3\") or (month == \"4\") or (month == \"5\"):\n",
    "        season_fin = \"春\"\n",
    "    elif (month == \"6\") or (month == \"7\") or (month == \"8\"):\n",
    "        season_fin = \"夏\"\n",
    "    elif (month == \"9\") or (month == \"10\") or (month == \"11\"):\n",
    "        season_fin = \"秋\"\n",
    "    else:\n",
    "        season_fin = \"冬\"\n",
    "    return season_fin\n",
    "\n",
    "ans = season(\"1995,8,4\")\n",
    "print(ans)"
   ]
  },
  {
   "cell_type": "markdown",
   "metadata": {},
   "source": [
    "# 練習： 告訴我生年，我告訴你生肖\n",
    "* 提示: 取年，除以12 的餘數，判斷生肖"
   ]
  },
  {
   "cell_type": "code",
   "execution_count": 21,
   "metadata": {},
   "outputs": [
    {
     "data": {
      "text/plain": [
       "'豬'"
      ]
     },
     "execution_count": 21,
     "metadata": {},
     "output_type": "execute_result"
    }
   ],
   "source": [
    "# 例如 1960 年生肖屬鼠\n",
    "## zip( ) 將兩個List 變數結合，再轉為字典變數\n",
    "def Zodiac(year):\n",
    "    animal = ['鼠', '牛', '虎', '兔', '龍', '蛇', '馬', '羊', '猴', '雞', '狗','豬']\n",
    "    number = [1, 2, 3, 4, 5,6,7,8,9,10,11,0]     # 餘數決定生肖，0 表豬年\n",
    "    data = zip(number, animal)\n",
    "    dict_year = dict(data)\n",
    "    y = (year-1911)%12 # 餘數決定生肖，因為1911年為豬年\n",
    "    return dict_year[y]\n",
    "\n",
    "Zodiac(1959)"
   ]
  },
  {
   "cell_type": "code",
   "execution_count": 43,
   "metadata": {},
   "outputs": [
    {
     "data": {
      "text/plain": [
       "'豬'"
      ]
     },
     "execution_count": 43,
     "metadata": {},
     "output_type": "execute_result"
    }
   ],
   "source": [
    "def Zodiac(year):\n",
    "    animal = ['鼠', '牛', '虎', '兔', '龍', '蛇', '馬', '羊', '猴', '雞', '狗','豬']\n",
    "    number = [1, 2, 3, 4, 5,6,7,8,9,10,11,0]     # 餘數決定生肖，0 表豬年\n",
    "    data = zip(number, animal)\n",
    "    dict_year = dict(data)\n",
    "    y = (year - 1911) % 12\n",
    "    return dict_year[y]\n",
    "Zodiac(1995)\n"
   ]
  },
  {
   "cell_type": "code",
   "execution_count": 21,
   "metadata": {},
   "outputs": [
    {
     "name": "stdout",
     "output_type": "stream",
     "text": [
      "豬\n"
     ]
    }
   ],
   "source": [
    "def zodiac(year):\n",
    "    animal = ['鼠', '牛', '虎', '兔', '龍', '蛇', '馬', '羊', '猴', '雞', '狗','豬']\n",
    "    number = [1, 2, 3, 4, 5,6,7,8,9,10,11,0]\n",
    "    data = zip(number, animal)\n",
    "    dict_z = dict(data)\n",
    "    zodiac_n = (year-1911) % 12\n",
    "    \n",
    "    return dict_z[zodiac_n]\n",
    "\n",
    "print(zodiac(1995))"
   ]
  },
  {
   "cell_type": "markdown",
   "metadata": {},
   "source": [
    "# 練習：告訴我生日，我告訴你是否是\"雙魚座\"\n",
    "* 修改程式，利用 elif 增加其他星座"
   ]
  },
  {
   "cell_type": "code",
   "execution_count": 15,
   "metadata": {},
   "outputs": [
    {
     "name": "stdout",
     "output_type": "stream",
     "text": [
      "雙魚座\n"
     ]
    }
   ],
   "source": [
    "## 雙魚座\t2月19日~ 3月20日，各星座的日期可從網路上查得\n",
    "month =3\n",
    "day=20\n",
    "if (month==2 and day>=19) or (month==3 and day<=20):\n",
    "    print (\"雙魚座\")\n",
    "else:\n",
    "    print (\"others\")\n"
   ]
  },
  {
   "cell_type": "markdown",
   "metadata": {},
   "source": [
    "# 作業：寫一個函數，給定生日，告訴你 年紀、生肖、星座、以及性格預測\n",
    "* 網路上應該有性格預測的參考資料。\n",
    "* birthday 為一變數，年月日\n",
    "* 年紀與今年相減即得。\n",
    "* 由出生月日可得生肖與星座\n",
    "* 由生肖與星座可判斷個性。\n",
    "* 活用 dictionary, key 可為生肖或星座，value 為性格預測\n",
    "* 給定 key 即得 value"
   ]
  },
  {
   "cell_type": "code",
   "execution_count": 14,
   "metadata": {},
   "outputs": [
    {
     "name": "stdout",
     "output_type": "stream",
     "text": [
      "您好, 請按「年,月,日」格式輸入您的生日: 1995,8,4\n",
      "age 24\n",
      "star Leo\n",
      "zodiac 豬\n",
      "trait ('proud', 'arrogant')\n"
     ]
    }
   ],
   "source": [
    "# 第一步: 利用上禮拜之練習，先將星座和個性建置一個可查詢的dictionary→dict1\n",
    "stars = [\"Aries\", \"Taurus\", \"Gemini\", \"Cancer\", \"Leo\", \"Virgo\", \"Libra\", \"Scorpio\", \"Sagittarius\", \"Capricorn\", \"Aquarius\", \"Pisces\"]\n",
    "traits = [(\"hopeful\", \"impulsive\"), \n",
    "          (\"romantic\", \"prejudiced\"), \n",
    "          (\"multifarious\", \"fickle\"), \n",
    "          (\"gentle\", \"greedy\"), \n",
    "           (\"proud\", \"arrogant\"), \n",
    "           (\"helping\", \"picky\"), \n",
    "           (\"idealistic\", \"hesitant\"), \n",
    "           (\"mysterious\", \"suspicious\"), \n",
    "            (\"insightful\", \"forgetful\"), \n",
    "           (\"excellent\", \"stubborn\"), \n",
    "           (\"original\", \"changeful\"), \n",
    "            (\"conscious\", \"recessive\")]\n",
    "\n",
    "dict1 = dict(zip(stars, traits))\n",
    "\n",
    "# 定義traits函數，函數內容包括: \n",
    "# 年齡\n",
    "# 生肖查詢\n",
    "# 使用上述字典根據星座找尋個性\n",
    "def traits(birth):\n",
    "    ymd=birth.split(\",\")\n",
    "    year = ymd[0]\n",
    "    month=ymd[1]\n",
    "    date=ymd[2]\n",
    "    year = int(year)\n",
    "    month = int(month)\n",
    "    date = int(date)\n",
    "    #年齡\n",
    "    age = 2019 - year\n",
    "    \n",
    "    if (month == 3 and date >= 21) or (month == 4 and date <= 19):\n",
    "        star =  \"Aries\"\n",
    "    elif (month == 4 and date >= 20) or (month == 5 and date <= 20):\n",
    "        star =  \"Taurus\"\n",
    "    elif (month == 5 and date >= 21) or (month == 6 and date <= 21):\n",
    "        star =  \"Gemini\"\n",
    "    elif (month == 6 and date >= 22) or (month == 7 and date <= 22):\n",
    "        star =  \"Cancer\"\n",
    "    elif (month == 7 and date >= 23) or (month == 8 and date <= 22):\n",
    "        star =   \"Leo\"\n",
    "    elif (month == 8 and date >= 23) or (month == 9 and date <= 22):\n",
    "        star =  \"Virgo\"\n",
    "    elif (month == 9 and date >= 23) or (month == 10 and date <= 23):\n",
    "        star =  \"Libra\"\n",
    "    elif (month == 10 and date >= 24) or (month == 11 and date <= 22):\n",
    "        star =  \"Scorpio\"\n",
    "    elif (month == 11 and date >= 23) or (month == 12 and date <= 21):\n",
    "        star =  \"Sagittarius\"\n",
    "    elif (month == 12 and date >= 22) or (month == 1 and date <= 29):\n",
    "        star = \"Capricorn\"\n",
    "    elif (month == 1 and date >= 20) or (month == 2 and date <= 18):\n",
    "        star = \"Aquarius\"\n",
    "    else:\n",
    "        star =  \"Pisces\"\n",
    "    \n",
    "    # 生肖查詢\n",
    "    animal = ['鼠', '牛', '虎', '兔', '龍', '蛇', '馬', '羊', '猴', '雞', '狗','豬']\n",
    "    number = [1, 2, 3, 4, 5,6,7,8,9,10,11,0]\n",
    "    data = zip(number, animal)\n",
    "    dict_z = dict(data)\n",
    "    zodiac_n = (year-1911) % 12\n",
    "        \n",
    "    return age, star, dict_z[zodiac_n], dict1[star]\n",
    "\n",
    "#使用結果，特別做了一個input功能，讓不同使用者輸入查詢\n",
    "y_m_d = input(\"您好, 請按「年,月,日」格式輸入您的生日: \")\n",
    "birth = traits(y_m_d)\n",
    "print(\"age\", birth[0])\n",
    "print( \"star\", birth[1])\n",
    "print(\"zodiac\", birth[2])\n",
    "print(\"trait\", birth[3])"
   ]
  }
 ],
 "metadata": {
  "anaconda-cloud": {},
  "kernelspec": {
   "display_name": "Python 3",
   "language": "python",
   "name": "python3"
  },
  "language_info": {
   "codemirror_mode": {
    "name": "ipython",
    "version": 3
   },
   "file_extension": ".py",
   "mimetype": "text/x-python",
   "name": "python",
   "nbconvert_exporter": "python",
   "pygments_lexer": "ipython3",
   "version": "3.7.3"
  }
 },
 "nbformat": 4,
 "nbformat_minor": 1
}
