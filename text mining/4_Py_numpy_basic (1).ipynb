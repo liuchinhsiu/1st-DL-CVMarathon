{
 "cells": [
  {
   "cell_type": "markdown",
   "metadata": {},
   "source": [
    "# Numpy Basic"
   ]
  },
  {
   "cell_type": "markdown",
   "metadata": {},
   "source": [
    "* Numpy 是處理 Array 的常用模組。\n",
    "* Array 是多維的陣列(list)，Numpy 有各種針對Array的數學計算功能，補強 python 的不足，例如平均值、變異數或矩陣運算等。\n",
    "* 安裝 Anaconda 後就會自動安裝 numpy, 不需另行安裝。"
   ]
  },
  {
   "cell_type": "code",
   "execution_count": 1,
   "metadata": {
    "scrolled": true
   },
   "outputs": [],
   "source": [
    "# 把模組叫進來。\n",
    "import numpy as np\n",
    "path='d:/My Python/'    # 資料庫儲存的位置"
   ]
  },
  {
   "cell_type": "code",
   "execution_count": 1,
   "metadata": {},
   "outputs": [],
   "source": [
    "import numpy as np\n",
    "path = 'C:/Users/HSIU/Desktop/108-1/python_ntu'"
   ]
  },
  {
   "cell_type": "markdown",
   "metadata": {},
   "source": [
    "# np.array() 製作一個 array"
   ]
  },
  {
   "cell_type": "markdown",
   "metadata": {},
   "source": [
    "## from List to np.array"
   ]
  },
  {
   "cell_type": "code",
   "execution_count": 2,
   "metadata": {
    "scrolled": true
   },
   "outputs": [
    {
     "name": "stdout",
     "output_type": "stream",
     "text": [
      "<class 'numpy.ndarray'>\n"
     ]
    },
    {
     "data": {
      "text/plain": [
       "array([1, 2, 3, 4, 5])"
      ]
     },
     "execution_count": 2,
     "metadata": {},
     "output_type": "execute_result"
    }
   ],
   "source": [
    "# 一個維度\n",
    "a1=[1, 2, 3, 4, 5]\n",
    "a = np.array(a1)  # list 轉為 array\n",
    "print (type(a))\n",
    "a"
   ]
  },
  {
   "cell_type": "code",
   "execution_count": 3,
   "metadata": {},
   "outputs": [
    {
     "name": "stdout",
     "output_type": "stream",
     "text": [
      "1\n",
      "2\n"
     ]
    }
   ],
   "source": [
    "# 印出第一個與第二個元素\n",
    "print (a[0])\n",
    "print (a[1])"
   ]
  },
  {
   "cell_type": "markdown",
   "metadata": {},
   "source": [
    "## from np.array to List"
   ]
  },
  {
   "cell_type": "code",
   "execution_count": 4,
   "metadata": {},
   "outputs": [
    {
     "name": "stdout",
     "output_type": "stream",
     "text": [
      "<class 'list'>\n"
     ]
    },
    {
     "data": {
      "text/plain": [
       "[1, 2, 3, 4, 5]"
      ]
     },
     "execution_count": 4,
     "metadata": {},
     "output_type": "execute_result"
    }
   ],
   "source": [
    "# numpy array 直接轉換為 list\n",
    "b=list(a)\n",
    "print (type(b))\n",
    "b"
   ]
  },
  {
   "cell_type": "markdown",
   "metadata": {},
   "source": [
    "## np.linspace(,,) 產生等距的數列 "
   ]
  },
  {
   "cell_type": "code",
   "execution_count": 5,
   "metadata": {
    "scrolled": true
   },
   "outputs": [
    {
     "name": "stdout",
     "output_type": "stream",
     "text": [
      "5\n",
      "<class 'numpy.ndarray'>\n",
      "[ 0.   2.5  5.   7.5 10. ]\n"
     ]
    }
   ],
   "source": [
    "# 從 0 到 10，5個元素，\n",
    "a= np.linspace(0,10,5)  \n",
    "print (len(a))\n",
    "print (type(a))\n",
    "print (a)"
   ]
  },
  {
   "cell_type": "code",
   "execution_count": 6,
   "metadata": {},
   "outputs": [
    {
     "name": "stdout",
     "output_type": "stream",
     "text": [
      "0.0\n",
      "2.5\n",
      "5.0\n",
      "7.5\n",
      "10.0\n"
     ]
    }
   ],
   "source": [
    "# 逐一印出檢查一下\n",
    "for i in a:\n",
    "    print (i)"
   ]
  },
  {
   "cell_type": "code",
   "execution_count": 7,
   "metadata": {},
   "outputs": [
    {
     "data": {
      "text/plain": [
       "[0.0, 2.5, 5.0, 7.5, 10.0]"
      ]
     },
     "execution_count": 7,
     "metadata": {},
     "output_type": "execute_result"
    }
   ],
   "source": [
    "# 存成 list \n",
    "num=list(a)\n",
    "num"
   ]
  },
  {
   "cell_type": "markdown",
   "metadata": {},
   "source": [
    "## np.arange() 依一定間距，產生數列"
   ]
  },
  {
   "cell_type": "code",
   "execution_count": 8,
   "metadata": {
    "scrolled": false
   },
   "outputs": [
    {
     "name": "stdout",
     "output_type": "stream",
     "text": [
      "5\n",
      "<class 'numpy.ndarray'>\n",
      "[0, 2, 4, 6, 8]\n"
     ]
    }
   ],
   "source": [
    "# 從 0 到 10，間距為 2，\n",
    "c=np.arange(0,10,2)      # define interval\n",
    "print (len(c))\n",
    "print (type(c))\n",
    "print (list(c))   # 轉成 list"
   ]
  },
  {
   "cell_type": "markdown",
   "metadata": {},
   "source": [
    "## 比較 range() 與 np.arrange()\n",
    "* 與 np.arrange() 類同"
   ]
  },
  {
   "cell_type": "code",
   "execution_count": 9,
   "metadata": {},
   "outputs": [
    {
     "name": "stdout",
     "output_type": "stream",
     "text": [
      "[0, 2, 4, 6, 8]\n"
     ]
    }
   ],
   "source": [
    "c2=range(0,10,2)\n",
    "print (list(c2))   # 轉成 list"
   ]
  },
  {
   "cell_type": "markdown",
   "metadata": {},
   "source": [
    "# 多維度的 array"
   ]
  },
  {
   "cell_type": "code",
   "execution_count": 10,
   "metadata": {
    "scrolled": false
   },
   "outputs": [
    {
     "data": {
      "text/plain": [
       "array([[ 1,  2,  3,  4,  5],\n",
       "       [ 6,  7,  8,  9, 10],\n",
       "       [11, 12, 13, 14, 15]])"
      ]
     },
     "execution_count": 10,
     "metadata": {},
     "output_type": "execute_result"
    }
   ],
   "source": [
    "# 兩個維度\n",
    "a1=[1,2,3,4,5]\n",
    "a2=[6,7,8,9,10]\n",
    "a3=[11,12,13,14,15]\n",
    "a = np.array([a1,a2,a3])   \n",
    "a"
   ]
  },
  {
   "cell_type": "code",
   "execution_count": 2,
   "metadata": {},
   "outputs": [
    {
     "data": {
      "text/plain": [
       "array([[ 1,  2,  3,  4,  5],\n",
       "       [ 6,  7,  8,  9, 10],\n",
       "       [11, 12, 13, 14, 15]])"
      ]
     },
     "execution_count": 2,
     "metadata": {},
     "output_type": "execute_result"
    }
   ],
   "source": [
    "a1=[1,2,3,4,5]\n",
    "a2=[6,7,8,9,10]\n",
    "a3=[11,12,13,14,15]\n",
    "a = np.array([a1, a2, a3])\n",
    "a"
   ]
  },
  {
   "cell_type": "code",
   "execution_count": 11,
   "metadata": {},
   "outputs": [
    {
     "name": "stdout",
     "output_type": "stream",
     "text": [
      "[array([1, 2, 3, 4, 5]), array([ 6,  7,  8,  9, 10]), array([11, 12, 13, 14, 15])]\n"
     ]
    }
   ],
   "source": [
    "# 直接轉 list 會變成這樣\n",
    "print (list(a))"
   ]
  },
  {
   "cell_type": "code",
   "execution_count": 12,
   "metadata": {},
   "outputs": [
    {
     "name": "stdout",
     "output_type": "stream",
     "text": [
      "[[1, 2, 3, 4, 5], [6, 7, 8, 9, 10], [11, 12, 13, 14, 15]]\n"
     ]
    }
   ],
   "source": [
    "# 轉為我們熟悉的 list 格式\n",
    "print ([list(a[0]),list(a[1]),list(a[2])])"
   ]
  },
  {
   "cell_type": "code",
   "execution_count": 4,
   "metadata": {},
   "outputs": [
    {
     "name": "stdout",
     "output_type": "stream",
     "text": [
      "[[1, 2, 3, 4, 5], [6, 7, 8, 9, 10], [11, 12, 13, 14, 15]]\n"
     ]
    }
   ],
   "source": [
    "print([list(a[0]), list(a[1]), list(a[2])])"
   ]
  },
  {
   "cell_type": "markdown",
   "metadata": {},
   "source": [
    "## reshape() 由一維變為多維"
   ]
  },
  {
   "cell_type": "code",
   "execution_count": 13,
   "metadata": {
    "scrolled": true
   },
   "outputs": [
    {
     "data": {
      "text/plain": [
       "array([[ 0,  1,  2,  3,  4],\n",
       "       [ 5,  6,  7,  8,  9],\n",
       "       [10, 11, 12, 13, 14]])"
      ]
     },
     "execution_count": 13,
     "metadata": {},
     "output_type": "execute_result"
    }
   ],
   "source": [
    "# 變成兩維的陣列，前者為第一層，後者為第二層\n",
    "# 注意個數必須一致，3*5=15，否則會出現 error\n",
    "a = np.arange(15).reshape(3, 5)\n",
    "a"
   ]
  },
  {
   "cell_type": "code",
   "execution_count": 6,
   "metadata": {},
   "outputs": [
    {
     "data": {
      "text/plain": [
       "array([[ 0,  1,  2,  3,  4],\n",
       "       [ 5,  6,  7,  8,  9],\n",
       "       [10, 11, 12, 13, 14]])"
      ]
     },
     "execution_count": 6,
     "metadata": {},
     "output_type": "execute_result"
    }
   ],
   "source": [
    "a = np.arange(15).reshape(3, 5)\n",
    "a"
   ]
  },
  {
   "cell_type": "code",
   "execution_count": 8,
   "metadata": {
    "scrolled": false
   },
   "outputs": [
    {
     "name": "stdout",
     "output_type": "stream",
     "text": [
      "[0 1 2 3 4]\n",
      "[0 1 2 3 4]\n",
      "7\n"
     ]
    }
   ],
   "source": [
    "# 用 index 篩選\n",
    "print (a[0])\n",
    "print (a[0][:])   # 冒號代表全部\n",
    "# row 1, column 2，注意從 0 開始啟算 \n",
    "# 讀取某個元素的值\n",
    "print (a[1][2])"
   ]
  },
  {
   "cell_type": "markdown",
   "metadata": {},
   "source": [
    "## np.ones() 元素均為 1 的 array"
   ]
  },
  {
   "cell_type": "code",
   "execution_count": 15,
   "metadata": {
    "scrolled": true
   },
   "outputs": [
    {
     "data": {
      "text/plain": [
       "array([[1., 1., 1., 1., 1.],\n",
       "       [1., 1., 1., 1., 1.],\n",
       "       [1., 1., 1., 1., 1.],\n",
       "       [1., 1., 1., 1., 1.]])"
      ]
     },
     "execution_count": 15,
     "metadata": {},
     "output_type": "execute_result"
    }
   ],
   "source": [
    "# 兩層的 array\n",
    "b = np.ones((4,5))   # Create an array of all ones\n",
    "b"
   ]
  },
  {
   "cell_type": "markdown",
   "metadata": {},
   "source": [
    "## np.zeros() 元素均為 0 的 array"
   ]
  },
  {
   "cell_type": "code",
   "execution_count": 16,
   "metadata": {},
   "outputs": [
    {
     "data": {
      "text/plain": [
       "array([[0., 0., 0., 0., 0.],\n",
       "       [0., 0., 0., 0., 0.],\n",
       "       [0., 0., 0., 0., 0.],\n",
       "       [0., 0., 0., 0., 0.]])"
      ]
     },
     "execution_count": 16,
     "metadata": {},
     "output_type": "execute_result"
    }
   ],
   "source": [
    "# 兩層的 array\n",
    "b = np.zeros((4,5))   # Create an array of all ones\n",
    "b"
   ]
  },
  {
   "cell_type": "markdown",
   "metadata": {},
   "source": [
    "## 改變array中某個元素值"
   ]
  },
  {
   "cell_type": "code",
   "execution_count": 17,
   "metadata": {},
   "outputs": [
    {
     "data": {
      "text/plain": [
       "array([[  0.,   0.,   0.,   0.,   0.],\n",
       "       [  0.,   0., 100.,   0.,   0.],\n",
       "       [  0.,   0.,   0.,   0.,   0.],\n",
       "       [  0.,   0.,   0.,   0.,   0.]])"
      ]
     },
     "execution_count": 17,
     "metadata": {},
     "output_type": "execute_result"
    }
   ],
   "source": [
    "b[1][2]=100\n",
    "b"
   ]
  },
  {
   "cell_type": "markdown",
   "metadata": {},
   "source": [
    "# 隨機抽樣\n",
    "* https://docs.scipy.org/doc/numpy-1.13.0/reference/routines.random.html"
   ]
  },
  {
   "cell_type": "markdown",
   "metadata": {},
   "source": [
    "## np.random.random(n) 從0到1隨機抽樣，抽n個"
   ]
  },
  {
   "cell_type": "code",
   "execution_count": 18,
   "metadata": {},
   "outputs": [
    {
     "data": {
      "text/plain": [
       "array([0.65930089, 0.54018644, 0.25015378, 0.93686268, 0.58961866,\n",
       "       0.15653505, 0.43180047, 0.86921536, 0.51402601, 0.75190345])"
      ]
     },
     "execution_count": 18,
     "metadata": {},
     "output_type": "execute_result"
    }
   ],
   "source": [
    "# 一個維度，隨機取 n 個，機率都一樣\n",
    "e = np.random.random(10)  # np.random為一模組\n",
    "e"
   ]
  },
  {
   "cell_type": "code",
   "execution_count": 19,
   "metadata": {
    "scrolled": true
   },
   "outputs": [
    {
     "data": {
      "text/plain": [
       "array([[0.38510098, 0.47425708, 0.28755815, 0.51700124, 0.29125459],\n",
       "       [0.0588957 , 0.51902222, 0.30806312, 0.35678676, 0.04957358],\n",
       "       [0.4594658 , 0.67383264, 0.74009678, 0.49339211, 0.35933947],\n",
       "       [0.61099088, 0.51118186, 0.91199767, 0.1942769 , 0.54126483]])"
      ]
     },
     "execution_count": 19,
     "metadata": {},
     "output_type": "execute_result"
    }
   ],
   "source": [
    "# 兩個維度\n",
    "# 0~1 常態分布抽樣，隨機值，第一層四個元素，第二層五個元素\n",
    "e = np.random.random((4,5)) \n",
    "e"
   ]
  },
  {
   "cell_type": "markdown",
   "metadata": {},
   "source": [
    "## np.random.randint(n,m,k) 整數隨機抽樣，從n到m抽k個"
   ]
  },
  {
   "cell_type": "code",
   "execution_count": 20,
   "metadata": {},
   "outputs": [
    {
     "data": {
      "text/plain": [
       "array([4, 8, 7, 4, 8, 2, 3, 1, 7, 9])"
      ]
     },
     "execution_count": 20,
     "metadata": {},
     "output_type": "execute_result"
    }
   ],
   "source": [
    "# 整數隨機抽樣，從n到m抽k個\n",
    "e = np.random.randint(1,10,10) \n",
    "e"
   ]
  },
  {
   "cell_type": "markdown",
   "metadata": {},
   "source": [
    "## np.random.standard_normal(n) 標準常態分佈抽 n 個"
   ]
  },
  {
   "cell_type": "code",
   "execution_count": 21,
   "metadata": {},
   "outputs": [
    {
     "data": {
      "text/plain": [
       "array([-0.37511405,  1.4084211 ,  1.76945806, -0.1615309 ,  0.06162014,\n",
       "        0.96928469,  1.51467059,  1.96233511, -1.28168525,  0.34130373])"
      ]
     },
     "execution_count": 21,
     "metadata": {},
     "output_type": "execute_result"
    }
   ],
   "source": [
    "#  標準常態分佈抽 n 個\n",
    "e = np.random.standard_normal(10) \n",
    "e"
   ]
  },
  {
   "cell_type": "markdown",
   "metadata": {},
   "source": [
    "## np.random.normal(u,s,n) 常態分佈，平均值 u, 標準差 s，抽 n 個"
   ]
  },
  {
   "cell_type": "code",
   "execution_count": 22,
   "metadata": {},
   "outputs": [
    {
     "data": {
      "text/plain": [
       "array([57.60727401, 51.50733385, 56.95165948, 57.54406023, 45.91063495,\n",
       "       66.52335826, 65.41797036, 61.7007907 , 59.84830894, 54.54122919])"
      ]
     },
     "execution_count": 22,
     "metadata": {},
     "output_type": "execute_result"
    }
   ],
   "source": [
    "# 常態分佈，平均值 u, 標準差 s，抽 n 個\n",
    "# u=60，s= 7，n= 10\n",
    "# normal()\n",
    "e = np.random.normal(60,7,10) \n",
    "e"
   ]
  },
  {
   "cell_type": "markdown",
   "metadata": {
    "collapsed": true
   },
   "source": [
    "## np.random.uniform(a,b,n) 均等分佈，從a到b，抽 n 個"
   ]
  },
  {
   "cell_type": "code",
   "execution_count": 23,
   "metadata": {},
   "outputs": [
    {
     "data": {
      "text/plain": [
       "array([2.91029701, 9.66137317, 4.28305531, 1.85592339, 5.43902654,\n",
       "       4.61350149, 3.31403693, 7.82537345, 6.92343442, 4.05248809])"
      ]
     },
     "execution_count": 23,
     "metadata": {},
     "output_type": "execute_result"
    }
   ],
   "source": [
    "# 均等分佈，從a到b，抽 n 個\n",
    "# a=1, b=10, n=10\n",
    "e = np.random.uniform(1,10,10)\n",
    "e"
   ]
  },
  {
   "cell_type": "markdown",
   "metadata": {},
   "source": [
    "## .vstack([a,b]) 垂直合併"
   ]
  },
  {
   "cell_type": "code",
   "execution_count": 24,
   "metadata": {
    "scrolled": true
   },
   "outputs": [
    {
     "data": {
      "text/plain": [
       "array([[1., 1., 1., 1., 1.],\n",
       "       [1., 1., 1., 1., 1.],\n",
       "       [1., 1., 1., 1., 1.],\n",
       "       [1., 1., 1., 1., 1.],\n",
       "       [0., 0., 0., 0., 0.],\n",
       "       [0., 0., 0., 0., 0.],\n",
       "       [0., 0., 0., 0., 0.],\n",
       "       [0., 0., 0., 0., 0.]])"
      ]
     },
     "execution_count": 24,
     "metadata": {},
     "output_type": "execute_result"
    }
   ],
   "source": [
    "# 垂值合併\n",
    "a = np.ones((4,5))   # 隨機選取常態分佈值  \n",
    "b = np.zeros((4,5))   # 隨機選取常態分佈值\n",
    "c=np.vstack([a,b])\n",
    "c"
   ]
  },
  {
   "cell_type": "code",
   "execution_count": 11,
   "metadata": {},
   "outputs": [
    {
     "data": {
      "text/plain": [
       "array([[1., 1., 1., 1., 1.],\n",
       "       [1., 1., 1., 1., 1.],\n",
       "       [1., 1., 1., 1., 1.],\n",
       "       [1., 1., 1., 1., 1.],\n",
       "       [0., 0., 0., 0., 0.],\n",
       "       [0., 0., 0., 0., 0.],\n",
       "       [0., 0., 0., 0., 0.],\n",
       "       [0., 0., 0., 0., 0.]])"
      ]
     },
     "execution_count": 11,
     "metadata": {},
     "output_type": "execute_result"
    }
   ],
   "source": [
    "a = np.ones((4, 5))\n",
    "b = np.zeros((4, 5))\n",
    "c = np.vstack([a, b])\n",
    "c"
   ]
  },
  {
   "cell_type": "markdown",
   "metadata": {},
   "source": [
    "##  .htack([a,b]) 水平合併"
   ]
  },
  {
   "cell_type": "code",
   "execution_count": 25,
   "metadata": {
    "scrolled": true
   },
   "outputs": [
    {
     "data": {
      "text/plain": [
       "array([[1., 1., 1., 1., 1., 0., 0., 0., 0., 0.],\n",
       "       [1., 1., 1., 1., 1., 0., 0., 0., 0., 0.],\n",
       "       [1., 1., 1., 1., 1., 0., 0., 0., 0., 0.],\n",
       "       [1., 1., 1., 1., 1., 0., 0., 0., 0., 0.]])"
      ]
     },
     "execution_count": 25,
     "metadata": {},
     "output_type": "execute_result"
    }
   ],
   "source": [
    "# 水平合併\n",
    "d=np.hstack([a,b])\n",
    "d"
   ]
  },
  {
   "cell_type": "code",
   "execution_count": 26,
   "metadata": {},
   "outputs": [
    {
     "name": "stdout",
     "output_type": "stream",
     "text": [
      "something wrong, numbers not match\n"
     ]
    }
   ],
   "source": [
    "## 如果維度不對，則出現錯誤訊息（4,4) (2,8)\n",
    "import sys\n",
    "try:\n",
    "    e=np.hstack([c,d])\n",
    "    e\n",
    "except:\n",
    "    print ('something wrong, numbers not match')"
   ]
  },
  {
   "cell_type": "code",
   "execution_count": 12,
   "metadata": {},
   "outputs": [
    {
     "name": "stdout",
     "output_type": "stream",
     "text": [
      "something wrong, numbers not match\n"
     ]
    }
   ],
   "source": [
    "import sys\n",
    "try:\n",
    "    e = np.hstack([c, d])\n",
    "    e\n",
    "except:\n",
    "    print('something wrong, numbers not match')"
   ]
  },
  {
   "cell_type": "markdown",
   "metadata": {},
   "source": [
    "# 練習__\n",
    "* 擲骰子，一次擲三個，計算點數總和。總共擲100次，記錄每次擲的點數。"
   ]
  },
  {
   "cell_type": "code",
   "execution_count": 16,
   "metadata": {},
   "outputs": [
    {
     "name": "stdout",
     "output_type": "stream",
     "text": [
      "[2 4 1]\n",
      "[3 1 5]\n"
     ]
    }
   ],
   "source": [
    "a=np.random.randint(1,6,3)\n",
    "for i in range(49): #只有49次，不是從0開始計算\n",
    "    c=np.random.randint(1,7,3)\n",
    "    #print(c)\n",
    "    # 垂直往下加\n",
    "    a=np.vstack([a,c])\n",
    "a  "
   ]
  },
  {
   "cell_type": "code",
   "execution_count": 48,
   "metadata": {},
   "outputs": [
    {
     "data": {
      "text/plain": [
       "array([[1, 1, 1],\n",
       "       [5, 6, 2],\n",
       "       [3, 4, 5],\n",
       "       [3, 5, 5],\n",
       "       [5, 1, 2],\n",
       "       [4, 2, 1],\n",
       "       [6, 6, 3],\n",
       "       [6, 1, 1],\n",
       "       [4, 6, 6],\n",
       "       [3, 6, 6],\n",
       "       [3, 1, 3],\n",
       "       [4, 1, 1],\n",
       "       [4, 2, 3],\n",
       "       [4, 2, 5],\n",
       "       [1, 6, 4],\n",
       "       [5, 1, 6],\n",
       "       [3, 4, 2],\n",
       "       [4, 6, 1],\n",
       "       [6, 2, 1],\n",
       "       [4, 4, 5],\n",
       "       [2, 6, 1],\n",
       "       [3, 3, 3],\n",
       "       [6, 4, 5],\n",
       "       [6, 3, 1],\n",
       "       [3, 1, 5],\n",
       "       [2, 2, 2],\n",
       "       [6, 3, 4],\n",
       "       [2, 2, 6],\n",
       "       [5, 3, 3],\n",
       "       [2, 6, 5],\n",
       "       [5, 2, 1],\n",
       "       [6, 3, 4],\n",
       "       [2, 2, 3],\n",
       "       [3, 6, 1],\n",
       "       [4, 6, 4],\n",
       "       [6, 6, 2],\n",
       "       [2, 1, 5],\n",
       "       [6, 5, 2],\n",
       "       [2, 1, 2],\n",
       "       [4, 3, 4],\n",
       "       [4, 3, 1],\n",
       "       [4, 5, 4],\n",
       "       [4, 3, 2],\n",
       "       [4, 4, 5],\n",
       "       [2, 5, 4],\n",
       "       [4, 6, 3],\n",
       "       [2, 5, 3],\n",
       "       [4, 4, 6],\n",
       "       [4, 4, 4],\n",
       "       [6, 5, 3]])"
      ]
     },
     "execution_count": 48,
     "metadata": {},
     "output_type": "execute_result"
    }
   ],
   "source": [
    "a = np.random.randint(1, 7, 3)\n",
    "for i in range(49):\n",
    "    c = np.random.randint(1, 7, 3)\n",
    "    a = np.vstack([a, c])\n",
    "a"
   ]
  },
  {
   "cell_type": "markdown",
   "metadata": {},
   "source": [
    "## 顯示array 的資訊 .dtype, .shape,  .ndim, .size"
   ]
  },
  {
   "cell_type": "code",
   "execution_count": 28,
   "metadata": {},
   "outputs": [
    {
     "data": {
      "text/plain": [
       "dtype('int32')"
      ]
     },
     "execution_count": 28,
     "metadata": {},
     "output_type": "execute_result"
    }
   ],
   "source": [
    "a.dtype # 元素型態"
   ]
  },
  {
   "cell_type": "code",
   "execution_count": 19,
   "metadata": {},
   "outputs": [
    {
     "data": {
      "text/plain": [
       "dtype('int32')"
      ]
     },
     "execution_count": 19,
     "metadata": {},
     "output_type": "execute_result"
    }
   ],
   "source": [
    "a.dtype"
   ]
  },
  {
   "cell_type": "code",
   "execution_count": 29,
   "metadata": {},
   "outputs": [
    {
     "data": {
      "text/plain": [
       "2"
      ]
     },
     "execution_count": 29,
     "metadata": {},
     "output_type": "execute_result"
    }
   ],
   "source": [
    "a.ndim  #  dimention #維度"
   ]
  },
  {
   "cell_type": "code",
   "execution_count": 20,
   "metadata": {},
   "outputs": [
    {
     "data": {
      "text/plain": [
       "2"
      ]
     },
     "execution_count": 20,
     "metadata": {},
     "output_type": "execute_result"
    }
   ],
   "source": [
    "a.ndim"
   ]
  },
  {
   "cell_type": "code",
   "execution_count": 30,
   "metadata": {},
   "outputs": [
    {
     "data": {
      "text/plain": [
       "(50, 3)"
      ]
     },
     "execution_count": 30,
     "metadata": {},
     "output_type": "execute_result"
    }
   ],
   "source": [
    "a.shape  # rows, columns"
   ]
  },
  {
   "cell_type": "code",
   "execution_count": 21,
   "metadata": {},
   "outputs": [
    {
     "data": {
      "text/plain": [
       "(50, 3)"
      ]
     },
     "execution_count": 21,
     "metadata": {},
     "output_type": "execute_result"
    }
   ],
   "source": [
    "a.shape"
   ]
  },
  {
   "cell_type": "code",
   "execution_count": 31,
   "metadata": {
    "scrolled": true
   },
   "outputs": [
    {
     "data": {
      "text/plain": [
       "150"
      ]
     },
     "execution_count": 31,
     "metadata": {},
     "output_type": "execute_result"
    }
   ],
   "source": [
    "a.size  # 總共元素個數"
   ]
  },
  {
   "cell_type": "code",
   "execution_count": 22,
   "metadata": {},
   "outputs": [
    {
     "data": {
      "text/plain": [
       "150"
      ]
     },
     "execution_count": 22,
     "metadata": {},
     "output_type": "execute_result"
    }
   ],
   "source": [
    "a.size"
   ]
  },
  {
   "cell_type": "markdown",
   "metadata": {},
   "source": [
    "# indexing and slicing of array elements"
   ]
  },
  {
   "cell_type": "code",
   "execution_count": 32,
   "metadata": {
    "scrolled": true
   },
   "outputs": [
    {
     "name": "stdout",
     "output_type": "stream",
     "text": [
      "50\n"
     ]
    },
    {
     "data": {
      "text/plain": [
       "array([4, 4, 5, 1, 2, 4, 6, 3, 6, 2, 4, 3, 1, 2, 4, 5, 6, 5, 5, 6, 1, 1,\n",
       "       1, 6, 2, 5, 3, 1, 6, 3, 5, 1, 4, 6, 6, 6, 1, 1, 5, 6, 4, 4, 4, 1,\n",
       "       3, 3, 2, 3, 5, 4])"
      ]
     },
     "execution_count": 32,
     "metadata": {},
     "output_type": "execute_result"
    }
   ],
   "source": [
    "print (len(a))\n",
    "# 每次擲骰子的第一個點數\n",
    "a[:,0]"
   ]
  },
  {
   "cell_type": "code",
   "execution_count": 33,
   "metadata": {},
   "outputs": [
    {
     "data": {
      "text/plain": [
       "array([5, 2, 4])"
      ]
     },
     "execution_count": 33,
     "metadata": {},
     "output_type": "execute_result"
    }
   ],
   "source": [
    "# 第三次擲骰子的點數\n",
    "a[2,:]"
   ]
  },
  {
   "cell_type": "code",
   "execution_count": 34,
   "metadata": {
    "scrolled": true
   },
   "outputs": [
    {
     "data": {
      "text/plain": [
       "array([4, 6, 2])"
      ]
     },
     "execution_count": 34,
     "metadata": {},
     "output_type": "execute_result"
    }
   ],
   "source": [
    "# 最後一次擲的骰子\n",
    "a[-1]"
   ]
  },
  {
   "cell_type": "markdown",
   "metadata": {},
   "source": [
    "## sort()"
   ]
  },
  {
   "cell_type": "code",
   "execution_count": 23,
   "metadata": {},
   "outputs": [
    {
     "data": {
      "text/plain": [
       "array([[1, 1, 1],\n",
       "       [1, 1, 1],\n",
       "       [1, 1, 1],\n",
       "       [1, 1, 1],\n",
       "       [1, 1, 1],\n",
       "       [1, 1, 1],\n",
       "       [1, 1, 1],\n",
       "       [1, 2, 1],\n",
       "       [1, 2, 1],\n",
       "       [1, 2, 2],\n",
       "       [1, 3, 2],\n",
       "       [1, 3, 2],\n",
       "       [2, 3, 2],\n",
       "       [2, 3, 2],\n",
       "       [2, 3, 2],\n",
       "       [2, 3, 2],\n",
       "       [2, 3, 2],\n",
       "       [2, 4, 2],\n",
       "       [2, 4, 2],\n",
       "       [3, 4, 3],\n",
       "       [3, 4, 3],\n",
       "       [3, 4, 3],\n",
       "       [4, 4, 3],\n",
       "       [4, 4, 3],\n",
       "       [4, 4, 4],\n",
       "       [4, 4, 4],\n",
       "       [4, 5, 4],\n",
       "       [4, 5, 4],\n",
       "       [4, 5, 4],\n",
       "       [4, 5, 4],\n",
       "       [4, 5, 4],\n",
       "       [4, 5, 4],\n",
       "       [4, 5, 4],\n",
       "       [4, 5, 4],\n",
       "       [5, 5, 4],\n",
       "       [5, 5, 4],\n",
       "       [5, 5, 5],\n",
       "       [5, 5, 5],\n",
       "       [5, 5, 5],\n",
       "       [5, 5, 5],\n",
       "       [6, 6, 5],\n",
       "       [6, 6, 5],\n",
       "       [6, 6, 5],\n",
       "       [6, 6, 5],\n",
       "       [6, 6, 5],\n",
       "       [6, 6, 6],\n",
       "       [6, 6, 6],\n",
       "       [6, 6, 6],\n",
       "       [6, 6, 6],\n",
       "       [6, 6, 6]])"
      ]
     },
     "execution_count": 23,
     "metadata": {},
     "output_type": "execute_result"
    }
   ],
   "source": [
    "# 各欄獨立，分別排序。第一個維度，各元素同樣位置的元素排序\n",
    "a0=np.sort(a, axis=0)  #拆開欄獨立\n",
    "a0"
   ]
  },
  {
   "cell_type": "code",
   "execution_count": 36,
   "metadata": {
    "scrolled": false
   },
   "outputs": [
    {
     "data": {
      "text/plain": [
       "array([[1, 2, 4],\n",
       "       [1, 4, 6],\n",
       "       [2, 4, 5],\n",
       "       [1, 3, 4],\n",
       "       [1, 2, 3],\n",
       "       [2, 4, 4],\n",
       "       [1, 4, 6],\n",
       "       [3, 5, 6],\n",
       "       [1, 3, 6],\n",
       "       [2, 5, 6],\n",
       "       [4, 5, 6],\n",
       "       [3, 3, 6],\n",
       "       [1, 2, 4],\n",
       "       [2, 2, 6],\n",
       "       [3, 3, 4],\n",
       "       [4, 5, 6],\n",
       "       [2, 4, 6],\n",
       "       [2, 5, 5],\n",
       "       [2, 3, 5],\n",
       "       [5, 5, 6],\n",
       "       [1, 3, 4],\n",
       "       [1, 1, 4],\n",
       "       [1, 1, 2],\n",
       "       [6, 6, 6],\n",
       "       [1, 2, 3],\n",
       "       [3, 5, 5],\n",
       "       [3, 4, 6],\n",
       "       [1, 3, 3],\n",
       "       [1, 6, 6],\n",
       "       [3, 3, 5],\n",
       "       [2, 3, 5],\n",
       "       [1, 3, 3],\n",
       "       [1, 4, 5],\n",
       "       [2, 4, 6],\n",
       "       [2, 4, 6],\n",
       "       [1, 2, 6],\n",
       "       [1, 2, 2],\n",
       "       [1, 5, 5],\n",
       "       [1, 2, 5],\n",
       "       [3, 5, 6],\n",
       "       [3, 4, 6],\n",
       "       [2, 4, 6],\n",
       "       [4, 4, 6],\n",
       "       [1, 1, 1],\n",
       "       [3, 3, 5],\n",
       "       [3, 4, 4],\n",
       "       [2, 2, 3],\n",
       "       [3, 4, 5],\n",
       "       [1, 5, 5],\n",
       "       [2, 4, 6]])"
      ]
     },
     "execution_count": 36,
     "metadata": {},
     "output_type": "execute_result"
    }
   ],
   "source": [
    "# 各列獨立，分別排序，第二個維度，各元素排序\n",
    "a1=np.sort(a, axis=1)   #各列獨立\n",
    "a1"
   ]
  },
  {
   "cell_type": "code",
   "execution_count": 37,
   "metadata": {},
   "outputs": [
    {
     "data": {
      "text/plain": [
       "array([1, 1, 1, 1, 1, 1, 1, 1, 1, 1, 1, 1, 1, 1, 1, 1, 1, 1, 1, 1, 1, 1,\n",
       "       1, 1, 1, 2, 2, 2, 2, 2, 2, 2, 2, 2, 2, 2, 2, 2, 2, 2, 2, 2, 2, 2,\n",
       "       2, 2, 2, 2, 2, 3, 3, 3, 3, 3, 3, 3, 3, 3, 3, 3, 3, 3, 3, 3, 3, 3,\n",
       "       3, 3, 3, 3, 3, 3, 3, 3, 3, 3, 4, 4, 4, 4, 4, 4, 4, 4, 4, 4, 4, 4,\n",
       "       4, 4, 4, 4, 4, 4, 4, 4, 4, 4, 4, 4, 4, 4, 5, 5, 5, 5, 5, 5, 5, 5,\n",
       "       5, 5, 5, 5, 5, 5, 5, 5, 5, 5, 5, 5, 5, 5, 5, 6, 6, 6, 6, 6, 6, 6,\n",
       "       6, 6, 6, 6, 6, 6, 6, 6, 6, 6, 6, 6, 6, 6, 6, 6, 6, 6])"
      ]
     },
     "execution_count": 37,
     "metadata": {},
     "output_type": "execute_result"
    }
   ],
   "source": [
    "# 所有元素值依大小排序\n",
    "a3=np.sort(a, axis=None)\n",
    "a3"
   ]
  },
  {
   "cell_type": "markdown",
   "metadata": {},
   "source": [
    "## 比較 擲骰子，存為list of list"
   ]
  },
  {
   "cell_type": "code",
   "execution_count": 38,
   "metadata": {},
   "outputs": [
    {
     "data": {
      "text/plain": [
       "[[5, 4, 6],\n",
       " [5, 6, 4],\n",
       " [4, 6, 6],\n",
       " [2, 1, 6],\n",
       " [5, 3, 3],\n",
       " [2, 4, 6],\n",
       " [6, 6, 3],\n",
       " [4, 5, 2],\n",
       " [6, 3, 1],\n",
       " [6, 1, 5]]"
      ]
     },
     "execution_count": 38,
     "metadata": {},
     "output_type": "execute_result"
    }
   ],
   "source": [
    "b=[]\n",
    "for i in range(49):\n",
    "    c=np.random.randint(1,7,3)\n",
    "    # 垂直往下加\n",
    "    b.append(list(c))\n",
    "b[:10]  "
   ]
  },
  {
   "cell_type": "code",
   "execution_count": 24,
   "metadata": {},
   "outputs": [
    {
     "data": {
      "text/plain": [
       "[array([4, 3, 1]),\n",
       " array([1, 4, 6]),\n",
       " array([2, 1, 3]),\n",
       " array([6, 4, 3]),\n",
       " array([3, 3, 2]),\n",
       " array([6, 1, 2]),\n",
       " array([1, 4, 6]),\n",
       " array([3, 1, 2]),\n",
       " array([1, 5, 3]),\n",
       " array([4, 1, 3])]"
      ]
     },
     "execution_count": 24,
     "metadata": {},
     "output_type": "execute_result"
    }
   ],
   "source": [
    "b = []\n",
    "for i in range(49):\n",
    "    c=np.random.randint(1, 7, 3)\n",
    "    b.append(c)\n",
    "b[:10]"
   ]
  },
  {
   "cell_type": "code",
   "execution_count": 39,
   "metadata": {},
   "outputs": [
    {
     "data": {
      "text/plain": [
       "[[1, 5, 6],\n",
       " [1, 6, 1],\n",
       " [1, 6, 6],\n",
       " [1, 4, 1],\n",
       " [1, 2, 5],\n",
       " [2, 1, 6],\n",
       " [2, 4, 6],\n",
       " [2, 2, 1],\n",
       " [2, 1, 2],\n",
       " [2, 2, 3]]"
      ]
     },
     "execution_count": 39,
     "metadata": {},
     "output_type": "execute_result"
    }
   ],
   "source": [
    "# 根據第一欄排序\n",
    "#比較list和array排序的差異\n",
    "b1=sorted(b,key=lambda x:x[0],reverse=False)\n",
    "b1[:10]"
   ]
  },
  {
   "cell_type": "code",
   "execution_count": 25,
   "metadata": {},
   "outputs": [
    {
     "data": {
      "text/plain": [
       "[array([1, 4, 6]),\n",
       " array([1, 4, 6]),\n",
       " array([1, 5, 3]),\n",
       " array([1, 3, 3]),\n",
       " array([1, 2, 4]),\n",
       " array([1, 3, 6]),\n",
       " array([1, 5, 2]),\n",
       " array([1, 6, 3]),\n",
       " array([2, 1, 3]),\n",
       " array([2, 1, 5])]"
      ]
     },
     "execution_count": 25,
     "metadata": {},
     "output_type": "execute_result"
    }
   ],
   "source": [
    "b1= sorted(b, key = lambda x:x[0], reverse = False)\n",
    "b1[:10]"
   ]
  },
  {
   "cell_type": "code",
   "execution_count": 40,
   "metadata": {},
   "outputs": [
    {
     "data": {
      "text/plain": [
       "[[2, 1, 6],\n",
       " [6, 1, 5],\n",
       " [5, 1, 5],\n",
       " [2, 1, 2],\n",
       " [5, 1, 2],\n",
       " [6, 1, 2],\n",
       " [4, 1, 3],\n",
       " [5, 1, 2],\n",
       " [6, 1, 6],\n",
       " [3, 1, 6]]"
      ]
     },
     "execution_count": 40,
     "metadata": {},
     "output_type": "execute_result"
    }
   ],
   "source": [
    "# 根據第二欄排序\n",
    "b2=sorted(b,key=lambda x:x[1],reverse=False)\n",
    "b2[:10]  #在array中，排序是以\"維度\"來看，會打掉原本的組合，而list中的排序則是以欄的位置來看"
   ]
  },
  {
   "cell_type": "markdown",
   "metadata": {},
   "source": [
    "## 篩選 numpy array"
   ]
  },
  {
   "cell_type": "code",
   "execution_count": 41,
   "metadata": {
    "scrolled": true
   },
   "outputs": [
    {
     "data": {
      "text/plain": [
       "array([6, 6, 6, 6, 6, 6, 6, 6, 6, 6, 6, 6, 6, 6, 6, 6, 6, 6, 6, 6, 6, 6,\n",
       "       6, 6, 6])"
      ]
     },
     "execution_count": 41,
     "metadata": {},
     "output_type": "execute_result"
    }
   ],
   "source": [
    "# 大於 10 的 array\n",
    "b=(a[a > 5])\n",
    "b"
   ]
  },
  {
   "cell_type": "markdown",
   "metadata": {},
   "source": [
    "## 數學函數 sum(), cumsum(), average(), std()\n",
    "* 數學函數 https://docs.scipy.org/doc/numpy/reference/routines.math.html "
   ]
  },
  {
   "cell_type": "code",
   "execution_count": 42,
   "metadata": {
    "scrolled": true
   },
   "outputs": [
    {
     "name": "stdout",
     "output_type": "stream",
     "text": [
      "1\n",
      "6\n"
     ]
    }
   ],
   "source": [
    "# 最大值最小值\n",
    "print (np.min(a))\n",
    "print (np.max(a))"
   ]
  },
  {
   "cell_type": "code",
   "execution_count": 67,
   "metadata": {
    "scrolled": true
   },
   "outputs": [
    {
     "name": "stdout",
     "output_type": "stream",
     "text": [
      "[[4 2 1]\n",
      " [4 6 1]\n",
      " [5 2 4]\n",
      " [1 4 3]\n",
      " [2 1 3]\n",
      " [4 4 2]\n",
      " [6 4 1]\n",
      " [3 6 5]\n",
      " [6 3 1]\n",
      " [2 5 6]\n",
      " [4 5 6]\n",
      " [3 3 6]\n",
      " [1 4 2]\n",
      " [2 2 6]\n",
      " [4 3 3]\n",
      " [5 4 6]\n",
      " [6 2 4]\n",
      " [5 5 2]\n",
      " [5 3 2]\n",
      " [6 5 5]\n",
      " [1 4 3]\n",
      " [1 4 1]\n",
      " [1 1 2]\n",
      " [6 6 6]\n",
      " [2 1 3]\n",
      " [5 5 3]\n",
      " [3 6 4]\n",
      " [1 3 3]\n",
      " [6 6 1]\n",
      " [3 5 3]\n",
      " [5 2 3]\n",
      " [1 3 3]\n",
      " [4 1 5]\n",
      " [6 4 2]\n",
      " [6 4 2]\n",
      " [6 1 2]\n",
      " [1 2 2]\n",
      " [1 5 5]\n",
      " [5 2 1]\n",
      " [6 5 3]\n",
      " [4 6 3]\n",
      " [4 6 2]\n",
      " [4 4 6]\n",
      " [1 1 1]\n",
      " [3 5 3]\n",
      " [3 4 4]\n",
      " [2 2 3]\n",
      " [3 5 4]\n",
      " [5 5 1]\n",
      " [4 6 2]]\n",
      "523\n",
      "[181 187 155]\n",
      "[ 7 11 11  8  6 10 11 14 10 13 15 12  7 10 10 15 12 12 10 16  8  6  4 18\n",
      "  6 13 13  7 13 11 10  7 10 12 12  9  5 11  8 14 13 12 14  3 11 11  7 12\n",
      " 11 12]\n"
     ]
    }
   ],
   "source": [
    "# 各欄或列加總 .sum()\n",
    "print(a)\n",
    "print (np.sum(a))  # Compute sum of all elements; prints \"10\"\n",
    "print (np.sum(a, axis=0))  # Compute sum of each column; prints \"[4 6]\" #axis = 0 代表欄\n",
    "print (np.sum(a, axis=1))  # Compute sum of each row; prints \"[3 7]\" #axis = 1 代表列"
   ]
  },
  {
   "cell_type": "code",
   "execution_count": 44,
   "metadata": {},
   "outputs": [
    {
     "data": {
      "text/plain": [
       "array([ 3,  4,  5,  6,  6,  6,  7,  7,  7,  7,  7,  8,  8,  8,  9, 10, 10,\n",
       "       10, 10, 10, 10, 10, 11, 11, 11, 11, 11, 11, 11, 11, 12, 12, 12, 12,\n",
       "       12, 12, 12, 12, 13, 13, 13, 13, 13, 14, 14, 14, 15, 15, 16, 18])"
      ]
     },
     "execution_count": 44,
     "metadata": {},
     "output_type": "execute_result"
    }
   ],
   "source": [
    "# 每次擲骰子的點數總合，排序\n",
    "score=np.sort(np.sum(a, axis=1))\n",
    "score"
   ]
  },
  {
   "cell_type": "code",
   "execution_count": 26,
   "metadata": {},
   "outputs": [
    {
     "data": {
      "text/plain": [
       "array([ 5,  6,  6,  7,  7,  7,  7,  7,  7,  8,  8,  8,  8,  8,  9,  9,  9,\n",
       "        9,  9, 10, 10, 10, 10, 11, 11, 11, 11, 11, 12, 12, 12, 12, 12, 12,\n",
       "       12, 13, 13, 13, 13, 13, 14, 14, 14, 14, 15, 15, 16, 16, 17, 17])"
      ]
     },
     "execution_count": 26,
     "metadata": {},
     "output_type": "execute_result"
    }
   ],
   "source": [
    "score  = np.sort(np.sum(a, axis =1))\n",
    "score"
   ]
  },
  {
   "cell_type": "code",
   "execution_count": 27,
   "metadata": {},
   "outputs": [
    {
     "data": {
      "text/plain": [
       "6"
      ]
     },
     "execution_count": 27,
     "metadata": {},
     "output_type": "execute_result"
    }
   ],
   "source": [
    "# 大於15的次數\n",
    "b=len((score[score>=15]))\n",
    "b"
   ]
  },
  {
   "cell_type": "code",
   "execution_count": 46,
   "metadata": {},
   "outputs": [
    {
     "data": {
      "text/plain": [
       "array([[  4,   2,   1],\n",
       "       [  8,   8,   2],\n",
       "       [ 13,  10,   6],\n",
       "       [ 14,  14,   9],\n",
       "       [ 16,  15,  12],\n",
       "       [ 20,  19,  14],\n",
       "       [ 26,  23,  15],\n",
       "       [ 29,  29,  20],\n",
       "       [ 35,  32,  21],\n",
       "       [ 37,  37,  27],\n",
       "       [ 41,  42,  33],\n",
       "       [ 44,  45,  39],\n",
       "       [ 45,  49,  41],\n",
       "       [ 47,  51,  47],\n",
       "       [ 51,  54,  50],\n",
       "       [ 56,  58,  56],\n",
       "       [ 62,  60,  60],\n",
       "       [ 67,  65,  62],\n",
       "       [ 72,  68,  64],\n",
       "       [ 78,  73,  69],\n",
       "       [ 79,  77,  72],\n",
       "       [ 80,  81,  73],\n",
       "       [ 81,  82,  75],\n",
       "       [ 87,  88,  81],\n",
       "       [ 89,  89,  84],\n",
       "       [ 94,  94,  87],\n",
       "       [ 97, 100,  91],\n",
       "       [ 98, 103,  94],\n",
       "       [104, 109,  95],\n",
       "       [107, 114,  98],\n",
       "       [112, 116, 101],\n",
       "       [113, 119, 104],\n",
       "       [117, 120, 109],\n",
       "       [123, 124, 111],\n",
       "       [129, 128, 113],\n",
       "       [135, 129, 115],\n",
       "       [136, 131, 117],\n",
       "       [137, 136, 122],\n",
       "       [142, 138, 123],\n",
       "       [148, 143, 126],\n",
       "       [152, 149, 129],\n",
       "       [156, 155, 131],\n",
       "       [160, 159, 137],\n",
       "       [161, 160, 138],\n",
       "       [164, 165, 141],\n",
       "       [167, 169, 145],\n",
       "       [169, 171, 148],\n",
       "       [172, 176, 152],\n",
       "       [177, 181, 153],\n",
       "       [181, 187, 155]], dtype=int32)"
      ]
     },
     "execution_count": 46,
     "metadata": {},
     "output_type": "execute_result"
    }
   ],
   "source": [
    "# 依欄累計加總 .cumsum()\n",
    "a0=a.cumsum(axis=0)                         # cumulative sum along each column\n",
    "a0"
   ]
  },
  {
   "cell_type": "code",
   "execution_count": 47,
   "metadata": {
    "scrolled": true
   },
   "outputs": [
    {
     "data": {
      "text/plain": [
       "array([[ 4,  6,  7],\n",
       "       [ 4, 10, 11],\n",
       "       [ 5,  7, 11],\n",
       "       [ 1,  5,  8],\n",
       "       [ 2,  3,  6],\n",
       "       [ 4,  8, 10],\n",
       "       [ 6, 10, 11],\n",
       "       [ 3,  9, 14],\n",
       "       [ 6,  9, 10],\n",
       "       [ 2,  7, 13],\n",
       "       [ 4,  9, 15],\n",
       "       [ 3,  6, 12],\n",
       "       [ 1,  5,  7],\n",
       "       [ 2,  4, 10],\n",
       "       [ 4,  7, 10],\n",
       "       [ 5,  9, 15],\n",
       "       [ 6,  8, 12],\n",
       "       [ 5, 10, 12],\n",
       "       [ 5,  8, 10],\n",
       "       [ 6, 11, 16],\n",
       "       [ 1,  5,  8],\n",
       "       [ 1,  5,  6],\n",
       "       [ 1,  2,  4],\n",
       "       [ 6, 12, 18],\n",
       "       [ 2,  3,  6],\n",
       "       [ 5, 10, 13],\n",
       "       [ 3,  9, 13],\n",
       "       [ 1,  4,  7],\n",
       "       [ 6, 12, 13],\n",
       "       [ 3,  8, 11],\n",
       "       [ 5,  7, 10],\n",
       "       [ 1,  4,  7],\n",
       "       [ 4,  5, 10],\n",
       "       [ 6, 10, 12],\n",
       "       [ 6, 10, 12],\n",
       "       [ 6,  7,  9],\n",
       "       [ 1,  3,  5],\n",
       "       [ 1,  6, 11],\n",
       "       [ 5,  7,  8],\n",
       "       [ 6, 11, 14],\n",
       "       [ 4, 10, 13],\n",
       "       [ 4, 10, 12],\n",
       "       [ 4,  8, 14],\n",
       "       [ 1,  2,  3],\n",
       "       [ 3,  8, 11],\n",
       "       [ 3,  7, 11],\n",
       "       [ 2,  4,  7],\n",
       "       [ 3,  8, 12],\n",
       "       [ 5, 10, 11],\n",
       "       [ 4, 10, 12]], dtype=int32)"
      ]
     },
     "execution_count": 47,
     "metadata": {},
     "output_type": "execute_result"
    }
   ],
   "source": [
    "# 依列累計加總\n",
    "a1=a.cumsum(axis=1)                         # cumulative sum along each row\n",
    "a1"
   ]
  },
  {
   "cell_type": "code",
   "execution_count": 32,
   "metadata": {
    "scrolled": true
   },
   "outputs": [
    {
     "name": "stdout",
     "output_type": "stream",
     "text": [
      "[3.46 4.   3.34]\n",
      "[3.         4.         3.         4.33333333 2.33333333 2.33333333\n",
      " 5.         2.66666667 4.         3.         4.         4.33333333\n",
      " 2.33333333 2.66666667 3.66666667 3.33333333 4.66666667 2.66666667\n",
      " 2.         3.         2.33333333 5.33333333 3.33333333 2.33333333\n",
      " 4.         4.66666667 4.33333333 4.         3.66666667 4.66666667\n",
      " 3.66666667 4.66666667 3.66666667 5.66666667 4.         5.\n",
      " 4.         2.66666667 3.33333333 2.66666667 3.33333333 2.\n",
      " 2.33333333 3.         5.33333333 4.33333333 1.66666667 4.33333333\n",
      " 5.66666667 3.66666667]\n",
      "3.0\n",
      "3.46\n"
     ]
    }
   ],
   "source": [
    "# 平均值 .average()\n",
    "print (np.average(a, axis=0))\n",
    "print (np.average(a, axis=1))\n",
    "print (np.average(a[0]))\n",
    "print (np.average(a[:,0]))"
   ]
  },
  {
   "cell_type": "code",
   "execution_count": 30,
   "metadata": {
    "scrolled": true
   },
   "outputs": [
    {
     "name": "stdout",
     "output_type": "stream",
     "text": [
      "[ 0  1  2  3  4  5  6  7  8  9 10 11 12 13 14 15 16 17 18 19 20 21 22 23\n",
      " 24 25 26 27 28 29 30 31 32 33 34 35 36 37 38 39 40 41 42 43 44 45 46 47\n",
      " 48 49]\n",
      "3.46\n",
      "3.608979591836735\n"
     ]
    }
   ],
   "source": [
    "# 計算各列的加權平均值，依序列加權\n",
    "wei=np.arange(0,50,1)\n",
    "# print(wei)\n",
    "# print(np.average(a[:, 0]))\n",
    "print (np.average(a[:,0], weights=wei)) #透過weights參數來進行加權"
   ]
  },
  {
   "cell_type": "code",
   "execution_count": 50,
   "metadata": {},
   "outputs": [
    {
     "name": "stdout",
     "output_type": "stream",
     "text": [
      "1.696021488333473\n",
      "[1.77640086 1.62246726 1.61554944]\n",
      "[1.24721913 2.05480467 1.24721913 1.24721913 0.81649658 0.94280904\n",
      " 2.05480467 1.24721913 2.05480467 1.69967317 0.81649658 1.41421356\n",
      " 1.24721913 1.88561808 0.47140452 0.81649658 1.63299316 1.41421356\n",
      " 1.24721913 0.47140452 1.24721913 1.41421356 0.47140452 0.\n",
      " 0.81649658 0.94280904 1.24721913 0.94280904 2.3570226  0.94280904\n",
      " 1.24721913 0.94280904 1.69967317 1.63299316 1.63299316 2.1602469\n",
      " 0.47140452 1.88561808 1.69967317 1.24721913 1.24721913 1.63299316\n",
      " 0.94280904 0.         0.94280904 0.47140452 0.47140452 0.81649658\n",
      " 1.88561808 1.63299316]\n"
     ]
    }
   ],
   "source": [
    "# 標準差\n",
    "print (np.std(a))\n",
    "print (np.std(a, axis=0))\n",
    "print (np.std(a, axis=1))"
   ]
  },
  {
   "cell_type": "markdown",
   "metadata": {
    "collapsed": true
   },
   "source": [
    "## exp(), sqrt()"
   ]
  },
  {
   "cell_type": "code",
   "execution_count": 34,
   "metadata": {
    "scrolled": true
   },
   "outputs": [
    {
     "data": {
      "text/plain": [
       "array([[  2.71828183, 403.42879349,   7.3890561 ],\n",
       "       [ 54.59815003,  54.59815003,  54.59815003],\n",
       "       [ 54.59815003,   2.71828183,  54.59815003],\n",
       "       [ 54.59815003, 403.42879349,  20.08553692],\n",
       "       [ 54.59815003,   2.71828183,   7.3890561 ],\n",
       "       [  2.71828183, 148.4131591 ,   2.71828183],\n",
       "       [148.4131591 , 148.4131591 , 148.4131591 ],\n",
       "       [  2.71828183, 148.4131591 ,   7.3890561 ],\n",
       "       [ 20.08553692,  54.59815003, 148.4131591 ],\n",
       "       [ 54.59815003,  54.59815003,   2.71828183],\n",
       "       [  2.71828183, 403.42879349, 148.4131591 ],\n",
       "       [403.42879349,   2.71828183, 403.42879349],\n",
       "       [  7.3890561 ,   2.71828183,  54.59815003],\n",
       "       [403.42879349,   2.71828183,   2.71828183],\n",
       "       [148.4131591 , 148.4131591 ,   2.71828183],\n",
       "       [  7.3890561 , 403.42879349,   7.3890561 ],\n",
       "       [403.42879349,  54.59815003,  54.59815003],\n",
       "       [  2.71828183,   2.71828183, 403.42879349],\n",
       "       [  2.71828183,  54.59815003,   2.71828183],\n",
       "       [  7.3890561 ,  20.08553692,  54.59815003],\n",
       "       [  2.71828183, 148.4131591 ,   2.71828183],\n",
       "       [403.42879349, 148.4131591 , 148.4131591 ],\n",
       "       [ 20.08553692, 148.4131591 ,   7.3890561 ],\n",
       "       [  2.71828183, 148.4131591 ,   2.71828183],\n",
       "       [403.42879349,  54.59815003,   7.3890561 ],\n",
       "       [148.4131591 , 148.4131591 ,  54.59815003],\n",
       "       [ 54.59815003,  54.59815003, 148.4131591 ],\n",
       "       [ 54.59815003,  54.59815003,  54.59815003],\n",
       "       [ 20.08553692,  20.08553692, 148.4131591 ],\n",
       "       [ 54.59815003, 403.42879349,  54.59815003],\n",
       "       [  2.71828183, 148.4131591 , 148.4131591 ],\n",
       "       [148.4131591 , 148.4131591 ,  54.59815003],\n",
       "       [  2.71828183, 403.42879349,  54.59815003],\n",
       "       [403.42879349, 403.42879349, 148.4131591 ],\n",
       "       [  7.3890561 , 403.42879349,  54.59815003],\n",
       "       [ 54.59815003, 403.42879349, 148.4131591 ],\n",
       "       [403.42879349,  20.08553692,  20.08553692],\n",
       "       [148.4131591 ,   7.3890561 ,   2.71828183],\n",
       "       [ 54.59815003,  20.08553692,  20.08553692],\n",
       "       [  7.3890561 ,  20.08553692,  20.08553692],\n",
       "       [403.42879349,   7.3890561 ,   7.3890561 ],\n",
       "       [  2.71828183,  54.59815003,   2.71828183],\n",
       "       [ 54.59815003,   2.71828183,   7.3890561 ],\n",
       "       [  7.3890561 , 148.4131591 ,   7.3890561 ],\n",
       "       [ 54.59815003, 403.42879349, 403.42879349],\n",
       "       [  7.3890561 , 148.4131591 , 403.42879349],\n",
       "       [  2.71828183,   7.3890561 ,   7.3890561 ],\n",
       "       [403.42879349,  20.08553692,  54.59815003],\n",
       "       [403.42879349, 148.4131591 , 403.42879349],\n",
       "       [148.4131591 ,  20.08553692,  20.08553692]])"
      ]
     },
     "execution_count": 34,
     "metadata": {},
     "output_type": "execute_result"
    }
   ],
   "source": [
    "# 指數 #指数函数是数学中重要的函数。应用到值e上的这个函数写为exp(x)。还可以等价的写为ex，这里的e是数学常数，就是自然对数的底数，近似等于 2.718281828，还称为欧拉数\n",
    "np.exp(a)\n",
    "#print(np.exp(0))"
   ]
  },
  {
   "cell_type": "code",
   "execution_count": 35,
   "metadata": {
    "scrolled": true
   },
   "outputs": [
    {
     "data": {
      "text/plain": [
       "array([[1.        , 2.44948974, 1.41421356],\n",
       "       [2.        , 2.        , 2.        ],\n",
       "       [2.        , 1.        , 2.        ],\n",
       "       [2.        , 2.44948974, 1.73205081],\n",
       "       [2.        , 1.        , 1.41421356],\n",
       "       [1.        , 2.23606798, 1.        ],\n",
       "       [2.23606798, 2.23606798, 2.23606798],\n",
       "       [1.        , 2.23606798, 1.41421356],\n",
       "       [1.73205081, 2.        , 2.23606798],\n",
       "       [2.        , 2.        , 1.        ],\n",
       "       [1.        , 2.44948974, 2.23606798],\n",
       "       [2.44948974, 1.        , 2.44948974],\n",
       "       [1.41421356, 1.        , 2.        ],\n",
       "       [2.44948974, 1.        , 1.        ],\n",
       "       [2.23606798, 2.23606798, 1.        ],\n",
       "       [1.41421356, 2.44948974, 1.41421356],\n",
       "       [2.44948974, 2.        , 2.        ],\n",
       "       [1.        , 1.        , 2.44948974],\n",
       "       [1.        , 2.        , 1.        ],\n",
       "       [1.41421356, 1.73205081, 2.        ],\n",
       "       [1.        , 2.23606798, 1.        ],\n",
       "       [2.44948974, 2.23606798, 2.23606798],\n",
       "       [1.73205081, 2.23606798, 1.41421356],\n",
       "       [1.        , 2.23606798, 1.        ],\n",
       "       [2.44948974, 2.        , 1.41421356],\n",
       "       [2.23606798, 2.23606798, 2.        ],\n",
       "       [2.        , 2.        , 2.23606798],\n",
       "       [2.        , 2.        , 2.        ],\n",
       "       [1.73205081, 1.73205081, 2.23606798],\n",
       "       [2.        , 2.44948974, 2.        ],\n",
       "       [1.        , 2.23606798, 2.23606798],\n",
       "       [2.23606798, 2.23606798, 2.        ],\n",
       "       [1.        , 2.44948974, 2.        ],\n",
       "       [2.44948974, 2.44948974, 2.23606798],\n",
       "       [1.41421356, 2.44948974, 2.        ],\n",
       "       [2.        , 2.44948974, 2.23606798],\n",
       "       [2.44948974, 1.73205081, 1.73205081],\n",
       "       [2.23606798, 1.41421356, 1.        ],\n",
       "       [2.        , 1.73205081, 1.73205081],\n",
       "       [1.41421356, 1.73205081, 1.73205081],\n",
       "       [2.44948974, 1.41421356, 1.41421356],\n",
       "       [1.        , 2.        , 1.        ],\n",
       "       [2.        , 1.        , 1.41421356],\n",
       "       [1.41421356, 2.23606798, 1.41421356],\n",
       "       [2.        , 2.44948974, 2.44948974],\n",
       "       [1.41421356, 2.23606798, 2.44948974],\n",
       "       [1.        , 1.41421356, 1.41421356],\n",
       "       [2.44948974, 1.73205081, 2.        ],\n",
       "       [2.44948974, 2.23606798, 2.44948974],\n",
       "       [2.23606798, 1.73205081, 1.73205081]])"
      ]
     },
     "execution_count": 35,
     "metadata": {},
     "output_type": "execute_result"
    }
   ],
   "source": [
    "# 開根號\n",
    "#np.sqrt(a)\n",
    "np.sqrt(a)"
   ]
  },
  {
   "cell_type": "markdown",
   "metadata": {},
   "source": [
    "# 矩陣運算"
   ]
  },
  {
   "cell_type": "code",
   "execution_count": 53,
   "metadata": {
    "scrolled": true
   },
   "outputs": [
    {
     "name": "stdout",
     "output_type": "stream",
     "text": [
      "[[1. 0. 0. 0.]\n",
      " [0. 1. 0. 0.]\n",
      " [0. 0. 1. 0.]\n",
      " [0. 0. 0. 1.]]\n"
     ]
    }
   ],
   "source": [
    "#identity matrix 單位矩陣\n",
    "I = np.eye(4)  \n",
    "print (I)"
   ]
  },
  {
   "cell_type": "code",
   "execution_count": 36,
   "metadata": {},
   "outputs": [
    {
     "name": "stdout",
     "output_type": "stream",
     "text": [
      "[[1. 0. 0. 0.]\n",
      " [0. 1. 0. 0.]\n",
      " [0. 0. 1. 0.]\n",
      " [0. 0. 0. 1.]]\n"
     ]
    }
   ],
   "source": [
    "I = np.eye(4)\n",
    "print(I)"
   ]
  },
  {
   "cell_type": "code",
   "execution_count": 39,
   "metadata": {},
   "outputs": [
    {
     "name": "stdout",
     "output_type": "stream",
     "text": [
      "[[1 2 3 4]\n",
      " [3 4 5 6]]\n",
      "[[ 5  6  7  8]\n",
      " [ 7  8  9 10]]\n"
     ]
    }
   ],
   "source": [
    "x = np.array([[1,2,3,4],[3,4,5,6]])\n",
    "y = np.array([[5,6,7,8],[7,8,9,10]])\n",
    "print (x)\n",
    "print (y)"
   ]
  },
  {
   "cell_type": "code",
   "execution_count": 55,
   "metadata": {
    "scrolled": true
   },
   "outputs": [
    {
     "data": {
      "text/plain": [
       "array([[1, 3],\n",
       "       [2, 4],\n",
       "       [3, 5],\n",
       "       [4, 6]])"
      ]
     },
     "execution_count": 55,
     "metadata": {},
     "output_type": "execute_result"
    }
   ],
   "source": [
    "# 轉置矩陣\n",
    "xt=x.T\n",
    "xt"
   ]
  },
  {
   "cell_type": "markdown",
   "metadata": {},
   "source": [
    "## 矩陣的加減乘除\n"
   ]
  },
  {
   "cell_type": "code",
   "execution_count": 56,
   "metadata": {
    "scrolled": true
   },
   "outputs": [
    {
     "data": {
      "text/plain": [
       "array([[ 6,  8, 10, 12],\n",
       "       [10, 12, 14, 16]])"
      ]
     },
     "execution_count": 56,
     "metadata": {},
     "output_type": "execute_result"
    }
   ],
   "source": [
    "# 加\n",
    "xay=x+y\n",
    "xay"
   ]
  },
  {
   "cell_type": "code",
   "execution_count": 57,
   "metadata": {},
   "outputs": [
    {
     "data": {
      "text/plain": [
       "array([[ 6,  8, 10, 12],\n",
       "       [10, 12, 14, 16]])"
      ]
     },
     "execution_count": 57,
     "metadata": {},
     "output_type": "execute_result"
    }
   ],
   "source": [
    "np.add(x, y)"
   ]
  },
  {
   "cell_type": "code",
   "execution_count": 58,
   "metadata": {},
   "outputs": [
    {
     "data": {
      "text/plain": [
       "array([[-4, -4, -4, -4],\n",
       "       [-4, -4, -4, -4]])"
      ]
     },
     "execution_count": 58,
     "metadata": {},
     "output_type": "execute_result"
    }
   ],
   "source": [
    "# 減\n",
    "np.subtract(x, y)"
   ]
  },
  {
   "cell_type": "code",
   "execution_count": 59,
   "metadata": {
    "scrolled": true
   },
   "outputs": [
    {
     "data": {
      "text/plain": [
       "array([[ 5, 12, 21, 32],\n",
       "       [21, 32, 45, 60]])"
      ]
     },
     "execution_count": 59,
     "metadata": {},
     "output_type": "execute_result"
    }
   ],
   "source": [
    "# 元素兩兩相乘\n",
    "xpy=x*y\n",
    "xpy"
   ]
  },
  {
   "cell_type": "code",
   "execution_count": 60,
   "metadata": {},
   "outputs": [
    {
     "data": {
      "text/plain": [
       "array([[ 5, 12, 21, 32],\n",
       "       [21, 32, 45, 60]])"
      ]
     },
     "execution_count": 60,
     "metadata": {},
     "output_type": "execute_result"
    }
   ],
   "source": [
    "np.multiply(x, y)"
   ]
  },
  {
   "cell_type": "code",
   "execution_count": 43,
   "metadata": {},
   "outputs": [
    {
     "name": "stdout",
     "output_type": "stream",
     "text": [
      "[[1 2 3 4]\n",
      " [3 4 5 6]]\n",
      "[[ 5  7]\n",
      " [ 6  8]\n",
      " [ 7  9]\n",
      " [ 8 10]]\n",
      "[[ 70  90]\n",
      " [122 158]]\n",
      "90\n"
     ]
    }
   ],
   "source": [
    "# 內積，矩陣相乘，注意 dot 與 multiply 不同\n",
    "# 轉置後方能相乘 2*4, 4*2\n",
    "print(x)\n",
    "print(y.T)\n",
    "np.dot(x, y.T)\n",
    "print(x.dot(y.T)) #row1*col1, row1*col2, row2*col1, row2*col2"
   ]
  },
  {
   "cell_type": "code",
   "execution_count": 62,
   "metadata": {
    "scrolled": true
   },
   "outputs": [
    {
     "data": {
      "text/plain": [
       "array([[0.2       , 0.33333333, 0.42857143, 0.5       ],\n",
       "       [0.42857143, 0.5       , 0.55555556, 0.6       ]])"
      ]
     },
     "execution_count": 62,
     "metadata": {},
     "output_type": "execute_result"
    }
   ],
   "source": [
    "# 元素兩兩相除\n",
    "xdy=x/y\n",
    "xdy"
   ]
  },
  {
   "cell_type": "markdown",
   "metadata": {},
   "source": [
    "## 反矩陣 np.linalg.inv()"
   ]
  },
  {
   "cell_type": "code",
   "execution_count": 63,
   "metadata": {},
   "outputs": [
    {
     "name": "stdout",
     "output_type": "stream",
     "text": [
      "[[ 1.975 -1.125]\n",
      " [-1.525  0.875]]\n"
     ]
    }
   ],
   "source": [
    "xdy=x.dot(y.T)\n",
    "inv_x = np.linalg.inv(xdy)\n",
    "print (inv_x)"
   ]
  },
  {
   "cell_type": "code",
   "execution_count": 64,
   "metadata": {},
   "outputs": [
    {
     "data": {
      "text/plain": [
       "array([[1., 0.],\n",
       "       [0., 1.]])"
      ]
     },
     "execution_count": 64,
     "metadata": {},
     "output_type": "execute_result"
    }
   ],
   "source": [
    "# 矩陣和自己的反矩陣相乘等於單位矩陣\n",
    "np.dot(xdy,inv_x)"
   ]
  },
  {
   "cell_type": "markdown",
   "metadata": {},
   "source": [
    "## save(,), load(,) array"
   ]
  },
  {
   "cell_type": "code",
   "execution_count": 44,
   "metadata": {
    "scrolled": true
   },
   "outputs": [],
   "source": [
    "# save an array\n",
    "np.save(path + \"/data/example.npy\",b)"
   ]
  },
  {
   "cell_type": "code",
   "execution_count": 47,
   "metadata": {
    "scrolled": true
   },
   "outputs": [
    {
     "name": "stdout",
     "output_type": "stream",
     "text": [
      "6\n"
     ]
    }
   ],
   "source": [
    "a1=np.load(path + \"/data/example.npy\")\n",
    "a1\n",
    "print(a1)"
   ]
  },
  {
   "cell_type": "markdown",
   "metadata": {},
   "source": [
    "## numpy save and load dictionary\n",
    "* 用pickle 亦可儲存 dictionarfy"
   ]
  },
  {
   "cell_type": "code",
   "execution_count": null,
   "metadata": {},
   "outputs": [],
   "source": [
    "## zip( ) 將兩個List 配對結合，再轉為字典變數\n",
    "names = ['One', 'Two', 'Three', 'Four']\n",
    "numbers = [1, 2, 3, 4]\n",
    "d2 = zip(names,numbers)\n",
    "dic1 = dict(d2)\n",
    "print (dic1)"
   ]
  },
  {
   "cell_type": "code",
   "execution_count": null,
   "metadata": {},
   "outputs": [],
   "source": [
    "# path/dic1 為檔案儲存的路徑，必須存在這個資料夾\n",
    "np.save(path + \"data/dic1.npy\", dic1)"
   ]
  },
  {
   "cell_type": "code",
   "execution_count": null,
   "metadata": {
    "scrolled": true
   },
   "outputs": [],
   "source": [
    "dic1=np.load(path + \"data/dic1.npy\")\n",
    "print (dic1)"
   ]
  },
  {
   "cell_type": "markdown",
   "metadata": {},
   "source": [
    "# 提示\n",
    "* numpy array 與 list 類同，可以進行多維度的資料整理，彼此也可以轉換。\n",
    "* numpy 加強數學運算的功能。特別是抽樣，與矩陣運算，甚為常用。\n",
    "* numpy array 裡面的元素，只能是數字，不能是字串、list 等其他的變數型態，list 則無此限制。"
   ]
  },
  {
   "cell_type": "markdown",
   "metadata": {
    "collapsed": true
   },
   "source": [
    "# 作業\n",
    "* 擲骰子，每次擲十個，共鄭一千次。每次擲骰子十個點數之和大於50的機率有多少? \n",
    "* 請用 numpy.random 抽樣，計算大於50的次數與總共次數的比例，即可得機率。"
   ]
  },
  {
   "cell_type": "code",
   "execution_count": null,
   "metadata": {},
   "outputs": [],
   "source": [
    "#cumsum 計算10個點數的總和\n",
    "\n"
   ]
  }
 ],
 "metadata": {
  "anaconda-cloud": {},
  "kernelspec": {
   "display_name": "Python 3",
   "language": "python",
   "name": "python3"
  },
  "language_info": {
   "codemirror_mode": {
    "name": "ipython",
    "version": 3
   },
   "file_extension": ".py",
   "mimetype": "text/x-python",
   "name": "python",
   "nbconvert_exporter": "python",
   "pygments_lexer": "ipython3",
   "version": "3.7.3"
  }
 },
 "nbformat": 4,
 "nbformat_minor": 1
}
