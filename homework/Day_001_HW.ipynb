{
 "cells": [
  {
   "cell_type": "markdown",
   "metadata": {},
   "source": [
    "## 練習時間\n",
    "#### 請寫一個函式用來計算 Mean Square Error\n",
    "$ MSE = \\frac{1}{n}\\sum_{i=1}^{n}{(Y_i - \\hat{Y}_i)^2} $\n",
    "\n",
    "### Hint: [如何取平方](https://googoodesign.gitbooks.io/-ezpython/unit-1.html)"
   ]
  },
  {
   "cell_type": "markdown",
   "metadata": {},
   "source": [
    "# [作業目標]\n",
    "- 仿造範例的MAE函數, 自己寫一個MSE函數(參考上面公式)"
   ]
  },
  {
   "cell_type": "markdown",
   "metadata": {},
   "source": [
    "# [作業重點]\n",
    "- 注意程式的縮排\n",
    "- 是否能將數學公式, 轉換為 Python 的函式組合? (In[2], Out[2])"
   ]
  },
  {
   "cell_type": "code",
   "execution_count": 1,
   "metadata": {},
   "outputs": [],
   "source": [
    "# 載入基礎套件與代稱\n",
    "import numpy as np\n",
    "import matplotlib.pyplot as plt"
   ]
  },
  {
   "cell_type": "code",
   "execution_count": 19,
   "metadata": {},
   "outputs": [],
   "source": [
    "def mean_absolute_error(y, yp):\n",
    "    \"\"\"\n",
    "    計算 MAE\n",
    "    Args:\n",
    "        - y: 實際值\n",
    "        - yp: 預測值\n",
    "    Return:\n",
    "        - mae: MAE\n",
    "    \"\"\"\n",
    "    mae = MAE = sum(abs(y - yp)) / len(y)\n",
    "    return mae\n",
    "\n",
    "# 定義 mean_squared_error 這個函數, 計算並傳回 MSE\n",
    "def mean_squared_error(y, yp):\n",
    "    \"\"\"\n",
    "    請完成這個 Function 後往下執行\n",
    "    \"\"\"\n",
    "    mse = MSE = sum(np.square( y - yp))/ len(y)\n",
    "    return mse"
   ]
  },
  {
   "cell_type": "code",
   "execution_count": 12,
   "metadata": {},
   "outputs": [
    {
     "data": {
      "image/png": "[encoded data removed]",
      "text/plain": [
       "<Figure size 432x288 with 1 Axes>"
      ]
     },
     "metadata": {
      "needs_background": "light"
     },
     "output_type": "display_data"
    }
   ],
   "source": [
    "# 與範例相同, 不另外解說\n",
    "w = 3\n",
    "b = 0.5\n",
    "x_lin = np.linspace(0, 100, 101)  ##在某個範圍內均勻撒點M\n",
    "y = (x_lin + np.random.randn(101) * 5) * w + b\n",
    "\n",
    "x_lin\n",
    "np.random.randn(101)\n",
    "\n",
    "plt.plot(x_lin, y, 'b.', label = 'data points')\n",
    "plt.title(\"Assume we have data points\")\n",
    "plt.legend(loc = 2)\n",
    "plt.show()"
   ]
  },
  {
   "cell_type": "code",
   "execution_count": 21,
   "metadata": {},
   "outputs": [
    {
     "data": {
      "text/plain": [
       "array([-10.25517572,   8.92488764,   2.95397777, -17.45277934,\n",
       "        11.88455712,  21.4575315 ,  37.11882504,  41.55660927,\n",
       "        30.16799386,  12.45172557,  56.34251243,  19.68153517,\n",
       "        39.64680559,  49.94191802,  30.29569098,  52.0976231 ,\n",
       "        35.75453408,  63.25788747,  64.74313934,  31.13012428,\n",
       "        58.5539976 ,  64.88590231,  49.44716153,  68.36981174,\n",
       "        39.14185059,  68.85868225,  80.92088235,  91.09188014,\n",
       "        69.16255211,  80.45681689, 112.55839734,  98.70448503,\n",
       "        95.77944   , 103.41417606, 105.26770454, 103.8037022 ,\n",
       "        97.17223591, 119.05440716, 114.43093436, 118.05158055,\n",
       "       122.85454696, 126.07380865, 122.6363042 , 115.58831789,\n",
       "       122.5735149 , 159.09941335, 132.0019354 , 150.65606564,\n",
       "       149.15619755, 146.94231765, 125.38312719, 133.92939837,\n",
       "       176.39873938, 173.42066087, 174.77603245, 141.75456547,\n",
       "       194.32625452, 171.89463365, 134.74798121, 169.23497103,\n",
       "       172.44260742, 190.04571428, 191.692181  , 194.0798662 ,\n",
       "       188.77564502, 202.46812887, 178.79810106, 202.51196185,\n",
       "       219.02049553, 200.95963249, 213.82022463, 207.15835283,\n",
       "       242.28793453, 212.80550745, 212.30671092, 205.40015322,\n",
       "       201.22542581, 218.21660822, 209.31796311, 243.99420287,\n",
       "       243.91884023, 253.35990886, 252.66187732, 261.56139386,\n",
       "       256.63094854, 278.67671119, 267.82163854, 233.08755823,\n",
       "       264.12863621, 278.80652466, 256.33431367, 256.87736496,\n",
       "       288.66881493, 270.45790832, 271.72671884, 300.37834937,\n",
       "       308.53455382, 271.28054269, 314.33047007, 318.51177728,\n",
       "       300.7119381 ])"
      ]
     },
     "execution_count": 21,
     "metadata": {},
     "output_type": "execute_result"
    }
   ],
   "source": [
    "y"
   ]
  },
  {
   "cell_type": "code",
   "execution_count": 13,
   "metadata": {},
   "outputs": [
    {
     "data": {
      "image/png": "[encoded data removed]",
      "text/plain": [
       "<Figure size 432x288 with 1 Axes>"
      ]
     },
     "metadata": {
      "needs_background": "light"
     },
     "output_type": "display_data"
    }
   ],
   "source": [
    "# 與範例相同, 不另外解說\n",
    "y_hat = x_lin * w + b\n",
    "plt.plot(x_lin, y, 'b.', label = 'data')\n",
    "plt.plot(x_lin, y_hat, 'r-', label = 'prediction')\n",
    "plt.title(\"Assume we have data points (And the prediction)\")\n",
    "plt.legend(loc = 2)\n",
    "plt.show()"
   ]
  },
  {
   "cell_type": "code",
   "execution_count": 20,
   "metadata": {},
   "outputs": [
    {
     "name": "stdout",
     "output_type": "stream",
     "text": [
      "The Mean squared error is 204.993\n",
      "The Mean absolute error is 11.407\n"
     ]
    }
   ],
   "source": [
    "# 執行 Function, 確認有沒有正常執行\n",
    "MSE = mean_squared_error(y, y_hat)\n",
    "MAE = mean_absolute_error(y, y_hat)\n",
    "print(\"The Mean squared error is %.3f\" % (MSE))\n",
    "print(\"The Mean absolute error is %.3f\" % (MAE))"
   ]
  },
  {
   "cell_type": "code",
   "execution_count": null,
   "metadata": {},
   "outputs": [],
   "source": []
  },
  {
   "attachments": {},
   "cell_type": "markdown",
   "metadata": {},
   "source": [
    "# [作業2]\n",
    "\n",
    "#請上 Kaggle, 在 Competitions 或 Dataset 中找一組競賽或資料並寫下：\n",
    "\n",
    "\n",
    "1. 你選的這組資料為何重要\n",
    "\n",
    "資料檔: Novel Corona Virus 2019 Dataset - datasets_494724_1261242_COVID19_line_list_data.csv\n",
    "\n",
    "由於COVID19對世界造成很大的威脅，因此以此數據進行機器學習的研究，以對人類社會進行微薄貢獻。\n",
    "\n",
    "2. 資料從何而來 (tips: 譬如提供者是誰、以什麼方式蒐集)\n",
    "\n",
    "資料來自WHO，及透過Johns Hopkins University整理而稱。\n",
    "\n",
    "下載點: Kaggle \n",
    "\n",
    "網誌: https://www.kaggle.com/sudalairajkumar/novel-corona-virus-2019-dataset?select=COVID19_line_list_data.csv\n",
    "\n",
    "3. 蒐集而來的資料型態為何\n",
    "\n",
    "該資料筆數有3397筆。\n",
    "\n",
    "欄位變數包括:\n",
    "id, case_in_country, reporting date, summary, location, country, gender, age, symptom_onset, If_onset_approximated, hosp_visit_date, exposure_start, exposure_end, visiting Wuhan, from Wuhan, death, recovered, symptom, source, link\n",
    "\n",
    "這些變數的資料型態包括: 時間、dummy, 連續數值, 與文字。\n",
    "又，每一列的紀錄是一個被觀察病患的資料。\n",
    "\n",
    "4. 這組資料想解決的問題如何評估\n",
    "\n",
    "在本次練習中，想以機器學習探討，不同的病患的特徵，是否能用來預測新冠肺炎的死亡率與復原率。"
   ]
  },
  {
   "cell_type": "markdown",
   "metadata": {},
   "source": [
    "# [作業3]\n",
    "\n",
    "想像你經營一個自由載客車隊，你希望能透過數據分析以提升業績，請你思考並描述你如何規劃整體的分析/解決方案：\n",
    "\n",
    "1. 核心問題為何 (tips：如何定義 「提升業績 & 你的假設」)\n",
    "\n",
    "-如何定義\"提升業績\"? \n",
    "提升業績可以連結的數據: 載客量、載客收益金額、載客時間、非空車率等等。\n",
    "\n",
    "-假設: \n",
    "假設司機問候可以提升載客量?\n",
    "\n",
    "2. 資料從何而來 (tips：哪些資料可能會對你想問的問題產生影響 & 資料如何蒐集)\n",
    "\n",
    "載客時錄音。\n",
    "\n",
    "3. 蒐集而來的資料型態為何\n",
    "\n",
    "語音。\n",
    "\n",
    "4. 你要回答的問題，其如何評估 (tips：你的假設如何驗證)\n",
    "\n",
    "將語音資料轉成文字資料後，再統計問候次數。及分類問候的句子是屬於哪一種類型(熱情或其他)，再建立模型檢驗不同的句子對載客量造成的影響是否有差異。"
   ]
  }
 ],
 "metadata": {
  "anaconda-cloud": {},
  "kernelspec": {
   "display_name": "Python 3",
   "language": "python",
   "name": "python3"
  },
  "language_info": {
   "codemirror_mode": {
    "name": "ipython",
    "version": 3
   },
   "file_extension": ".py",
   "mimetype": "text/x-python",
   "name": "python",
   "nbconvert_exporter": "python",
   "pygments_lexer": "ipython3",
   "version": "3.7.3"
  }
 },
 "nbformat": 4,
 "nbformat_minor": 1
}
